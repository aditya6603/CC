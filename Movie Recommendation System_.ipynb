{
  "nbformat": 4,
  "nbformat_minor": 0,
  "metadata": {
    "colab": {
      "provenance": [],
      "include_colab_link": true
    },
    "kernelspec": {
      "name": "python3",
      "display_name": "Python 3"
    },
    "language_info": {
      "name": "python"
    }
  },
  "cells": [
    {
      "cell_type": "markdown",
      "metadata": {
        "id": "view-in-github",
        "colab_type": "text"
      },
      "source": [
        "<a href=\"https://colab.research.google.com/github/aditya6603/CC/blob/main/Movie%20Recommendation%20System_.ipynb\" target=\"_parent\"><img src=\"https://colab.research.google.com/assets/colab-badge.svg\" alt=\"Open In Colab\"/></a>"
      ]
    },
    {
      "cell_type": "markdown",
      "source": [
        "# Import Library"
      ],
      "metadata": {
        "id": "n_7zoIqixSN7"
      }
    },
    {
      "cell_type": "code",
      "source": [
        "import pandas as pd\n",
        "import numpy as np\n",
        "\n"
      ],
      "metadata": {
        "id": "PaSAvhVPxZ3s"
      },
      "execution_count": 11,
      "outputs": []
    },
    {
      "cell_type": "markdown",
      "source": [
        "### Import Dataset"
      ],
      "metadata": {
        "id": "F0V4c_1cx3wh"
      }
    },
    {
      "cell_type": "code",
      "source": [
        "df =  pd.read_csv(r'https://raw.githubusercontent.com/YBI-Foundation/Dataset/main/Movies%20Recommendation.csv')\n",
        "\n",
        "\n",
        "df.head()\n"
      ],
      "metadata": {
        "colab": {
          "base_uri": "https://localhost:8080/",
          "height": 672
        },
        "id": "GDKvyUWfx85k",
        "outputId": "cf235d6d-6219-48d9-9569-b24b43acb049"
      },
      "execution_count": 12,
      "outputs": [
        {
          "output_type": "execute_result",
          "data": {
            "text/plain": [
              "   Movie_ID      Movie_Title                       Movie_Genre Movie_Language  \\\n",
              "0         1       Four Rooms                      Crime Comedy             en   \n",
              "1         2        Star Wars  Adventure Action Science Fiction             en   \n",
              "2         3     Finding Nemo                  Animation Family             en   \n",
              "3         4     Forrest Gump              Comedy Drama Romance             en   \n",
              "4         5  American Beauty                             Drama             en   \n",
              "\n",
              "   Movie_Budget  Movie_Popularity Movie_Release_Date  Movie_Revenue  \\\n",
              "0       4000000         22.876230         09-12-1995        4300000   \n",
              "1      11000000        126.393695         25-05-1977      775398007   \n",
              "2      94000000         85.688789         30-05-2003      940335536   \n",
              "3      55000000        138.133331         06-07-1994      677945399   \n",
              "4      15000000         80.878605         15-09-1999      356296601   \n",
              "\n",
              "   Movie_Runtime  Movie_Vote  ...  \\\n",
              "0           98.0         6.5  ...   \n",
              "1          121.0         8.1  ...   \n",
              "2          100.0         7.6  ...   \n",
              "3          142.0         8.2  ...   \n",
              "4          122.0         7.9  ...   \n",
              "\n",
              "                                      Movie_Homepage  \\\n",
              "0                                                NaN   \n",
              "1  http://www.starwars.com/films/star-wars-episod...   \n",
              "2              http://movies.disney.com/finding-nemo   \n",
              "3                                                NaN   \n",
              "4                      http://www.dreamworks.com/ab/   \n",
              "\n",
              "                                      Movie_Keywords  \\\n",
              "0          hotel new year's eve witch bet hotel room   \n",
              "1        android galaxy hermit death star lightsaber   \n",
              "2  father son relationship harbor underwater fish...   \n",
              "3  vietnam veteran hippie mentally disabled runni...   \n",
              "4  male nudity female nudity adultery midlife cri...   \n",
              "\n",
              "                                      Movie_Overview  \\\n",
              "0  It's Ted the Bellhop's first night on the job....   \n",
              "1  Princess Leia is captured and held hostage by ...   \n",
              "2  Nemo, an adventurous young clownfish, is unexp...   \n",
              "3  A man with a low IQ has accomplished great thi...   \n",
              "4  Lester Burnham, a depressed suburban father in...   \n",
              "\n",
              "                              Movie_Production_House  \\\n",
              "0  [{\"name\": \"Miramax Films\", \"id\": 14}, {\"name\":...   \n",
              "1  [{\"name\": \"Lucasfilm\", \"id\": 1}, {\"name\": \"Twe...   \n",
              "2     [{\"name\": \"Pixar Animation Studios\", \"id\": 3}]   \n",
              "3          [{\"name\": \"Paramount Pictures\", \"id\": 4}]   \n",
              "4  [{\"name\": \"DreamWorks SKG\", \"id\": 27}, {\"name\"...   \n",
              "\n",
              "                            Movie_Production_Country  \\\n",
              "0  [{\"iso_3166_1\": \"US\", \"name\": \"United States o...   \n",
              "1  [{\"iso_3166_1\": \"US\", \"name\": \"United States o...   \n",
              "2  [{\"iso_3166_1\": \"US\", \"name\": \"United States o...   \n",
              "3  [{\"iso_3166_1\": \"US\", \"name\": \"United States o...   \n",
              "4  [{\"iso_3166_1\": \"US\", \"name\": \"United States o...   \n",
              "\n",
              "                      Movie_Spoken_Language  \\\n",
              "0  [{\"iso_639_1\": \"en\", \"name\": \"English\"}]   \n",
              "1  [{\"iso_639_1\": \"en\", \"name\": \"English\"}]   \n",
              "2  [{\"iso_639_1\": \"en\", \"name\": \"English\"}]   \n",
              "3  [{\"iso_639_1\": \"en\", \"name\": \"English\"}]   \n",
              "4  [{\"iso_639_1\": \"en\", \"name\": \"English\"}]   \n",
              "\n",
              "                                       Movie_Tagline  \\\n",
              "0  Twelve outrageous guests. Four scandalous requ...   \n",
              "1       A long time ago in a galaxy far, far away...   \n",
              "2  There are 3.7 trillion fish in the ocean, they...   \n",
              "3  The world will never be the same, once you've ...   \n",
              "4                                       Look closer.   \n",
              "\n",
              "                                          Movie_Cast  \\\n",
              "0  Tim Roth Antonio Banderas Jennifer Beals Madon...   \n",
              "1  Mark Hamill Harrison Ford Carrie Fisher Peter ...   \n",
              "2  Albert Brooks Ellen DeGeneres Alexander Gould ...   \n",
              "3  Tom Hanks Robin Wright Gary Sinise Mykelti Wil...   \n",
              "4  Kevin Spacey Annette Bening Thora Birch Wes Be...   \n",
              "\n",
              "                                          Movie_Crew   Movie_Director  \n",
              "0  [{'name': 'Allison Anders', 'gender': 1, 'depa...   Allison Anders  \n",
              "1  [{'name': 'George Lucas', 'gender': 2, 'depart...     George Lucas  \n",
              "2  [{'name': 'Andrew Stanton', 'gender': 2, 'depa...   Andrew Stanton  \n",
              "3  [{'name': 'Alan Silvestri', 'gender': 2, 'depa...  Robert Zemeckis  \n",
              "4  [{'name': 'Thomas Newman', 'gender': 2, 'depar...       Sam Mendes  \n",
              "\n",
              "[5 rows x 21 columns]"
            ],
            "text/html": [
              "\n",
              "  <div id=\"df-ab72046b-70b8-44f9-a6da-e4a8591ca091\" class=\"colab-df-container\">\n",
              "    <div>\n",
              "<style scoped>\n",
              "    .dataframe tbody tr th:only-of-type {\n",
              "        vertical-align: middle;\n",
              "    }\n",
              "\n",
              "    .dataframe tbody tr th {\n",
              "        vertical-align: top;\n",
              "    }\n",
              "\n",
              "    .dataframe thead th {\n",
              "        text-align: right;\n",
              "    }\n",
              "</style>\n",
              "<table border=\"1\" class=\"dataframe\">\n",
              "  <thead>\n",
              "    <tr style=\"text-align: right;\">\n",
              "      <th></th>\n",
              "      <th>Movie_ID</th>\n",
              "      <th>Movie_Title</th>\n",
              "      <th>Movie_Genre</th>\n",
              "      <th>Movie_Language</th>\n",
              "      <th>Movie_Budget</th>\n",
              "      <th>Movie_Popularity</th>\n",
              "      <th>Movie_Release_Date</th>\n",
              "      <th>Movie_Revenue</th>\n",
              "      <th>Movie_Runtime</th>\n",
              "      <th>Movie_Vote</th>\n",
              "      <th>...</th>\n",
              "      <th>Movie_Homepage</th>\n",
              "      <th>Movie_Keywords</th>\n",
              "      <th>Movie_Overview</th>\n",
              "      <th>Movie_Production_House</th>\n",
              "      <th>Movie_Production_Country</th>\n",
              "      <th>Movie_Spoken_Language</th>\n",
              "      <th>Movie_Tagline</th>\n",
              "      <th>Movie_Cast</th>\n",
              "      <th>Movie_Crew</th>\n",
              "      <th>Movie_Director</th>\n",
              "    </tr>\n",
              "  </thead>\n",
              "  <tbody>\n",
              "    <tr>\n",
              "      <th>0</th>\n",
              "      <td>1</td>\n",
              "      <td>Four Rooms</td>\n",
              "      <td>Crime Comedy</td>\n",
              "      <td>en</td>\n",
              "      <td>4000000</td>\n",
              "      <td>22.876230</td>\n",
              "      <td>09-12-1995</td>\n",
              "      <td>4300000</td>\n",
              "      <td>98.0</td>\n",
              "      <td>6.5</td>\n",
              "      <td>...</td>\n",
              "      <td>NaN</td>\n",
              "      <td>hotel new year's eve witch bet hotel room</td>\n",
              "      <td>It's Ted the Bellhop's first night on the job....</td>\n",
              "      <td>[{\"name\": \"Miramax Films\", \"id\": 14}, {\"name\":...</td>\n",
              "      <td>[{\"iso_3166_1\": \"US\", \"name\": \"United States o...</td>\n",
              "      <td>[{\"iso_639_1\": \"en\", \"name\": \"English\"}]</td>\n",
              "      <td>Twelve outrageous guests. Four scandalous requ...</td>\n",
              "      <td>Tim Roth Antonio Banderas Jennifer Beals Madon...</td>\n",
              "      <td>[{'name': 'Allison Anders', 'gender': 1, 'depa...</td>\n",
              "      <td>Allison Anders</td>\n",
              "    </tr>\n",
              "    <tr>\n",
              "      <th>1</th>\n",
              "      <td>2</td>\n",
              "      <td>Star Wars</td>\n",
              "      <td>Adventure Action Science Fiction</td>\n",
              "      <td>en</td>\n",
              "      <td>11000000</td>\n",
              "      <td>126.393695</td>\n",
              "      <td>25-05-1977</td>\n",
              "      <td>775398007</td>\n",
              "      <td>121.0</td>\n",
              "      <td>8.1</td>\n",
              "      <td>...</td>\n",
              "      <td>http://www.starwars.com/films/star-wars-episod...</td>\n",
              "      <td>android galaxy hermit death star lightsaber</td>\n",
              "      <td>Princess Leia is captured and held hostage by ...</td>\n",
              "      <td>[{\"name\": \"Lucasfilm\", \"id\": 1}, {\"name\": \"Twe...</td>\n",
              "      <td>[{\"iso_3166_1\": \"US\", \"name\": \"United States o...</td>\n",
              "      <td>[{\"iso_639_1\": \"en\", \"name\": \"English\"}]</td>\n",
              "      <td>A long time ago in a galaxy far, far away...</td>\n",
              "      <td>Mark Hamill Harrison Ford Carrie Fisher Peter ...</td>\n",
              "      <td>[{'name': 'George Lucas', 'gender': 2, 'depart...</td>\n",
              "      <td>George Lucas</td>\n",
              "    </tr>\n",
              "    <tr>\n",
              "      <th>2</th>\n",
              "      <td>3</td>\n",
              "      <td>Finding Nemo</td>\n",
              "      <td>Animation Family</td>\n",
              "      <td>en</td>\n",
              "      <td>94000000</td>\n",
              "      <td>85.688789</td>\n",
              "      <td>30-05-2003</td>\n",
              "      <td>940335536</td>\n",
              "      <td>100.0</td>\n",
              "      <td>7.6</td>\n",
              "      <td>...</td>\n",
              "      <td>http://movies.disney.com/finding-nemo</td>\n",
              "      <td>father son relationship harbor underwater fish...</td>\n",
              "      <td>Nemo, an adventurous young clownfish, is unexp...</td>\n",
              "      <td>[{\"name\": \"Pixar Animation Studios\", \"id\": 3}]</td>\n",
              "      <td>[{\"iso_3166_1\": \"US\", \"name\": \"United States o...</td>\n",
              "      <td>[{\"iso_639_1\": \"en\", \"name\": \"English\"}]</td>\n",
              "      <td>There are 3.7 trillion fish in the ocean, they...</td>\n",
              "      <td>Albert Brooks Ellen DeGeneres Alexander Gould ...</td>\n",
              "      <td>[{'name': 'Andrew Stanton', 'gender': 2, 'depa...</td>\n",
              "      <td>Andrew Stanton</td>\n",
              "    </tr>\n",
              "    <tr>\n",
              "      <th>3</th>\n",
              "      <td>4</td>\n",
              "      <td>Forrest Gump</td>\n",
              "      <td>Comedy Drama Romance</td>\n",
              "      <td>en</td>\n",
              "      <td>55000000</td>\n",
              "      <td>138.133331</td>\n",
              "      <td>06-07-1994</td>\n",
              "      <td>677945399</td>\n",
              "      <td>142.0</td>\n",
              "      <td>8.2</td>\n",
              "      <td>...</td>\n",
              "      <td>NaN</td>\n",
              "      <td>vietnam veteran hippie mentally disabled runni...</td>\n",
              "      <td>A man with a low IQ has accomplished great thi...</td>\n",
              "      <td>[{\"name\": \"Paramount Pictures\", \"id\": 4}]</td>\n",
              "      <td>[{\"iso_3166_1\": \"US\", \"name\": \"United States o...</td>\n",
              "      <td>[{\"iso_639_1\": \"en\", \"name\": \"English\"}]</td>\n",
              "      <td>The world will never be the same, once you've ...</td>\n",
              "      <td>Tom Hanks Robin Wright Gary Sinise Mykelti Wil...</td>\n",
              "      <td>[{'name': 'Alan Silvestri', 'gender': 2, 'depa...</td>\n",
              "      <td>Robert Zemeckis</td>\n",
              "    </tr>\n",
              "    <tr>\n",
              "      <th>4</th>\n",
              "      <td>5</td>\n",
              "      <td>American Beauty</td>\n",
              "      <td>Drama</td>\n",
              "      <td>en</td>\n",
              "      <td>15000000</td>\n",
              "      <td>80.878605</td>\n",
              "      <td>15-09-1999</td>\n",
              "      <td>356296601</td>\n",
              "      <td>122.0</td>\n",
              "      <td>7.9</td>\n",
              "      <td>...</td>\n",
              "      <td>http://www.dreamworks.com/ab/</td>\n",
              "      <td>male nudity female nudity adultery midlife cri...</td>\n",
              "      <td>Lester Burnham, a depressed suburban father in...</td>\n",
              "      <td>[{\"name\": \"DreamWorks SKG\", \"id\": 27}, {\"name\"...</td>\n",
              "      <td>[{\"iso_3166_1\": \"US\", \"name\": \"United States o...</td>\n",
              "      <td>[{\"iso_639_1\": \"en\", \"name\": \"English\"}]</td>\n",
              "      <td>Look closer.</td>\n",
              "      <td>Kevin Spacey Annette Bening Thora Birch Wes Be...</td>\n",
              "      <td>[{'name': 'Thomas Newman', 'gender': 2, 'depar...</td>\n",
              "      <td>Sam Mendes</td>\n",
              "    </tr>\n",
              "  </tbody>\n",
              "</table>\n",
              "<p>5 rows × 21 columns</p>\n",
              "</div>\n",
              "    <div class=\"colab-df-buttons\">\n",
              "\n",
              "  <div class=\"colab-df-container\">\n",
              "    <button class=\"colab-df-convert\" onclick=\"convertToInteractive('df-ab72046b-70b8-44f9-a6da-e4a8591ca091')\"\n",
              "            title=\"Convert this dataframe to an interactive table.\"\n",
              "            style=\"display:none;\">\n",
              "\n",
              "  <svg xmlns=\"http://www.w3.org/2000/svg\" height=\"24px\" viewBox=\"0 -960 960 960\">\n",
              "    <path d=\"M120-120v-720h720v720H120Zm60-500h600v-160H180v160Zm220 220h160v-160H400v160Zm0 220h160v-160H400v160ZM180-400h160v-160H180v160Zm440 0h160v-160H620v160ZM180-180h160v-160H180v160Zm440 0h160v-160H620v160Z\"/>\n",
              "  </svg>\n",
              "    </button>\n",
              "\n",
              "  <style>\n",
              "    .colab-df-container {\n",
              "      display:flex;\n",
              "      gap: 12px;\n",
              "    }\n",
              "\n",
              "    .colab-df-convert {\n",
              "      background-color: #E8F0FE;\n",
              "      border: none;\n",
              "      border-radius: 50%;\n",
              "      cursor: pointer;\n",
              "      display: none;\n",
              "      fill: #1967D2;\n",
              "      height: 32px;\n",
              "      padding: 0 0 0 0;\n",
              "      width: 32px;\n",
              "    }\n",
              "\n",
              "    .colab-df-convert:hover {\n",
              "      background-color: #E2EBFA;\n",
              "      box-shadow: 0px 1px 2px rgba(60, 64, 67, 0.3), 0px 1px 3px 1px rgba(60, 64, 67, 0.15);\n",
              "      fill: #174EA6;\n",
              "    }\n",
              "\n",
              "    .colab-df-buttons div {\n",
              "      margin-bottom: 4px;\n",
              "    }\n",
              "\n",
              "    [theme=dark] .colab-df-convert {\n",
              "      background-color: #3B4455;\n",
              "      fill: #D2E3FC;\n",
              "    }\n",
              "\n",
              "    [theme=dark] .colab-df-convert:hover {\n",
              "      background-color: #434B5C;\n",
              "      box-shadow: 0px 1px 3px 1px rgba(0, 0, 0, 0.15);\n",
              "      filter: drop-shadow(0px 1px 2px rgba(0, 0, 0, 0.3));\n",
              "      fill: #FFFFFF;\n",
              "    }\n",
              "  </style>\n",
              "\n",
              "    <script>\n",
              "      const buttonEl =\n",
              "        document.querySelector('#df-ab72046b-70b8-44f9-a6da-e4a8591ca091 button.colab-df-convert');\n",
              "      buttonEl.style.display =\n",
              "        google.colab.kernel.accessAllowed ? 'block' : 'none';\n",
              "\n",
              "      async function convertToInteractive(key) {\n",
              "        const element = document.querySelector('#df-ab72046b-70b8-44f9-a6da-e4a8591ca091');\n",
              "        const dataTable =\n",
              "          await google.colab.kernel.invokeFunction('convertToInteractive',\n",
              "                                                    [key], {});\n",
              "        if (!dataTable) return;\n",
              "\n",
              "        const docLinkHtml = 'Like what you see? Visit the ' +\n",
              "          '<a target=\"_blank\" href=https://colab.research.google.com/notebooks/data_table.ipynb>data table notebook</a>'\n",
              "          + ' to learn more about interactive tables.';\n",
              "        element.innerHTML = '';\n",
              "        dataTable['output_type'] = 'display_data';\n",
              "        await google.colab.output.renderOutput(dataTable, element);\n",
              "        const docLink = document.createElement('div');\n",
              "        docLink.innerHTML = docLinkHtml;\n",
              "        element.appendChild(docLink);\n",
              "      }\n",
              "    </script>\n",
              "  </div>\n",
              "\n",
              "\n",
              "<div id=\"df-3290dc97-9606-44f6-bc6b-fb298260799b\">\n",
              "  <button class=\"colab-df-quickchart\" onclick=\"quickchart('df-3290dc97-9606-44f6-bc6b-fb298260799b')\"\n",
              "            title=\"Suggest charts\"\n",
              "            style=\"display:none;\">\n",
              "\n",
              "<svg xmlns=\"http://www.w3.org/2000/svg\" height=\"24px\"viewBox=\"0 0 24 24\"\n",
              "     width=\"24px\">\n",
              "    <g>\n",
              "        <path d=\"M19 3H5c-1.1 0-2 .9-2 2v14c0 1.1.9 2 2 2h14c1.1 0 2-.9 2-2V5c0-1.1-.9-2-2-2zM9 17H7v-7h2v7zm4 0h-2V7h2v10zm4 0h-2v-4h2v4z\"/>\n",
              "    </g>\n",
              "</svg>\n",
              "  </button>\n",
              "\n",
              "<style>\n",
              "  .colab-df-quickchart {\n",
              "      --bg-color: #E8F0FE;\n",
              "      --fill-color: #1967D2;\n",
              "      --hover-bg-color: #E2EBFA;\n",
              "      --hover-fill-color: #174EA6;\n",
              "      --disabled-fill-color: #AAA;\n",
              "      --disabled-bg-color: #DDD;\n",
              "  }\n",
              "\n",
              "  [theme=dark] .colab-df-quickchart {\n",
              "      --bg-color: #3B4455;\n",
              "      --fill-color: #D2E3FC;\n",
              "      --hover-bg-color: #434B5C;\n",
              "      --hover-fill-color: #FFFFFF;\n",
              "      --disabled-bg-color: #3B4455;\n",
              "      --disabled-fill-color: #666;\n",
              "  }\n",
              "\n",
              "  .colab-df-quickchart {\n",
              "    background-color: var(--bg-color);\n",
              "    border: none;\n",
              "    border-radius: 50%;\n",
              "    cursor: pointer;\n",
              "    display: none;\n",
              "    fill: var(--fill-color);\n",
              "    height: 32px;\n",
              "    padding: 0;\n",
              "    width: 32px;\n",
              "  }\n",
              "\n",
              "  .colab-df-quickchart:hover {\n",
              "    background-color: var(--hover-bg-color);\n",
              "    box-shadow: 0 1px 2px rgba(60, 64, 67, 0.3), 0 1px 3px 1px rgba(60, 64, 67, 0.15);\n",
              "    fill: var(--button-hover-fill-color);\n",
              "  }\n",
              "\n",
              "  .colab-df-quickchart-complete:disabled,\n",
              "  .colab-df-quickchart-complete:disabled:hover {\n",
              "    background-color: var(--disabled-bg-color);\n",
              "    fill: var(--disabled-fill-color);\n",
              "    box-shadow: none;\n",
              "  }\n",
              "\n",
              "  .colab-df-spinner {\n",
              "    border: 2px solid var(--fill-color);\n",
              "    border-color: transparent;\n",
              "    border-bottom-color: var(--fill-color);\n",
              "    animation:\n",
              "      spin 1s steps(1) infinite;\n",
              "  }\n",
              "\n",
              "  @keyframes spin {\n",
              "    0% {\n",
              "      border-color: transparent;\n",
              "      border-bottom-color: var(--fill-color);\n",
              "      border-left-color: var(--fill-color);\n",
              "    }\n",
              "    20% {\n",
              "      border-color: transparent;\n",
              "      border-left-color: var(--fill-color);\n",
              "      border-top-color: var(--fill-color);\n",
              "    }\n",
              "    30% {\n",
              "      border-color: transparent;\n",
              "      border-left-color: var(--fill-color);\n",
              "      border-top-color: var(--fill-color);\n",
              "      border-right-color: var(--fill-color);\n",
              "    }\n",
              "    40% {\n",
              "      border-color: transparent;\n",
              "      border-right-color: var(--fill-color);\n",
              "      border-top-color: var(--fill-color);\n",
              "    }\n",
              "    60% {\n",
              "      border-color: transparent;\n",
              "      border-right-color: var(--fill-color);\n",
              "    }\n",
              "    80% {\n",
              "      border-color: transparent;\n",
              "      border-right-color: var(--fill-color);\n",
              "      border-bottom-color: var(--fill-color);\n",
              "    }\n",
              "    90% {\n",
              "      border-color: transparent;\n",
              "      border-bottom-color: var(--fill-color);\n",
              "    }\n",
              "  }\n",
              "</style>\n",
              "\n",
              "  <script>\n",
              "    async function quickchart(key) {\n",
              "      const quickchartButtonEl =\n",
              "        document.querySelector('#' + key + ' button');\n",
              "      quickchartButtonEl.disabled = true;  // To prevent multiple clicks.\n",
              "      quickchartButtonEl.classList.add('colab-df-spinner');\n",
              "      try {\n",
              "        const charts = await google.colab.kernel.invokeFunction(\n",
              "            'suggestCharts', [key], {});\n",
              "      } catch (error) {\n",
              "        console.error('Error during call to suggestCharts:', error);\n",
              "      }\n",
              "      quickchartButtonEl.classList.remove('colab-df-spinner');\n",
              "      quickchartButtonEl.classList.add('colab-df-quickchart-complete');\n",
              "    }\n",
              "    (() => {\n",
              "      let quickchartButtonEl =\n",
              "        document.querySelector('#df-3290dc97-9606-44f6-bc6b-fb298260799b button');\n",
              "      quickchartButtonEl.style.display =\n",
              "        google.colab.kernel.accessAllowed ? 'block' : 'none';\n",
              "    })();\n",
              "  </script>\n",
              "</div>\n",
              "\n",
              "    </div>\n",
              "  </div>\n"
            ]
          },
          "metadata": {},
          "execution_count": 12
        }
      ]
    },
    {
      "cell_type": "markdown",
      "source": [],
      "metadata": {
        "id": "SInPyXFx0CRZ"
      }
    },
    {
      "cell_type": "code",
      "source": [
        "df.info()"
      ],
      "metadata": {
        "colab": {
          "base_uri": "https://localhost:8080/"
        },
        "id": "FSPFAXH50Cvy",
        "outputId": "a2180945-cb9d-4189-e66d-d24ac7ba7a69"
      },
      "execution_count": 13,
      "outputs": [
        {
          "output_type": "stream",
          "name": "stdout",
          "text": [
            "<class 'pandas.core.frame.DataFrame'>\n",
            "RangeIndex: 4760 entries, 0 to 4759\n",
            "Data columns (total 21 columns):\n",
            " #   Column                    Non-Null Count  Dtype  \n",
            "---  ------                    --------------  -----  \n",
            " 0   Movie_ID                  4760 non-null   int64  \n",
            " 1   Movie_Title               4760 non-null   object \n",
            " 2   Movie_Genre               4760 non-null   object \n",
            " 3   Movie_Language            4760 non-null   object \n",
            " 4   Movie_Budget              4760 non-null   int64  \n",
            " 5   Movie_Popularity          4760 non-null   float64\n",
            " 6   Movie_Release_Date        4760 non-null   object \n",
            " 7   Movie_Revenue             4760 non-null   int64  \n",
            " 8   Movie_Runtime             4758 non-null   float64\n",
            " 9   Movie_Vote                4760 non-null   float64\n",
            " 10  Movie_Vote_Count          4760 non-null   int64  \n",
            " 11  Movie_Homepage            1699 non-null   object \n",
            " 12  Movie_Keywords            4373 non-null   object \n",
            " 13  Movie_Overview            4757 non-null   object \n",
            " 14  Movie_Production_House    4760 non-null   object \n",
            " 15  Movie_Production_Country  4760 non-null   object \n",
            " 16  Movie_Spoken_Language     4760 non-null   object \n",
            " 17  Movie_Tagline             3942 non-null   object \n",
            " 18  Movie_Cast                4733 non-null   object \n",
            " 19  Movie_Crew                4760 non-null   object \n",
            " 20  Movie_Director            4738 non-null   object \n",
            "dtypes: float64(3), int64(4), object(14)\n",
            "memory usage: 781.1+ KB\n"
          ]
        }
      ]
    },
    {
      "cell_type": "code",
      "source": [
        "df.shape"
      ],
      "metadata": {
        "colab": {
          "base_uri": "https://localhost:8080/"
        },
        "id": "7qFQ0nsc0J52",
        "outputId": "0a522f9d-dbd2-4f5d-b743-7ace1f10d8d3"
      },
      "execution_count": 14,
      "outputs": [
        {
          "output_type": "execute_result",
          "data": {
            "text/plain": [
              "(4760, 21)"
            ]
          },
          "metadata": {},
          "execution_count": 14
        }
      ]
    },
    {
      "cell_type": "code",
      "source": [
        "df.columns"
      ],
      "metadata": {
        "colab": {
          "base_uri": "https://localhost:8080/"
        },
        "id": "ykBHJ3bB0UUW",
        "outputId": "ff9f7b7d-efd5-49c9-b5ea-a32b75a5ace3"
      },
      "execution_count": 15,
      "outputs": [
        {
          "output_type": "execute_result",
          "data": {
            "text/plain": [
              "Index(['Movie_ID', 'Movie_Title', 'Movie_Genre', 'Movie_Language',\n",
              "       'Movie_Budget', 'Movie_Popularity', 'Movie_Release_Date',\n",
              "       'Movie_Revenue', 'Movie_Runtime', 'Movie_Vote', 'Movie_Vote_Count',\n",
              "       'Movie_Homepage', 'Movie_Keywords', 'Movie_Overview',\n",
              "       'Movie_Production_House', 'Movie_Production_Country',\n",
              "       'Movie_Spoken_Language', 'Movie_Tagline', 'Movie_Cast', 'Movie_Crew',\n",
              "       'Movie_Director'],\n",
              "      dtype='object')"
            ]
          },
          "metadata": {},
          "execution_count": 15
        }
      ]
    },
    {
      "cell_type": "markdown",
      "source": [
        "# Get Feature Selection"
      ],
      "metadata": {
        "id": "4mFyHgMD0b0J"
      }
    },
    {
      "cell_type": "code",
      "source": [
        "df_features =  df [['Movie_Genre', 'Movie_Keywords', 'Movie_Tagline', 'Movie_Cast', 'Movie_Director']].fillna('')"
      ],
      "metadata": {
        "id": "H8XGdlu00he8"
      },
      "execution_count": 16,
      "outputs": []
    },
    {
      "cell_type": "code",
      "source": [
        "df_features.shape"
      ],
      "metadata": {
        "colab": {
          "base_uri": "https://localhost:8080/"
        },
        "id": "p-K3VaT81QQX",
        "outputId": "161b4829-0038-4b83-af98-c1bc7ccf9cef"
      },
      "execution_count": 17,
      "outputs": [
        {
          "output_type": "execute_result",
          "data": {
            "text/plain": [
              "(4760, 5)"
            ]
          },
          "metadata": {},
          "execution_count": 17
        }
      ]
    },
    {
      "cell_type": "code",
      "source": [
        "df_features"
      ],
      "metadata": {
        "colab": {
          "base_uri": "https://localhost:8080/",
          "height": 493
        },
        "id": "BVmJGZVx1Wxn",
        "outputId": "cd8f3831-2582-41f8-a87d-f52dbb4507e8"
      },
      "execution_count": 18,
      "outputs": [
        {
          "output_type": "execute_result",
          "data": {
            "text/plain": [
              "                           Movie_Genre  \\\n",
              "0                         Crime Comedy   \n",
              "1     Adventure Action Science Fiction   \n",
              "2                     Animation Family   \n",
              "3                 Comedy Drama Romance   \n",
              "4                                Drama   \n",
              "...                                ...   \n",
              "4755                            Horror   \n",
              "4756               Comedy Family Drama   \n",
              "4757                    Thriller Drama   \n",
              "4758                            Family   \n",
              "4759                       Documentary   \n",
              "\n",
              "                                         Movie_Keywords  \\\n",
              "0             hotel new year's eve witch bet hotel room   \n",
              "1           android galaxy hermit death star lightsaber   \n",
              "2     father son relationship harbor underwater fish...   \n",
              "3     vietnam veteran hippie mentally disabled runni...   \n",
              "4     male nudity female nudity adultery midlife cri...   \n",
              "...                                                 ...   \n",
              "4755                                                      \n",
              "4756                                                      \n",
              "4757                     christian film sex trafficking   \n",
              "4758                                                      \n",
              "4759  music actors legendary perfomer classic hollyw...   \n",
              "\n",
              "                                          Movie_Tagline  \\\n",
              "0     Twelve outrageous guests. Four scandalous requ...   \n",
              "1          A long time ago in a galaxy far, far away...   \n",
              "2     There are 3.7 trillion fish in the ocean, they...   \n",
              "3     The world will never be the same, once you've ...   \n",
              "4                                          Look closer.   \n",
              "...                                                 ...   \n",
              "4755                The hot spot where Satan's waitin'.   \n",
              "4756           It’s better to stand out than to fit in.   \n",
              "4757           She never knew it could happen to her...   \n",
              "4758                                                      \n",
              "4759                                                      \n",
              "\n",
              "                                             Movie_Cast     Movie_Director  \n",
              "0     Tim Roth Antonio Banderas Jennifer Beals Madon...     Allison Anders  \n",
              "1     Mark Hamill Harrison Ford Carrie Fisher Peter ...       George Lucas  \n",
              "2     Albert Brooks Ellen DeGeneres Alexander Gould ...     Andrew Stanton  \n",
              "3     Tom Hanks Robin Wright Gary Sinise Mykelti Wil...    Robert Zemeckis  \n",
              "4     Kevin Spacey Annette Bening Thora Birch Wes Be...         Sam Mendes  \n",
              "...                                                 ...                ...  \n",
              "4755  Lisa Hart Carroll Michael Des Barres Paul Drak...         Pece Dingo  \n",
              "4756  Roni Akurati Brighton Sharbino Jason Lee Anjul...       Frank Lotito  \n",
              "4757  Nicole Smolen Kim Baldwin Ariana Stephens Brys...       Jaco Booyens  \n",
              "4758                                                                        \n",
              "4759                                    Tony Oppedisano  Simon Napier-Bell  \n",
              "\n",
              "[4760 rows x 5 columns]"
            ],
            "text/html": [
              "\n",
              "  <div id=\"df-c5afacdd-c924-4a95-a6ef-b79f83f5bdde\" class=\"colab-df-container\">\n",
              "    <div>\n",
              "<style scoped>\n",
              "    .dataframe tbody tr th:only-of-type {\n",
              "        vertical-align: middle;\n",
              "    }\n",
              "\n",
              "    .dataframe tbody tr th {\n",
              "        vertical-align: top;\n",
              "    }\n",
              "\n",
              "    .dataframe thead th {\n",
              "        text-align: right;\n",
              "    }\n",
              "</style>\n",
              "<table border=\"1\" class=\"dataframe\">\n",
              "  <thead>\n",
              "    <tr style=\"text-align: right;\">\n",
              "      <th></th>\n",
              "      <th>Movie_Genre</th>\n",
              "      <th>Movie_Keywords</th>\n",
              "      <th>Movie_Tagline</th>\n",
              "      <th>Movie_Cast</th>\n",
              "      <th>Movie_Director</th>\n",
              "    </tr>\n",
              "  </thead>\n",
              "  <tbody>\n",
              "    <tr>\n",
              "      <th>0</th>\n",
              "      <td>Crime Comedy</td>\n",
              "      <td>hotel new year's eve witch bet hotel room</td>\n",
              "      <td>Twelve outrageous guests. Four scandalous requ...</td>\n",
              "      <td>Tim Roth Antonio Banderas Jennifer Beals Madon...</td>\n",
              "      <td>Allison Anders</td>\n",
              "    </tr>\n",
              "    <tr>\n",
              "      <th>1</th>\n",
              "      <td>Adventure Action Science Fiction</td>\n",
              "      <td>android galaxy hermit death star lightsaber</td>\n",
              "      <td>A long time ago in a galaxy far, far away...</td>\n",
              "      <td>Mark Hamill Harrison Ford Carrie Fisher Peter ...</td>\n",
              "      <td>George Lucas</td>\n",
              "    </tr>\n",
              "    <tr>\n",
              "      <th>2</th>\n",
              "      <td>Animation Family</td>\n",
              "      <td>father son relationship harbor underwater fish...</td>\n",
              "      <td>There are 3.7 trillion fish in the ocean, they...</td>\n",
              "      <td>Albert Brooks Ellen DeGeneres Alexander Gould ...</td>\n",
              "      <td>Andrew Stanton</td>\n",
              "    </tr>\n",
              "    <tr>\n",
              "      <th>3</th>\n",
              "      <td>Comedy Drama Romance</td>\n",
              "      <td>vietnam veteran hippie mentally disabled runni...</td>\n",
              "      <td>The world will never be the same, once you've ...</td>\n",
              "      <td>Tom Hanks Robin Wright Gary Sinise Mykelti Wil...</td>\n",
              "      <td>Robert Zemeckis</td>\n",
              "    </tr>\n",
              "    <tr>\n",
              "      <th>4</th>\n",
              "      <td>Drama</td>\n",
              "      <td>male nudity female nudity adultery midlife cri...</td>\n",
              "      <td>Look closer.</td>\n",
              "      <td>Kevin Spacey Annette Bening Thora Birch Wes Be...</td>\n",
              "      <td>Sam Mendes</td>\n",
              "    </tr>\n",
              "    <tr>\n",
              "      <th>...</th>\n",
              "      <td>...</td>\n",
              "      <td>...</td>\n",
              "      <td>...</td>\n",
              "      <td>...</td>\n",
              "      <td>...</td>\n",
              "    </tr>\n",
              "    <tr>\n",
              "      <th>4755</th>\n",
              "      <td>Horror</td>\n",
              "      <td></td>\n",
              "      <td>The hot spot where Satan's waitin'.</td>\n",
              "      <td>Lisa Hart Carroll Michael Des Barres Paul Drak...</td>\n",
              "      <td>Pece Dingo</td>\n",
              "    </tr>\n",
              "    <tr>\n",
              "      <th>4756</th>\n",
              "      <td>Comedy Family Drama</td>\n",
              "      <td></td>\n",
              "      <td>It’s better to stand out than to fit in.</td>\n",
              "      <td>Roni Akurati Brighton Sharbino Jason Lee Anjul...</td>\n",
              "      <td>Frank Lotito</td>\n",
              "    </tr>\n",
              "    <tr>\n",
              "      <th>4757</th>\n",
              "      <td>Thriller Drama</td>\n",
              "      <td>christian film sex trafficking</td>\n",
              "      <td>She never knew it could happen to her...</td>\n",
              "      <td>Nicole Smolen Kim Baldwin Ariana Stephens Brys...</td>\n",
              "      <td>Jaco Booyens</td>\n",
              "    </tr>\n",
              "    <tr>\n",
              "      <th>4758</th>\n",
              "      <td>Family</td>\n",
              "      <td></td>\n",
              "      <td></td>\n",
              "      <td></td>\n",
              "      <td></td>\n",
              "    </tr>\n",
              "    <tr>\n",
              "      <th>4759</th>\n",
              "      <td>Documentary</td>\n",
              "      <td>music actors legendary perfomer classic hollyw...</td>\n",
              "      <td></td>\n",
              "      <td>Tony Oppedisano</td>\n",
              "      <td>Simon Napier-Bell</td>\n",
              "    </tr>\n",
              "  </tbody>\n",
              "</table>\n",
              "<p>4760 rows × 5 columns</p>\n",
              "</div>\n",
              "    <div class=\"colab-df-buttons\">\n",
              "\n",
              "  <div class=\"colab-df-container\">\n",
              "    <button class=\"colab-df-convert\" onclick=\"convertToInteractive('df-c5afacdd-c924-4a95-a6ef-b79f83f5bdde')\"\n",
              "            title=\"Convert this dataframe to an interactive table.\"\n",
              "            style=\"display:none;\">\n",
              "\n",
              "  <svg xmlns=\"http://www.w3.org/2000/svg\" height=\"24px\" viewBox=\"0 -960 960 960\">\n",
              "    <path d=\"M120-120v-720h720v720H120Zm60-500h600v-160H180v160Zm220 220h160v-160H400v160Zm0 220h160v-160H400v160ZM180-400h160v-160H180v160Zm440 0h160v-160H620v160ZM180-180h160v-160H180v160Zm440 0h160v-160H620v160Z\"/>\n",
              "  </svg>\n",
              "    </button>\n",
              "\n",
              "  <style>\n",
              "    .colab-df-container {\n",
              "      display:flex;\n",
              "      gap: 12px;\n",
              "    }\n",
              "\n",
              "    .colab-df-convert {\n",
              "      background-color: #E8F0FE;\n",
              "      border: none;\n",
              "      border-radius: 50%;\n",
              "      cursor: pointer;\n",
              "      display: none;\n",
              "      fill: #1967D2;\n",
              "      height: 32px;\n",
              "      padding: 0 0 0 0;\n",
              "      width: 32px;\n",
              "    }\n",
              "\n",
              "    .colab-df-convert:hover {\n",
              "      background-color: #E2EBFA;\n",
              "      box-shadow: 0px 1px 2px rgba(60, 64, 67, 0.3), 0px 1px 3px 1px rgba(60, 64, 67, 0.15);\n",
              "      fill: #174EA6;\n",
              "    }\n",
              "\n",
              "    .colab-df-buttons div {\n",
              "      margin-bottom: 4px;\n",
              "    }\n",
              "\n",
              "    [theme=dark] .colab-df-convert {\n",
              "      background-color: #3B4455;\n",
              "      fill: #D2E3FC;\n",
              "    }\n",
              "\n",
              "    [theme=dark] .colab-df-convert:hover {\n",
              "      background-color: #434B5C;\n",
              "      box-shadow: 0px 1px 3px 1px rgba(0, 0, 0, 0.15);\n",
              "      filter: drop-shadow(0px 1px 2px rgba(0, 0, 0, 0.3));\n",
              "      fill: #FFFFFF;\n",
              "    }\n",
              "  </style>\n",
              "\n",
              "    <script>\n",
              "      const buttonEl =\n",
              "        document.querySelector('#df-c5afacdd-c924-4a95-a6ef-b79f83f5bdde button.colab-df-convert');\n",
              "      buttonEl.style.display =\n",
              "        google.colab.kernel.accessAllowed ? 'block' : 'none';\n",
              "\n",
              "      async function convertToInteractive(key) {\n",
              "        const element = document.querySelector('#df-c5afacdd-c924-4a95-a6ef-b79f83f5bdde');\n",
              "        const dataTable =\n",
              "          await google.colab.kernel.invokeFunction('convertToInteractive',\n",
              "                                                    [key], {});\n",
              "        if (!dataTable) return;\n",
              "\n",
              "        const docLinkHtml = 'Like what you see? Visit the ' +\n",
              "          '<a target=\"_blank\" href=https://colab.research.google.com/notebooks/data_table.ipynb>data table notebook</a>'\n",
              "          + ' to learn more about interactive tables.';\n",
              "        element.innerHTML = '';\n",
              "        dataTable['output_type'] = 'display_data';\n",
              "        await google.colab.output.renderOutput(dataTable, element);\n",
              "        const docLink = document.createElement('div');\n",
              "        docLink.innerHTML = docLinkHtml;\n",
              "        element.appendChild(docLink);\n",
              "      }\n",
              "    </script>\n",
              "  </div>\n",
              "\n",
              "\n",
              "<div id=\"df-8c3992f3-2eb8-4dfc-b416-11e19acc4fcd\">\n",
              "  <button class=\"colab-df-quickchart\" onclick=\"quickchart('df-8c3992f3-2eb8-4dfc-b416-11e19acc4fcd')\"\n",
              "            title=\"Suggest charts\"\n",
              "            style=\"display:none;\">\n",
              "\n",
              "<svg xmlns=\"http://www.w3.org/2000/svg\" height=\"24px\"viewBox=\"0 0 24 24\"\n",
              "     width=\"24px\">\n",
              "    <g>\n",
              "        <path d=\"M19 3H5c-1.1 0-2 .9-2 2v14c0 1.1.9 2 2 2h14c1.1 0 2-.9 2-2V5c0-1.1-.9-2-2-2zM9 17H7v-7h2v7zm4 0h-2V7h2v10zm4 0h-2v-4h2v4z\"/>\n",
              "    </g>\n",
              "</svg>\n",
              "  </button>\n",
              "\n",
              "<style>\n",
              "  .colab-df-quickchart {\n",
              "      --bg-color: #E8F0FE;\n",
              "      --fill-color: #1967D2;\n",
              "      --hover-bg-color: #E2EBFA;\n",
              "      --hover-fill-color: #174EA6;\n",
              "      --disabled-fill-color: #AAA;\n",
              "      --disabled-bg-color: #DDD;\n",
              "  }\n",
              "\n",
              "  [theme=dark] .colab-df-quickchart {\n",
              "      --bg-color: #3B4455;\n",
              "      --fill-color: #D2E3FC;\n",
              "      --hover-bg-color: #434B5C;\n",
              "      --hover-fill-color: #FFFFFF;\n",
              "      --disabled-bg-color: #3B4455;\n",
              "      --disabled-fill-color: #666;\n",
              "  }\n",
              "\n",
              "  .colab-df-quickchart {\n",
              "    background-color: var(--bg-color);\n",
              "    border: none;\n",
              "    border-radius: 50%;\n",
              "    cursor: pointer;\n",
              "    display: none;\n",
              "    fill: var(--fill-color);\n",
              "    height: 32px;\n",
              "    padding: 0;\n",
              "    width: 32px;\n",
              "  }\n",
              "\n",
              "  .colab-df-quickchart:hover {\n",
              "    background-color: var(--hover-bg-color);\n",
              "    box-shadow: 0 1px 2px rgba(60, 64, 67, 0.3), 0 1px 3px 1px rgba(60, 64, 67, 0.15);\n",
              "    fill: var(--button-hover-fill-color);\n",
              "  }\n",
              "\n",
              "  .colab-df-quickchart-complete:disabled,\n",
              "  .colab-df-quickchart-complete:disabled:hover {\n",
              "    background-color: var(--disabled-bg-color);\n",
              "    fill: var(--disabled-fill-color);\n",
              "    box-shadow: none;\n",
              "  }\n",
              "\n",
              "  .colab-df-spinner {\n",
              "    border: 2px solid var(--fill-color);\n",
              "    border-color: transparent;\n",
              "    border-bottom-color: var(--fill-color);\n",
              "    animation:\n",
              "      spin 1s steps(1) infinite;\n",
              "  }\n",
              "\n",
              "  @keyframes spin {\n",
              "    0% {\n",
              "      border-color: transparent;\n",
              "      border-bottom-color: var(--fill-color);\n",
              "      border-left-color: var(--fill-color);\n",
              "    }\n",
              "    20% {\n",
              "      border-color: transparent;\n",
              "      border-left-color: var(--fill-color);\n",
              "      border-top-color: var(--fill-color);\n",
              "    }\n",
              "    30% {\n",
              "      border-color: transparent;\n",
              "      border-left-color: var(--fill-color);\n",
              "      border-top-color: var(--fill-color);\n",
              "      border-right-color: var(--fill-color);\n",
              "    }\n",
              "    40% {\n",
              "      border-color: transparent;\n",
              "      border-right-color: var(--fill-color);\n",
              "      border-top-color: var(--fill-color);\n",
              "    }\n",
              "    60% {\n",
              "      border-color: transparent;\n",
              "      border-right-color: var(--fill-color);\n",
              "    }\n",
              "    80% {\n",
              "      border-color: transparent;\n",
              "      border-right-color: var(--fill-color);\n",
              "      border-bottom-color: var(--fill-color);\n",
              "    }\n",
              "    90% {\n",
              "      border-color: transparent;\n",
              "      border-bottom-color: var(--fill-color);\n",
              "    }\n",
              "  }\n",
              "</style>\n",
              "\n",
              "  <script>\n",
              "    async function quickchart(key) {\n",
              "      const quickchartButtonEl =\n",
              "        document.querySelector('#' + key + ' button');\n",
              "      quickchartButtonEl.disabled = true;  // To prevent multiple clicks.\n",
              "      quickchartButtonEl.classList.add('colab-df-spinner');\n",
              "      try {\n",
              "        const charts = await google.colab.kernel.invokeFunction(\n",
              "            'suggestCharts', [key], {});\n",
              "      } catch (error) {\n",
              "        console.error('Error during call to suggestCharts:', error);\n",
              "      }\n",
              "      quickchartButtonEl.classList.remove('colab-df-spinner');\n",
              "      quickchartButtonEl.classList.add('colab-df-quickchart-complete');\n",
              "    }\n",
              "    (() => {\n",
              "      let quickchartButtonEl =\n",
              "        document.querySelector('#df-8c3992f3-2eb8-4dfc-b416-11e19acc4fcd button');\n",
              "      quickchartButtonEl.style.display =\n",
              "        google.colab.kernel.accessAllowed ? 'block' : 'none';\n",
              "    })();\n",
              "  </script>\n",
              "</div>\n",
              "\n",
              "  <div id=\"id_82f8120d-6745-437d-82ff-55082674dc9d\">\n",
              "    <style>\n",
              "      .colab-df-generate {\n",
              "        background-color: #E8F0FE;\n",
              "        border: none;\n",
              "        border-radius: 50%;\n",
              "        cursor: pointer;\n",
              "        display: none;\n",
              "        fill: #1967D2;\n",
              "        height: 32px;\n",
              "        padding: 0 0 0 0;\n",
              "        width: 32px;\n",
              "      }\n",
              "\n",
              "      .colab-df-generate:hover {\n",
              "        background-color: #E2EBFA;\n",
              "        box-shadow: 0px 1px 2px rgba(60, 64, 67, 0.3), 0px 1px 3px 1px rgba(60, 64, 67, 0.15);\n",
              "        fill: #174EA6;\n",
              "      }\n",
              "\n",
              "      [theme=dark] .colab-df-generate {\n",
              "        background-color: #3B4455;\n",
              "        fill: #D2E3FC;\n",
              "      }\n",
              "\n",
              "      [theme=dark] .colab-df-generate:hover {\n",
              "        background-color: #434B5C;\n",
              "        box-shadow: 0px 1px 3px 1px rgba(0, 0, 0, 0.15);\n",
              "        filter: drop-shadow(0px 1px 2px rgba(0, 0, 0, 0.3));\n",
              "        fill: #FFFFFF;\n",
              "      }\n",
              "    </style>\n",
              "    <button class=\"colab-df-generate\" onclick=\"generateWithVariable('df_features')\"\n",
              "            title=\"Generate code using this dataframe.\"\n",
              "            style=\"display:none;\">\n",
              "\n",
              "  <svg xmlns=\"http://www.w3.org/2000/svg\" height=\"24px\"viewBox=\"0 0 24 24\"\n",
              "       width=\"24px\">\n",
              "    <path d=\"M7,19H8.4L18.45,9,17,7.55,7,17.6ZM5,21V16.75L18.45,3.32a2,2,0,0,1,2.83,0l1.4,1.43a1.91,1.91,0,0,1,.58,1.4,1.91,1.91,0,0,1-.58,1.4L9.25,21ZM18.45,9,17,7.55Zm-12,3A5.31,5.31,0,0,0,4.9,8.1,5.31,5.31,0,0,0,1,6.5,5.31,5.31,0,0,0,4.9,4.9,5.31,5.31,0,0,0,6.5,1,5.31,5.31,0,0,0,8.1,4.9,5.31,5.31,0,0,0,12,6.5,5.46,5.46,0,0,0,6.5,12Z\"/>\n",
              "  </svg>\n",
              "    </button>\n",
              "    <script>\n",
              "      (() => {\n",
              "      const buttonEl =\n",
              "        document.querySelector('#id_82f8120d-6745-437d-82ff-55082674dc9d button.colab-df-generate');\n",
              "      buttonEl.style.display =\n",
              "        google.colab.kernel.accessAllowed ? 'block' : 'none';\n",
              "\n",
              "      buttonEl.onclick = () => {\n",
              "        google.colab.notebook.generateWithVariable('df_features');\n",
              "      }\n",
              "      })();\n",
              "    </script>\n",
              "  </div>\n",
              "\n",
              "    </div>\n",
              "  </div>\n"
            ]
          },
          "metadata": {},
          "execution_count": 18
        }
      ]
    },
    {
      "cell_type": "code",
      "source": [
        "x = df_features['Movie_Genre']  + '  ' +  df_features['Movie_Keywords'] + ' ' + df_features['Movie_Tagline'] +  ' ' + df_features['Movie_Cast'] + ' '+ df_features['Movie_Director']"
      ],
      "metadata": {
        "id": "Rr81Myf21xok"
      },
      "execution_count": 19,
      "outputs": []
    },
    {
      "cell_type": "code",
      "source": [
        "x"
      ],
      "metadata": {
        "colab": {
          "base_uri": "https://localhost:8080/"
        },
        "id": "PB95QX9n2p8n",
        "outputId": "2fb71dd9-be31-4ff8-fd30-ef04a4f4afa9"
      },
      "execution_count": 20,
      "outputs": [
        {
          "output_type": "execute_result",
          "data": {
            "text/plain": [
              "0       Crime Comedy  hotel new year's eve witch bet h...\n",
              "1       Adventure Action Science Fiction  android gala...\n",
              "2       Animation Family  father son relationship harb...\n",
              "3       Comedy Drama Romance  vietnam veteran hippie m...\n",
              "4       Drama  male nudity female nudity adultery midl...\n",
              "                              ...                        \n",
              "4755    Horror   The hot spot where Satan's waitin'. L...\n",
              "4756    Comedy Family Drama   It’s better to stand out...\n",
              "4757    Thriller Drama  christian film sex trafficking...\n",
              "4758                                          Family     \n",
              "4759    Documentary  music actors legendary perfomer c...\n",
              "Length: 4760, dtype: object"
            ]
          },
          "metadata": {},
          "execution_count": 20
        }
      ]
    },
    {
      "cell_type": "code",
      "source": [
        "x.shape"
      ],
      "metadata": {
        "colab": {
          "base_uri": "https://localhost:8080/"
        },
        "id": "JpUATI7C2sIM",
        "outputId": "c9c05192-9ea4-4d3f-fd14-b713aca9322b"
      },
      "execution_count": 21,
      "outputs": [
        {
          "output_type": "execute_result",
          "data": {
            "text/plain": [
              "(4760,)"
            ]
          },
          "metadata": {},
          "execution_count": 21
        }
      ]
    },
    {
      "cell_type": "markdown",
      "source": [
        "### Get Feature Text Conversions to Token"
      ],
      "metadata": {
        "id": "GJLF8l692xRx"
      }
    },
    {
      "cell_type": "code",
      "source": [
        "from sklearn.feature_extraction.text import TfidfVectorizer"
      ],
      "metadata": {
        "id": "8lL1kdLF29ms"
      },
      "execution_count": 22,
      "outputs": []
    },
    {
      "cell_type": "code",
      "source": [
        "tfidf = TfidfVectorizer()"
      ],
      "metadata": {
        "id": "PqM6BdtE3Mqb"
      },
      "execution_count": 23,
      "outputs": []
    },
    {
      "cell_type": "code",
      "source": [
        "x=tfidf.fit_transform(x)"
      ],
      "metadata": {
        "id": "CPJ4-ryF3m6Z"
      },
      "execution_count": 24,
      "outputs": []
    },
    {
      "cell_type": "code",
      "source": [
        "x.shape"
      ],
      "metadata": {
        "colab": {
          "base_uri": "https://localhost:8080/"
        },
        "id": "kvq0Qqqx3wx8",
        "outputId": "d0af1e60-a8b5-40cf-9a71-32dd0e00107a"
      },
      "execution_count": 25,
      "outputs": [
        {
          "output_type": "execute_result",
          "data": {
            "text/plain": [
              "(4760, 17258)"
            ]
          },
          "metadata": {},
          "execution_count": 25
        }
      ]
    },
    {
      "cell_type": "code",
      "source": [
        "print(x)"
      ],
      "metadata": {
        "colab": {
          "base_uri": "https://localhost:8080/"
        },
        "id": "USd5RFor30ks",
        "outputId": "d60136dc-dd53-453e-dc82-7e92c0b69429"
      },
      "execution_count": 26,
      "outputs": [
        {
          "output_type": "stream",
          "name": "stdout",
          "text": [
            "  (0, 617)\t0.1633382144407513\n",
            "  (0, 492)\t0.1432591540388685\n",
            "  (0, 15413)\t0.1465525095337543\n",
            "  (0, 9675)\t0.14226057295252661\n",
            "  (0, 9465)\t0.1659841367820977\n",
            "  (0, 1390)\t0.16898383612799558\n",
            "  (0, 7825)\t0.09799561597509843\n",
            "  (0, 1214)\t0.13865857545144072\n",
            "  (0, 729)\t0.13415063359531618\n",
            "  (0, 13093)\t0.1432591540388685\n",
            "  (0, 15355)\t0.10477815972666779\n",
            "  (0, 9048)\t0.0866842116160778\n",
            "  (0, 11161)\t0.06250380151644369\n",
            "  (0, 16773)\t0.17654247479915475\n",
            "  (0, 5612)\t0.08603537588547631\n",
            "  (0, 16735)\t0.10690083751525419\n",
            "  (0, 7904)\t0.13348000542112332\n",
            "  (0, 15219)\t0.09800472886453934\n",
            "  (0, 11242)\t0.07277788238484746\n",
            "  (0, 3878)\t0.11998399582562203\n",
            "  (0, 5499)\t0.11454057510303811\n",
            "  (0, 7071)\t0.19822417598406614\n",
            "  (0, 7454)\t0.14745635785412262\n",
            "  (0, 1495)\t0.19712637387361423\n",
            "  (0, 9206)\t0.15186283580984414\n",
            "  :\t:\n",
            "  (4757, 5455)\t0.12491480594769522\n",
            "  (4757, 2967)\t0.16273475835631626\n",
            "  (4757, 8464)\t0.23522565554066333\n",
            "  (4757, 6938)\t0.17088173678136628\n",
            "  (4757, 8379)\t0.17480603856721913\n",
            "  (4757, 15303)\t0.07654356007668191\n",
            "  (4757, 15384)\t0.09754322497537371\n",
            "  (4757, 7649)\t0.11479421494340192\n",
            "  (4757, 10896)\t0.14546473055066447\n",
            "  (4757, 4494)\t0.05675298448720501\n",
            "  (4758, 5238)\t1.0\n",
            "  (4759, 11264)\t0.33947721804318337\n",
            "  (4759, 11708)\t0.33947721804318337\n",
            "  (4759, 205)\t0.3237911628497312\n",
            "  (4759, 8902)\t0.3040290704566037\n",
            "  (4759, 14062)\t0.3237911628497312\n",
            "  (4759, 3058)\t0.2812896191863103\n",
            "  (4759, 7130)\t0.26419662449963793\n",
            "  (4759, 10761)\t0.3126617295732147\n",
            "  (4759, 4358)\t0.18306542312175342\n",
            "  (4759, 14051)\t0.20084315377640435\n",
            "  (4759, 5690)\t0.19534291014627303\n",
            "  (4759, 15431)\t0.19628653185946862\n",
            "  (4759, 1490)\t0.21197258705292082\n",
            "  (4759, 10666)\t0.15888268987343043\n"
          ]
        }
      ]
    },
    {
      "cell_type": "markdown",
      "source": [
        "### Get Similarity Score Using Cosine Similarity"
      ],
      "metadata": {
        "id": "GNgJo4DV4e7D"
      }
    },
    {
      "cell_type": "code",
      "source": [
        "from sklearn.metrics.pairwise import cosine_similarity"
      ],
      "metadata": {
        "id": "bQO0eCHR4cvL"
      },
      "execution_count": 27,
      "outputs": []
    },
    {
      "cell_type": "code",
      "source": [
        "Similarity_Score= cosine_similarity(x)"
      ],
      "metadata": {
        "id": "9fApFEaV44BM"
      },
      "execution_count": 28,
      "outputs": []
    },
    {
      "cell_type": "code",
      "source": [
        "Similarity_Score"
      ],
      "metadata": {
        "colab": {
          "base_uri": "https://localhost:8080/"
        },
        "id": "0dIFEigT5Go9",
        "outputId": "85479d64-60cd-403a-d666-d5ffbe1d0371"
      },
      "execution_count": 29,
      "outputs": [
        {
          "output_type": "execute_result",
          "data": {
            "text/plain": [
              "array([[1.        , 0.01351235, 0.03570468, ..., 0.        , 0.        ,\n",
              "        0.        ],\n",
              "       [0.01351235, 1.        , 0.00806674, ..., 0.        , 0.        ,\n",
              "        0.        ],\n",
              "       [0.03570468, 0.00806674, 1.        , ..., 0.        , 0.08014876,\n",
              "        0.        ],\n",
              "       ...,\n",
              "       [0.        , 0.        , 0.        , ..., 1.        , 0.        ,\n",
              "        0.        ],\n",
              "       [0.        , 0.        , 0.08014876, ..., 0.        , 1.        ,\n",
              "        0.        ],\n",
              "       [0.        , 0.        , 0.        , ..., 0.        , 0.        ,\n",
              "        1.        ]])"
            ]
          },
          "metadata": {},
          "execution_count": 29
        }
      ]
    },
    {
      "cell_type": "code",
      "source": [
        "Similarity_Score.shape"
      ],
      "metadata": {
        "colab": {
          "base_uri": "https://localhost:8080/"
        },
        "id": "th7qCYxN5Mce",
        "outputId": "948fce3d-7c45-468b-a7cd-bd92533f9d13"
      },
      "execution_count": 30,
      "outputs": [
        {
          "output_type": "execute_result",
          "data": {
            "text/plain": [
              "(4760, 4760)"
            ]
          },
          "metadata": {},
          "execution_count": 30
        }
      ]
    },
    {
      "cell_type": "markdown",
      "source": [
        "### Get Movie Name as Input User and Validate for Closet Spelling"
      ],
      "metadata": {
        "id": "Yisn2VZ65WwQ"
      }
    },
    {
      "cell_type": "code",
      "source": [
        "Favourite_Movie_name=input('Enter your favourite movie name : ')"
      ],
      "metadata": {
        "colab": {
          "base_uri": "https://localhost:8080/"
        },
        "id": "M_crsw8o5VQ3",
        "outputId": "f09d9c8c-bd9c-421f-cfff-11d491b6fbcd"
      },
      "execution_count": 42,
      "outputs": [
        {
          "name": "stdout",
          "output_type": "stream",
          "text": [
            "Enter your favourite movie name : Seven\n"
          ]
        }
      ]
    },
    {
      "cell_type": "code",
      "source": [
        "All_Movies_Title_List = df['Movie_Title'].tolist()"
      ],
      "metadata": {
        "id": "FQxM0Kj76cVd"
      },
      "execution_count": 43,
      "outputs": []
    },
    {
      "cell_type": "code",
      "source": [
        "import difflib"
      ],
      "metadata": {
        "id": "WcP6akzT6vQy"
      },
      "execution_count": 44,
      "outputs": []
    },
    {
      "cell_type": "code",
      "source": [
        "Movie_Recommendation = difflib.get_close_matches(Favourite_Movie_name, All_Movies_Title_List)\n",
        "print(Movie_Recommendation)"
      ],
      "metadata": {
        "colab": {
          "base_uri": "https://localhost:8080/"
        },
        "id": "oAfR19Wg62jR",
        "outputId": "a74ab2ae-807d-47af-85bb-d16f532802eb"
      },
      "execution_count": 46,
      "outputs": [
        {
          "output_type": "stream",
          "name": "stdout",
          "text": [
            "['Se7en', 'Sheena', 'Selena']\n"
          ]
        }
      ]
    },
    {
      "cell_type": "code",
      "source": [
        "Close_Match  = Movie_Recommendation[0]\n",
        "print(Close_Match)"
      ],
      "metadata": {
        "colab": {
          "base_uri": "https://localhost:8080/"
        },
        "id": "pBkAdnAa8LiU",
        "outputId": "0ad3c9c3-0da5-41df-c33d-f8019149d04a"
      },
      "execution_count": 47,
      "outputs": [
        {
          "output_type": "stream",
          "name": "stdout",
          "text": [
            "Se7en\n"
          ]
        }
      ]
    },
    {
      "cell_type": "code",
      "source": [
        "Index_of_Close_Match_Movie = df[df.Movie_Title ==  Close_Match]['Movie_ID'].values[0]\n",
        "\n",
        "print(Index_of_Close_Match_Movie)"
      ],
      "metadata": {
        "colab": {
          "base_uri": "https://localhost:8080/"
        },
        "id": "DaJj7QT68asG",
        "outputId": "8ed221cc-1e1c-49f9-af2a-c16da4118f61"
      },
      "execution_count": 48,
      "outputs": [
        {
          "output_type": "stream",
          "name": "stdout",
          "text": [
            "361\n"
          ]
        }
      ]
    },
    {
      "cell_type": "code",
      "source": [
        "Recommendation_Score = list(enumerate(Similarity_Score[Index_of_Close_Match_Movie]))\n",
        "\n",
        "print (Recommendation_Score)"
      ],
      "metadata": {
        "colab": {
          "base_uri": "https://localhost:8080/"
        },
        "id": "-4l_zyqp9iHR",
        "outputId": "4e0de583-b44e-4b6d-9cc8-4a3b94bee23e"
      },
      "execution_count": 49,
      "outputs": [
        {
          "output_type": "stream",
          "name": "stdout",
          "text": [
            "[(0, 0.010121041467441335), (1, 0.0071275335628312375), (2, 0.05057088329431939), (3, 0.05933458445590986), (4, 0.0), (5, 0.0), (6, 0.021591550970239307), (7, 0.010636487254792349), (8, 0.0), (9, 0.02313826355383994), (10, 0.00525967603283244), (11, 0.005110934584829654), (12, 0.005270555810781333), (13, 0.03424604600510014), (14, 0.04054093593032666), (15, 0.0), (16, 0.0), (17, 0.02131737210195053), (18, 0.004732616509884939), (19, 0.01539820877973383), (20, 0.030583326111274026), (21, 0.0), (22, 0.004182654309191863), (23, 0.0), (24, 0.01657556867952045), (25, 0.007567219797371806), (26, 0.0), (27, 0.008289203965844804), (28, 0.02156117805183766), (29, 0.03890614589370768), (30, 0.0), (31, 0.0), (32, 0.006997801807574119), (33, 0.0043617464624840455), (34, 0.0), (35, 0.030400005954933675), (36, 0.014584476545694803), (37, 0.03007573879142441), (38, 0.0883204620451264), (39, 0.017924117287751277), (40, 0.08115682323425745), (41, 0.008879282072864909), (42, 0.004308794259533089), (43, 0.0), (44, 0.0), (45, 0.025045715062190336), (46, 0.016859477083811067), (47, 0.0), (48, 0.005438210632581939), (49, 0.004083111240821494), (50, 0.014193056669316091), (51, 0.0), (52, 0.0), (53, 0.031784278786909245), (54, 0.020379864402700697), (55, 0.02096880352873027), (56, 0.03048206422471348), (57, 0.04247933476537726), (58, 0.06779367534706411), (59, 0.033496050586092334), (60, 0.01816592928523709), (61, 0.032043033355743614), (62, 0.0), (63, 0.022560850625919254), (64, 0.01806413047556633), (65, 0.020720824210086128), (66, 0.0), (67, 0.02066250814343041), (68, 0.0), (69, 0.008761836093134374), (70, 0.0), (71, 0.012383840528311223), (72, 0.004786625085551078), (73, 0.018573989175337417), (74, 0.010498224136960064), (75, 0.02328398391297828), (76, 0.0), (77, 0.022036855663994246), (78, 0.017564122930449576), (79, 0.012875048780776353), (80, 0.011833917279478393), (81, 0.0), (82, 0.05980669520774839), (83, 0.005001434033550468), (84, 0.004832477645052769), (85, 0.0), (86, 0.007867354500216948), (87, 0.0), (88, 0.004070783148375146), (89, 0.0), (90, 0.007803206615702544), (91, 0.023362678170912306), (92, 0.0), (93, 0.007642963515001521), (94, 0.011860446037945914), (95, 0.008208494183927903), (96, 0.004567951436293792), (97, 0.004331260906697998), (98, 0.027522415783374197), (99, 0.0), (100, 0.0), (101, 0.028640356589200926), (102, 0.037336486206260046), (103, 0.0036486102887595623), (104, 0.004966684600665673), (105, 0.004894886720284242), (106, 0.0037992937086798306), (107, 0.0), (108, 0.014045924544583924), (109, 0.0), (110, 0.009349473936056323), (111, 0.009437583412793), (112, 0.004751600251368855), (113, 0.01528250609041342), (114, 0.004216484309887695), (115, 0.004307349678891576), (116, 0.03985708022325038), (117, 0.021026385264888973), (118, 0.008187785542831876), (119, 0.01751329914336787), (120, 0.00955200896844431), (121, 0.0), (122, 0.02022832626706447), (123, 0.005399844730479813), (124, 0.009013385437111878), (125, 0.013838578444068174), (126, 0.0), (127, 0.0), (128, 0.032437246040390465), (129, 0.01716435174386715), (130, 0.03890473204956838), (131, 0.005000378523951533), (132, 0.0), (133, 0.0), (134, 0.004303220681555226), (135, 0.009862562966659286), (136, 0.011162824396900382), (137, 0.005081391893288077), (138, 0.0047389629285179685), (139, 0.08117307752765858), (140, 0.0), (141, 0.017904291805906386), (142, 0.0), (143, 0.0), (144, 0.0), (145, 0.028653355728613352), (146, 0.014534357165290147), (147, 0.0), (148, 0.004478813416630796), (149, 0.0), (150, 0.02045418824393377), (151, 0.008243118778800988), (152, 0.012542345359924045), (153, 0.07323353586681888), (154, 0.009536279661592834), (155, 0.0), (156, 0.0074314447427152215), (157, 0.004011931396385679), (158, 0.0), (159, 0.007725580583442165), (160, 0.009312120767496334), (161, 0.003786397516152381), (162, 0.029539415209660202), (163, 0.008246466489187409), (164, 0.0), (165, 0.01543136843192051), (166, 0.004358835201268214), (167, 0.009814644591474736), (168, 0.003878970441602149), (169, 0.008987862254314274), (170, 0.008943752853409601), (171, 0.012259673857221806), (172, 0.0), (173, 0.0), (174, 0.0041608735502603866), (175, 0.007724614672368268), (176, 0.0), (177, 0.04079429811084183), (178, 0.0), (179, 0.1187047400097779), (180, 0.012917359364706688), (181, 0.012007621034032053), (182, 0.02223925808465092), (183, 0.008494193022752308), (184, 0.004346143358847935), (185, 0.0456119128870229), (186, 0.004127408947575283), (187, 0.024654219507765553), (188, 0.025395556621750717), (189, 0.013374347146572485), (190, 0.00866969961682163), (191, 0.028656995193963204), (192, 0.03278703188007881), (193, 0.0), (194, 0.008151188494135696), (195, 0.007689192925074129), (196, 0.0), (197, 0.003977464325803183), (198, 0.0), (199, 0.008445106574210581), (200, 0.0), (201, 0.024074649421949704), (202, 0.009241225115180818), (203, 0.04586681690825695), (204, 0.1056446104598496), (205, 0.0044605631905128736), (206, 0.012822833896094949), (207, 0.0), (208, 0.008471852396750485), (209, 0.0049802357010926045), (210, 0.0), (211, 0.013965044515132684), (212, 0.022417808797998186), (213, 0.0), (214, 0.017150136818486976), (215, 0.008987237344653998), (216, 0.005116839081693488), (217, 0.04376253866687538), (218, 0.02759617298055877), (219, 0.055674378296331914), (220, 0.010435905917022452), (221, 0.009385242361616239), (222, 0.021974124336523224), (223, 0.0047526638094966865), (224, 0.0), (225, 0.08954771972210017), (226, 0.0), (227, 0.0), (228, 0.007475878330337754), (229, 0.0), (230, 0.011771971687154985), (231, 0.021043693006323312), (232, 0.02692054935179547), (233, 0.010027040995847553), (234, 0.011115557579470525), (235, 0.0), (236, 0.0), (237, 0.010477922085935773), (238, 0.01662542401380819), (239, 0.013699247017885448), (240, 0.004568332916936895), (241, 0.007960191169670942), (242, 0.014927891449381744), (243, 0.006949521964609466), (244, 0.009938687358746444), (245, 0.04130280085747418), (246, 0.008959723681689966), (247, 0.027732139636650128), (248, 0.0), (249, 0.012985294751808077), (250, 0.005522813241117957), (251, 0.017168198667682162), (252, 0.007068372892855695), (253, 0.004605593226818236), (254, 0.0), (255, 0.030618437208180173), (256, 0.0), (257, 0.025607527019969246), (258, 0.008034241667634426), (259, 0.009814532403800248), (260, 0.012250066273635327), (261, 0.012460811017290935), (262, 0.0), (263, 0.054074018838492076), (264, 0.017151372460692593), (265, 0.0), (266, 0.011392660085776437), (267, 0.0), (268, 0.0), (269, 0.012705045963376559), (270, 0.010625167100193532), (271, 0.046828227392875364), (272, 0.025246915152572783), (273, 0.0), (274, 0.0), (275, 0.0), (276, 0.0), (277, 0.03445819463986432), (278, 0.0036280532305330536), (279, 0.008563984076407372), (280, 0.004922621775770374), (281, 0.0), (282, 0.0), (283, 0.0058396315340567325), (284, 0.01231707778536373), (285, 0.07773798866428117), (286, 0.006847612737043703), (287, 0.013893287656878387), (288, 0.015159638293532991), (289, 0.0064045816379431075), (290, 0.006511643877786262), (291, 0.004498771944852776), (292, 0.012530643777577597), (293, 0.017991297464391494), (294, 0.010283462862247173), (295, 0.006507628620046713), (296, 0.0), (297, 0.10485325761475646), (298, 0.06708458403681582), (299, 0.06420941068920713), (300, 0.08065868681408055), (301, 0.06793237037848661), (302, 0.0), (303, 0.03172873355008753), (304, 0.00936648707398638), (305, 0.023052395820712526), (306, 0.016446995851081402), (307, 0.009529529758071444), (308, 0.010356910414506279), (309, 0.007851162374508416), (310, 0.017150766177070557), (311, 0.013489654435387197), (312, 0.013567572152412156), (313, 0.0), (314, 0.006689243057822656), (315, 0.018195052514248626), (316, 0.01681138471240052), (317, 0.0), (318, 0.004603532803989253), (319, 0.019863938859054086), (320, 0.019016378200938024), (321, 0.027466964649550764), (322, 0.06549757447361601), (323, 0.007137968671559698), (324, 0.0045489931556740165), (325, 0.03756312398339138), (326, 0.0), (327, 0.01158578344802189), (328, 0.00958690678363171), (329, 0.0), (330, 0.013840279918731518), (331, 0.008367613550591494), (332, 0.016658228564029712), (333, 0.018073301179506628), (334, 0.0), (335, 0.02850174847015416), (336, 0.03177919171600849), (337, 0.004479577517385614), (338, 0.023877673141007923), (339, 0.06258747263250321), (340, 0.06369715921048148), (341, 0.02060106145737528), (342, 0.005376567086701028), (343, 0.04116531500399921), (344, 0.053960360699948896), (345, 0.05516325154722493), (346, 0.02749642670098272), (347, 0.03315467164051232), (348, 0.014942768604680263), (349, 0.02835845931087651), (350, 0.004585957847106461), (351, 0.03172419453036439), (352, 0.022953290013360165), (353, 0.01533087285838181), (354, 0.03738807109664504), (355, 0.0111463655552002), (356, 0.024135665386829604), (357, 0.03640801891307028), (358, 0.0), (359, 0.009323403209677408), (360, 0.00964005103625352), (361, 1.0), (362, 0.4540620208697891), (363, 0.3191529096986341), (364, 0.006865058805152889), (365, 0.12019554192303838), (366, 0.003435300750986423), (367, 0.07209239164216924), (368, 0.10583411711035409), (369, 0.061371679282076326), (370, 0.0), (371, 0.005431002685662986), (372, 0.028174815798430272), (373, 0.028931286606069074), (374, 0.0), (375, 0.011946403746328924), (376, 0.0), (377, 0.004340293079014273), (378, 0.0), (379, 0.0073488064693454785), (380, 0.01734119921825961), (381, 0.07765042902010034), (382, 0.018457765876271813), (383, 0.012008823536887077), (384, 0.0), (385, 0.08944928101894338), (386, 0.0), (387, 0.0046547830149957095), (388, 0.03347750277316149), (389, 0.020228659758983403), (390, 0.007680336288432735), (391, 0.05157069846775347), (392, 0.04801518658149651), (393, 0.01272727446637195), (394, 0.0), (395, 0.012969289992007556), (396, 0.04555231216564331), (397, 0.007296112170262568), (398, 0.004241770462691356), (399, 0.0), (400, 0.0), (401, 0.0747340930606582), (402, 0.0), (403, 0.008366611416328777), (404, 0.0436545138177831), (405, 0.014445129800514673), (406, 0.0), (407, 0.01931171002835812), (408, 0.014271615191352026), (409, 0.04896236422686471), (410, 0.030441805019480718), (411, 0.015625427297853232), (412, 0.008064393277781547), (413, 0.018886436485174185), (414, 0.027535971174879038), (415, 0.027947949610946588), (416, 0.012243186399522056), (417, 0.04373335968100527), (418, 0.023337556629168484), (419, 0.008987349028298444), (420, 0.06824958811552852), (421, 0.0411300767827642), (422, 0.0039801015560191255), (423, 0.025700814012015263), (424, 0.014664490169034936), (425, 0.026177162259483883), (426, 0.012080202294418562), (427, 0.018519392602450696), (428, 0.01611636184821074), (429, 0.08032499634443131), (430, 0.013010739132594583), (431, 0.04051527794594082), (432, 0.024447023593207825), (433, 0.0), (434, 0.011435938318661956), (435, 0.0), (436, 0.0), (437, 0.05468958337360354), (438, 0.024641458442062895), (439, 0.015006159619318116), (440, 0.008230773751055215), (441, 0.032319447281634134), (442, 0.004092404907468262), (443, 0.03464642783271601), (444, 0.06459822463934467), (445, 0.0), (446, 0.0), (447, 0.0), (448, 0.005696815390126368), (449, 0.0), (450, 0.0), (451, 0.012140300846614244), (452, 0.017161977464183638), (453, 0.0), (454, 0.008490183632127776), (455, 0.0), (456, 0.021733284243148042), (457, 0.015824565508845125), (458, 0.0), (459, 0.013200652398877128), (460, 0.038928597980999374), (461, 0.04510284838257176), (462, 0.0), (463, 0.0), (464, 0.0), (465, 0.0), (466, 0.010044116611202343), (467, 0.007866133014730462), (468, 0.00746720148902891), (469, 0.05473004154820028), (470, 0.00976833668153702), (471, 0.04072664354647307), (472, 0.013296361424438508), (473, 0.013002417682556246), (474, 0.004426259372771956), (475, 0.0), (476, 0.0), (477, 0.020604436579867193), (478, 0.0), (479, 0.004207503744375124), (480, 0.044876638304331695), (481, 0.0), (482, 0.0), (483, 0.01797410617333219), (484, 0.006579520964518583), (485, 0.021827092651636567), (486, 0.004739691710549089), (487, 0.0), (488, 0.0), (489, 0.0), (490, 0.00917137900739422), (491, 0.029230575663493373), (492, 0.05334590419277427), (493, 0.07514953774766991), (494, 0.024693041981695654), (495, 0.015056740726650312), (496, 0.01945386038346383), (497, 0.02348387701834732), (498, 0.03668261684476817), (499, 0.0), (500, 0.009624861200743517), (501, 0.007165650445711121), (502, 0.0), (503, 0.028785360458385815), (504, 0.009203289078617387), (505, 0.056745606446448875), (506, 0.03642487383241184), (507, 0.008589719906104649), (508, 0.021168200876306546), (509, 0.0), (510, 0.00731235233430488), (511, 0.012930099324200865), (512, 0.0058661470754219295), (513, 0.011043944203779969), (514, 0.0), (515, 0.0037970743298111893), (516, 0.0), (517, 0.0), (518, 0.035336554079205724), (519, 0.015223468858963782), (520, 0.06003950317225149), (521, 0.03324241334014913), (522, 0.020724393669542908), (523, 0.02105609152490636), (524, 0.017552050260598265), (525, 0.009099026944443905), (526, 0.0), (527, 0.04365624642375382), (528, 0.06277291435830397), (529, 0.009204545250129769), (530, 0.009716846541510945), (531, 0.010115342091574294), (532, 0.003911634737179504), (533, 0.0), (534, 0.0), (535, 0.07138635006595424), (536, 0.00448304283057603), (537, 0.009083297818261619), (538, 0.021588812884829837), (539, 0.007808631527576186), (540, 0.03989809879072506), (541, 0.0), (542, 0.0), (543, 0.021213262439329254), (544, 0.0), (545, 0.015046156151049421), (546, 0.032362948456605256), (547, 0.004161188393281817), (548, 0.012111269147738656), (549, 0.013172392366789756), (550, 0.02003569697924033), (551, 0.005125757958793134), (552, 0.0), (553, 0.01269468095341154), (554, 0.0), (555, 0.016238099134753915), (556, 0.0), (557, 0.0), (558, 0.0), (559, 0.0), (560, 0.025330840863081693), (561, 0.018197381533793414), (562, 0.003744336871696482), (563, 0.0), (564, 0.021287115983388546), (565, 0.0074531837391050935), (566, 0.012422141750966188), (567, 0.00778157875472706), (568, 0.03897881575636249), (569, 0.03674089072116594), (570, 0.04128628952449764), (571, 0.0), (572, 0.00818049693443842), (573, 0.0), (574, 0.0), (575, 0.004140457234676728), (576, 0.0803454159733998), (577, 0.04984106389514118), (578, 0.0), (579, 0.0042701895611058985), (580, 0.0), (581, 0.0), (582, 0.0049626414860105125), (583, 0.012112009333762108), (584, 0.029083202300250667), (585, 0.01857356635076924), (586, 0.025292209676853847), (587, 0.0), (588, 0.005128637413772074), (589, 0.003904002878600031), (590, 0.004548895034475155), (591, 0.008763359339082124), (592, 0.020382318999861485), (593, 0.0), (594, 0.01972057741621234), (595, 0.011173296699630535), (596, 0.0), (597, 0.03076821718087481), (598, 0.0), (599, 0.021982522637688722), (600, 0.013590025510886661), (601, 0.00680741481114498), (602, 0.0065152305820666565), (603, 0.013737020342584113), (604, 0.0), (605, 0.00370663510205155), (606, 0.09679979894607252), (607, 0.0), (608, 0.00723345985842007), (609, 0.051422571883014224), (610, 0.034960830523791016), (611, 0.0), (612, 0.0), (613, 0.02464523635071606), (614, 0.005662796175632765), (615, 0.0550164622352237), (616, 0.0), (617, 0.0), (618, 0.014736477871140938), (619, 0.0), (620, 0.0), (621, 0.0), (622, 0.0), (623, 0.0), (624, 0.0442474625737526), (625, 0.0), (626, 0.017219380368815155), (627, 0.010805304216912366), (628, 0.0), (629, 0.0036375347330653302), (630, 0.029899382557915046), (631, 0.0502118938647442), (632, 0.022215324113031638), (633, 0.03990703435961034), (634, 0.0), (635, 0.03268666411996349), (636, 0.0), (637, 0.0), (638, 0.0), (639, 0.021113327578831147), (640, 0.025063511226951992), (641, 0.012346717284831592), (642, 0.0), (643, 0.004782657215601275), (644, 0.016171703198721486), (645, 0.0), (646, 0.04498102840115291), (647, 0.0), (648, 0.046612007720536044), (649, 0.013620738579244313), (650, 0.007471339311396149), (651, 0.0), (652, 0.0), (653, 0.012882514722197855), (654, 0.005201885746239986), (655, 0.01901996320798459), (656, 0.0), (657, 0.021373269831467107), (658, 0.0), (659, 0.003923887663892892), (660, 0.0), (661, 0.05329767360282808), (662, 0.040910831465581624), (663, 0.0), (664, 0.008200186355128213), (665, 0.0177262970078408), (666, 0.06787468459542277), (667, 0.0850088965393713), (668, 0.0039046844950764276), (669, 0.0045412398303287934), (670, 0.05961685441823345), (671, 0.004349739157448756), (672, 0.0037562709198144064), (673, 0.0), (674, 0.03638029501991583), (675, 0.016461636624924125), (676, 0.0), (677, 0.014154151028812945), (678, 0.004592306985198033), (679, 0.004854783781851826), (680, 0.016053269485480744), (681, 0.06432323637302784), (682, 0.0), (683, 0.005571846636028951), (684, 0.010864862297855753), (685, 0.02057650487940972), (686, 0.019055645531458755), (687, 0.010149379626314226), (688, 0.0), (689, 0.0049084561115986065), (690, 0.008511361683756092), (691, 0.018868236383028765), (692, 0.015428396071229535), (693, 0.0), (694, 0.0), (695, 0.07059407672544527), (696, 0.0), (697, 0.004230087309775859), (698, 0.0), (699, 0.09226603661549629), (700, 0.03759386326953157), (701, 0.016850190874910784), (702, 0.030238127445001713), (703, 0.03173092345990753), (704, 0.005336677378708385), (705, 0.040499421786709885), (706, 0.019116735864337958), (707, 0.027184182071792764), (708, 0.004346148619242316), (709, 0.003527407357188128), (710, 0.003913400853439888), (711, 0.004948056157987663), (712, 0.03727898417784287), (713, 0.10756716713944618), (714, 0.06362286460686364), (715, 0.04357602349232506), (716, 0.019021500580943703), (717, 0.04127134118153211), (718, 0.0), (719, 0.03447606337451472), (720, 0.032259959066884586), (721, 0.0), (722, 0.04790179348283446), (723, 0.012534464838969556), (724, 0.11774310521609886), (725, 0.03943183586904284), (726, 0.05980224435973596), (727, 0.009698121242958043), (728, 0.0), (729, 0.0), (730, 0.01387415833713073), (731, 0.023881841033797296), (732, 0.009069356724258392), (733, 0.008540702499754886), (734, 0.0), (735, 0.005752145291745024), (736, 0.052110369628766806), (737, 0.015069202146278517), (738, 0.008131761320626832), (739, 0.0), (740, 0.002825901953361535), (741, 0.011999701659212306), (742, 0.004639382602540024), (743, 0.0), (744, 0.004564304091236071), (745, 0.019836036531571313), (746, 0.019889646469084026), (747, 0.028210599094494783), (748, 0.005237202415401699), (749, 0.009876986468298498), (750, 0.0), (751, 0.0661369356698042), (752, 0.052421105392228246), (753, 0.0), (754, 0.004513032427169661), (755, 0.0040938035127663485), (756, 0.044023775536047596), (757, 0.031422604783429925), (758, 0.03320502396276259), (759, 0.003835336253145551), (760, 0.004832471265239793), (761, 0.0), (762, 0.0085560207794264), (763, 0.009318924254917439), (764, 0.0061478696596375774), (765, 0.026690472080368184), (766, 0.018845747652206365), (767, 0.0046818583793403964), (768, 0.018664642092813565), (769, 0.004870915228462454), (770, 0.015055812695218228), (771, 0.004538315456601996), (772, 0.04075200877245085), (773, 0.027637347799270823), (774, 0.03721834527961314), (775, 0.01365651831337107), (776, 0.012194231329220788), (777, 0.0), (778, 0.06353342050172642), (779, 0.014551928804500673), (780, 0.01339941828200905), (781, 0.09317500164492216), (782, 0.004736040910075897), (783, 0.010702162717424142), (784, 0.004367790452427304), (785, 0.014091875745689923), (786, 0.0035281772851298767), (787, 0.03058568175227854), (788, 0.00839936563964401), (789, 0.016164839828255898), (790, 0.004783670720455712), (791, 0.02182807091729397), (792, 0.07386291646280216), (793, 0.012662111067903705), (794, 0.027984050069959014), (795, 0.0049788894925961134), (796, 0.0), (797, 0.07472750780860585), (798, 0.009419950738955298), (799, 0.0), (800, 0.009131662929296753), (801, 0.0), (802, 0.01819911232987588), (803, 0.03936700592075076), (804, 0.0), (805, 0.031602385606199226), (806, 0.010484329656560439), (807, 0.051342140209462185), (808, 0.0), (809, 0.0), (810, 0.004611213145898219), (811, 0.0), (812, 0.023996557877642485), (813, 0.04392653102101548), (814, 0.0043272300883656295), (815, 0.018152826171481593), (816, 0.047771229008695064), (817, 0.0), (818, 0.00959771649463677), (819, 0.02722199785922468), (820, 0.008080785416956966), (821, 0.030918979406138844), (822, 0.01636953389109987), (823, 0.0), (824, 0.00938308865437722), (825, 0.009853329900989893), (826, 0.00851038107130858), (827, 0.0), (828, 0.0), (829, 0.004533916319157504), (830, 0.0), (831, 0.0), (832, 0.005018361829375459), (833, 0.0), (834, 0.0), (835, 0.0), (836, 0.022535227353386797), (837, 0.0032381593096725333), (838, 0.0), (839, 0.004759319454028219), (840, 0.01841356832620163), (841, 0.004625438366312953), (842, 0.10620075619232455), (843, 0.0), (844, 0.0), (845, 0.0), (846, 0.004313393181648891), (847, 0.010490313853782195), (848, 0.0), (849, 0.02426434284453275), (850, 0.005024543233816203), (851, 0.03945449759021), (852, 0.021796888941546064), (853, 0.0038160354918573064), (854, 0.06581482987780755), (855, 0.0), (856, 0.03221186607466399), (857, 0.0), (858, 0.0), (859, 0.0956954522478402), (860, 0.0), (861, 0.0), (862, 0.02112001119493476), (863, 0.00928659976130153), (864, 0.00498718724329995), (865, 0.0), (866, 0.004588275088879812), (867, 0.014164203236504195), (868, 0.0), (869, 0.004319030128868756), (870, 0.014760165839412536), (871, 0.008199090520480026), (872, 0.013052528942291716), (873, 0.004510895655306808), (874, 0.008512556277321136), (875, 0.00875819930833222), (876, 0.0), (877, 0.0), (878, 0.004661668150919176), (879, 0.004394811160147386), (880, 0.011914503890145915), (881, 0.015573379893341949), (882, 0.07978896759901215), (883, 0.018443478565694862), (884, 0.014952667113074043), (885, 0.008205332006304826), (886, 0.003949224325814945), (887, 0.013143781196079144), (888, 0.0), (889, 0.0), (890, 0.009540769211321257), (891, 0.0369497708937787), (892, 0.0036493549847557275), (893, 0.009161052574227778), (894, 0.004889162401848885), (895, 0.023259843331762568), (896, 0.0), (897, 0.004973061817166339), (898, 0.012687006044769546), (899, 0.030459333271827375), (900, 0.044320733457611734), (901, 0.008414840461490825), (902, 0.008185697477181323), (903, 0.011428646394396426), (904, 0.010768580573749499), (905, 0.004872930727301733), (906, 0.0481730225888828), (907, 0.008412606647961073), (908, 0.00934550969409037), (909, 0.07549900528585994), (910, 0.0), (911, 0.016911600460583237), (912, 0.10364685920034127), (913, 0.01601173807987976), (914, 0.00988027998832758), (915, 0.03947420526597124), (916, 0.04175984904406266), (917, 0.0), (918, 0.03439321054798306), (919, 0.03382330215108617), (920, 0.03496419816776998), (921, 0.007426664903729106), (922, 0.0), (923, 0.07743012420883476), (924, 0.013148447560194327), (925, 0.004843643468069207), (926, 0.009509410261191334), (927, 0.0), (928, 0.026405267710295378), (929, 0.014449311116813912), (930, 0.010477255411229994), (931, 0.01839715497665067), (932, 0.0), (933, 0.004302104753375544), (934, 0.008996272138095538), (935, 0.021194206393138723), (936, 0.016321144221681457), (937, 0.03283843444731123), (938, 0.01935324410296442), (939, 0.003973264844549616), (940, 0.017890032725030078), (941, 0.0039454041649841474), (942, 0.0), (943, 0.00422257606674749), (944, 0.0), (945, 0.01734296021057883), (946, 0.021349587826315724), (947, 0.0), (948, 0.011518453152954019), (949, 0.04686332930417082), (950, 0.023796513287940173), (951, 0.020497187392777234), (952, 0.0), (953, 0.01791274780349928), (954, 0.017935500569947766), (955, 0.04096061658195709), (956, 0.013358125927688863), (957, 0.05520026528799294), (958, 0.0038502815459753167), (959, 0.0197832571502778), (960, 0.0), (961, 0.07390855129255951), (962, 0.018993264116837077), (963, 0.00922702783235994), (964, 0.0035117147425793045), (965, 0.012165610443999417), (966, 0.04610914173321023), (967, 0.0), (968, 0.03317331896683503), (969, 0.030203285744500173), (970, 0.007729042412356309), (971, 0.009416116290280056), (972, 0.01100839304591693), (973, 0.01387530058777655), (974, 0.0046202815235295), (975, 0.02375843492929422), (976, 0.0), (977, 0.04940081243338449), (978, 0.012357792322660276), (979, 0.0), (980, 0.0), (981, 0.04122459722856125), (982, 0.01549246541434719), (983, 0.00413730874571577), (984, 0.00400693359753903), (985, 0.004818762479580726), (986, 0.0), (987, 0.0), (988, 0.004902248334458712), (989, 0.0), (990, 0.07950432763767755), (991, 0.012975672631779657), (992, 0.027150761163562902), (993, 0.00497182513618839), (994, 0.010324473021956068), (995, 0.018631764443338906), (996, 0.005944203755789878), (997, 0.0), (998, 0.05749139411585188), (999, 0.004771491931424205), (1000, 0.030738226293254865), (1001, 0.05542378687900914), (1002, 0.017432357170368007), (1003, 0.02988685608493588), (1004, 0.0), (1005, 0.007544913151356906), (1006, 0.009557328715800804), (1007, 0.021236168812406326), (1008, 0.025798222560777555), (1009, 0.008216439861422108), (1010, 0.007737295348516239), (1011, 0.0643151409317044), (1012, 0.007905056114287035), (1013, 0.03340402195143806), (1014, 0.0214609286748821), (1015, 0.0), (1016, 0.030427223778256074), (1017, 0.0), (1018, 0.013163238492388128), (1019, 0.0), (1020, 0.009746882357939232), (1021, 0.033320794966420826), (1022, 0.042312172900303015), (1023, 0.0), (1024, 0.004387431000976688), (1025, 0.031227407526139218), (1026, 0.0), (1027, 0.009714812861596712), (1028, 0.004157491789430355), (1029, 0.013327310351953095), (1030, 0.0), (1031, 0.03223085851167027), (1032, 0.0), (1033, 0.00946165745336731), (1034, 0.0), (1035, 0.004794741510518782), (1036, 0.009581887089731678), (1037, 0.0), (1038, 0.0038472460808418895), (1039, 0.008973947835435297), (1040, 0.0032901260487799714), (1041, 0.00926570824590714), (1042, 0.0), (1043, 0.01860329177005786), (1044, 0.009841693470396365), (1045, 0.020577646990522544), (1046, 0.03833246975583884), (1047, 0.02011616636902017), (1048, 0.005128823097756078), (1049, 0.004995031387513318), (1050, 0.006798184886684432), (1051, 0.024542863443000343), (1052, 0.004569202975769397), (1053, 0.0), (1054, 0.004660447892402318), (1055, 0.02031434285036853), (1056, 0.005369913265960893), (1057, 0.0), (1058, 0.0), (1059, 0.004885553504839126), (1060, 0.00952389269069973), (1061, 0.012938601129921963), (1062, 0.003522231864127023), (1063, 0.017526167429817458), (1064, 0.012308542556614404), (1065, 0.0), (1066, 0.009091269786184932), (1067, 0.06361487488251602), (1068, 0.004564372827158797), (1069, 0.022452755423302502), (1070, 0.0036004007997810683), (1071, 0.021067866342992216), (1072, 0.0), (1073, 0.0313255772992834), (1074, 0.00422541703431766), (1075, 0.010702286475139695), (1076, 0.009793137496939693), (1077, 0.005042198621548985), (1078, 0.0035080790935499593), (1079, 0.04557633876008326), (1080, 0.0), (1081, 0.0), (1082, 0.00997786246256046), (1083, 0.0), (1084, 0.023158050431082586), (1085, 0.04918478556100816), (1086, 0.009489060854905442), (1087, 0.018148100969328486), (1088, 0.011518399312493417), (1089, 0.0046313295508284965), (1090, 0.08623606318245093), (1091, 0.008736086066566175), (1092, 0.0), (1093, 0.026745351584270195), (1094, 0.00412248172004121), (1095, 0.008821485322362566), (1096, 0.0), (1097, 0.0), (1098, 0.0), (1099, 0.1257007371844377), (1100, 0.004142761262688594), (1101, 0.0), (1102, 0.0), (1103, 0.004539284424491399), (1104, 0.005194872080000752), (1105, 0.04004826127289644), (1106, 0.05074002091472758), (1107, 0.0), (1108, 0.012440241209268548), (1109, 0.0202875938464728), (1110, 0.0), (1111, 0.030594150439350237), (1112, 0.034030368999701376), (1113, 0.0212990943856982), (1114, 0.0688307553286709), (1115, 0.00979673352037522), (1116, 0.009811959079170407), (1117, 0.004046737307148051), (1118, 0.021893790495691935), (1119, 0.0), (1120, 0.012869490026679826), (1121, 0.012728220188111325), (1122, 0.0), (1123, 0.009655463294468154), (1124, 0.0043672748654183), (1125, 0.02362031045922444), (1126, 0.012039357005847615), (1127, 0.0), (1128, 0.009954913392984058), (1129, 0.02196742915720868), (1130, 0.008964063862905663), (1131, 0.0), (1132, 0.004690550711819559), (1133, 0.004203419430656893), (1134, 0.007192929289983384), (1135, 0.0074050069258175845), (1136, 0.00865380150454585), (1137, 0.0), (1138, 0.0), (1139, 0.003962180291081157), (1140, 0.005284588748890795), (1141, 0.00989789241439678), (1142, 0.026779738524638434), (1143, 0.04843368618996171), (1144, 0.011319105939302805), (1145, 0.0), (1146, 0.033916669419716314), (1147, 0.036757577498023684), (1148, 0.0), (1149, 0.022659888240505802), (1150, 0.03792625270803955), (1151, 0.008001482337225002), (1152, 0.022788323075887455), (1153, 0.0029535330013333635), (1154, 0.0), (1155, 0.03163121799652802), (1156, 0.061777972985664016), (1157, 0.06757650487958314), (1158, 0.0), (1159, 0.0), (1160, 0.0), (1161, 0.015014068213987984), (1162, 0.0), (1163, 0.0), (1164, 0.0), (1165, 0.03945214619209503), (1166, 0.03068938790277305), (1167, 0.0), (1168, 0.029248420566802685), (1169, 0.03782577227852932), (1170, 0.009158282320680187), (1171, 0.03048694549019853), (1172, 0.04087465369845085), (1173, 0.015500041250300023), (1174, 0.0), (1175, 0.020252501637438008), (1176, 0.012339135641991683), (1177, 0.0), (1178, 0.016401625413392396), (1179, 0.03322965027831345), (1180, 0.007847449144153758), (1181, 0.0), (1182, 0.03928165799160728), (1183, 0.0), (1184, 0.0), (1185, 0.024310390862902778), (1186, 0.0043336920550070095), (1187, 0.004949258990215525), (1188, 0.10182371858619964), (1189, 0.02954641846497722), (1190, 0.015497530494896303), (1191, 0.009909982574591317), (1192, 0.02098650216377225), (1193, 0.004414138857035963), (1194, 0.023840941331123904), (1195, 0.05275934000317442), (1196, 0.05515454377408562), (1197, 0.0), (1198, 0.03770073917087451), (1199, 0.00371601588112365), (1200, 0.003828878764915411), (1201, 0.08259200971873953), (1202, 0.0), (1203, 0.003955161329024442), (1204, 0.042188642724439875), (1205, 0.004482148608349876), (1206, 0.08305864166052777), (1207, 0.05453538052752118), (1208, 0.011662880718855063), (1209, 0.0), (1210, 0.02015822659887611), (1211, 0.003991551680814622), (1212, 0.01406232040534522), (1213, 0.012624870878654985), (1214, 0.01180930311103851), (1215, 0.004224629795849398), (1216, 0.01724646244074673), (1217, 0.01973872132299993), (1218, 0.20677326179178462), (1219, 0.007158707946899235), (1220, 0.013624227631668201), (1221, 0.019183830677290313), (1222, 0.01129560005041132), (1223, 0.13366213910160651), (1224, 0.004397274098902023), (1225, 0.02985354386803632), (1226, 0.04788808454201138), (1227, 0.004208203426804662), (1228, 0.019465327088013643), (1229, 0.0), (1230, 0.0), (1231, 0.011683270413658383), (1232, 0.0325690542763629), (1233, 0.0), (1234, 0.00446072842187573), (1235, 0.013086285537535373), (1236, 0.0), (1237, 0.0), (1238, 0.052686141381691344), (1239, 0.00489069152802641), (1240, 0.022240721420211662), (1241, 0.031738772799191343), (1242, 0.01115360240240549), (1243, 0.004594650300035395), (1244, 0.012576102698435027), (1245, 0.021565346329184186), (1246, 0.05091516661272284), (1247, 0.0), (1248, 0.00976109522520001), (1249, 0.014131976506443778), (1250, 0.027705767106571966), (1251, 0.011923378246251176), (1252, 0.020179595397630284), (1253, 0.03963440103033635), (1254, 0.028707343267927732), (1255, 0.0), (1256, 0.07013100590699675), (1257, 0.009727021301644094), (1258, 0.024276796927377164), (1259, 0.013533237601566614), (1260, 0.00469898855691374), (1261, 0.015782196519625983), (1262, 0.012880895402847165), (1263, 0.007869152521000521), (1264, 0.0), (1265, 0.0), (1266, 0.08458283874877218), (1267, 0.008843371283496944), (1268, 0.010787125658996742), (1269, 0.007966926011714785), (1270, 0.03481709777778225), (1271, 0.0), (1272, 0.007862479711260015), (1273, 0.012291744669886862), (1274, 0.004687190051189253), (1275, 0.029283389698004574), (1276, 0.0), (1277, 0.006840923758080815), (1278, 0.02318869154276087), (1279, 0.004155406446985157), (1280, 0.008497251554597693), (1281, 0.0), (1282, 0.009779941351246985), (1283, 0.026582360847582247), (1284, 0.03256371642897973), (1285, 0.015923823012914454), (1286, 0.032794475141952044), (1287, 0.007688184845429242), (1288, 0.03407137801965067), (1289, 0.0034608497822796063), (1290, 0.0), (1291, 0.037031520327115874), (1292, 0.004142440059901951), (1293, 0.05821574218143464), (1294, 0.010429408241224656), (1295, 0.0), (1296, 0.0), (1297, 0.013371670799059751), (1298, 0.022610238557167858), (1299, 0.015086879057489323), (1300, 0.028615960201265077), (1301, 0.011283459097033651), (1302, 0.014576599125433212), (1303, 0.0), (1304, 0.049638274413021544), (1305, 0.00816051541515069), (1306, 0.00719585146479356), (1307, 0.08453051605561807), (1308, 0.03530181532966709), (1309, 0.014040042427704706), (1310, 0.03944299100815166), (1311, 0.004725784518282668), (1312, 0.007719979597052175), (1313, 0.004151004119165908), (1314, 0.004855162768417816), (1315, 0.007761842634429688), (1316, 0.0), (1317, 0.05225699925370927), (1318, 0.0037568595467710165), (1319, 0.0145267265459089), (1320, 0.036310306361230824), (1321, 0.09394764464201232), (1322, 0.009312405080063145), (1323, 0.017909859640734663), (1324, 0.008512089829518637), (1325, 0.0), (1326, 0.01824646085326789), (1327, 0.06294554697089201), (1328, 0.018181975045988563), (1329, 0.018054759848716885), (1330, 0.004135183140011606), (1331, 0.00386106619738857), (1332, 0.01346818652308386), (1333, 0.04061530606455069), (1334, 0.0), (1335, 0.0), (1336, 0.03679450913055585), (1337, 0.00429885918783027), (1338, 0.004854316198322288), (1339, 0.0), (1340, 0.020874578978907793), (1341, 0.028029589600558107), (1342, 0.0), (1343, 0.005867177793753317), (1344, 0.003406298038428195), (1345, 0.004203139584458959), (1346, 0.050670022954702215), (1347, 0.00476722219051104), (1348, 0.028152062303182557), (1349, 0.005561076699221518), (1350, 0.007773016371275499), (1351, 0.0036398127088440257), (1352, 0.010970763476639552), (1353, 0.003916758948106553), (1354, 0.01646723699657135), (1355, 0.06605363162695843), (1356, 0.008598854523957044), (1357, 0.0), (1358, 0.016992637330723197), (1359, 0.00905304591707704), (1360, 0.004491919696634789), (1361, 0.04223838842069194), (1362, 0.003130388855916469), (1363, 0.015469920351082998), (1364, 0.00949889723452763), (1365, 0.012503305761415796), (1366, 0.007198124922810886), (1367, 0.003517803750237677), (1368, 0.07582840025456436), (1369, 0.0040395815858611595), (1370, 0.022041112206764166), (1371, 0.00467933667182889), (1372, 0.0313798369617525), (1373, 0.04711965882170691), (1374, 0.06298320162015547), (1375, 0.014346967211449712), (1376, 0.003999980388398836), (1377, 0.003981337991867173), (1378, 0.012077819678667074), (1379, 0.010567708620730374), (1380, 0.01362092346229227), (1381, 0.026479667339550903), (1382, 0.03452844169417374), (1383, 0.0), (1384, 0.0134347136284917), (1385, 0.01816207679254204), (1386, 0.0204021858239554), (1387, 0.01637508325387224), (1388, 0.012245360966678113), (1389, 0.032344877911107), (1390, 0.009842005101001446), (1391, 0.0), (1392, 0.031659083275922255), (1393, 0.0), (1394, 0.0163107449701462), (1395, 0.003972821789387257), (1396, 0.01866803483117662), (1397, 0.024926694221814507), (1398, 0.00923754618983972), (1399, 0.0), (1400, 0.023451387487239683), (1401, 0.012874440110789856), (1402, 0.005175445487830474), (1403, 0.0032365068940426907), (1404, 0.004665386248777535), (1405, 0.050143168345941964), (1406, 0.0), (1407, 0.0), (1408, 0.029540775766664265), (1409, 0.0045066041744474235), (1410, 0.004257496445276552), (1411, 0.009039763727350256), (1412, 0.01699073235182487), (1413, 0.010017927994815497), (1414, 0.010784062957079817), (1415, 0.0), (1416, 0.0), (1417, 0.03700224660058022), (1418, 0.02301294006657027), (1419, 0.010171574901959487), (1420, 0.04109863532936846), (1421, 0.00475801590110662), (1422, 0.06945734129350914), (1423, 0.008219819863077174), (1424, 0.004809283432604541), (1425, 0.029063324868481556), (1426, 0.01599262180818723), (1427, 0.0034531314970245946), (1428, 0.0), (1429, 0.0), (1430, 0.004589251835813717), (1431, 0.02586017006112638), (1432, 0.004387931799766288), (1433, 0.035601091376329455), (1434, 0.0), (1435, 0.0), (1436, 0.013665304798965015), (1437, 0.013815499963165043), (1438, 0.0), (1439, 0.0), (1440, 0.008102984046475317), (1441, 0.004541125202174683), (1442, 0.014944250979799716), (1443, 0.010184210593936822), (1444, 0.0041917091286509675), (1445, 0.015016284825361385), (1446, 0.00876652151454161), (1447, 0.009023063579145684), (1448, 0.044791237148604515), (1449, 0.0), (1450, 0.026307109874360773), (1451, 0.01797180116610452), (1452, 0.0), (1453, 0.011331613504585922), (1454, 0.0), (1455, 0.0), (1456, 0.004581098469888929), (1457, 0.003922977351420891), (1458, 0.015352593298461416), (1459, 0.017570987598184644), (1460, 0.03750054634182403), (1461, 0.009250362663792724), (1462, 0.0), (1463, 0.01368853126260098), (1464, 0.008085797758694543), (1465, 0.012210136250720661), (1466, 0.034191609337370255), (1467, 0.0473792326445157), (1468, 0.02589660650337447), (1469, 0.02544647300746327), (1470, 0.008259702729723577), (1471, 0.0073199862567972715), (1472, 0.014978722807154803), (1473, 0.07919905630148981), (1474, 0.04328107098344477), (1475, 0.00831879174644622), (1476, 0.004267806425313493), (1477, 0.02153283327372054), (1478, 0.0), (1479, 0.004620192936520004), (1480, 0.0), (1481, 0.02720397622880713), (1482, 0.016091765539913726), (1483, 0.0), (1484, 0.040478531348399426), (1485, 0.0038005441844407408), (1486, 0.01007457903660976), (1487, 0.022134119933280218), (1488, 0.008446138171708637), (1489, 0.036316541736712164), (1490, 0.01164919988125999), (1491, 0.004590584806513528), (1492, 0.02127147756077597), (1493, 0.004758293662884464), (1494, 0.035491372753820555), (1495, 0.07142549851061183), (1496, 0.04627031392759121), (1497, 0.03336995710790715), (1498, 0.011294790302512698), (1499, 0.0), (1500, 0.014629658644506136), (1501, 0.00913642371120029), (1502, 0.036089128061097125), (1503, 0.016184784906149066), (1504, 0.0), (1505, 0.05838266161194666), (1506, 0.013024497907793085), (1507, 0.0048239247472351655), (1508, 0.008296999530382985), (1509, 0.0457348056680191), (1510, 0.02744231067116558), (1511, 0.04900685735283566), (1512, 0.012166825507468063), (1513, 0.014036255680706114), (1514, 0.007385042683919207), (1515, 0.05531601226612878), (1516, 0.004338271161230365), (1517, 0.014021612411608689), (1518, 0.015478606861901015), (1519, 0.0), (1520, 0.030668634515937362), (1521, 0.03715681241742089), (1522, 0.027378676813781193), (1523, 0.011511488695079357), (1524, 0.03209374046303201), (1525, 0.04168608840975083), (1526, 0.008741899139098196), (1527, 0.0), (1528, 0.0038261181823820156), (1529, 0.05770546104231638), (1530, 0.06061697736107339), (1531, 0.009786030029205828), (1532, 0.003998595066284567), (1533, 0.01653500456744956), (1534, 0.04752319632249926), (1535, 0.012693099394735126), (1536, 0.02639085797818436), (1537, 0.029626204661928265), (1538, 0.0917887278910712), (1539, 0.030950874774486173), (1540, 0.03521119309138686), (1541, 0.009037388713229618), (1542, 0.07114381635191372), (1543, 0.003881017139857908), (1544, 0.004043741071016044), (1545, 0.013781767101558295), (1546, 0.004245922873761685), (1547, 0.1103932693824064), (1548, 0.0062474259079241), (1549, 0.004155261297965578), (1550, 0.0), (1551, 0.0048508306608142674), (1552, 0.02051229917477758), (1553, 0.008711790516570882), (1554, 0.0199713758469216), (1555, 0.05834339910504938), (1556, 0.0), (1557, 0.013845693587220188), (1558, 0.0), (1559, 0.004271499461407415), (1560, 0.01619543208942982), (1561, 0.004048986628166855), (1562, 0.009410246148611238), (1563, 0.009153129643578967), (1564, 0.009369088474158642), (1565, 0.03196071396423528), (1566, 0.028370286325752742), (1567, 0.011044371282395042), (1568, 0.004503958771411289), (1569, 0.014635748052533685), (1570, 0.040091817171904964), (1571, 0.007563232927834269), (1572, 0.01297311957118322), (1573, 0.0), (1574, 0.015232853842372367), (1575, 0.02180802829259556), (1576, 0.0), (1577, 0.13424212387290946), (1578, 0.05939381868880852), (1579, 0.021418482267303682), (1580, 0.022475016291693056), (1581, 0.06748316845214562), (1582, 0.013797667671493355), (1583, 0.010022268949861541), (1584, 0.013522025732187104), (1585, 0.00862129113094856), (1586, 0.019137698703724795), (1587, 0.017434635370812294), (1588, 0.0), (1589, 0.0041263865492143495), (1590, 0.0), (1591, 0.0), (1592, 0.02576334626002974), (1593, 0.012312012750330118), (1594, 0.015768251156397347), (1595, 0.0044665039557266716), (1596, 0.004474671353694064), (1597, 0.008812178329951896), (1598, 0.02117833471489273), (1599, 0.0042650439126475335), (1600, 0.058206450669126095), (1601, 0.23883810568393965), (1602, 0.048493759341852204), (1603, 0.02105970078042831), (1604, 0.029079701488152886), (1605, 0.0), (1606, 0.039561343593024725), (1607, 0.03298782865481279), (1608, 0.01768060468813836), (1609, 0.004495254131669281), (1610, 0.023667150752914905), (1611, 0.012321428976982511), (1612, 0.03810567394625802), (1613, 0.03172262930150679), (1614, 0.004506429487324767), (1615, 0.03972121099433605), (1616, 0.0428037740816287), (1617, 0.004818363407460509), (1618, 0.004078888716086745), (1619, 0.005259722756968713), (1620, 0.02361436751536539), (1621, 0.0), (1622, 0.0), (1623, 0.0), (1624, 0.0), (1625, 0.0), (1626, 0.00828903520646116), (1627, 0.010332991227433455), (1628, 0.0), (1629, 0.010487082447364475), (1630, 0.01900595330408938), (1631, 0.009638843006187486), (1632, 0.004732118274375504), (1633, 0.021257942812091417), (1634, 0.036207845877142424), (1635, 0.0), (1636, 0.005085216713869361), (1637, 0.03466813497908505), (1638, 0.004196139716093002), (1639, 0.003566132445247009), (1640, 0.046466808451407264), (1641, 0.0), (1642, 0.00846660502435103), (1643, 0.0051815959410164165), (1644, 0.004207715834308599), (1645, 0.012476966415695593), (1646, 0.0033893939148358482), (1647, 0.0), (1648, 0.007371586486268764), (1649, 0.028170761383306465), (1650, 0.03337296154521038), (1651, 0.0), (1652, 0.03938988643738151), (1653, 0.004812973371715538), (1654, 0.004020960291267429), (1655, 0.0), (1656, 0.03392610653711779), (1657, 0.0), (1658, 0.004663781092667972), (1659, 0.0), (1660, 0.009558123258922063), (1661, 0.010940350026818936), (1662, 0.004599995130666143), (1663, 0.012693807775316892), (1664, 0.04353057832931729), (1665, 0.0), (1666, 0.019752916742827597), (1667, 0.0), (1668, 0.013559962406993233), (1669, 0.052172748863751055), (1670, 0.009748201022819387), (1671, 0.0), (1672, 0.04218296607430877), (1673, 0.05430113163642451), (1674, 0.011082541412916026), (1675, 0.06482791499005426), (1676, 0.01075862786930585), (1677, 0.031273439767338665), (1678, 0.01500875296004247), (1679, 0.10512660916574777), (1680, 0.0), (1681, 0.01657239705114727), (1682, 0.004631574392440895), (1683, 0.02735411660027265), (1684, 0.02239155069674385), (1685, 0.010748875029854119), (1686, 0.008158138506920608), (1687, 0.005232977921082299), (1688, 0.014361128191836964), (1689, 0.10179530765545305), (1690, 0.015935207556050986), (1691, 0.008422558618312278), (1692, 0.004883335166618689), (1693, 0.00395515799198358), (1694, 0.003740102878125557), (1695, 0.014900941175937592), (1696, 0.0), (1697, 0.04273997555219985), (1698, 0.02069123631252233), (1699, 0.0), (1700, 0.05331023279152409), (1701, 0.015589266761719357), (1702, 0.009508072330919642), (1703, 0.0), (1704, 0.03142688764136308), (1705, 0.07139389697176844), (1706, 0.07004465800065864), (1707, 0.004216831739764264), (1708, 0.010911774611124104), (1709, 0.0178296602109475), (1710, 0.004675221263700037), (1711, 0.03247218129262112), (1712, 0.0), (1713, 0.019578381843105494), (1714, 0.032038465701747634), (1715, 0.007545536222514434), (1716, 0.00553515313657725), (1717, 0.0), (1718, 0.00958880848005255), (1719, 0.008256026220581615), (1720, 0.06264339060561129), (1721, 0.003941815214942885), (1722, 0.004253858464005739), (1723, 0.004633260519520272), (1724, 0.032454890930164085), (1725, 0.025509816978755075), (1726, 0.10419709756807224), (1727, 0.004379824588085568), (1728, 0.0), (1729, 0.022387572055173707), (1730, 0.0), (1731, 0.033893442987542155), (1732, 0.028280242763852544), (1733, 0.01003041465339529), (1734, 0.004413889955579555), (1735, 0.004344186372991477), (1736, 0.0), (1737, 0.004493470767301759), (1738, 0.016259871500979486), (1739, 0.0), (1740, 0.010363689185205504), (1741, 0.014488229254413055), (1742, 0.004666690494671417), (1743, 0.004201069205751066), (1744, 0.012854251826201105), (1745, 0.006830082886419111), (1746, 0.01314397205593164), (1747, 0.0), (1748, 0.0), (1749, 0.0), (1750, 0.014567680214591485), (1751, 0.01953438568345951), (1752, 0.0034828112840044004), (1753, 0.0), (1754, 0.011191574872752281), (1755, 0.0967968465939222), (1756, 0.004654229992227223), (1757, 0.0041497327237897865), (1758, 0.09399894582478201), (1759, 0.007960398828416752), (1760, 0.0), (1761, 0.0), (1762, 0.013466280973574878), (1763, 0.0), (1764, 0.01547332508857778), (1765, 0.004356812727067173), (1766, 0.07884617600003474), (1767, 0.004046608310100096), (1768, 0.005074414582576864), (1769, 0.05100651211200737), (1770, 0.0), (1771, 0.024921746414531723), (1772, 0.011207448716480783), (1773, 0.0), (1774, 0.0), (1775, 0.03185362164031698), (1776, 0.0), (1777, 0.0043277106264299516), (1778, 0.008520780332217981), (1779, 0.03113011000705638), (1780, 0.0), (1781, 0.011983172240422661), (1782, 0.004514087493987436), (1783, 0.012678202101957114), (1784, 0.11594906712952772), (1785, 0.031178238509065315), (1786, 0.00463301588995304), (1787, 0.013338987186259104), (1788, 0.06396352708948481), (1789, 0.007368650460700881), (1790, 0.005021664361176863), (1791, 0.004484583998119096), (1792, 0.004950394359549317), (1793, 0.004625897957185858), (1794, 0.03595175585014199), (1795, 0.0), (1796, 0.018539144639843737), (1797, 0.019595667565116603), (1798, 0.1420556261751428), (1799, 0.010811205467537884), (1800, 0.11785699312695194), (1801, 0.0), (1802, 0.011000408162732574), (1803, 0.009200829984063108), (1804, 0.08874277575319682), (1805, 0.03130943906032676), (1806, 0.004598893630008224), (1807, 0.004841147680089765), (1808, 0.0044263374119380555), (1809, 0.011672199188224156), (1810, 0.05800015798435966), (1811, 0.010077769360207692), (1812, 0.019069006375620486), (1813, 0.009863288133033887), (1814, 0.0), (1815, 0.0), (1816, 0.012043544558472643), (1817, 0.008858511483764238), (1818, 0.013345891827308422), (1819, 0.0), (1820, 0.08825495881789835), (1821, 0.004420436637227991), (1822, 0.00444678117874282), (1823, 0.009132939243882103), (1824, 0.018148708533665174), (1825, 0.009442369764541629), (1826, 0.0), (1827, 0.031066280479619988), (1828, 0.013024903590086071), (1829, 0.0), (1830, 0.011939122747524681), (1831, 0.0), (1832, 0.010375973581966014), (1833, 0.010440095191410573), (1834, 0.004176114281312638), (1835, 0.0), (1836, 0.049306344068966536), (1837, 0.07674877084681736), (1838, 0.0), (1839, 0.012867587601172428), (1840, 0.041547190903666334), (1841, 0.05293761073484987), (1842, 0.013183609604430487), (1843, 0.04238445913958251), (1844, 0.051983422051316265), (1845, 0.00417370841029358), (1846, 0.007773546839831529), (1847, 0.004349243265610839), (1848, 0.004534692521430626), (1849, 0.013264842080669234), (1850, 0.039513279871522186), (1851, 0.009523846521038225), (1852, 0.0048670735131841015), (1853, 0.0), (1854, 0.008842913672259731), (1855, 0.02271041720031244), (1856, 0.004479838830203858), (1857, 0.004858833852675763), (1858, 0.01689057613259868), (1859, 0.005204290243757151), (1860, 0.0), (1861, 0.0063860409662960475), (1862, 0.0), (1863, 0.007998939308220262), (1864, 0.028122955787584152), (1865, 0.009216597219881903), (1866, 0.030690964064752933), (1867, 0.08917564591332197), (1868, 0.02696562330314975), (1869, 0.0), (1870, 0.012845348755037499), (1871, 0.026624825583449398), (1872, 0.0), (1873, 0.010169524453773001), (1874, 0.05848352580197069), (1875, 0.01303744308836136), (1876, 0.04634414362478016), (1877, 0.018424000474432697), (1878, 0.02244009511387884), (1879, 0.0042616749244579755), (1880, 0.0041070771545820405), (1881, 0.009568250398915956), (1882, 0.0), (1883, 0.03295951801397255), (1884, 0.0), (1885, 0.0), (1886, 0.010265376682505212), (1887, 0.005593124182432199), (1888, 0.013124417064898922), (1889, 0.021781232744939247), (1890, 0.0), (1891, 0.03995195264067729), (1892, 0.0), (1893, 0.04588344382381477), (1894, 0.008647203056328264), (1895, 0.025705124032886273), (1896, 0.005235877920565436), (1897, 0.022083589278998502), (1898, 0.020060844543882145), (1899, 0.003927061900493863), (1900, 0.01383680941459169), (1901, 0.008178182414688984), (1902, 0.08396964939541599), (1903, 0.019865293473266113), (1904, 0.008438989797011978), (1905, 0.004592572738600325), (1906, 0.004226768562741153), (1907, 0.009846911154211619), (1908, 0.035349749339611304), (1909, 0.0), (1910, 0.004169532685937534), (1911, 0.08248618811755976), (1912, 0.021399786612124876), (1913, 0.02522610898362247), (1914, 0.008597507475940118), (1915, 0.013393571698506484), (1916, 0.0), (1917, 0.004324124433809216), (1918, 0.0), (1919, 0.01329317022261557), (1920, 0.0), (1921, 0.0), (1922, 0.0), (1923, 0.04534958667676281), (1924, 0.0), (1925, 0.012925576126690515), (1926, 0.057629701308325454), (1927, 0.0), (1928, 0.07588657102635357), (1929, 0.02821001880598822), (1930, 0.0), (1931, 0.008153094128011823), (1932, 0.030455394965274364), (1933, 0.0), (1934, 0.014250317414203972), (1935, 0.07989802041452759), (1936, 0.03843840696048879), (1937, 0.0), (1938, 0.0035121536370787748), (1939, 0.01618054043333167), (1940, 0.0), (1941, 0.017201481814413708), (1942, 0.0), (1943, 0.031092529549685617), (1944, 0.0034986733478572815), (1945, 0.008040369332527695), (1946, 0.0), (1947, 0.004890125168035315), (1948, 0.04022669193880948), (1949, 0.004367162103518703), (1950, 0.004031419516756932), (1951, 0.014175155658120914), (1952, 0.00531471682250966), (1953, 0.04436834120212623), (1954, 0.0037315262828991097), (1955, 0.03523275128020637), (1956, 0.004260860315327516), (1957, 0.05729520326052153), (1958, 0.01982376314143844), (1959, 0.0), (1960, 0.0), (1961, 0.05333098837009479), (1962, 0.03257321521151633), (1963, 0.011627992329842646), (1964, 0.0361702305040902), (1965, 0.10737409341900438), (1966, 0.0), (1967, 0.0), (1968, 0.019991981262184023), (1969, 0.004763034945274796), (1970, 0.0), (1971, 0.004183342939416504), (1972, 0.0), (1973, 0.008605662113502163), (1974, 0.003849693135804131), (1975, 0.0), (1976, 0.01134917678879906), (1977, 0.009045500341364926), (1978, 0.003754505773364169), (1979, 0.02382607949500485), (1980, 0.0454871552472034), (1981, 0.007639595286365021), (1982, 0.0358015384123191), (1983, 0.0), (1984, 0.017745668967531644), (1985, 0.004987208160688562), (1986, 0.01909459123709948), (1987, 0.020252625527019286), (1988, 0.004677085724027113), (1989, 0.022768357747529413), (1990, 0.024765336162490433), (1991, 0.0), (1992, 0.013426762502312268), (1993, 0.011541413435145415), (1994, 0.017178998704125543), (1995, 0.06520697722938601), (1996, 0.01957040797266483), (1997, 0.0107245605919501), (1998, 0.06119277152898253), (1999, 0.04302273894248344), (2000, 0.011799189372325892), (2001, 0.03870444176000228), (2002, 0.015042196077752748), (2003, 0.02851503075010147), (2004, 0.0), (2005, 0.01266375143495438), (2006, 0.018296499003383794), (2007, 0.0038450231829102116), (2008, 0.07018588147813065), (2009, 0.01702195164451876), (2010, 0.006301759066147045), (2011, 0.0), (2012, 0.010520402036373), (2013, 0.05276527041399631), (2014, 0.032048692977398624), (2015, 0.04283553661514764), (2016, 0.013407724210145671), (2017, 0.02044215187791726), (2018, 0.013295690484344085), (2019, 0.05992041321292844), (2020, 0.00420997224310247), (2021, 0.06731529693105291), (2022, 0.04005709944021323), (2023, 0.004647760092720793), (2024, 0.0), (2025, 0.0034749327838221665), (2026, 0.00420912918662607), (2027, 0.024360668479731944), (2028, 0.014733438128658271), (2029, 0.03225949271952875), (2030, 0.0264257660203187), (2031, 0.013361185914944767), (2032, 0.09124225685620871), (2033, 0.014827143179839582), (2034, 0.006574337952509223), (2035, 0.07122214802779492), (2036, 0.012820342093066074), (2037, 0.005378719799289346), (2038, 0.024940788694915242), (2039, 0.0), (2040, 0.011223818423294393), (2041, 0.030533174529891217), (2042, 0.00439568089724665), (2043, 0.01722274484361125), (2044, 0.0), (2045, 0.023450423941377772), (2046, 0.03872925548311531), (2047, 0.017700266994334482), (2048, 0.008213244367606044), (2049, 0.014854719011095807), (2050, 0.02045707817395522), (2051, 0.0), (2052, 0.012566132637156465), (2053, 0.0050955359122064545), (2054, 0.0), (2055, 0.03456434738147301), (2056, 0.008815365406686638), (2057, 0.0), (2058, 0.04512403565064474), (2059, 0.003673853376116205), (2060, 0.01422601140949209), (2061, 0.009997896771067454), (2062, 0.02126275891032049), (2063, 0.003818995314750186), (2064, 0.018104816636039914), (2065, 0.01603756719176732), (2066, 0.020405783016465447), (2067, 0.008027771309362991), (2068, 0.0040028395379501985), (2069, 0.029993487089989404), (2070, 0.004221583150241399), (2071, 0.013102017329838494), (2072, 0.005114239976901333), (2073, 0.04303965928799684), (2074, 0.019385838931404775), (2075, 0.010455924847900101), (2076, 0.07183057398776316), (2077, 0.005137368952818363), (2078, 0.0039252581705971935), (2079, 0.04382145645625613), (2080, 0.0), (2081, 0.004216933703532905), (2082, 0.014617711866089386), (2083, 0.01063203527975777), (2084, 0.05353659470534588), (2085, 0.0), (2086, 0.10505039705659998), (2087, 0.013178851532002689), (2088, 0.0), (2089, 0.0), (2090, 0.004396437162266239), (2091, 0.028498473741060033), (2092, 0.014763854621041694), (2093, 0.011276068879508605), (2094, 0.016109412967133935), (2095, 0.04042145027792144), (2096, 0.0), (2097, 0.011055524291814018), (2098, 0.003603297801899292), (2099, 0.01259417857684763), (2100, 0.03982671119107704), (2101, 0.11924672081582346), (2102, 0.0784127049469368), (2103, 0.0125759952591297), (2104, 0.0), (2105, 0.0), (2106, 0.08215049098949262), (2107, 0.004012514982451688), (2108, 0.00467552974045989), (2109, 0.004975147562596653), (2110, 0.0), (2111, 0.017324966448784607), (2112, 0.005447443565720353), (2113, 0.0032964056525003433), (2114, 0.018486971424842204), (2115, 0.034108303383647516), (2116, 0.004546454536060664), (2117, 0.06114362269564502), (2118, 0.006139141072524333), (2119, 0.009424578872531284), (2120, 0.0), (2121, 0.0), (2122, 0.004252602541845799), (2123, 0.0), (2124, 0.03531158411154946), (2125, 0.06386492166516096), (2126, 0.005089944786033095), (2127, 0.01937114421375103), (2128, 0.018986185517453135), (2129, 0.0), (2130, 0.00806634619949643), (2131, 0.00878793675421241), (2132, 0.0), (2133, 0.0), (2134, 0.011363783361553697), (2135, 0.02361365907783583), (2136, 0.07417763087701093), (2137, 0.041940432205515195), (2138, 0.004774388604737305), (2139, 0.01212148528676503), (2140, 0.004005421286477431), (2141, 0.009710578871200649), (2142, 0.011848843046241187), (2143, 0.008746348621755533), (2144, 0.0), (2145, 0.016249092982075455), (2146, 0.003599959076176507), (2147, 0.05826690631547157), (2148, 0.008732416144861605), (2149, 0.0), (2150, 0.04672073349101553), (2151, 0.04687301878373867), (2152, 0.0), (2153, 0.03829486133383405), (2154, 0.024876696619887156), (2155, 0.020723775287025775), (2156, 0.00814583083302697), (2157, 0.05682771083626122), (2158, 0.004911549914583599), (2159, 0.0), (2160, 0.013252426519160978), (2161, 0.035070709673591174), (2162, 0.0), (2163, 0.05379080997852669), (2164, 0.013646749128751669), (2165, 0.033672413331466235), (2166, 0.013535250598535827), (2167, 0.042497619352234964), (2168, 0.0036047373918694993), (2169, 0.004967429763594834), (2170, 0.015243767436484534), (2171, 0.03659474509614748), (2172, 0.008171899622325717), (2173, 0.0), (2174, 0.0), (2175, 0.01367269710231929), (2176, 0.021439574741679873), (2177, 0.015346434097326864), (2178, 0.004800680548186544), (2179, 0.030361853505484128), (2180, 0.0056417769338433016), (2181, 0.0), (2182, 0.011413145283313664), (2183, 0.0533281470176361), (2184, 0.0), (2185, 0.010922463357334659), (2186, 0.004774724758362779), (2187, 0.004834620937999861), (2188, 0.0), (2189, 0.0), (2190, 0.0), (2191, 0.0), (2192, 0.004242192665342817), (2193, 0.009231220246753397), (2194, 0.014905877014521791), (2195, 0.004922512543433985), (2196, 0.009794385269748176), (2197, 0.0), (2198, 0.04232554940513982), (2199, 0.017539806680010876), (2200, 0.021301500965361157), (2201, 0.012534451444079147), (2202, 0.00793701168628486), (2203, 0.030150090549051416), (2204, 0.007754821680248941), (2205, 0.0), (2206, 0.0), (2207, 0.02756314361248648), (2208, 0.023690127764926974), (2209, 0.004689724013855696), (2210, 0.023851694321022025), (2211, 0.017794027880054457), (2212, 0.020323576456999063), (2213, 0.0), (2214, 0.027593780494308245), (2215, 0.013219221553772016), (2216, 0.0), (2217, 0.0044099540539936505), (2218, 0.030336072174879932), (2219, 0.003108782910417706), (2220, 0.014623063306290507), (2221, 0.016652164817106862), (2222, 0.019942800756606243), (2223, 0.015320427251318615), (2224, 0.009366714443737515), (2225, 0.07603148751837735), (2226, 0.0), (2227, 0.0035003521726142315), (2228, 0.018601040339841727), (2229, 0.0), (2230, 0.0), (2231, 0.0), (2232, 0.0), (2233, 0.014173330461386382), (2234, 0.008652974550903983), (2235, 0.0), (2236, 0.021184295299394692), (2237, 0.015663835934444426), (2238, 0.0), (2239, 0.014443083349928741), (2240, 0.0036966595346713004), (2241, 0.009512767271236063), (2242, 0.015493637187455774), (2243, 0.0), (2244, 0.0), (2245, 0.00476706454085025), (2246, 0.03411064751165138), (2247, 0.03389119335629267), (2248, 0.0), (2249, 0.012750447451231758), (2250, 0.004924872613215255), (2251, 0.0), (2252, 0.010635515913644967), (2253, 0.0), (2254, 0.03137660715506939), (2255, 0.0), (2256, 0.01830046750245861), (2257, 0.011924483384985142), (2258, 0.004567860910738725), (2259, 0.043916822985603586), (2260, 0.014414079411262597), (2261, 0.015618501695353799), (2262, 0.016585629197390026), (2263, 0.043992470966845235), (2264, 0.02871319439922239), (2265, 0.02320608989044446), (2266, 0.0), (2267, 0.029525113969148007), (2268, 0.0047666293892039005), (2269, 0.024779049926851607), (2270, 0.0036396560888072517), (2271, 0.003986586723298896), (2272, 0.00391275774885622), (2273, 0.0), (2274, 0.003875987021722595), (2275, 0.0), (2276, 0.0), (2277, 0.013092099948474292), (2278, 0.01531386165301488), (2279, 0.0), (2280, 0.004172882319639718), (2281, 0.01787624850807628), (2282, 0.005412217731360138), (2283, 0.036515640814367645), (2284, 0.03249411903179901), (2285, 0.03238466425829969), (2286, 0.015448072383175826), (2287, 0.021550239052394133), (2288, 0.0), (2289, 0.0), (2290, 0.01375003630088379), (2291, 0.0390443605846172), (2292, 0.004290378570556188), (2293, 0.027663413392498254), (2294, 0.0813415472396559), (2295, 0.06299744154282355), (2296, 0.022168178250786544), (2297, 0.015977682103118965), (2298, 0.037074992423038224), (2299, 0.0), (2300, 0.0), (2301, 0.05100079704534694), (2302, 0.004784634291227645), (2303, 0.00862779659374203), (2304, 0.009413302543034355), (2305, 0.0048178764570413184), (2306, 0.0), (2307, 0.03315137399116272), (2308, 0.017986041893286037), (2309, 0.004023988344475372), (2310, 0.0), (2311, 0.008605373649783823), (2312, 0.0060647065460293454), (2313, 0.0), (2314, 0.0), (2315, 0.013246938513080283), (2316, 0.05712147287628237), (2317, 0.004566690855737046), (2318, 0.008150246702770933), (2319, 0.009621626067524135), (2320, 0.01637242381865306), (2321, 0.0), (2322, 0.03873006458235556), (2323, 0.0), (2324, 0.010295781820017917), (2325, 0.0043730921229960555), (2326, 0.0038755220557585655), (2327, 0.01716433354267889), (2328, 0.03527079399267022), (2329, 0.05851271214665941), (2330, 0.026436044125619923), (2331, 0.018654737315745146), (2332, 0.052047747062596975), (2333, 0.005014604670165267), (2334, 0.005080001275880144), (2335, 0.03003798398652533), (2336, 0.014291279204080775), (2337, 0.018254196880938184), (2338, 0.050550266246067996), (2339, 0.010390064938150381), (2340, 0.004222913329513689), (2341, 0.0), (2342, 0.0), (2343, 0.0), (2344, 0.0), (2345, 0.0), (2346, 0.023157925742050965), (2347, 0.0), (2348, 0.0039678097033030504), (2349, 0.0), (2350, 0.0), (2351, 0.021974363910912353), (2352, 0.02894981794610898), (2353, 0.012552969291940176), (2354, 0.0), (2355, 0.0), (2356, 0.008920520622969247), (2357, 0.004782234207660144), (2358, 0.013346070782463767), (2359, 0.008479653740955872), (2360, 0.0037228834504581475), (2361, 0.0), (2362, 0.0), (2363, 0.011305045780055076), (2364, 0.017249544955441978), (2365, 0.046052178396191065), (2366, 0.003735765251841541), (2367, 0.03207176406889433), (2368, 0.005020726687503577), (2369, 0.0), (2370, 0.051682053024239755), (2371, 0.10244513087666236), (2372, 0.02879372836845468), (2373, 0.0035130566299275126), (2374, 0.0), (2375, 0.004627817970459749), (2376, 0.030427610100028958), (2377, 0.02740799162380069), (2378, 0.0), (2379, 0.019446004871021126), (2380, 0.004406212127309816), (2381, 0.04662856562730826), (2382, 0.0), (2383, 0.0), (2384, 0.004691592893685163), (2385, 0.004436797719271687), (2386, 0.0), (2387, 0.00420331737680817), (2388, 0.012472887608364087), (2389, 0.029919595069502904), (2390, 0.010153330765200478), (2391, 0.015350009575211012), (2392, 0.0), (2393, 0.02072599265571911), (2394, 0.00443870132715138), (2395, 0.005826954333611171), (2396, 0.004250763556438087), (2397, 0.004284220109697205), (2398, 0.0037263109089294296), (2399, 0.0038884459394196145), (2400, 0.0), (2401, 0.009001291154127367), (2402, 0.0038149134764252643), (2403, 0.004855115909219284), (2404, 0.019547879465155245), (2405, 0.0), (2406, 0.03301539560317315), (2407, 0.0), (2408, 0.025641197694331888), (2409, 0.008712762197070456), (2410, 0.036697643539272615), (2411, 0.018457737714506955), (2412, 0.012856610409173411), (2413, 0.0083703568096671), (2414, 0.04936165748552519), (2415, 0.0), (2416, 0.004864335206601671), (2417, 0.0), (2418, 0.01600059540913611), (2419, 0.009730531634621717), (2420, 0.004718499023828516), (2421, 0.05936433634909255), (2422, 0.013670908101481988), (2423, 0.016981001644568325), (2424, 0.0038182016268781746), (2425, 0.032891829558754616), (2426, 0.010989389815582123), (2427, 0.020735006184368427), (2428, 0.00880638647953773), (2429, 0.0), (2430, 0.01941182077907647), (2431, 0.009415143364117008), (2432, 0.004757337778271083), (2433, 0.05557726414820781), (2434, 0.005035939454464753), (2435, 0.013305521228854079), (2436, 0.0102244201298347), (2437, 0.047933387363608984), (2438, 0.0), (2439, 0.00345850195735092), (2440, 0.04190218302522087), (2441, 0.0034111599843283957), (2442, 0.007421382449037568), (2443, 0.05857799205818663), (2444, 0.01747099506448951), (2445, 0.003877143894632542), (2446, 0.008496625649015538), (2447, 0.012946585668149657), (2448, 0.012095726772229006), (2449, 0.013561602063271193), (2450, 0.08259090045379582), (2451, 0.03638143550674072), (2452, 0.004621390655828033), (2453, 0.0), (2454, 0.0), (2455, 0.005346743014176721), (2456, 0.03686910025714826), (2457, 0.0), (2458, 0.009969234435889311), (2459, 0.03421112689884946), (2460, 0.0036711185472171576), (2461, 0.037671407744308064), (2462, 0.03863012807903454), (2463, 0.004851412939565592), (2464, 0.004619963847740495), (2465, 0.004059912861956762), (2466, 0.009511795228364211), (2467, 0.00406420582437561), (2468, 0.004921889354935517), (2469, 0.0), (2470, 0.005574296100533126), (2471, 0.0), (2472, 0.06607880934403665), (2473, 0.01642041299300105), (2474, 0.017482092723271937), (2475, 0.0), (2476, 0.0), (2477, 0.0), (2478, 0.00483580009905439), (2479, 0.03218787281647056), (2480, 0.004893106266650545), (2481, 0.004110137905712218), (2482, 0.00454933217233698), (2483, 0.005555392888080375), (2484, 0.03462260126740952), (2485, 0.026936145291257575), (2486, 0.010444600499546958), (2487, 0.019567232664551275), (2488, 0.00514811118587139), (2489, 0.010353492690588951), (2490, 0.006071503707467356), (2491, 0.03605190361126507), (2492, 0.014171674792854416), (2493, 0.004649139252212855), (2494, 0.009862827395768534), (2495, 0.004212105447896637), (2496, 0.0), (2497, 0.0196130750602675), (2498, 0.00972313987319825), (2499, 0.008957656181427158), (2500, 0.022742839963969058), (2501, 0.01297743893154937), (2502, 0.0), (2503, 0.004894183381669937), (2504, 0.12243621872636778), (2505, 0.0), (2506, 0.008005705224243875), (2507, 0.04482060542427839), (2508, 0.003486809482641888), (2509, 0.01157351824618278), (2510, 0.05402179282517854), (2511, 0.009482160469577807), (2512, 0.01210478467501611), (2513, 0.034366078906893874), (2514, 0.00821873379038778), (2515, 0.005229855416686973), (2516, 0.03190013743777704), (2517, 0.02029572451019951), (2518, 0.021796260310190527), (2519, 0.0043451515046603745), (2520, 0.0), (2521, 0.03371215856951736), (2522, 0.019332328854884166), (2523, 0.0072807571431329), (2524, 0.0), (2525, 0.013368880714621185), (2526, 0.004038208049031506), (2527, 0.020793350584147243), (2528, 0.0), (2529, 0.0061148762250076445), (2530, 0.02191400301863542), (2531, 0.04041322651790181), (2532, 0.10796869979734613), (2533, 0.0), (2534, 0.006605065564709002), (2535, 0.00466889114067344), (2536, 0.005502758055679198), (2537, 0.04712787012298864), (2538, 0.0), (2539, 0.03306283999226721), (2540, 0.0), (2541, 0.0), (2542, 0.013008305888932637), (2543, 0.0052856789600057895), (2544, 0.007732203075467476), (2545, 0.03046285697990301), (2546, 0.009523218755210582), (2547, 0.043512176081964636), (2548, 0.00389235247725208), (2549, 0.03583464972546521), (2550, 0.01476274291064129), (2551, 0.012388186867204406), (2552, 0.004614403450632775), (2553, 0.01373015733098367), (2554, 0.02164309754624744), (2555, 0.031159550560118467), (2556, 0.023532714144868107), (2557, 0.0), (2558, 0.010160807010342344), (2559, 0.08228919296099993), (2560, 0.005664579985834045), (2561, 0.00439478183204567), (2562, 0.020413885919101257), (2563, 0.004081911850522492), (2564, 0.04015190814823335), (2565, 0.0), (2566, 0.008906984341231999), (2567, 0.009469373245749146), (2568, 0.01736387956018654), (2569, 0.012047422047486336), (2570, 0.004957955466529035), (2571, 0.0047684387733855395), (2572, 0.0), (2573, 0.0), (2574, 0.03177053020667227), (2575, 0.013325960704452765), (2576, 0.0), (2577, 0.02897721432356182), (2578, 0.0), (2579, 0.010381614389783482), (2580, 0.018189083101596865), (2581, 0.01143153191998151), (2582, 0.023816473370176214), (2583, 0.025965316017708816), (2584, 0.060012759489657216), (2585, 0.011309688984619313), (2586, 0.00426808313536136), (2587, 0.020872256933332632), (2588, 0.004512074831746099), (2589, 0.0), (2590, 0.09546414394557617), (2591, 0.012088553335239133), (2592, 0.025170436403148845), (2593, 0.008545175143375737), (2594, 0.00394562512203725), (2595, 0.0180401606239598), (2596, 0.0), (2597, 0.05440963376703716), (2598, 0.0), (2599, 0.0), (2600, 0.03733323093957771), (2601, 0.004393183258390584), (2602, 0.0), (2603, 0.015462048040237639), (2604, 0.014663714828290143), (2605, 0.012727421212540037), (2606, 0.0), (2607, 0.0), (2608, 0.011701963746672064), (2609, 0.026669176647300136), (2610, 0.014119615803842613), (2611, 0.00423423851262204), (2612, 0.013711671954600007), (2613, 0.0), (2614, 0.01005668889216566), (2615, 0.033117809627625575), (2616, 0.06992939201544261), (2617, 0.008165782058493347), (2618, 0.0), (2619, 0.010145748664641758), (2620, 0.004019670406254669), (2621, 0.017677786388410038), (2622, 0.004187364829035288), (2623, 0.0), (2624, 0.0), (2625, 0.017011409366689812), (2626, 0.015773261032516545), (2627, 0.021294080135180714), (2628, 0.0), (2629, 0.0), (2630, 0.0), (2631, 0.00868741217028281), (2632, 0.009639028202224635), (2633, 0.009603910130101815), (2634, 0.01898567401990158), (2635, 0.05215827633970969), (2636, 0.00370541217763291), (2637, 0.028333116942644912), (2638, 0.005607759955021049), (2639, 0.004133050014369652), (2640, 0.024143398274481774), (2641, 0.0192301583682411), (2642, 0.04418871233840505), (2643, 0.01197839979852457), (2644, 0.03075283328217222), (2645, 0.006351787596786545), (2646, 0.0236502281695898), (2647, 0.023370801885963324), (2648, 0.0043436677137573204), (2649, 0.014350655807523415), (2650, 0.03882549476970586), (2651, 0.057810837523954384), (2652, 0.03839896650286374), (2653, 0.004064984449993305), (2654, 0.07248839507852722), (2655, 0.0), (2656, 0.02947575024089274), (2657, 0.07428593502830526), (2658, 0.0), (2659, 0.006067844703215191), (2660, 0.022747863643097783), (2661, 0.015428320123440493), (2662, 0.00928557873927968), (2663, 0.008236588410478285), (2664, 0.0), (2665, 0.011596643509822927), (2666, 0.03221346494127525), (2667, 0.0057400948835980665), (2668, 0.01968635017914878), (2669, 0.02125419682390775), (2670, 0.0), (2671, 0.003093993263221739), (2672, 0.04312741694050697), (2673, 0.006565592063281384), (2674, 0.0), (2675, 0.07036592452474813), (2676, 0.004830401742523672), (2677, 0.004104317110773684), (2678, 0.006860475413263377), (2679, 0.0), (2680, 0.00946197076002713), (2681, 0.004049861846318723), (2682, 0.01588284891175786), (2683, 0.0), (2684, 0.006100368579179424), (2685, 0.004275094748905903), (2686, 0.0), (2687, 0.004144412287604742), (2688, 0.0430464817306877), (2689, 0.0052319281727865085), (2690, 0.004000148336506806), (2691, 0.056433242606848816), (2692, 0.0), (2693, 0.06642587109675159), (2694, 0.0), (2695, 0.0), (2696, 0.004896841428001389), (2697, 0.0), (2698, 0.0048086998739069195), (2699, 0.030152238497613025), (2700, 0.0), (2701, 0.00681769338978893), (2702, 0.004814563258374967), (2703, 0.006521008206652259), (2704, 0.027601240233516552), (2705, 0.0), (2706, 0.00869697774715428), (2707, 0.009365549807791775), (2708, 0.038715547825159166), (2709, 0.004214309584974314), (2710, 0.019386057651748428), (2711, 0.0), (2712, 0.009774184399353996), (2713, 0.012652442706697627), (2714, 0.023545380770218102), (2715, 0.053860518419204355), (2716, 0.009785807154427029), (2717, 0.028328851338988707), (2718, 0.07285906964426662), (2719, 0.052375542036591644), (2720, 0.010721674886908623), (2721, 0.011708051662862543), (2722, 0.0059135977434488585), (2723, 0.010895803739103423), (2724, 0.008771393833690369), (2725, 0.024677697951599124), (2726, 0.008699447619994005), (2727, 0.0050666301877572975), (2728, 0.003834310463167991), (2729, 0.0793933323530635), (2730, 0.0237224805998141), (2731, 0.005654447088073862), (2732, 0.018659282271172778), (2733, 0.05593579690859659), (2734, 0.007270868775356022), (2735, 0.0), (2736, 0.0), (2737, 0.0070431689486428984), (2738, 0.010795608671310391), (2739, 0.005416304847095296), (2740, 0.0574646880281051), (2741, 0.01931705834297729), (2742, 0.0), (2743, 0.008710354522158608), (2744, 0.004365784504372516), (2745, 0.020558385909344123), (2746, 0.016573886552205836), (2747, 0.007300145827225254), (2748, 0.004580716324153864), (2749, 0.039186572046664675), (2750, 0.0), (2751, 0.0), (2752, 0.03768802692585595), (2753, 0.0), (2754, 0.004416360270943163), (2755, 0.039648245961478014), (2756, 0.02845103712412369), (2757, 0.0), (2758, 0.09500025852680867), (2759, 0.0), (2760, 0.0), (2761, 0.004247222523850812), (2762, 0.0), (2763, 0.030592141622308194), (2764, 0.006001478095017652), (2765, 0.009382827631202944), (2766, 0.015181564631080675), (2767, 0.007926139702122524), (2768, 0.0), (2769, 0.0049721044502767636), (2770, 0.011142394844086686), (2771, 0.0248104366487446), (2772, 0.010971374842767967), (2773, 0.0), (2774, 0.01368648853560723), (2775, 0.03901218659725543), (2776, 0.009073871475582028), (2777, 0.004566812236512865), (2778, 0.012284570867418257), (2779, 0.0), (2780, 0.0), (2781, 0.03628277708430298), (2782, 0.014999154194686469), (2783, 0.0), (2784, 0.0050446741275465695), (2785, 0.005650906265896359), (2786, 0.004511092943155967), (2787, 0.004005573418479515), (2788, 0.00502467302335329), (2789, 0.0041024891647207335), (2790, 0.07300819170326928), (2791, 0.009052789086964235), (2792, 0.015992332931394914), (2793, 0.009900211639884953), (2794, 0.014878912348212312), (2795, 0.0128300872510786), (2796, 0.08924459973370533), (2797, 0.005156027177474121), (2798, 0.010023748146844888), (2799, 0.05791082079169427), (2800, 0.0), (2801, 0.004233818503412249), (2802, 0.0), (2803, 0.0072619411092563575), (2804, 0.022358577977950718), (2805, 0.007999519153758294), (2806, 0.019094747775508562), (2807, 0.020833367913104597), (2808, 0.0047824337829796655), (2809, 0.005195057749402689), (2810, 0.015101274689192732), (2811, 0.004613054064651707), (2812, 0.017349844950313265), (2813, 0.04723101488872178), (2814, 0.02376386836210301), (2815, 0.0), (2816, 0.030539902396632207), (2817, 0.00975457973255088), (2818, 0.01281050946506645), (2819, 0.02561080513048209), (2820, 0.003684513198286838), (2821, 0.0), (2822, 0.04407679423453251), (2823, 0.007976582605575122), (2824, 0.009897823601629442), (2825, 0.004161423545830936), (2826, 0.008022404216581054), (2827, 0.0), (2828, 0.0), (2829, 0.008764518537983807), (2830, 0.022334325901065596), (2831, 0.02592416445154), (2832, 0.005528246733245835), (2833, 0.003754836331095452), (2834, 0.011349295153917912), (2835, 0.00846399166771979), (2836, 0.004179729922654921), (2837, 0.01456276911984508), (2838, 0.005383450598757936), (2839, 0.009188333044989417), (2840, 0.0055046759580361536), (2841, 0.008270314929223173), (2842, 0.004267189002167083), (2843, 0.047105512029909494), (2844, 0.023954662425905954), (2845, 0.009350893692697294), (2846, 0.037817440210568), (2847, 0.029843913621795184), (2848, 0.014755042837547605), (2849, 0.0), (2850, 0.007930999407627122), (2851, 0.01139525410914724), (2852, 0.009408417092374648), (2853, 0.0), (2854, 0.00548137689818443), (2855, 0.007757711247431123), (2856, 0.03092360399671286), (2857, 0.005199828148166523), (2858, 0.005970782505087427), (2859, 0.0046792315033344755), (2860, 0.00865775837417671), (2861, 0.0), (2862, 0.009199300498412452), (2863, 0.0), (2864, 0.013740496312460736), (2865, 0.0), (2866, 0.00391987165069786), (2867, 0.03826919959554244), (2868, 0.0), (2869, 0.0), (2870, 0.0), (2871, 0.0), (2872, 0.004848961491035646), (2873, 0.02090951353927746), (2874, 0.00849036549724957), (2875, 0.03760973254488601), (2876, 0.0035181947956735003), (2877, 0.05559793485406296), (2878, 0.020810803606568933), (2879, 0.0), (2880, 0.004540133104549381), (2881, 0.0), (2882, 0.004577539897067219), (2883, 0.0), (2884, 0.02837496836559113), (2885, 0.024084347932723706), (2886, 0.0), (2887, 0.0174702993977235), (2888, 0.0086439938125903), (2889, 0.0), (2890, 0.038911056687576745), (2891, 0.005966921127146021), (2892, 0.004685009302815321), (2893, 0.0435231152167407), (2894, 0.0), (2895, 0.009551579365034346), (2896, 0.013683122040106644), (2897, 0.008737889241416037), (2898, 0.041543381739831534), (2899, 0.004639594173639427), (2900, 0.0049198313232923455), (2901, 0.011891392024362282), (2902, 0.0), (2903, 0.0), (2904, 0.0), (2905, 0.0), (2906, 0.004345184860716857), (2907, 0.0), (2908, 0.008164201429017635), (2909, 0.009032933209777397), (2910, 0.004829007949735479), (2911, 0.005136640369810575), (2912, 0.004078910553681918), (2913, 0.026509431548840414), (2914, 0.004764032272200122), (2915, 0.0), (2916, 0.010374313158212764), (2917, 0.0), (2918, 0.00978785835485585), (2919, 0.031138441067597944), (2920, 0.011817033664635934), (2921, 0.0), (2922, 0.005731705624756386), (2923, 0.037870795775088825), (2924, 0.034318208602406516), (2925, 0.0033821818812827895), (2926, 0.004405472092758357), (2927, 0.0922246592842236), (2928, 0.005439567379933998), (2929, 0.004401882526956122), (2930, 0.03622722894437691), (2931, 0.03568741869400657), (2932, 0.0), (2933, 0.007768792825798742), (2934, 0.0), (2935, 0.0), (2936, 0.0), (2937, 0.011458654576479713), (2938, 0.04017791250026424), (2939, 0.03685514653157987), (2940, 0.06324368816681145), (2941, 0.018469505568853795), (2942, 0.004270820901362597), (2943, 0.0), (2944, 0.01847681248622569), (2945, 0.004123480963648826), (2946, 0.0), (2947, 0.0), (2948, 0.005485727829760345), (2949, 0.021762458372597333), (2950, 0.007583234316164782), (2951, 0.020156378980608868), (2952, 0.033463132355685356), (2953, 0.0), (2954, 0.03459218193288735), (2955, 0.02049284600771776), (2956, 0.022461665389555942), (2957, 0.0), (2958, 0.0), (2959, 0.0), (2960, 0.008138824854432906), (2961, 0.0), (2962, 0.013401936922800232), (2963, 0.005269784433893058), (2964, 0.04737553931844073), (2965, 0.0), (2966, 0.0), (2967, 0.0), (2968, 0.004598011553075397), (2969, 0.004093469140605246), (2970, 0.004490045786878179), (2971, 0.003665317823791501), (2972, 0.01270088413386345), (2973, 0.018227558344312042), (2974, 0.0), (2975, 0.008672103156498938), (2976, 0.020367206421343785), (2977, 0.00505351499145618), (2978, 0.004580425687371063), (2979, 0.015614257013340536), (2980, 0.009083526059341455), (2981, 0.008432300824726832), (2982, 0.004793954691450933), (2983, 0.005316465655674305), (2984, 0.018699469666524308), (2985, 0.00823355958331845), (2986, 0.004982705439285144), (2987, 0.0), (2988, 0.0), (2989, 0.0), (2990, 0.00567073237430105), (2991, 0.0), (2992, 0.008529669169694956), (2993, 0.0), (2994, 0.004239788111410546), (2995, 0.0), (2996, 0.01086304965483022), (2997, 0.0), (2998, 0.025884218069135684), (2999, 0.004188591139098867), (3000, 0.0), (3001, 0.0), (3002, 0.0), (3003, 0.014968271969312223), (3004, 0.0), (3005, 0.0), (3006, 0.0), (3007, 0.031236675773164947), (3008, 0.0), (3009, 0.0058985182082105375), (3010, 0.009518657841132884), (3011, 0.004765962815856141), (3012, 0.0), (3013, 0.0), (3014, 0.0), (3015, 0.03561729878162103), (3016, 0.008648990554324783), (3017, 0.005004931264583685), (3018, 0.038906668796493155), (3019, 0.0), (3020, 0.005113906799817148), (3021, 0.009588278379485938), (3022, 0.011483648672553696), (3023, 0.0), (3024, 0.0), (3025, 0.0), (3026, 0.004654098912316718), (3027, 0.017216940856296024), (3028, 0.004769433171650273), (3029, 0.0), (3030, 0.0), (3031, 0.0), (3032, 0.0), (3033, 0.018399431692725787), (3034, 0.004239888966147025), (3035, 0.0), (3036, 0.0), (3037, 0.004446505585272693), (3038, 0.004406564098086478), (3039, 0.051792047570886526), (3040, 0.005882803066876293), (3041, 0.004446394704052546), (3042, 0.0057076424912311146), (3043, 0.0), (3044, 0.03591636273182816), (3045, 0.0), (3046, 0.004840749246148044), (3047, 0.0), (3048, 0.010761866692928255), (3049, 0.0), (3050, 0.0038594202798662752), (3051, 0.017242887710588878), (3052, 0.013876778617817524), (3053, 0.004736338298454059), (3054, 0.005061699587005386), (3055, 0.0), (3056, 0.0), (3057, 0.00463002976216883), (3058, 0.029066981008224448), (3059, 0.0), (3060, 0.00428195854661038), (3061, 0.004404316827687709), (3062, 0.013517098763098843), (3063, 0.0037252451108306787), (3064, 0.0), (3065, 0.006777998039918362), (3066, 0.017986762066114804), (3067, 0.0), (3068, 0.025535487852297162), (3069, 0.009921230417223686), (3070, 0.003762905399744735), (3071, 0.008568516503527341), (3072, 0.011808019545163282), (3073, 0.033942653542488946), (3074, 0.03965282112345583), (3075, 0.0), (3076, 0.026655674313170126), (3077, 0.03192304825089552), (3078, 0.01731454455425218), (3079, 0.0), (3080, 0.015018925482122239), (3081, 0.02285625370234294), (3082, 0.0037465927946098553), (3083, 0.008503988856834534), (3084, 0.014291023117640229), (3085, 0.0), (3086, 0.01097494158353432), (3087, 0.005314480797372952), (3088, 0.006264042861481116), (3089, 0.031058154970010864), (3090, 0.004142353502620729), (3091, 0.049621769678093224), (3092, 0.0), (3093, 0.01189637110061585), (3094, 0.0), (3095, 0.0), (3096, 0.014987653079220427), (3097, 0.004644998367968922), (3098, 0.007653597386561094), (3099, 0.007097829744219017), (3100, 0.007453977542582173), (3101, 0.0), (3102, 0.028933411616165892), (3103, 0.00521464419216523), (3104, 0.004202612419612836), (3105, 0.00761986787188021), (3106, 0.004199138875385819), (3107, 0.0), (3108, 0.026447252364346387), (3109, 0.004486373640554173), (3110, 0.0), (3111, 0.020996466867335372), (3112, 0.00995937932125254), (3113, 0.0042965111775741215), (3114, 0.007376963690884305), (3115, 0.006557783592385151), (3116, 0.010177671018287622), (3117, 0.0), (3118, 0.0), (3119, 0.0), (3120, 0.0), (3121, 0.020711243284697763), (3122, 0.00941668574074104), (3123, 0.012392058156700365), (3124, 0.008284798650853886), (3125, 0.004959904791633014), (3126, 0.011576367305371815), (3127, 0.008861147200172004), (3128, 0.03543088092947134), (3129, 0.015336663998821394), (3130, 0.0), (3131, 0.013817690428890684), (3132, 0.00846032719508258), (3133, 0.012139577775610168), (3134, 0.00832861608026866), (3135, 0.026550707236263103), (3136, 0.007442547098862715), (3137, 0.025012031220726823), (3138, 0.023246911917364686), (3139, 0.005964075466120888), (3140, 0.0), (3141, 0.0804727913454789), (3142, 0.025453374543208042), (3143, 0.04607231011466077), (3144, 0.014245943788036758), (3145, 0.006412137707311768), (3146, 0.0047118634355493745), (3147, 0.007843184641928184), (3148, 0.0), (3149, 0.008823851933052587), (3150, 0.009571281619292223), (3151, 0.023201632797254665), (3152, 0.013929918739490971), (3153, 0.0), (3154, 0.0), (3155, 0.004241293780615442), (3156, 0.0076857448130668825), (3157, 0.0), (3158, 0.0), (3159, 0.0), (3160, 0.0), (3161, 0.0), (3162, 0.01699755913598057), (3163, 0.008685487266686007), (3164, 0.007746901014828165), (3165, 0.0), (3166, 0.005843205973500139), (3167, 0.02517152836035044), (3168, 0.004743391000592593), (3169, 0.07044365441463453), (3170, 0.0), (3171, 0.0), (3172, 0.019943654184057774), (3173, 0.0), (3174, 0.01697816381288517), (3175, 0.004513960119849998), (3176, 0.0), (3177, 0.004001553950951354), (3178, 0.006660152164068535), (3179, 0.0), (3180, 0.011302798501330313), (3181, 0.0435638569354668), (3182, 0.008582336699290238), (3183, 0.0046128615064346115), (3184, 0.03485984158682638), (3185, 0.0), (3186, 0.03315345429038167), (3187, 0.04494884726699837), (3188, 0.0042076765991814), (3189, 0.014156599705884156), (3190, 0.004881247020363491), (3191, 0.012444681365555793), (3192, 0.02053079844676329), (3193, 0.040808821996678325), (3194, 0.003976032492310991), (3195, 0.0), (3196, 0.0), (3197, 0.003828322690945095), (3198, 0.004351654485405602), (3199, 0.019594660967584047), (3200, 0.00419356021545034), (3201, 0.008798520717947796), (3202, 0.06127235851362712), (3203, 0.005073240805827836), (3204, 0.018037191174174166), (3205, 0.035520152452609095), (3206, 0.009654739618712289), (3207, 0.004629162174848415), (3208, 0.17738384705157031), (3209, 0.004308192029305458), (3210, 0.0), (3211, 0.01656564250704698), (3212, 0.019592320856820743), (3213, 0.0), (3214, 0.023466495033646333), (3215, 0.006673618269730283), (3216, 0.010109912785261016), (3217, 0.04164894914114764), (3218, 0.03141476194971952), (3219, 0.012103847192255435), (3220, 0.014046208786654007), (3221, 0.031953611826871266), (3222, 0.008230152932794301), (3223, 0.0), (3224, 0.00438570881597851), (3225, 0.0), (3226, 0.0045393577287922175), (3227, 0.0), (3228, 0.005989624582327642), (3229, 0.013994080501950525), (3230, 0.01742699735848826), (3231, 0.015337792034887226), (3232, 0.019542564275519463), (3233, 0.005077468049492026), (3234, 0.05692892198641662), (3235, 0.0), (3236, 0.01433096721205683), (3237, 0.004874856858371268), (3238, 0.020090640216331553), (3239, 0.01062191626861802), (3240, 0.0047693932423600715), (3241, 0.0), (3242, 0.0), (3243, 0.0), (3244, 0.058255648798773395), (3245, 0.004256155914926239), (3246, 0.008769863700739504), (3247, 0.0), (3248, 0.0), (3249, 0.005268599294366562), (3250, 0.00395076208958839), (3251, 0.0), (3252, 0.0), (3253, 0.004790351928973753), (3254, 0.0), (3255, 0.0), (3256, 0.04693846738017333), (3257, 0.07281153116277492), (3258, 0.004580620675411039), (3259, 0.07767293488807755), (3260, 0.008975428634225891), (3261, 0.0), (3262, 0.013072269667431035), (3263, 0.0), (3264, 0.015938887471117356), (3265, 0.018854851379972844), (3266, 0.005827223436583269), (3267, 0.03035332832848371), (3268, 0.0), (3269, 0.0), (3270, 0.00908852185835589), (3271, 0.0144359887620044), (3272, 0.04677925877153289), (3273, 0.0), (3274, 0.0), (3275, 0.0), (3276, 0.012045819851729863), (3277, 0.0096323637171747), (3278, 0.0), (3279, 0.0), (3280, 0.0045950487129842975), (3281, 0.0), (3282, 0.005462976313186725), (3283, 0.009317919072655481), (3284, 0.004520279978444032), (3285, 0.015311946600055852), (3286, 0.09394411592988229), (3287, 0.03937349667125946), (3288, 0.0041215951602154135), (3289, 0.02519045575266288), (3290, 0.004335092252872362), (3291, 0.01365256807039079), (3292, 0.033129928943781715), (3293, 0.0046714526515581785), (3294, 0.0321313750543994), (3295, 0.008325018794163518), (3296, 0.0), (3297, 0.05390388862540949), (3298, 0.027150927303300078), (3299, 0.004904336810558183), (3300, 0.0), (3301, 0.0), (3302, 0.014728217906575785), (3303, 0.009309354511536895), (3304, 0.013013613342388337), (3305, 0.0), (3306, 0.03215858151496562), (3307, 0.0), (3308, 0.004987086385687599), (3309, 0.008045012643626179), (3310, 0.017004940927367464), (3311, 0.008275132847502547), (3312, 0.07021894106587799), (3313, 0.00829444243242821), (3314, 0.0), (3315, 0.004024103881195834), (3316, 0.0037965571982186944), (3317, 0.008084922339015197), (3318, 0.0), (3319, 0.00787712728123873), (3320, 0.008591992427431472), (3321, 0.008464235367331967), (3322, 0.0), (3323, 0.024513702326637216), (3324, 0.03477659865767429), (3325, 0.0), (3326, 0.0), (3327, 0.025124282458068053), (3328, 0.011733115728100547), (3329, 0.0038510729353365652), (3330, 0.015043588517424987), (3331, 0.0), (3332, 0.004262923039942253), (3333, 0.0), (3334, 0.0), (3335, 0.04020194555613633), (3336, 0.04110747502003571), (3337, 0.034143741449140494), (3338, 0.009465094673730768), (3339, 0.0), (3340, 0.010070840002392637), (3341, 0.010187919223523115), (3342, 0.01940284918301937), (3343, 0.00913875132915825), (3344, 0.07347400663169734), (3345, 0.011524098799803463), (3346, 0.007958581987624235), (3347, 0.0), (3348, 0.028637228972461678), (3349, 0.00437036572643762), (3350, 0.01329306534491507), (3351, 0.004396487369511342), (3352, 0.0081019150887808), (3353, 0.01256719711267688), (3354, 0.0), (3355, 0.013906940977120717), (3356, 0.0037225332176913217), (3357, 0.005236151368226105), (3358, 0.0), (3359, 0.0), (3360, 0.026787628987098615), (3361, 0.012225921283043409), (3362, 0.00390821878919466), (3363, 0.0), (3364, 0.02228874287754188), (3365, 0.003480551690202213), (3366, 0.0367834077925579), (3367, 0.007992346088387678), (3368, 0.004818646991279161), (3369, 0.0), (3370, 0.00899019711914191), (3371, 0.00466639103720469), (3372, 0.0), (3373, 0.004741231526565463), (3374, 0.01498059479963348), (3375, 0.004083672487176998), (3376, 0.004214583979693043), (3377, 0.00933772813042864), (3378, 0.009545893392319399), (3379, 0.009080405405446678), (3380, 0.0), (3381, 0.0), (3382, 0.004395572190325336), (3383, 0.004769833855544407), (3384, 0.047897707684510474), (3385, 0.013548055882446241), (3386, 0.021517346177453982), (3387, 0.02216065232895161), (3388, 0.004438309350865735), (3389, 0.016931696347204164), (3390, 0.06474705302575032), (3391, 0.0), (3392, 0.006154045178027146), (3393, 0.007867779384893105), (3394, 0.017501187308652272), (3395, 0.03498814597060904), (3396, 0.0), (3397, 0.04303917418443405), (3398, 0.03347311400847591), (3399, 0.03816980390603521), (3400, 0.004119588204072141), (3401, 0.040560750558845726), (3402, 0.028836071169315036), (3403, 0.03327326175153527), (3404, 0.020417543687827805), (3405, 0.006782317835684512), (3406, 0.03750545425143713), (3407, 0.004633448242453109), (3408, 0.018850371409560238), (3409, 0.008421597669970785), (3410, 0.007361476065287098), (3411, 0.008025997350604126), (3412, 0.004813545740086042), (3413, 0.005059689519295573), (3414, 0.011049595695715727), (3415, 0.015041216346732608), (3416, 0.012076773478806008), (3417, 0.011189473506176528), (3418, 0.0076457577319339635), (3419, 0.075535648738169), (3420, 0.013708977849038566), (3421, 0.0029143343520842747), (3422, 0.004443211532827444), (3423, 0.0), (3424, 0.02083776021233181), (3425, 0.0), (3426, 0.01687387630030936), (3427, 0.008009936167685163), (3428, 0.004352016872097727), (3429, 0.00690744790896727), (3430, 0.0076145069344441645), (3431, 0.0), (3432, 0.0), (3433, 0.0), (3434, 0.0), (3435, 0.08078662802941941), (3436, 0.010224788975707878), (3437, 0.0), (3438, 0.013787892220198928), (3439, 0.015813968609270278), (3440, 0.011804051381770658), (3441, 0.0), (3442, 0.004468254620414397), (3443, 0.004154956470861758), (3444, 0.0744642794221899), (3445, 0.012379750564908112), (3446, 0.005068749208290656), (3447, 0.013055321279111624), (3448, 0.015667493646283948), (3449, 0.01553026288907566), (3450, 0.005732110549247721), (3451, 0.02183085940324074), (3452, 0.0), (3453, 0.0), (3454, 0.06442273471713625), (3455, 0.0), (3456, 0.013483249423778085), (3457, 0.03286776021609199), (3458, 0.010144059105303076), (3459, 0.02388454390940344), (3460, 0.009342161920747345), (3461, 0.06861652379964732), (3462, 0.004264784397466025), (3463, 0.02579254042051758), (3464, 0.02250649524032385), (3465, 0.004687959918022658), (3466, 0.0), (3467, 0.036548347648560776), (3468, 0.0618050957403069), (3469, 0.014463543552773808), (3470, 0.1652843694212699), (3471, 0.02234818712432146), (3472, 0.03991924434915081), (3473, 0.02941094295431934), (3474, 0.0), (3475, 0.052536642913392176), (3476, 0.02553746961449566), (3477, 0.009071129324134085), (3478, 0.0), (3479, 0.005625659750880573), (3480, 0.009911625918894156), (3481, 0.02949221275469292), (3482, 0.03408160122608981), (3483, 0.0), (3484, 0.04441767560685551), (3485, 0.0267534032046814), (3486, 0.008147595840224802), (3487, 0.0), (3488, 0.0), (3489, 0.004342170881097537), (3490, 0.004045267424537658), (3491, 0.004954902576282865), (3492, 0.024972640546879223), (3493, 0.004409023722170008), (3494, 0.004239515541966717), (3495, 0.0), (3496, 0.004521692179823955), (3497, 0.0), (3498, 0.029167477668289945), (3499, 0.0), (3500, 0.003908167083662247), (3501, 0.040048575888916846), (3502, 0.00597389653604478), (3503, 0.028869545235619538), (3504, 0.02418929264264203), (3505, 0.028938293621191796), (3506, 0.0), (3507, 0.005116391631203521), (3508, 0.004145589432419156), (3509, 0.0036547480230275436), (3510, 0.004541307546416114), (3511, 0.0), (3512, 0.03196404037295568), (3513, 0.0044135229528371326), (3514, 0.0043976840113274275), (3515, 0.039860868982903475), (3516, 0.005367729219596044), (3517, 0.02158310540483449), (3518, 0.024130508424135097), (3519, 0.0756524387167799), (3520, 0.008078147674446718), (3521, 0.0), (3522, 0.012371647546014834), (3523, 0.0), (3524, 0.010897089825569101), (3525, 0.0), (3526, 0.00936197921809169), (3527, 0.0), (3528, 0.02693456935619327), (3529, 0.004628870642815327), (3530, 0.04003503821368794), (3531, 0.013939751370435398), (3532, 0.009187560431765253), (3533, 0.02814688950006924), (3534, 0.0), (3535, 0.0), (3536, 0.03586448833183782), (3537, 0.005224936811417635), (3538, 0.007294314850971867), (3539, 0.07199194442893618), (3540, 0.010802498550006263), (3541, 0.029766285268156886), (3542, 0.02596628495958256), (3543, 0.013360043597267411), (3544, 0.005127664921742491), (3545, 0.013374177861229516), (3546, 0.009635819511497572), (3547, 0.0), (3548, 0.0), (3549, 0.00946084888480794), (3550, 0.0), (3551, 0.0049813445403196575), (3552, 0.00685116338423678), (3553, 0.0), (3554, 0.016311006479162962), (3555, 0.007733986885268247), (3556, 0.0), (3557, 0.02300476132561009), (3558, 0.0), (3559, 0.013662835648150115), (3560, 0.02038114199089277), (3561, 0.013772196551584109), (3562, 0.1574954349943148), (3563, 0.03990939140871844), (3564, 0.004954674973288888), (3565, 0.008337946247053857), (3566, 0.05722735937294267), (3567, 0.012374059727243664), (3568, 0.03191962812252181), (3569, 0.0), (3570, 0.004186122557799244), (3571, 0.04166383687356799), (3572, 0.00466379642201669), (3573, 0.0), (3574, 0.04318294478361237), (3575, 0.003403168775684649), (3576, 0.0), (3577, 0.02624429372228024), (3578, 0.026373594465353138), (3579, 0.007808551512450534), (3580, 0.004127141543523503), (3581, 0.014812208106452887), (3582, 0.011745425298669315), (3583, 0.019776853574809055), (3584, 0.004524044050673031), (3585, 0.008211396545508136), (3586, 0.013899429222797344), (3587, 0.14715367174278315), (3588, 0.0), (3589, 0.003884589482874318), (3590, 0.0), (3591, 0.06490574023382681), (3592, 0.02026624743789148), (3593, 0.010339023174371256), (3594, 0.004916027808966716), (3595, 0.01375060807912296), (3596, 0.0), (3597, 0.008166779656665894), (3598, 0.015161941913155823), (3599, 0.009551642539475972), (3600, 0.007195552912775138), (3601, 0.02621440062412905), (3602, 0.0), (3603, 0.004292873203814864), (3604, 0.011158701611351976), (3605, 0.0), (3606, 0.013738464427694904), (3607, 0.03111344774973464), (3608, 0.0), (3609, 0.07396673842218243), (3610, 0.02174344833403585), (3611, 0.03193615872860667), (3612, 0.03305542143689033), (3613, 0.061778869700554684), (3614, 0.0), (3615, 0.0), (3616, 0.02289340663282237), (3617, 0.0), (3618, 0.005231592788578606), (3619, 0.0), (3620, 0.011278099772115214), (3621, 0.0049568569145491065), (3622, 0.007896935391623712), (3623, 0.06397010866133046), (3624, 0.0), (3625, 0.0), (3626, 0.007018419274947873), (3627, 0.0), (3628, 0.041649090943535645), (3629, 0.013706312773628713), (3630, 0.02104633908613231), (3631, 0.07707512410536133), (3632, 0.02612833464249779), (3633, 0.03580450579459898), (3634, 0.00858977816587267), (3635, 0.010788747301436566), (3636, 0.0), (3637, 0.004316206366130258), (3638, 0.02876902431551267), (3639, 0.0), (3640, 0.01133016142765552), (3641, 0.1302305046397717), (3642, 0.0), (3643, 0.014423081371498635), (3644, 0.008987903426149161), (3645, 0.0), (3646, 0.017407735733816213), (3647, 0.0), (3648, 0.009465257212136334), (3649, 0.004778825181324159), (3650, 0.028948207136289893), (3651, 0.005646046068574576), (3652, 0.004654552362739972), (3653, 0.0), (3654, 0.005190684730464027), (3655, 0.004295255238611404), (3656, 0.009362927565083294), (3657, 0.016934983516459008), (3658, 0.007687134707623278), (3659, 0.030633691225666556), (3660, 0.0), (3661, 0.005628945802588463), (3662, 0.004210368632532496), (3663, 0.0), (3664, 0.0), (3665, 0.00912623371065745), (3666, 0.0), (3667, 0.003773413608330718), (3668, 0.004177532527900903), (3669, 0.0), (3670, 0.0), (3671, 0.0724635946978564), (3672, 0.0), (3673, 0.013419768293682223), (3674, 0.0077220655824081766), (3675, 0.0), (3676, 0.004256935019362322), (3677, 0.01083528013969766), (3678, 0.014213430801975058), (3679, 0.0), (3680, 0.06816980884753622), (3681, 0.010155329428883652), (3682, 0.010283660963910061), (3683, 0.004311969396331358), (3684, 0.01675616420591541), (3685, 0.0726033828404725), (3686, 0.005007858603335421), (3687, 0.0), (3688, 0.004667612933611531), (3689, 0.005105045439913399), (3690, 0.01824268301982692), (3691, 0.0), (3692, 0.0), (3693, 0.006808500178448232), (3694, 0.08294645023678558), (3695, 0.0648449449003454), (3696, 0.0193169684278671), (3697, 0.055108052779276766), (3698, 0.05793796220597287), (3699, 0.0), (3700, 0.007579645393773557), (3701, 0.01455496539490355), (3702, 0.0), (3703, 0.03788048088994189), (3704, 0.010008859326953341), (3705, 0.0), (3706, 0.0), (3707, 0.029247687639208462), (3708, 0.023516663898965513), (3709, 0.02437021329761562), (3710, 0.0), (3711, 0.018455153138236875), (3712, 0.008665417756514079), (3713, 0.004114981795644807), (3714, 0.0), (3715, 0.005435721831129387), (3716, 0.012110323623909904), (3717, 0.0), (3718, 0.011976091070958057), (3719, 0.0), (3720, 0.004762905786239535), (3721, 0.0), (3722, 0.018928383008505155), (3723, 0.011407980543359609), (3724, 0.00523327658745913), (3725, 0.018964755474375004), (3726, 0.015551811115707713), (3727, 0.010073022814106502), (3728, 0.027334866794914568), (3729, 0.0), (3730, 0.01000020459724817), (3731, 0.0042090366183597456), (3732, 0.015186599577378399), (3733, 0.021711902857784314), (3734, 0.0), (3735, 0.0421457200396884), (3736, 0.021817087257695558), (3737, 0.0), (3738, 0.011056598332085464), (3739, 0.06786225164763221), (3740, 0.005331173069454519), (3741, 0.02326735098479971), (3742, 0.007288922027706549), (3743, 0.018470319659561855), (3744, 0.00971153516887629), (3745, 0.0), (3746, 0.013975982916039877), (3747, 0.03811463145806219), (3748, 0.007915047945482622), (3749, 0.011077198934225336), (3750, 0.0), (3751, 0.015725808214761973), (3752, 0.034392172030937966), (3753, 0.020945004105199352), (3754, 0.00488525687866), (3755, 0.0037229614413374443), (3756, 0.0), (3757, 0.0), (3758, 0.005038185567378318), (3759, 0.0048228799348703204), (3760, 0.0), (3761, 0.0), (3762, 0.0), (3763, 0.05033928576370248), (3764, 0.008325069549231635), (3765, 0.023549246193987062), (3766, 0.0), (3767, 0.013202102940417975), (3768, 0.0), (3769, 0.026535473813536572), (3770, 0.0), (3771, 0.0), (3772, 0.048341208272126034), (3773, 0.0078046520148639074), (3774, 0.031310015334954866), (3775, 0.0), (3776, 0.025962378312988758), (3777, 0.005214714999579181), (3778, 0.005126629949722253), (3779, 0.03470083054557359), (3780, 0.005269774780525741), (3781, 0.0), (3782, 0.008547545555657498), (3783, 0.018927297468301636), (3784, 0.004697799168184979), (3785, 0.025922668889588173), (3786, 0.023990563938692505), (3787, 0.008736182770582333), (3788, 0.0), (3789, 0.004974873328572262), (3790, 0.0749899841067641), (3791, 0.0048066647370551985), (3792, 0.06987953077927928), (3793, 0.009987650420326845), (3794, 0.0), (3795, 0.007138149693003245), (3796, 0.03268733724813563), (3797, 0.0), (3798, 0.05062390206658837), (3799, 0.0), (3800, 0.0055576215046819625), (3801, 0.0), (3802, 0.011124422294173365), (3803, 0.0376413074668197), (3804, 0.0), (3805, 0.050028852668986476), (3806, 0.0), (3807, 0.009213298437087285), (3808, 0.004677098719799085), (3809, 0.0), (3810, 0.005029221807252699), (3811, 0.003971157488375227), (3812, 0.059876029009490725), (3813, 0.010105645611087802), (3814, 0.0), (3815, 0.029810367049065388), (3816, 0.028357377276945768), (3817, 0.10330819569567048), (3818, 0.00907204104260746), (3819, 0.00466006646551839), (3820, 0.004762296634175034), (3821, 0.00413915433715307), (3822, 0.052937582924633894), (3823, 0.009281026703220775), (3824, 0.004020556693116483), (3825, 0.008912342085858855), (3826, 0.031087641423463486), (3827, 0.0), (3828, 0.0), (3829, 0.02612737324273596), (3830, 0.0), (3831, 0.005412265290360645), (3832, 0.010285108732193281), (3833, 0.0), (3834, 0.008538086659841689), (3835, 0.0), (3836, 0.014016520088461586), (3837, 0.004623914191290703), (3838, 0.0), (3839, 0.0038854553180803723), (3840, 0.0567742212218084), (3841, 0.012731990626338379), (3842, 0.003834115719654996), (3843, 0.023818520643704096), (3844, 0.005278738077503707), (3845, 0.0043938196826828185), (3846, 0.11189803993325223), (3847, 0.07978667514441626), (3848, 0.0), (3849, 0.00828816878478579), (3850, 0.0), (3851, 0.004823046809555875), (3852, 0.004300445475940577), (3853, 0.02846114335704447), (3854, 0.004564115337259249), (3855, 0.007762195800695924), (3856, 0.0036456456847301), (3857, 0.005481865505704326), (3858, 0.021111081713522575), (3859, 0.003984410484963452), (3860, 0.0), (3861, 0.0037300441739711748), (3862, 0.0), (3863, 0.0), (3864, 0.003975281661185032), (3865, 0.04742795928430014), (3866, 0.01054482949084154), (3867, 0.0), (3868, 0.0374144638317096), (3869, 0.008747523292038638), (3870, 0.0479318513634806), (3871, 0.03535547286934524), (3872, 0.0), (3873, 0.0), (3874, 0.0), (3875, 0.011447159659756066), (3876, 0.0), (3877, 0.014379827320833635), (3878, 0.05029429406875121), (3879, 0.004083997228821965), (3880, 0.02109230508855062), (3881, 0.0), (3882, 0.004433457985444967), (3883, 0.0), (3884, 0.041027800756769955), (3885, 0.003832101809321111), (3886, 0.008785456617035553), (3887, 0.0), (3888, 0.004168029390931778), (3889, 0.004568498685168465), (3890, 0.04225359486028262), (3891, 0.0046739050317324395), (3892, 0.01751616814884452), (3893, 0.0), (3894, 0.012451415528042199), (3895, 0.0), (3896, 0.004061951865515813), (3897, 0.0052328760065658555), (3898, 0.0), (3899, 0.0), (3900, 0.0), (3901, 0.0), (3902, 0.029244893945318578), (3903, 0.02609990900331744), (3904, 0.0), (3905, 0.004455881361501197), (3906, 0.0), (3907, 0.018520160769477583), (3908, 0.0), (3909, 0.008535021672065775), (3910, 0.0), (3911, 0.012139715961256058), (3912, 0.03457459584289506), (3913, 0.0), (3914, 0.01601533154709052), (3915, 0.011034918644642984), (3916, 0.0035894531760215353), (3917, 0.012423889957981174), (3918, 0.0), (3919, 0.009562971426295808), (3920, 0.031399666272747005), (3921, 0.016228482524157588), (3922, 0.005200193599092954), (3923, 0.019712967468246027), (3924, 0.010850848216115936), (3925, 0.0), (3926, 0.018439446946950926), (3927, 0.021061134572875468), (3928, 0.004122709952197714), (3929, 0.0), (3930, 0.03856958903292132), (3931, 0.004927760290618353), (3932, 0.0), (3933, 0.003754867364747649), (3934, 0.008946560166872387), (3935, 0.02394282455569008), (3936, 0.005328993820908161), (3937, 0.007875479573978097), (3938, 0.010042189041287446), (3939, 0.0), (3940, 0.0), (3941, 0.003947529075390524), (3942, 0.09231044987961914), (3943, 0.03236134820992015), (3944, 0.003978481266193967), (3945, 0.0), (3946, 0.0), (3947, 0.0), (3948, 0.11577918332527917), (3949, 0.005790579270695288), (3950, 0.009365294590295581), (3951, 0.005758907302417774), (3952, 0.004830803226257419), (3953, 0.0), (3954, 0.0), (3955, 0.00492532640991123), (3956, 0.0), (3957, 0.004068101847488135), (3958, 0.0), (3959, 0.005111903209969637), (3960, 0.04631742941370428), (3961, 0.0), (3962, 0.004731043686999802), (3963, 0.012818643069093569), (3964, 0.004704632138141069), (3965, 0.042640824653645326), (3966, 0.004603056504748131), (3967, 0.009313443666378665), (3968, 0.008379807498652612), (3969, 0.01403565390610154), (3970, 0.021002255830901345), (3971, 0.00339712224128376), (3972, 0.0091398174758006), (3973, 0.008970004369549454), (3974, 0.0), (3975, 0.0), (3976, 0.0), (3977, 0.008618440300675408), (3978, 0.0), (3979, 0.05114773406057095), (3980, 0.21931077593771403), (3981, 0.0), (3982, 0.007977793832373615), (3983, 0.012753514428844858), (3984, 0.004430149883387367), (3985, 0.0), (3986, 0.004440780002340676), (3987, 0.0), (3988, 0.043242310791990125), (3989, 0.0), (3990, 0.012784034715029795), (3991, 0.03194528136509237), (3992, 0.0047616884815522426), (3993, 0.0), (3994, 0.004796296434982964), (3995, 0.0), (3996, 0.005022615396751141), (3997, 0.0), (3998, 0.0364985877691312), (3999, 0.0), (4000, 0.06397948912660373), (4001, 0.014107239243032296), (4002, 0.0057318143823880605), (4003, 0.004653287989276875), (4004, 0.0), (4005, 0.0), (4006, 0.004932619023107427), (4007, 0.013007735070635804), (4008, 0.004371755724965933), (4009, 0.03585959914441989), (4010, 0.06847722478309798), (4011, 0.03948436545268371), (4012, 0.03183225216189217), (4013, 0.0053734648236042045), (4014, 0.0), (4015, 0.020594591214233154), (4016, 0.01808932337291047), (4017, 0.0381419070078342), (4018, 0.007180794872902536), (4019, 0.0), (4020, 0.01905320637724802), (4021, 0.012944814816529359), (4022, 0.024055611534105306), (4023, 0.004974710275346099), (4024, 0.0), (4025, 0.025150781288416746), (4026, 0.009282346774226166), (4027, 0.004448139690904809), (4028, 0.0), (4029, 0.01408440575773743), (4030, 0.0), (4031, 0.03084907230032769), (4032, 0.01727719047547988), (4033, 0.0), (4034, 0.0644022221723241), (4035, 0.00366532601172033), (4036, 0.02372409597402714), (4037, 0.04427716196959655), (4038, 0.005276492585948674), (4039, 0.0), (4040, 0.005435741425065979), (4041, 0.008071125826194575), (4042, 0.01122095707453764), (4043, 0.0), (4044, 0.0), (4045, 0.0), (4046, 0.0), (4047, 0.0), (4048, 0.0), (4049, 0.004275209859355152), (4050, 0.022499422807349113), (4051, 0.004699644536572584), (4052, 0.004452084462763919), (4053, 0.0), (4054, 0.004466702011857107), (4055, 0.02700371031570733), (4056, 0.007936674790354505), (4057, 0.004386957500545451), (4058, 0.042498143931571725), (4059, 0.004615539357437088), (4060, 0.0), (4061, 0.015383366609677835), (4062, 0.005977941971973674), (4063, 0.0), (4064, 0.010148235540577207), (4065, 0.0), (4066, 0.026439607763239285), (4067, 0.014920279568878333), (4068, 0.06219832112435247), (4069, 0.019673045793084765), (4070, 0.029944443702495632), (4071, 0.02686066949314996), (4072, 0.0), (4073, 0.0041057947570497955), (4074, 0.011622881837870363), (4075, 0.0), (4076, 0.013913780803977385), (4077, 0.014230887157411356), (4078, 0.0), (4079, 0.0), (4080, 0.0), (4081, 0.0), (4082, 0.042581103036919796), (4083, 0.010606603888779044), (4084, 0.0054166585508348625), (4085, 0.0), (4086, 0.04121400112129079), (4087, 0.022088174872584982), (4088, 0.0), (4089, 0.0), (4090, 0.0), (4091, 0.04731069055120987), (4092, 0.011497080791187287), (4093, 0.004309045697731259), (4094, 0.03085719107641953), (4095, 0.0), (4096, 0.0), (4097, 0.004613098569179516), (4098, 0.0), (4099, 0.0550957428834744), (4100, 0.0), (4101, 0.013193524401757634), (4102, 0.005348561588301347), (4103, 0.008022975937773742), (4104, 0.003733893219150705), (4105, 0.004728413119580281), (4106, 0.008837428446322036), (4107, 0.0), (4108, 0.010236205974266317), (4109, 0.008277363375097848), (4110, 0.008760696244777239), (4111, 0.042259203812455834), (4112, 0.04199370978861265), (4113, 0.034436973916119024), (4114, 0.03882912163255114), (4115, 0.019392021867885297), (4116, 0.0), (4117, 0.004808634435733664), (4118, 0.033780362047851675), (4119, 0.04490046887261735), (4120, 0.03683170759301595), (4121, 0.045125281113912175), (4122, 0.0), (4123, 0.0), (4124, 0.004670106091406349), (4125, 0.025529547673068458), (4126, 0.0), (4127, 0.005113272510616923), (4128, 0.00795065470814945), (4129, 0.02917550575452822), (4130, 0.01982610080005433), (4131, 0.004507888341238267), (4132, 0.004534260680117609), (4133, 0.0), (4134, 0.03857294161561355), (4135, 0.061801158562711796), (4136, 0.13741991634692802), (4137, 0.004980828936298156), (4138, 0.03320242848793956), (4139, 0.0), (4140, 0.035942358826913795), (4141, 0.0), (4142, 0.03624241378221978), (4143, 0.0458569809251351), (4144, 0.020694494159048348), (4145, 0.0), (4146, 0.026513511656971366), (4147, 0.005129237782188529), (4148, 0.0), (4149, 0.00851762030323754), (4150, 0.0), (4151, 0.0), (4152, 0.031754726962048944), (4153, 0.007271834456965647), (4154, 0.0), (4155, 0.03840332210902593), (4156, 0.008018939900650425), (4157, 0.013912706315451086), (4158, 0.0042377879811638765), (4159, 0.023784859652237905), (4160, 0.019331151130405438), (4161, 0.0), (4162, 0.03235114071658451), (4163, 0.0), (4164, 0.0), (4165, 0.0), (4166, 0.005438361075391883), (4167, 0.012967221124701302), (4168, 0.017633681085900216), (4169, 0.0), (4170, 0.0), (4171, 0.0034881326321719456), (4172, 0.0), (4173, 0.06426104886905089), (4174, 0.008419996626710587), (4175, 0.0), (4176, 0.004538282745605105), (4177, 0.0263982011311907), (4178, 0.0), (4179, 0.0), (4180, 0.004451556085438648), (4181, 0.008795921071025803), (4182, 0.0031959366405529908), (4183, 0.009853700995829705), (4184, 0.004229667925459751), (4185, 0.0), (4186, 0.013156010592496357), (4187, 0.0), (4188, 0.040176705585915275), (4189, 0.005048491623223315), (4190, 0.016070061586002077), (4191, 0.03822062404944014), (4192, 0.013637899605910168), (4193, 0.007256955961018693), (4194, 0.02716289255250347), (4195, 0.03806354227646624), (4196, 0.04557295284736839), (4197, 0.0042943889183182414), (4198, 0.005562267768155608), (4199, 0.047249091446562315), (4200, 0.003482830032745739), (4201, 0.017679233487421002), (4202, 0.0), (4203, 0.010603874966571848), (4204, 0.005013772115322099), (4205, 0.01322523543200971), (4206, 0.004001367388969616), (4207, 0.03267397447740909), (4208, 0.0), (4209, 0.0), (4210, 0.043637650577259685), (4211, 0.007833171983632859), (4212, 0.0), (4213, 0.004005609429078353), (4214, 0.004266878386011593), (4215, 0.035336625644879806), (4216, 0.0), (4217, 0.012904244859419645), (4218, 0.06513086360909251), (4219, 0.0), (4220, 0.0), (4221, 0.0), (4222, 0.005649536884356247), (4223, 0.006456921934075622), (4224, 0.01773988175501914), (4225, 0.0), (4226, 0.010000957144889959), (4227, 0.0), (4228, 0.0), (4229, 0.0), (4230, 0.0), (4231, 0.0), (4232, 0.0), (4233, 0.0089233568370019), (4234, 0.004109406361274714), (4235, 0.0), (4236, 0.0073798773864336455), (4237, 0.014512054350814497), (4238, 0.009311761794457417), (4239, 0.005819786257603831), (4240, 0.005387903433176492), (4241, 0.0048812001725476424), (4242, 0.017637793820886385), (4243, 0.0), (4244, 0.0), (4245, 0.0), (4246, 0.003988501765235787), (4247, 0.0), (4248, 0.010099305955241196), (4249, 0.0), (4250, 0.01733333167914769), (4251, 0.0), (4252, 0.07086132765042194), (4253, 0.019483936563528138), (4254, 0.003955320112723965), (4255, 0.0), (4256, 0.004470228552500172), (4257, 0.008617681763264114), (4258, 0.02477268770878445), (4259, 0.08661403962212419), (4260, 0.004452336138475789), (4261, 0.0), (4262, 0.00512403270219247), (4263, 0.015829401261986058), (4264, 0.0), (4265, 0.021198550171685857), (4266, 0.010251607546683847), (4267, 0.05258046997927438), (4268, 0.0), (4269, 0.01385341440124443), (4270, 0.10448896766444747), (4271, 0.03130972041605724), (4272, 0.035571562155235936), (4273, 0.0), (4274, 0.0), (4275, 0.0), (4276, 0.0), (4277, 0.0), (4278, 0.010072842765788115), (4279, 0.016279332787875415), (4280, 0.035722563829446684), (4281, 0.005704326132668025), (4282, 0.013629570412642142), (4283, 0.042970101290671615), (4284, 0.004842669960895548), (4285, 0.004943424789960785), (4286, 0.0), (4287, 0.004352014773107253), (4288, 0.02884064113656364), (4289, 0.008493257310686743), (4290, 0.008909141665512524), (4291, 0.004206572425064537), (4292, 0.023557694714679066), (4293, 0.004700611453456917), (4294, 0.020553429645271015), (4295, 0.004809534533927749), (4296, 0.0), (4297, 0.012905764860996633), (4298, 0.03697884518126257), (4299, 0.0), (4300, 0.012287573973119154), (4301, 0.0), (4302, 0.0), (4303, 0.03657333654568278), (4304, 0.0037807327173483645), (4305, 0.003913358926572529), (4306, 0.0), (4307, 0.0), (4308, 0.0046195787945170754), (4309, 0.0), (4310, 0.0), (4311, 0.003422410872150681), (4312, 0.010605316086470562), (4313, 0.0), (4314, 0.012992459431562055), (4315, 0.004485971449256901), (4316, 0.0), (4317, 0.037932936852995126), (4318, 0.0), (4319, 0.004329740953902343), (4320, 0.0), (4321, 0.04151985543308481), (4322, 0.009302096416527511), (4323, 0.043094430468928656), (4324, 0.10196207889082284), (4325, 0.003907215009994325), (4326, 0.0), (4327, 0.004105304381512429), (4328, 0.009221430005798354), (4329, 0.08006546234367762), (4330, 0.024370439290955403), (4331, 0.0), (4332, 0.015279270811388756), (4333, 0.0), (4334, 0.0), (4335, 0.004798138240772456), (4336, 0.0), (4337, 0.10227093078216802), (4338, 0.054857918261366205), (4339, 0.004508432642683978), (4340, 0.00957912659568814), (4341, 0.045179017057797914), (4342, 0.028409579859014367), (4343, 0.0), (4344, 0.0324644319700568), (4345, 0.019319697289505496), (4346, 0.048953157926749286), (4347, 0.04526422159232531), (4348, 0.04608905565668186), (4349, 0.0), (4350, 0.033008217477619575), (4351, 0.046136885935940765), (4352, 0.0), (4353, 0.007944382689839874), (4354, 0.008347716170053804), (4355, 0.0), (4356, 0.012531253920648674), (4357, 0.004490333097051608), (4358, 0.020059713060316592), (4359, 0.0), (4360, 0.0), (4361, 0.0), (4362, 0.028629814301109748), (4363, 0.005169244918726534), (4364, 0.017258030608492604), (4365, 0.0), (4366, 0.0), (4367, 0.004082160266307616), (4368, 0.005554685836498261), (4369, 0.023432647693823604), (4370, 0.004498970197676351), (4371, 0.014449251607359225), (4372, 0.020650107211001162), (4373, 0.0037154068753320335), (4374, 0.028703818481094302), (4375, 0.010315526234593), (4376, 0.015476131293188016), (4377, 0.0), (4378, 0.012699807135858734), (4379, 0.005113674747274169), (4380, 0.039181813583978806), (4381, 0.0), (4382, 0.004073317499929361), (4383, 0.0), (4384, 0.0), (4385, 0.0), (4386, 0.0), (4387, 0.004812504459536333), (4388, 0.009407454964591328), (4389, 0.0), (4390, 0.0), (4391, 0.025647747565999864), (4392, 0.0), (4393, 0.03241777716773839), (4394, 0.009077681944228404), (4395, 0.02692028579623216), (4396, 0.010362242737958837), (4397, 0.010307773555626891), (4398, 0.0), (4399, 0.009328856634360711), (4400, 0.032352247572296405), (4401, 0.008915575189026689), (4402, 0.004563727409759788), (4403, 0.0), (4404, 0.004303732417797961), (4405, 0.015669755335069434), (4406, 0.005220510203406334), (4407, 0.0), (4408, 0.005057587328490772), (4409, 0.0), (4410, 0.0), (4411, 0.0), (4412, 0.0), (4413, 0.004567543836564903), (4414, 0.011440157122441915), (4415, 0.0), (4416, 0.034417561481004104), (4417, 0.0), (4418, 0.0104803227277879), (4419, 0.02092078931655981), (4420, 0.02591864363802438), (4421, 0.004397331584727377), (4422, 0.004353164145973164), (4423, 0.026348073001707464), (4424, 0.0), (4425, 0.0), (4426, 0.02886366224472113), (4427, 0.034601768136495535), (4428, 0.02191070597958599), (4429, 0.0), (4430, 0.02942807890859666), (4431, 0.010556493799479023), (4432, 0.0), (4433, 0.004394922223693737), (4434, 0.004035321266143316), (4435, 0.02046489866781763), (4436, 0.027284894928055723), (4437, 0.01136754224484247), (4438, 0.013611324180583615), (4439, 0.007334135040547787), (4440, 0.018379712773410384), (4441, 0.014339227506699085), (4442, 0.02862905043196061), (4443, 0.0), (4444, 0.006465267784671202), (4445, 0.0), (4446, 0.015765794214008085), (4447, 0.012224594821063578), (4448, 0.009553585089675628), (4449, 0.005791074321836775), (4450, 0.00437511803177214), (4451, 0.004970141135811878), (4452, 0.027802134366336335), (4453, 0.004703401443014046), (4454, 0.07894906564269248), (4455, 0.05531107220313332), (4456, 0.008217937340771924), (4457, 0.03794630182937672), (4458, 0.0), (4459, 0.009496328103763142), (4460, 0.010369528621137044), (4461, 0.0), (4462, 0.005577511700893913), (4463, 0.0046758186422404405), (4464, 0.05009551060895952), (4465, 0.0), (4466, 0.00830928362175597), (4467, 0.013340893361800249), (4468, 0.0), (4469, 0.0), (4470, 0.0), (4471, 0.0), (4472, 0.004770937933268647), (4473, 0.007967314230045597), (4474, 0.021445580311535553), (4475, 0.0), (4476, 0.0), (4477, 0.005766106129506239), (4478, 0.14428837070889927), (4479, 0.026467112463950546), (4480, 0.04550644473139763), (4481, 0.004715630651840441), (4482, 0.033985000375198686), (4483, 0.04037029983593418), (4484, 0.019161874020274913), (4485, 0.0), (4486, 0.020012491871266545), (4487, 0.0), (4488, 0.0), (4489, 0.004467726183419355), (4490, 0.0), (4491, 0.00868267735272186), (4492, 0.05712940361752034), (4493, 0.008642027541321906), (4494, 0.0), (4495, 0.0), (4496, 0.00482162374201148), (4497, 0.0), (4498, 0.0069044537094362325), (4499, 0.0), (4500, 0.01224014280953634), (4501, 0.01741943153897357), (4502, 0.0), (4503, 0.004977621217447034), (4504, 0.00476352428600293), (4505, 0.0), (4506, 0.005029311543974869), (4507, 0.004838503417823802), (4508, 0.0), (4509, 0.019864413297018973), (4510, 0.0), (4511, 0.004908929469457579), (4512, 0.0), (4513, 0.0), (4514, 0.0050952875539953205), (4515, 0.015798383038365144), (4516, 0.03363241644061325), (4517, 0.0), (4518, 0.0), (4519, 0.03646873118502034), (4520, 0.0), (4521, 0.0), (4522, 0.004590652567801758), (4523, 0.012354893148141047), (4524, 0.005889723799493006), (4525, 0.0), (4526, 0.038636318730743566), (4527, 0.0), (4528, 0.03273441695611932), (4529, 0.0), (4530, 0.004119774062257317), (4531, 0.01672882214912068), (4532, 0.0), (4533, 0.0081668826959615), (4534, 0.0), (4535, 0.008931542755579657), (4536, 0.0), (4537, 0.005483427468922503), (4538, 0.0), (4539, 0.0), (4540, 0.0), (4541, 0.00806146979582283), (4542, 0.016116012105288333), (4543, 0.0), (4544, 0.0), (4545, 0.010994132930850772), (4546, 0.036331560068681185), (4547, 0.0), (4548, 0.004626583689324549), (4549, 0.01674539623934493), (4550, 0.11492171441233635), (4551, 0.010924226300310903), (4552, 0.016896012962397428), (4553, 0.0), (4554, 0.0890191223483239), (4555, 0.03141648541355323), (4556, 0.013181356035293808), (4557, 0.04470745370276223), (4558, 0.003690936613144963), (4559, 0.026878831050287537), (4560, 0.004479799855454127), (4561, 0.0), (4562, 0.02589558829391337), (4563, 0.0), (4564, 0.01649168932668295), (4565, 0.017185258581536567), (4566, 0.0127428423618988), (4567, 0.0), (4568, 0.009226375541203842), (4569, 0.027532413700776255), (4570, 0.0455285085015172), (4571, 0.00669372346212553), (4572, 0.0), (4573, 0.0), (4574, 0.032686125365882314), (4575, 0.0), (4576, 0.009587564383158421), (4577, 0.013196033026912192), (4578, 0.0), (4579, 0.0), (4580, 0.004700696350971184), (4581, 0.020254799689570623), (4582, 0.0), (4583, 0.0), (4584, 0.0), (4585, 0.0), (4586, 0.0), (4587, 0.0), (4588, 0.007728167062972187), (4589, 0.03278491407229059), (4590, 0.013516697194027314), (4591, 0.0), (4592, 0.009119676218781689), (4593, 0.0), (4594, 0.005813395375929653), (4595, 0.0), (4596, 0.012412819192924387), (4597, 0.0), (4598, 0.007266200270260492), (4599, 0.04359531008156351), (4600, 0.008371713279647678), (4601, 0.0), (4602, 0.0), (4603, 0.0039293965578411595), (4604, 0.03475182103570037), (4605, 0.0), (4606, 0.0), (4607, 0.0), (4608, 0.009015556404468529), (4609, 0.024447265652022748), (4610, 0.003535395503432747), (4611, 0.016112389896188666), (4612, 0.01879184355784764), (4613, 0.05252379433499952), (4614, 0.0), (4615, 0.0), (4616, 0.0), (4617, 0.0), (4618, 0.0), (4619, 0.0), (4620, 0.0), (4621, 0.005157469332550903), (4622, 0.004471469614053551), (4623, 0.0), (4624, 0.021004313136221718), (4625, 0.0), (4626, 0.006451598324767047), (4627, 0.0036145807907965836), (4628, 0.00869585879391167), (4629, 0.005148694919839064), (4630, 0.0), (4631, 0.005115466689731276), (4632, 0.0), (4633, 0.004950588607091387), (4634, 0.03273136214727189), (4635, 0.007020163055826213), (4636, 0.0035523794067192495), (4637, 0.03576670707812256), (4638, 0.0), (4639, 0.0), (4640, 0.0), (4641, 0.0), (4642, 0.0), (4643, 0.008208269470860646), (4644, 0.0), (4645, 0.0), (4646, 0.006292796473351619), (4647, 0.008272175521425751), (4648, 0.004356526929346931), (4649, 0.004532591903199901), (4650, 0.03724650352052242), (4651, 0.0), (4652, 0.010764788095139647), (4653, 0.09370752732807106), (4654, 0.0), (4655, 0.004458820196719335), (4656, 0.0), (4657, 0.01092653495707654), (4658, 0.019256992056753658), (4659, 0.016289278738328205), (4660, 0.0060861053864945626), (4661, 0.0), (4662, 0.027398212585965497), (4663, 0.008165385514157334), (4664, 0.0), (4665, 0.0), (4666, 0.03435858539828077), (4667, 0.00393937046825786), (4668, 0.0), (4669, 0.0), (4670, 0.0), (4671, 0.0), (4672, 0.0), (4673, 0.009839920555329017), (4674, 0.007928122274170621), (4675, 0.05122606640735174), (4676, 0.03983612886636906), (4677, 0.020536974811573815), (4678, 0.0), (4679, 0.01761000323811735), (4680, 0.05182919628497405), (4681, 0.0), (4682, 0.009578198841888172), (4683, 0.0), (4684, 0.020784996866982066), (4685, 0.004845583798020626), (4686, 0.004965616159081347), (4687, 0.004825942979616855), (4688, 0.004182720523993738), (4689, 0.004503579920131017), (4690, 0.003950470040852115), (4691, 0.0), (4692, 0.0), (4693, 0.0), (4694, 0.0), (4695, 0.005201479290168247), (4696, 0.0), (4697, 0.0), (4698, 0.0), (4699, 0.0), (4700, 0.005703777933756805), (4701, 0.0), (4702, 0.030048379781667717), (4703, 0.008552655332720007), (4704, 0.0), (4705, 0.0), (4706, 0.004680018998923393), (4707, 0.0), (4708, 0.020212159982374595), (4709, 0.0), (4710, 0.01284180603018163), (4711, 0.015903134895693595), (4712, 0.018348035538462988), (4713, 0.0), (4714, 0.0), (4715, 0.0), (4716, 0.0), (4717, 0.004974023489671906), (4718, 0.04191067059593214), (4719, 0.008158634983103348), (4720, 0.04060191760583216), (4721, 0.0052428242539251215), (4722, 0.0), (4723, 0.0), (4724, 0.0), (4725, 0.04022245593624949), (4726, 0.02993246357691258), (4727, 0.0), (4728, 0.0), (4729, 0.0), (4730, 0.011033092189468227), (4731, 0.0), (4732, 0.06861834456812009), (4733, 0.0), (4734, 0.004552389277241944), (4735, 0.0), (4736, 0.0), (4737, 0.015277968637526855), (4738, 0.00421056614919041), (4739, 0.0), (4740, 0.012024093846345637), (4741, 0.0), (4742, 0.02227892336179698), (4743, 0.0), (4744, 0.0034148629687638277), (4745, 0.006243279565028459), (4746, 0.004777864417199623), (4747, 0.0), (4748, 0.00427449757978858), (4749, 0.03924023226065766), (4750, 0.0), (4751, 0.0), (4752, 0.010812646527137083), (4753, 0.0), (4754, 0.1276296999332488), (4755, 0.004965469284965668), (4756, 0.013985858120336845), (4757, 0.021389094288182857), (4758, 0.09915451424438941), (4759, 0.0)]\n"
          ]
        }
      ]
    },
    {
      "cell_type": "code",
      "source": [
        "len(Recommendation_Score)"
      ],
      "metadata": {
        "colab": {
          "base_uri": "https://localhost:8080/"
        },
        "id": "9EK-R2Jz937Y",
        "outputId": "f51a0025-eaef-486b-c433-7e35a5c7376c"
      },
      "execution_count": 50,
      "outputs": [
        {
          "output_type": "execute_result",
          "data": {
            "text/plain": [
              "4760"
            ]
          },
          "metadata": {},
          "execution_count": 50
        }
      ]
    },
    {
      "cell_type": "markdown",
      "source": [
        "### Get All Movies Sort Based on Recommendation Score wrt Favourite Movie"
      ],
      "metadata": {
        "id": "0yzPYzJH-B83"
      }
    },
    {
      "cell_type": "code",
      "source": [
        "Sorted_Similar_Movies =  sorted(Recommendation_Score, key =  lambda x:x[1], reverse =  True)\n",
        "\n",
        "print(Sorted_Similar_Movies)"
      ],
      "metadata": {
        "colab": {
          "base_uri": "https://localhost:8080/"
        },
        "id": "xF-EUaDQ-UBv",
        "outputId": "ce470bd6-3e62-4caf-aab5-a6bf4ed4cacf"
      },
      "execution_count": 51,
      "outputs": [
        {
          "output_type": "stream",
          "name": "stdout",
          "text": [
            "[(361, 1.0), (362, 0.4540620208697891), (363, 0.3191529096986341), (1601, 0.23883810568393965), (3980, 0.21931077593771403), (1218, 0.20677326179178462), (3208, 0.17738384705157031), (3470, 0.1652843694212699), (3562, 0.1574954349943148), (3587, 0.14715367174278315), (4478, 0.14428837070889927), (1798, 0.1420556261751428), (4136, 0.13741991634692802), (1577, 0.13424212387290946), (1223, 0.13366213910160651), (3641, 0.1302305046397717), (4754, 0.1276296999332488), (1099, 0.1257007371844377), (2504, 0.12243621872636778), (365, 0.12019554192303838), (2101, 0.11924672081582346), (179, 0.1187047400097779), (1800, 0.11785699312695194), (724, 0.11774310521609886), (1784, 0.11594906712952772), (3948, 0.11577918332527917), (4550, 0.11492171441233635), (3846, 0.11189803993325223), (1547, 0.1103932693824064), (2532, 0.10796869979734613), (713, 0.10756716713944618), (1965, 0.10737409341900438), (842, 0.10620075619232455), (368, 0.10583411711035409), (204, 0.1056446104598496), (1679, 0.10512660916574777), (2086, 0.10505039705659998), (297, 0.10485325761475646), (4270, 0.10448896766444747), (1726, 0.10419709756807224), (912, 0.10364685920034127), (3817, 0.10330819569567048), (2371, 0.10244513087666236), (4337, 0.10227093078216802), (4324, 0.10196207889082284), (1188, 0.10182371858619964), (1689, 0.10179530765545305), (4758, 0.09915451424438941), (606, 0.09679979894607252), (1755, 0.0967968465939222), (859, 0.0956954522478402), (2590, 0.09546414394557617), (2758, 0.09500025852680867), (1758, 0.09399894582478201), (1321, 0.09394764464201232), (3286, 0.09394411592988229), (4653, 0.09370752732807106), (781, 0.09317500164492216), (3942, 0.09231044987961914), (699, 0.09226603661549629), (2927, 0.0922246592842236), (1538, 0.0917887278910712), (2032, 0.09124225685620871), (225, 0.08954771972210017), (385, 0.08944928101894338), (2796, 0.08924459973370533), (1867, 0.08917564591332197), (4554, 0.0890191223483239), (1804, 0.08874277575319682), (38, 0.0883204620451264), (1820, 0.08825495881789835), (4259, 0.08661403962212419), (1090, 0.08623606318245093), (667, 0.0850088965393713), (1266, 0.08458283874877218), (1307, 0.08453051605561807), (1902, 0.08396964939541599), (1206, 0.08305864166052777), (3694, 0.08294645023678558), (1201, 0.08259200971873953), (2450, 0.08259090045379582), (1911, 0.08248618811755976), (2559, 0.08228919296099993), (2106, 0.08215049098949262), (2294, 0.0813415472396559), (139, 0.08117307752765858), (40, 0.08115682323425745), (3435, 0.08078662802941941), (300, 0.08065868681408055), (3141, 0.0804727913454789), (576, 0.0803454159733998), (429, 0.08032499634443131), (4329, 0.08006546234367762), (1935, 0.07989802041452759), (882, 0.07978896759901215), (3847, 0.07978667514441626), (990, 0.07950432763767755), (2729, 0.0793933323530635), (1473, 0.07919905630148981), (4454, 0.07894906564269248), (1766, 0.07884617600003474), (2102, 0.0784127049469368), (285, 0.07773798866428117), (3259, 0.07767293488807755), (381, 0.07765042902010034), (923, 0.07743012420883476), (3631, 0.07707512410536133), (1837, 0.07674877084681736), (2225, 0.07603148751837735), (1928, 0.07588657102635357), (1368, 0.07582840025456436), (3519, 0.0756524387167799), (3419, 0.075535648738169), (909, 0.07549900528585994), (493, 0.07514953774766991), (3790, 0.0749899841067641), (401, 0.0747340930606582), (797, 0.07472750780860585), (3444, 0.0744642794221899), (2657, 0.07428593502830526), (2136, 0.07417763087701093), (3609, 0.07396673842218243), (961, 0.07390855129255951), (792, 0.07386291646280216), (3344, 0.07347400663169734), (153, 0.07323353586681888), (2790, 0.07300819170326928), (2718, 0.07285906964426662), (3257, 0.07281153116277492), (3685, 0.0726033828404725), (2654, 0.07248839507852722), (3671, 0.0724635946978564), (367, 0.07209239164216924), (3539, 0.07199194442893618), (2076, 0.07183057398776316), (1495, 0.07142549851061183), (1705, 0.07139389697176844), (535, 0.07138635006595424), (2035, 0.07122214802779492), (1542, 0.07114381635191372), (4252, 0.07086132765042194), (695, 0.07059407672544527), (3169, 0.07044365441463453), (2675, 0.07036592452474813), (3312, 0.07021894106587799), (2008, 0.07018588147813065), (1256, 0.07013100590699675), (1706, 0.07004465800065864), (2616, 0.06992939201544261), (3792, 0.06987953077927928), (1422, 0.06945734129350914), (1114, 0.0688307553286709), (4732, 0.06861834456812009), (3461, 0.06861652379964732), (4010, 0.06847722478309798), (420, 0.06824958811552852), (3680, 0.06816980884753622), (301, 0.06793237037848661), (666, 0.06787468459542277), (3739, 0.06786225164763221), (58, 0.06779367534706411), (1157, 0.06757650487958314), (1581, 0.06748316845214562), (2021, 0.06731529693105291), (298, 0.06708458403681582), (2693, 0.06642587109675159), (751, 0.0661369356698042), (2472, 0.06607880934403665), (1355, 0.06605363162695843), (854, 0.06581482987780755), (322, 0.06549757447361601), (1995, 0.06520697722938601), (4218, 0.06513086360909251), (3591, 0.06490574023382681), (3695, 0.0648449449003454), (1675, 0.06482791499005426), (3390, 0.06474705302575032), (444, 0.06459822463934467), (3454, 0.06442273471713625), (4034, 0.0644022221723241), (681, 0.06432323637302784), (1011, 0.0643151409317044), (4173, 0.06426104886905089), (299, 0.06420941068920713), (4000, 0.06397948912660373), (3623, 0.06397010866133046), (1788, 0.06396352708948481), (2125, 0.06386492166516096), (340, 0.06369715921048148), (714, 0.06362286460686364), (1067, 0.06361487488251602), (778, 0.06353342050172642), (2940, 0.06324368816681145), (2295, 0.06299744154282355), (1374, 0.06298320162015547), (1327, 0.06294554697089201), (528, 0.06277291435830397), (1720, 0.06264339060561129), (339, 0.06258747263250321), (4068, 0.06219832112435247), (3468, 0.0618050957403069), (4135, 0.061801158562711796), (3613, 0.061778869700554684), (1156, 0.061777972985664016), (369, 0.061371679282076326), (3202, 0.06127235851362712), (1998, 0.06119277152898253), (2117, 0.06114362269564502), (1530, 0.06061697736107339), (520, 0.06003950317225149), (2584, 0.060012759489657216), (2019, 0.05992041321292844), (3812, 0.059876029009490725), (82, 0.05980669520774839), (726, 0.05980224435973596), (670, 0.05961685441823345), (1578, 0.05939381868880852), (2421, 0.05936433634909255), (3, 0.05933458445590986), (2443, 0.05857799205818663), (2329, 0.05851271214665941), (1874, 0.05848352580197069), (1505, 0.05838266161194666), (1555, 0.05834339910504938), (2147, 0.05826690631547157), (3244, 0.058255648798773395), (1293, 0.05821574218143464), (1600, 0.058206450669126095), (1810, 0.05800015798435966), (3698, 0.05793796220597287), (2799, 0.05791082079169427), (2651, 0.057810837523954384), (1529, 0.05770546104231638), (1926, 0.057629701308325454), (998, 0.05749139411585188), (2740, 0.0574646880281051), (1957, 0.05729520326052153), (3566, 0.05722735937294267), (4492, 0.05712940361752034), (2316, 0.05712147287628237), (3234, 0.05692892198641662), (2157, 0.05682771083626122), (3840, 0.0567742212218084), (505, 0.056745606446448875), (2691, 0.056433242606848816), (2733, 0.05593579690859659), (219, 0.055674378296331914), (2877, 0.05559793485406296), (2433, 0.05557726414820781), (1001, 0.05542378687900914), (1515, 0.05531601226612878), (4455, 0.05531107220313332), (957, 0.05520026528799294), (345, 0.05516325154722493), (1196, 0.05515454377408562), (3697, 0.055108052779276766), (4099, 0.0550957428834744), (615, 0.0550164622352237), (4338, 0.054857918261366205), (469, 0.05473004154820028), (437, 0.05468958337360354), (1207, 0.05453538052752118), (2597, 0.05440963376703716), (1673, 0.05430113163642451), (263, 0.054074018838492076), (2510, 0.05402179282517854), (344, 0.053960360699948896), (3297, 0.05390388862540949), (2715, 0.053860518419204355), (2163, 0.05379080997852669), (2084, 0.05353659470534588), (492, 0.05334590419277427), (1961, 0.05333098837009479), (2183, 0.0533281470176361), (1700, 0.05331023279152409), (661, 0.05329767360282808), (1841, 0.05293761073484987), (3822, 0.052937582924633894), (2013, 0.05276527041399631), (1195, 0.05275934000317442), (1238, 0.052686141381691344), (4267, 0.05258046997927438), (3475, 0.052536642913392176), (4613, 0.05252379433499952), (752, 0.052421105392228246), (2719, 0.052375542036591644), (1317, 0.05225699925370927), (1669, 0.052172748863751055), (2635, 0.05215827633970969), (736, 0.052110369628766806), (2332, 0.052047747062596975), (1844, 0.051983422051316265), (4680, 0.05182919628497405), (3039, 0.051792047570886526), (2370, 0.051682053024239755), (391, 0.05157069846775347), (609, 0.051422571883014224), (807, 0.051342140209462185), (4675, 0.05122606640735174), (3979, 0.05114773406057095), (1769, 0.05100651211200737), (2301, 0.05100079704534694), (1246, 0.05091516661272284), (1106, 0.05074002091472758), (1346, 0.050670022954702215), (3798, 0.05062390206658837), (2, 0.05057088329431939), (2338, 0.050550266246067996), (3763, 0.05033928576370248), (3878, 0.05029429406875121), (631, 0.0502118938647442), (1405, 0.050143168345941964), (4464, 0.05009551060895952), (3805, 0.050028852668986476), (577, 0.04984106389514118), (1304, 0.049638274413021544), (3091, 0.049621769678093224), (977, 0.04940081243338449), (2414, 0.04936165748552519), (1836, 0.049306344068966536), (1085, 0.04918478556100816), (1511, 0.04900685735283566), (409, 0.04896236422686471), (4346, 0.048953157926749286), (1602, 0.048493759341852204), (1143, 0.04843368618996171), (3772, 0.048341208272126034), (906, 0.0481730225888828), (392, 0.04801518658149651), (2437, 0.047933387363608984), (3870, 0.0479318513634806), (722, 0.04790179348283446), (3384, 0.047897707684510474), (1226, 0.04788808454201138), (816, 0.047771229008695064), (1534, 0.04752319632249926), (3865, 0.04742795928430014), (1467, 0.0473792326445157), (2964, 0.04737553931844073), (4091, 0.04731069055120987), (4199, 0.047249091446562315), (2813, 0.04723101488872178), (2537, 0.04712787012298864), (1373, 0.04711965882170691), (2843, 0.047105512029909494), (3256, 0.04693846738017333), (2151, 0.04687301878373867), (949, 0.04686332930417082), (271, 0.046828227392875364), (3272, 0.04677925877153289), (2150, 0.04672073349101553), (2381, 0.04662856562730826), (648, 0.046612007720536044), (1640, 0.046466808451407264), (1876, 0.04634414362478016), (3960, 0.04631742941370428), (1496, 0.04627031392759121), (4351, 0.046136885935940765), (966, 0.04610914173321023), (4348, 0.04608905565668186), (3143, 0.04607231011466077), (2365, 0.046052178396191065), (1893, 0.04588344382381477), (203, 0.04586681690825695), (4143, 0.0458569809251351), (1509, 0.0457348056680191), (185, 0.0456119128870229), (1079, 0.04557633876008326), (4196, 0.04557295284736839), (396, 0.04555231216564331), (4570, 0.0455285085015172), (4480, 0.04550644473139763), (1980, 0.0454871552472034), (1923, 0.04534958667676281), (4347, 0.04526422159232531), (4341, 0.045179017057797914), (4121, 0.045125281113912175), (2058, 0.04512403565064474), (461, 0.04510284838257176), (646, 0.04498102840115291), (3187, 0.04494884726699837), (4119, 0.04490046887261735), (480, 0.044876638304331695), (2507, 0.04482060542427839), (1448, 0.044791237148604515), (4557, 0.04470745370276223), (3484, 0.04441767560685551), (1953, 0.04436834120212623), (900, 0.044320733457611734), (4037, 0.04427716196959655), (624, 0.0442474625737526), (2642, 0.04418871233840505), (2822, 0.04407679423453251), (756, 0.044023775536047596), (2263, 0.043992470966845235), (813, 0.04392653102101548), (2259, 0.043916822985603586), (2079, 0.04382145645625613), (217, 0.04376253866687538), (417, 0.04373335968100527), (527, 0.04365624642375382), (404, 0.0436545138177831), (4210, 0.043637650577259685), (4599, 0.04359531008156351), (715, 0.04357602349232506), (3181, 0.0435638569354668), (1664, 0.04353057832931729), (2893, 0.0435231152167407), (2547, 0.043512176081964636), (1474, 0.04328107098344477), (3988, 0.043242310791990125), (3574, 0.04318294478361237), (2672, 0.04312741694050697), (4323, 0.043094430468928656), (2688, 0.0430464817306877), (2073, 0.04303965928799684), (3397, 0.04303917418443405), (1999, 0.04302273894248344), (4283, 0.042970101290671615), (2015, 0.04283553661514764), (1616, 0.0428037740816287), (1697, 0.04273997555219985), (3965, 0.042640824653645326), (4082, 0.042581103036919796), (4058, 0.042498143931571725), (2167, 0.042497619352234964), (57, 0.04247933476537726), (1843, 0.04238445913958251), (2198, 0.04232554940513982), (1022, 0.042312172900303015), (4111, 0.042259203812455834), (3890, 0.04225359486028262), (1361, 0.04223838842069194), (1204, 0.042188642724439875), (1672, 0.04218296607430877), (3735, 0.0421457200396884), (4112, 0.04199370978861265), (2137, 0.041940432205515195), (4718, 0.04191067059593214), (2440, 0.04190218302522087), (916, 0.04175984904406266), (1525, 0.04168608840975083), (3571, 0.04166383687356799), (3628, 0.041649090943535645), (3217, 0.04164894914114764), (1840, 0.041547190903666334), (2898, 0.041543381739831534), (4321, 0.04151985543308481), (245, 0.04130280085747418), (570, 0.04128628952449764), (717, 0.04127134118153211), (981, 0.04122459722856125), (4086, 0.04121400112129079), (343, 0.04116531500399921), (421, 0.0411300767827642), (3336, 0.04110747502003571), (1420, 0.04109863532936846), (3884, 0.041027800756769955), (955, 0.04096061658195709), (662, 0.040910831465581624), (1172, 0.04087465369845085), (3193, 0.040808821996678325), (177, 0.04079429811084183), (772, 0.04075200877245085), (471, 0.04072664354647307), (1333, 0.04061530606455069), (4720, 0.04060191760583216), (3401, 0.040560750558845726), (14, 0.04054093593032666), (431, 0.04051527794594082), (705, 0.040499421786709885), (1484, 0.040478531348399426), (2095, 0.04042145027792144), (2531, 0.04041322651790181), (4483, 0.04037029983593418), (1948, 0.04022669193880948), (4725, 0.04022245593624949), (3335, 0.04020194555613633), (2938, 0.04017791250026424), (4188, 0.040176705585915275), (2564, 0.04015190814823335), (1570, 0.040091817171904964), (2022, 0.04005709944021323), (3501, 0.040048575888916846), (1105, 0.04004826127289644), (3530, 0.04003503821368794), (1891, 0.03995195264067729), (3472, 0.03991924434915081), (3563, 0.03990939140871844), (633, 0.03990703435961034), (540, 0.03989809879072506), (3515, 0.039860868982903475), (116, 0.03985708022325038), (4676, 0.03983612886636906), (2100, 0.03982671119107704), (1615, 0.03972121099433605), (3074, 0.03965282112345583), (2755, 0.039648245961478014), (1253, 0.03963440103033635), (1606, 0.039561343593024725), (1850, 0.039513279871522186), (4011, 0.03948436545268371), (915, 0.03947420526597124), (851, 0.03945449759021), (1165, 0.03945214619209503), (1310, 0.03944299100815166), (725, 0.03943183586904284), (1652, 0.03938988643738151), (3287, 0.03937349667125946), (803, 0.03936700592075076), (1182, 0.03928165799160728), (4749, 0.03924023226065766), (2749, 0.039186572046664675), (4380, 0.039181813583978806), (2291, 0.0390443605846172), (2775, 0.03901218659725543), (568, 0.03897881575636249), (460, 0.038928597980999374), (2890, 0.038911056687576745), (3018, 0.038906668796493155), (29, 0.03890614589370768), (130, 0.03890473204956838), (4114, 0.03882912163255114), (2650, 0.03882549476970586), (2322, 0.03873006458235556), (2046, 0.03872925548311531), (2708, 0.038715547825159166), (2001, 0.03870444176000228), (4526, 0.038636318730743566), (2462, 0.03863012807903454), (4134, 0.03857294161561355), (3930, 0.03856958903292132), (1936, 0.03843840696048879), (4155, 0.03840332210902593), (2652, 0.03839896650286374), (1046, 0.03833246975583884), (2153, 0.03829486133383405), (2867, 0.03826919959554244), (4191, 0.03822062404944014), (3399, 0.03816980390603521), (4017, 0.0381419070078342), (3747, 0.03811463145806219), (1612, 0.03810567394625802), (4195, 0.03806354227646624), (4457, 0.03794630182937672), (4317, 0.037932936852995126), (1150, 0.03792625270803955), (3703, 0.03788048088994189), (2923, 0.037870795775088825), (1169, 0.03782577227852932), (2846, 0.037817440210568), (1198, 0.03770073917087451), (2752, 0.03768802692585595), (2461, 0.037671407744308064), (3803, 0.0376413074668197), (2875, 0.03760973254488601), (700, 0.03759386326953157), (325, 0.03756312398339138), (3406, 0.03750545425143713), (1460, 0.03750054634182403), (3868, 0.0374144638317096), (354, 0.03738807109664504), (102, 0.037336486206260046), (2600, 0.03733323093957771), (712, 0.03727898417784287), (4650, 0.03724650352052242), (774, 0.03721834527961314), (1521, 0.03715681241742089), (2298, 0.037074992423038224), (1291, 0.037031520327115874), (1417, 0.03700224660058022), (4298, 0.03697884518126257), (891, 0.0369497708937787), (2456, 0.03686910025714826), (2939, 0.03685514653157987), (4120, 0.03683170759301595), (1336, 0.03679450913055585), (3366, 0.0367834077925579), (1147, 0.036757577498023684), (569, 0.03674089072116594), (2410, 0.036697643539272615), (498, 0.03668261684476817), (2171, 0.03659474509614748), (4303, 0.03657333654568278), (3467, 0.036548347648560776), (2283, 0.036515640814367645), (3998, 0.0364985877691312), (4519, 0.03646873118502034), (506, 0.03642487383241184), (357, 0.03640801891307028), (2451, 0.03638143550674072), (674, 0.03638029501991583), (4546, 0.036331560068681185), (1489, 0.036316541736712164), (1320, 0.036310306361230824), (2781, 0.03628277708430298), (4142, 0.03624241378221978), (2930, 0.03622722894437691), (1634, 0.036207845877142424), (1964, 0.0361702305040902), (1502, 0.036089128061097125), (2491, 0.03605190361126507), (1794, 0.03595175585014199), (4140, 0.035942358826913795), (3044, 0.03591636273182816), (3536, 0.03586448833183782), (4009, 0.03585959914441989), (2549, 0.03583464972546521), (3633, 0.03580450579459898), (1982, 0.0358015384123191), (4637, 0.03576670707812256), (4280, 0.035722563829446684), (2931, 0.03568741869400657), (3015, 0.03561729878162103), (1433, 0.035601091376329455), (4272, 0.035571562155235936), (3205, 0.035520152452609095), (1494, 0.035491372753820555), (3128, 0.03543088092947134), (3871, 0.03535547286934524), (1908, 0.035349749339611304), (4215, 0.035336625644879806), (518, 0.035336554079205724), (2124, 0.03531158411154946), (1308, 0.03530181532966709), (2328, 0.03527079399267022), (1955, 0.03523275128020637), (1540, 0.03521119309138686), (2161, 0.035070709673591174), (3395, 0.03498814597060904), (920, 0.03496419816776998), (610, 0.034960830523791016), (3184, 0.03485984158682638), (1270, 0.03481709777778225), (3324, 0.03477659865767429), (4604, 0.03475182103570037), (3779, 0.03470083054557359), (1637, 0.03466813497908505), (443, 0.03464642783271601), (2484, 0.03462260126740952), (4427, 0.034601768136495535), (2954, 0.03459218193288735), (3912, 0.03457459584289506), (2055, 0.03456434738147301), (1382, 0.03452844169417374), (719, 0.03447606337451472), (277, 0.03445819463986432), (4113, 0.034436973916119024), (4416, 0.034417561481004104), (918, 0.03439321054798306), (3752, 0.034392172030937966), (2513, 0.034366078906893874), (4666, 0.03435858539828077), (2924, 0.034318208602406516), (13, 0.03424604600510014), (2459, 0.03421112689884946), (1466, 0.034191609337370255), (3337, 0.034143741449140494), (2246, 0.03411064751165138), (2115, 0.034108303383647516), (3482, 0.03408160122608981), (1288, 0.03407137801965067), (1112, 0.034030368999701376), (4482, 0.033985000375198686), (3073, 0.033942653542488946), (1656, 0.03392610653711779), (1146, 0.033916669419716314), (1731, 0.033893442987542155), (2247, 0.03389119335629267), (919, 0.03382330215108617), (4118, 0.033780362047851675), (2521, 0.03371215856951736), (2165, 0.033672413331466235), (4516, 0.03363241644061325), (59, 0.033496050586092334), (388, 0.03347750277316149), (3398, 0.03347311400847591), (2952, 0.033463132355685356), (1013, 0.03340402195143806), (1650, 0.03337296154521038), (1497, 0.03336995710790715), (1021, 0.033320794966420826), (3403, 0.03327326175153527), (521, 0.03324241334014913), (1179, 0.03322965027831345), (758, 0.03320502396276259), (4138, 0.03320242848793956), (968, 0.03317331896683503), (347, 0.03315467164051232), (3186, 0.03315345429038167), (2307, 0.03315137399116272), (3292, 0.033129928943781715), (2615, 0.033117809627625575), (2539, 0.03306283999226721), (3612, 0.03305542143689033), (2406, 0.03301539560317315), (4350, 0.033008217477619575), (1607, 0.03298782865481279), (1883, 0.03295951801397255), (2425, 0.032891829558754616), (3457, 0.03286776021609199), (937, 0.03283843444731123), (1286, 0.032794475141952044), (192, 0.03278703188007881), (4589, 0.03278491407229059), (4528, 0.03273441695611932), (4634, 0.03273136214727189), (3796, 0.03268733724813563), (635, 0.03268666411996349), (4574, 0.032686125365882314), (4207, 0.03267397447740909), (1962, 0.03257321521151633), (1232, 0.0325690542763629), (1284, 0.03256371642897973), (2284, 0.03249411903179901), (1711, 0.03247218129262112), (4344, 0.0324644319700568), (1724, 0.032454890930164085), (128, 0.032437246040390465), (4393, 0.03241777716773839), (2285, 0.03238466425829969), (546, 0.032362948456605256), (3943, 0.03236134820992015), (4400, 0.032352247572296405), (4162, 0.03235114071658451), (1389, 0.032344877911107), (441, 0.032319447281634134), (720, 0.032259959066884586), (2029, 0.03225949271952875), (1031, 0.03223085851167027), (2666, 0.03221346494127525), (856, 0.03221186607466399), (2479, 0.03218787281647056), (3306, 0.03215858151496562), (3294, 0.0321313750543994), (1524, 0.03209374046303201), (2367, 0.03207176406889433), (2014, 0.032048692977398624), (61, 0.032043033355743614), (1714, 0.032038465701747634), (3512, 0.03196404037295568), (1565, 0.03196071396423528), (3221, 0.031953611826871266), (3991, 0.03194528136509237), (3611, 0.03193615872860667), (3077, 0.03192304825089552), (3568, 0.03191962812252181), (2516, 0.03190013743777704), (1775, 0.03185362164031698), (4012, 0.03183225216189217), (53, 0.031784278786909245), (336, 0.03177919171600849), (2574, 0.03177053020667227), (4152, 0.031754726962048944), (1241, 0.031738772799191343), (703, 0.03173092345990753), (303, 0.03172873355008753), (351, 0.03172419453036439), (1613, 0.03172262930150679), (1392, 0.031659083275922255), (1155, 0.03163121799652802), (805, 0.031602385606199226), (1704, 0.03142688764136308), (757, 0.031422604783429925), (4555, 0.03141648541355323), (3218, 0.03141476194971952), (3920, 0.031399666272747005), (1372, 0.0313798369617525), (2254, 0.03137660715506939), (1073, 0.0313255772992834), (3774, 0.031310015334954866), (4271, 0.03130972041605724), (1805, 0.03130943906032676), (1677, 0.031273439767338665), (3007, 0.031236675773164947), (1025, 0.031227407526139218), (1785, 0.031178238509065315), (2555, 0.031159550560118467), (2919, 0.031138441067597944), (1779, 0.03113011000705638), (3607, 0.03111344774973464), (1943, 0.031092529549685617), (3826, 0.031087641423463486), (1827, 0.031066280479619988), (3089, 0.031058154970010864), (1539, 0.030950874774486173), (2856, 0.03092360399671286), (821, 0.030918979406138844), (4094, 0.03085719107641953), (4031, 0.03084907230032769), (597, 0.03076821718087481), (2644, 0.03075283328217222), (1000, 0.030738226293254865), (1866, 0.030690964064752933), (1166, 0.03068938790277305), (1520, 0.030668634515937362), (3659, 0.030633691225666556), (255, 0.030618437208180173), (1111, 0.030594150439350237), (2763, 0.030592141622308194), (787, 0.03058568175227854), (20, 0.030583326111274026), (2816, 0.030539902396632207), (2041, 0.030533174529891217), (1171, 0.03048694549019853), (56, 0.03048206422471348), (2545, 0.03046285697990301), (899, 0.030459333271827375), (1932, 0.030455394965274364), (410, 0.030441805019480718), (2376, 0.030427610100028958), (1016, 0.030427223778256074), (35, 0.030400005954933675), (2179, 0.030361853505484128), (3267, 0.03035332832848371), (2218, 0.030336072174879932), (702, 0.030238127445001713), (969, 0.030203285744500173), (2699, 0.030152238497613025), (2203, 0.030150090549051416), (37, 0.03007573879142441), (4702, 0.030048379781667717), (2335, 0.03003798398652533), (2069, 0.029993487089989404), (4070, 0.029944443702495632), (4726, 0.02993246357691258), (2389, 0.029919595069502904), (630, 0.029899382557915046), (1003, 0.02988685608493588), (1225, 0.02985354386803632), (2847, 0.029843913621795184), (3815, 0.029810367049065388), (3541, 0.029766285268156886), (1537, 0.029626204661928265), (1189, 0.02954641846497722), (1408, 0.029540775766664265), (162, 0.029539415209660202), (2267, 0.029525113969148007), (3481, 0.02949221275469292), (2656, 0.02947575024089274), (4430, 0.02942807890859666), (3473, 0.02941094295431934), (1275, 0.029283389698004574), (1168, 0.029248420566802685), (3707, 0.029247687639208462), (3902, 0.029244893945318578), (491, 0.029230575663493373), (4129, 0.02917550575452822), (3498, 0.029167477668289945), (584, 0.029083202300250667), (1604, 0.029079701488152886), (3058, 0.029066981008224448), (1425, 0.029063324868481556), (2577, 0.02897721432356182), (2352, 0.02894981794610898), (3650, 0.028948207136289893), (3505, 0.028938293621191796), (3102, 0.028933411616165892), (373, 0.028931286606069074), (3503, 0.028869545235619538), (4426, 0.02886366224472113), (4288, 0.02884064113656364), (3402, 0.028836071169315036), (2372, 0.02879372836845468), (503, 0.028785360458385815), (3638, 0.02876902431551267), (2264, 0.02871319439922239), (1254, 0.028707343267927732), (4374, 0.028703818481094302), (191, 0.028656995193963204), (145, 0.028653355728613352), (101, 0.028640356589200926), (3348, 0.028637228972461678), (4362, 0.028629814301109748), (4442, 0.02862905043196061), (1300, 0.028615960201265077), (2003, 0.02851503075010147), (335, 0.02850174847015416), (2091, 0.028498473741060033), (3853, 0.02846114335704447), (2756, 0.02845103712412369), (4342, 0.028409579859014367), (2884, 0.02837496836559113), (1566, 0.028370286325752742), (349, 0.02835845931087651), (3816, 0.028357377276945768), (2637, 0.028333116942644912), (2717, 0.028328851338988707), (1732, 0.028280242763852544), (747, 0.028210599094494783), (1929, 0.02821001880598822), (372, 0.028174815798430272), (1649, 0.028170761383306465), (1348, 0.028152062303182557), (3533, 0.02814688950006924), (1864, 0.028122955787584152), (1341, 0.028029589600558107), (794, 0.027984050069959014), (415, 0.027947949610946588), (4452, 0.027802134366336335), (247, 0.027732139636650128), (1250, 0.027705767106571966), (2293, 0.027663413392498254), (773, 0.027637347799270823), (2704, 0.027601240233516552), (218, 0.02759617298055877), (2214, 0.027593780494308245), (2207, 0.02756314361248648), (414, 0.027535971174879038), (4569, 0.027532413700776255), (98, 0.027522415783374197), (346, 0.02749642670098272), (321, 0.027466964649550764), (1510, 0.02744231067116558), (2377, 0.02740799162380069), (4662, 0.027398212585965497), (1522, 0.027378676813781193), (1683, 0.02735411660027265), (3728, 0.027334866794914568), (4436, 0.027284894928055723), (819, 0.02722199785922468), (1481, 0.02720397622880713), (707, 0.027184182071792764), (4194, 0.02716289255250347), (3298, 0.027150927303300078), (992, 0.027150761163562902), (4055, 0.02700371031570733), (1868, 0.02696562330314975), (2485, 0.026936145291257575), (3528, 0.02693456935619327), (232, 0.02692054935179547), (4395, 0.02692028579623216), (4559, 0.026878831050287537), (4071, 0.02686066949314996), (3360, 0.026787628987098615), (1142, 0.026779738524638434), (3485, 0.0267534032046814), (1093, 0.026745351584270195), (765, 0.026690472080368184), (2609, 0.026669176647300136), (3076, 0.026655674313170126), (1871, 0.026624825583449398), (1283, 0.026582360847582247), (3135, 0.026550707236263103), (3769, 0.026535473813536572), (4146, 0.026513511656971366), (2913, 0.026509431548840414), (1381, 0.026479667339550903), (4479, 0.026467112463950546), (3108, 0.026447252364346387), (4066, 0.026439607763239285), (2330, 0.026436044125619923), (2030, 0.0264257660203187), (928, 0.026405267710295378), (4177, 0.0263982011311907), (1536, 0.02639085797818436), (3578, 0.026373594465353138), (4423, 0.026348073001707464), (1450, 0.026307109874360773), (3577, 0.02624429372228024), (3601, 0.02621440062412905), (425, 0.026177162259483883), (3632, 0.02612833464249779), (3829, 0.02612737324273596), (3903, 0.02609990900331744), (3542, 0.02596628495958256), (2583, 0.025965316017708816), (3776, 0.025962378312988758), (2831, 0.02592416445154), (3785, 0.025922668889588173), (4420, 0.02591864363802438), (1468, 0.02589660650337447), (4562, 0.02589558829391337), (2998, 0.025884218069135684), (1431, 0.02586017006112638), (1008, 0.025798222560777555), (3463, 0.02579254042051758), (1592, 0.02576334626002974), (1895, 0.025705124032886273), (423, 0.025700814012015263), (4391, 0.025647747565999864), (2408, 0.025641197694331888), (2819, 0.02561080513048209), (257, 0.025607527019969246), (3476, 0.02553746961449566), (3068, 0.025535487852297162), (4125, 0.025529547673068458), (1725, 0.025509816978755075), (3142, 0.025453374543208042), (1469, 0.02544647300746327), (188, 0.025395556621750717), (560, 0.025330840863081693), (586, 0.025292209676853847), (272, 0.025246915152572783), (1913, 0.02522610898362247), (3289, 0.02519045575266288), (3167, 0.02517152836035044), (2592, 0.025170436403148845), (4025, 0.025150781288416746), (3327, 0.025124282458068053), (640, 0.025063511226951992), (45, 0.025045715062190336), (3137, 0.025012031220726823), (3492, 0.024972640546879223), (2038, 0.024940788694915242), (1397, 0.024926694221814507), (1771, 0.024921746414531723), (2154, 0.024876696619887156), (2771, 0.0248104366487446), (2269, 0.024779049926851607), (4258, 0.02477268770878445), (1990, 0.024765336162490433), (494, 0.024693041981695654), (2725, 0.024677697951599124), (187, 0.024654219507765553), (613, 0.02464523635071606), (438, 0.024641458442062895), (1051, 0.024542863443000343), (3323, 0.024513702326637216), (4609, 0.024447265652022748), (432, 0.024447023593207825), (4330, 0.024370439290955403), (3709, 0.02437021329761562), (2027, 0.024360668479731944), (1185, 0.024310390862902778), (1258, 0.024276796927377164), (849, 0.02426434284453275), (3504, 0.02418929264264203), (2640, 0.024143398274481774), (356, 0.024135665386829604), (3518, 0.024130508424135097), (2885, 0.024084347932723706), (201, 0.024074649421949704), (4022, 0.024055611534105306), (812, 0.023996557877642485), (3786, 0.023990563938692505), (2844, 0.023954662425905954), (3935, 0.02394282455569008), (3459, 0.02388454390940344), (731, 0.023881841033797296), (338, 0.023877673141007923), (2210, 0.023851694321022025), (1194, 0.023840941331123904), (1979, 0.02382607949500485), (3843, 0.023818520643704096), (2582, 0.023816473370176214), (950, 0.023796513287940173), (4159, 0.023784859652237905), (2814, 0.02376386836210301), (975, 0.02375843492929422), (4036, 0.02372409597402714), (2730, 0.0237224805998141), (2208, 0.023690127764926974), (1610, 0.023667150752914905), (2646, 0.0236502281695898), (1125, 0.02362031045922444), (1620, 0.02361436751536539), (2135, 0.02361365907783583), (4292, 0.023557694714679066), (3765, 0.023549246193987062), (2714, 0.023545380770218102), (2556, 0.023532714144868107), (3708, 0.023516663898965513), (497, 0.02348387701834732), (3214, 0.023466495033646333), (1400, 0.023451387487239683), (2045, 0.023450423941377772), (4369, 0.023432647693823604), (2647, 0.023370801885963324), (91, 0.023362678170912306), (418, 0.023337556629168484), (75, 0.02328398391297828), (3741, 0.02326735098479971), (895, 0.023259843331762568), (3138, 0.023246911917364686), (2265, 0.02320608989044446), (3151, 0.023201632797254665), (1278, 0.02318869154276087), (1084, 0.023158050431082586), (2346, 0.023157925742050965), (9, 0.02313826355383994), (305, 0.023052395820712526), (1418, 0.02301294006657027), (3557, 0.02300476132561009), (352, 0.022953290013360165), (3616, 0.02289340663282237), (3081, 0.02285625370234294), (1152, 0.022788323075887455), (1989, 0.022768357747529413), (2660, 0.022747863643097783), (2500, 0.022742839963969058), (1855, 0.02271041720031244), (1149, 0.022659888240505802), (1298, 0.022610238557167858), (63, 0.022560850625919254), (836, 0.022535227353386797), (3464, 0.02250649524032385), (4050, 0.022499422807349113), (1580, 0.022475016291693056), (2956, 0.022461665389555942), (1069, 0.022452755423302502), (1878, 0.02244009511387884), (212, 0.022417808797998186), (1684, 0.02239155069674385), (1729, 0.022387572055173707), (2804, 0.022358577977950718), (3471, 0.02234818712432146), (2830, 0.022334325901065596), (3364, 0.02228874287754188), (4742, 0.02227892336179698), (1240, 0.022240721420211662), (182, 0.02223925808465092), (632, 0.022215324113031638), (2296, 0.022168178250786544), (3387, 0.02216065232895161), (1487, 0.022134119933280218), (4087, 0.022088174872584982), (1897, 0.022083589278998502), (1370, 0.022041112206764166), (77, 0.022036855663994246), (599, 0.021982522637688722), (2351, 0.021974363910912353), (222, 0.021974124336523224), (1129, 0.02196742915720868), (2530, 0.02191400301863542), (4428, 0.02191070597958599), (1118, 0.021893790495691935), (3451, 0.02183085940324074), (791, 0.02182807091729397), (485, 0.021827092651636567), (3736, 0.021817087257695558), (1575, 0.02180802829259556), (852, 0.021796888941546064), (2518, 0.021796260310190527), (1889, 0.021781232744939247), (2949, 0.021762458372597333), (3610, 0.02174344833403585), (456, 0.021733284243148042), (3733, 0.021711902857784314), (2554, 0.02164309754624744), (6, 0.021591550970239307), (538, 0.021588812884829837), (3517, 0.02158310540483449), (1245, 0.021565346329184186), (28, 0.02156117805183766), (2287, 0.021550239052394133), (1477, 0.02153283327372054), (3386, 0.021517346177453982), (1014, 0.0214609286748821), (4474, 0.021445580311535553), (2176, 0.021439574741679873), (1579, 0.021418482267303682), (1912, 0.021399786612124876), (4757, 0.021389094288182857), (657, 0.021373269831467107), (946, 0.021349587826315724), (17, 0.02131737210195053), (2200, 0.021301500965361157), (1113, 0.0212990943856982), (2627, 0.021294080135180714), (564, 0.021287115983388546), (1492, 0.02127147756077597), (2062, 0.02126275891032049), (1633, 0.021257942812091417), (2669, 0.02125419682390775), (1007, 0.021236168812406326), (543, 0.021213262439329254), (4265, 0.021198550171685857), (935, 0.021194206393138723), (2236, 0.021184295299394692), (1598, 0.02117833471489273), (508, 0.021168200876306546), (862, 0.02112001119493476), (639, 0.021113327578831147), (3858, 0.021111081713522575), (3880, 0.02109230508855062), (1071, 0.021067866342992216), (3927, 0.021061134572875468), (1603, 0.02105970078042831), (523, 0.02105609152490636), (3630, 0.02104633908613231), (231, 0.021043693006323312), (117, 0.021026385264888973), (4624, 0.021004313136221718), (3970, 0.021002255830901345), (3111, 0.020996466867335372), (1192, 0.02098650216377225), (55, 0.02096880352873027), (3753, 0.020945004105199352), (4419, 0.02092078931655981), (2873, 0.02090951353927746), (1340, 0.020874578978907793), (2587, 0.020872256933332632), (3424, 0.02083776021233181), (2807, 0.020833367913104597), (2878, 0.020810803606568933), (2527, 0.020793350584147243), (4684, 0.020784996866982066), (2427, 0.020735006184368427), (2393, 0.02072599265571911), (522, 0.020724393669542908), (2155, 0.020723775287025775), (65, 0.020720824210086128), (3121, 0.020711243284697763), (4144, 0.020694494159048348), (1698, 0.02069123631252233), (67, 0.02066250814343041), (4372, 0.020650107211001162), (477, 0.020604436579867193), (341, 0.02060106145737528), (4015, 0.020594591214233154), (1045, 0.020577646990522544), (685, 0.02057650487940972), (2745, 0.020558385909344123), (4294, 0.020553429645271015), (4677, 0.020536974811573815), (3192, 0.02053079844676329), (1552, 0.02051229917477758), (951, 0.020497187392777234), (2955, 0.02049284600771776), (4435, 0.02046489866781763), (2050, 0.02045707817395522), (150, 0.02045418824393377), (2017, 0.02044215187791726), (3404, 0.020417543687827805), (2562, 0.020413885919101257), (2066, 0.020405783016465447), (1386, 0.0204021858239554), (592, 0.020382318999861485), (3560, 0.02038114199089277), (54, 0.020379864402700697), (2976, 0.020367206421343785), (2212, 0.020323576456999063), (1055, 0.02031434285036853), (2517, 0.02029572451019951), (1109, 0.0202875938464728), (3592, 0.02026624743789148), (4581, 0.020254799689570623), (1987, 0.020252625527019286), (1175, 0.020252501637438008), (389, 0.020228659758983403), (122, 0.02022832626706447), (4708, 0.020212159982374595), (1252, 0.020179595397630284), (1210, 0.02015822659887611), (2951, 0.020156378980608868), (1047, 0.02011616636902017), (3238, 0.020090640216331553), (1898, 0.020060844543882145), (4358, 0.020059713060316592), (550, 0.02003569697924033), (4486, 0.020012491871266545), (1968, 0.019991981262184023), (1554, 0.0199713758469216), (3172, 0.019943654184057774), (2222, 0.019942800756606243), (746, 0.019889646469084026), (1903, 0.019865293473266113), (4509, 0.019864413297018973), (319, 0.019863938859054086), (745, 0.019836036531571313), (4130, 0.01982610080005433), (1958, 0.01982376314143844), (959, 0.0197832571502778), (3583, 0.019776853574809055), (1666, 0.019752916742827597), (1217, 0.01973872132299993), (594, 0.01972057741621234), (3923, 0.019712967468246027), (2668, 0.01968635017914878), (4069, 0.019673045793084765), (2497, 0.0196130750602675), (1797, 0.019595667565116603), (3199, 0.019594660967584047), (3212, 0.019592320856820743), (1713, 0.019578381843105494), (1996, 0.01957040797266483), (2487, 0.019567232664551275), (2404, 0.019547879465155245), (3232, 0.019542564275519463), (1751, 0.01953438568345951), (4253, 0.019483936563528138), (1228, 0.019465327088013643), (496, 0.01945386038346383), (2379, 0.019446004871021126), (2430, 0.01941182077907647), (3342, 0.01940284918301937), (4115, 0.019392021867885297), (2710, 0.019386057651748428), (2074, 0.019385838931404775), (2127, 0.01937114421375103), (938, 0.01935324410296442), (2522, 0.019332328854884166), (4160, 0.019331151130405438), (4345, 0.019319697289505496), (2741, 0.01931705834297729), (3696, 0.0193169684278671), (407, 0.01931171002835812), (4658, 0.019256992056753658), (2641, 0.0192301583682411), (1221, 0.019183830677290313), (4484, 0.019161874020274913), (1586, 0.019137698703724795), (706, 0.019116735864337958), (2806, 0.019094747775508562), (1986, 0.01909459123709948), (1812, 0.019069006375620486), (686, 0.019055645531458755), (4020, 0.01905320637724802), (716, 0.019021500580943703), (655, 0.01901996320798459), (320, 0.019016378200938024), (1630, 0.01900595330408938), (962, 0.018993264116837077), (2128, 0.018986185517453135), (2634, 0.01898567401990158), (3725, 0.018964755474375004), (3722, 0.018928383008505155), (3783, 0.018927297468301636), (413, 0.018886436485174185), (691, 0.018868236383028765), (3265, 0.018854851379972844), (3408, 0.018850371409560238), (766, 0.018845747652206365), (4612, 0.01879184355784764), (2984, 0.018699469666524308), (1396, 0.01866803483117662), (768, 0.018664642092813565), (2732, 0.018659282271172778), (2331, 0.018654737315745146), (995, 0.018631764443338906), (1043, 0.01860329177005786), (2228, 0.018601040339841727), (73, 0.018573989175337417), (585, 0.01857356635076924), (1796, 0.018539144639843737), (3907, 0.018520160769477583), (427, 0.018519392602450696), (2114, 0.018486971424842204), (2944, 0.01847681248622569), (3743, 0.018470319659561855), (2941, 0.018469505568853795), (382, 0.018457765876271813), (2411, 0.018457737714506955), (3711, 0.018455153138236875), (883, 0.018443478565694862), (3926, 0.018439446946950926), (1877, 0.018424000474432697), (840, 0.01841356832620163), (3033, 0.018399431692725787), (931, 0.01839715497665067), (4440, 0.018379712773410384), (4712, 0.018348035538462988), (2256, 0.01830046750245861), (2006, 0.018296499003383794), (2337, 0.018254196880938184), (1326, 0.01824646085326789), (3690, 0.01824268301982692), (2973, 0.018227558344312042), (802, 0.01819911232987588), (561, 0.018197381533793414), (315, 0.018195052514248626), (2580, 0.018189083101596865), (1328, 0.018181975045988563), (60, 0.01816592928523709), (1385, 0.01816207679254204), (815, 0.018152826171481593), (1824, 0.018148708533665174), (1087, 0.018148100969328486), (2064, 0.018104816636039914), (4016, 0.01808932337291047), (333, 0.018073301179506628), (64, 0.01806413047556633), (1329, 0.018054759848716885), (2595, 0.0180401606239598), (3204, 0.018037191174174166), (293, 0.017991297464391494), (3066, 0.017986762066114804), (2308, 0.017986041893286037), (483, 0.01797410617333219), (1451, 0.01797180116610452), (954, 0.017935500569947766), (39, 0.017924117287751277), (953, 0.01791274780349928), (1323, 0.017909859640734663), (141, 0.017904291805906386), (940, 0.017890032725030078), (2281, 0.01787624850807628), (1709, 0.0178296602109475), (2211, 0.017794027880054457), (1984, 0.017745668967531644), (4224, 0.01773988175501914), (665, 0.0177262970078408), (2047, 0.017700266994334482), (1608, 0.01768060468813836), (4201, 0.017679233487421002), (2621, 0.017677786388410038), (4242, 0.017637793820886385), (4168, 0.017633681085900216), (4679, 0.01761000323811735), (1459, 0.017570987598184644), (78, 0.017564122930449576), (524, 0.017552050260598265), (2199, 0.017539806680010876), (1063, 0.017526167429817458), (3892, 0.01751616814884452), (119, 0.01751329914336787), (3394, 0.017501187308652272), (2474, 0.017482092723271937), (2444, 0.01747099506448951), (2887, 0.0174702993977235), (1587, 0.017434635370812294), (1002, 0.017432357170368007), (3230, 0.01742699735848826), (4501, 0.01741943153897357), (3646, 0.017407735733816213), (2568, 0.01736387956018654), (2812, 0.017349844950313265), (945, 0.01734296021057883), (380, 0.01734119921825961), (4250, 0.01733333167914769), (2111, 0.017324966448784607), (3078, 0.01731454455425218), (4032, 0.01727719047547988), (4364, 0.017258030608492604), (2364, 0.017249544955441978), (1216, 0.01724646244074673), (3051, 0.017242887710588878), (2043, 0.01722274484361125), (626, 0.017219380368815155), (3027, 0.017216940856296024), (1941, 0.017201481814413708), (4565, 0.017185258581536567), (1994, 0.017178998704125543), (251, 0.017168198667682162), (129, 0.01716435174386715), (2327, 0.01716433354267889), (452, 0.017161977464183638), (264, 0.017151372460692593), (310, 0.017150766177070557), (214, 0.017150136818486976), (2009, 0.01702195164451876), (2625, 0.017011409366689812), (3310, 0.017004940927367464), (3162, 0.01699755913598057), (1358, 0.016992637330723197), (1412, 0.01699073235182487), (2423, 0.016981001644568325), (3174, 0.01697816381288517), (3657, 0.016934983516459008), (3389, 0.016931696347204164), (911, 0.016911600460583237), (4552, 0.016896012962397428), (1858, 0.01689057613259868), (3426, 0.01687387630030936), (46, 0.016859477083811067), (701, 0.016850190874910784), (316, 0.01681138471240052), (3684, 0.01675616420591541), (4549, 0.01674539623934493), (4531, 0.01672882214912068), (332, 0.016658228564029712), (2221, 0.016652164817106862), (238, 0.01662542401380819), (2262, 0.016585629197390026), (24, 0.01657556867952045), (2746, 0.016573886552205836), (1681, 0.01657239705114727), (3211, 0.01656564250704698), (1533, 0.01653500456744956), (4564, 0.01649168932668295), (1354, 0.01646723699657135), (675, 0.016461636624924125), (306, 0.016446995851081402), (2473, 0.01642041299300105), (1178, 0.016401625413392396), (1387, 0.01637508325387224), (2320, 0.01637242381865306), (822, 0.01636953389109987), (936, 0.016321144221681457), (3554, 0.016311006479162962), (1394, 0.0163107449701462), (4659, 0.016289278738328205), (4279, 0.016279332787875415), (1738, 0.016259871500979486), (2145, 0.016249092982075455), (555, 0.016238099134753915), (3921, 0.016228482524157588), (1560, 0.01619543208942982), (1503, 0.016184784906149066), (1939, 0.01618054043333167), (644, 0.016171703198721486), (789, 0.016164839828255898), (428, 0.01611636184821074), (4542, 0.016116012105288333), (4611, 0.016112389896188666), (2094, 0.016109412967133935), (1482, 0.016091765539913726), (4190, 0.016070061586002077), (680, 0.016053269485480744), (2065, 0.01603756719176732), (3914, 0.01601533154709052), (913, 0.01601173807987976), (2418, 0.01600059540913611), (1426, 0.01599262180818723), (2792, 0.015992332931394914), (2297, 0.015977682103118965), (3264, 0.015938887471117356), (1690, 0.015935207556050986), (1285, 0.015923823012914454), (4711, 0.015903134895693595), (2682, 0.01588284891175786), (4263, 0.015829401261986058), (457, 0.015824565508845125), (3439, 0.015813968609270278), (4515, 0.015798383038365144), (1261, 0.015782196519625983), (2626, 0.015773261032516545), (1594, 0.015768251156397347), (4446, 0.015765794214008085), (3751, 0.015725808214761973), (4405, 0.015669755335069434), (3448, 0.015667493646283948), (2237, 0.015663835934444426), (411, 0.015625427297853232), (2261, 0.015618501695353799), (2979, 0.015614257013340536), (1701, 0.015589266761719357), (881, 0.015573379893341949), (3726, 0.015551811115707713), (3449, 0.01553026288907566), (1173, 0.015500041250300023), (1190, 0.015497530494896303), (2242, 0.015493637187455774), (982, 0.01549246541434719), (1518, 0.015478606861901015), (4376, 0.015476131293188016), (1764, 0.01547332508857778), (1363, 0.015469920351082998), (2603, 0.015462048040237639), (2286, 0.015448072383175826), (165, 0.01543136843192051), (692, 0.015428396071229535), (2661, 0.015428320123440493), (19, 0.01539820877973383), (4061, 0.015383366609677835), (1458, 0.015352593298461416), (2391, 0.015350009575211012), (2177, 0.015346434097326864), (3231, 0.015337792034887226), (3129, 0.015336663998821394), (353, 0.01533087285838181), (2223, 0.015320427251318615), (2278, 0.01531386165301488), (3285, 0.015311946600055852), (113, 0.01528250609041342), (4332, 0.015279270811388756), (4737, 0.015277968637526855), (2170, 0.015243767436484534), (1574, 0.015232853842372367), (519, 0.015223468858963782), (3732, 0.015186599577378399), (2766, 0.015181564631080675), (3598, 0.015161941913155823), (288, 0.015159638293532991), (2810, 0.015101274689192732), (1299, 0.015086879057489323), (737, 0.015069202146278517), (495, 0.015056740726650312), (770, 0.015055812695218228), (545, 0.015046156151049421), (3330, 0.015043588517424987), (2002, 0.015042196077752748), (3415, 0.015041216346732608), (3080, 0.015018925482122239), (1445, 0.015016284825361385), (1161, 0.015014068213987984), (1678, 0.01500875296004247), (439, 0.015006159619318116), (2782, 0.014999154194686469), (3096, 0.014987653079220427), (3374, 0.01498059479963348), (1472, 0.014978722807154803), (3003, 0.014968271969312223), (884, 0.014952667113074043), (1442, 0.014944250979799716), (348, 0.014942768604680263), (242, 0.014927891449381744), (4067, 0.014920279568878333), (2194, 0.014905877014521791), (1695, 0.014900941175937592), (2794, 0.014878912348212312), (2049, 0.014854719011095807), (2033, 0.014827143179839582), (3581, 0.014812208106452887), (2092, 0.014763854621041694), (2550, 0.01476274291064129), (870, 0.014760165839412536), (2848, 0.014755042837547605), (618, 0.014736477871140938), (2028, 0.014733438128658271), (3302, 0.014728217906575785), (424, 0.014664490169034936), (2604, 0.014663714828290143), (1569, 0.014635748052533685), (1500, 0.014629658644506136), (2220, 0.014623063306290507), (2082, 0.014617711866089386), (36, 0.014584476545694803), (1302, 0.014576599125433212), (1750, 0.014567680214591485), (2837, 0.01456276911984508), (3701, 0.01455496539490355), (779, 0.014551928804500673), (146, 0.014534357165290147), (1319, 0.0145267265459089), (4237, 0.014512054350814497), (1741, 0.014488229254413055), (3469, 0.014463543552773808), (929, 0.014449311116813912), (4371, 0.014449251607359225), (405, 0.014445129800514673), (2239, 0.014443083349928741), (3271, 0.0144359887620044), (3643, 0.014423081371498635), (2260, 0.014414079411262597), (3877, 0.014379827320833635), (1688, 0.014361128191836964), (2649, 0.014350655807523415), (1375, 0.014346967211449712), (4441, 0.014339227506699085), (3236, 0.01433096721205683), (2336, 0.014291279204080775), (3084, 0.014291023117640229), (408, 0.014271615191352026), (1934, 0.014250317414203972), (3144, 0.014245943788036758), (4077, 0.014230887157411356), (2060, 0.01422601140949209), (3678, 0.014213430801975058), (50, 0.014193056669316091), (1951, 0.014175155658120914), (2233, 0.014173330461386382), (2492, 0.014171674792854416), (867, 0.014164203236504195), (3189, 0.014156599705884156), (677, 0.014154151028812945), (1249, 0.014131976506443778), (2610, 0.014119615803842613), (4001, 0.014107239243032296), (785, 0.014091875745689923), (4029, 0.01408440575773743), (1212, 0.01406232040534522), (3220, 0.014046208786654007), (108, 0.014045924544583924), (1309, 0.014040042427704706), (1513, 0.014036255680706114), (3969, 0.01403565390610154), (1517, 0.014021612411608689), (3836, 0.014016520088461586), (3229, 0.013994080501950525), (4756, 0.013985858120336845), (3746, 0.013975982916039877), (211, 0.013965044515132684), (3531, 0.013939751370435398), (3152, 0.013929918739490971), (4076, 0.013913780803977385), (4157, 0.013912706315451086), (3355, 0.013906940977120717), (3586, 0.013899429222797344), (287, 0.013893287656878387), (3052, 0.013876778617817524), (973, 0.01387530058777655), (730, 0.01387415833713073), (4269, 0.01385341440124443), (1557, 0.013845693587220188), (330, 0.013840279918731518), (125, 0.013838578444068174), (1900, 0.01383680941459169), (3131, 0.013817690428890684), (1437, 0.013815499963165043), (1582, 0.013797667671493355), (3438, 0.013787892220198928), (1545, 0.013781767101558295), (3561, 0.013772196551584109), (3595, 0.01375060807912296), (2290, 0.01375003630088379), (2864, 0.013740496312460736), (3606, 0.013738464427694904), (603, 0.013737020342584113), (2553, 0.01373015733098367), (2612, 0.013711671954600007), (3420, 0.013708977849038566), (3629, 0.013706312773628713), (239, 0.013699247017885448), (1463, 0.01368853126260098), (2774, 0.01368648853560723), (2896, 0.013683122040106644), (2175, 0.01367269710231929), (2422, 0.013670908101481988), (1436, 0.013665304798965015), (3559, 0.013662835648150115), (775, 0.01365651831337107), (3291, 0.01365256807039079), (2164, 0.013646749128751669), (4192, 0.013637899605910168), (4282, 0.013629570412642142), (1220, 0.013624227631668201), (1380, 0.01362092346229227), (649, 0.013620738579244313), (4438, 0.013611324180583615), (600, 0.013590025510886661), (312, 0.013567572152412156), (2449, 0.013561602063271193), (1668, 0.013559962406993233), (3385, 0.013548055882446241), (2166, 0.013535250598535827), (1259, 0.013533237601566614), (1584, 0.013522025732187104), (3062, 0.013517098763098843), (4590, 0.013516697194027314), (311, 0.013489654435387197), (3456, 0.013483249423778085), (1332, 0.01346818652308386), (1762, 0.013466280973574878), (1384, 0.0134347136284917), (1992, 0.013426762502312268), (3673, 0.013419768293682223), (2016, 0.013407724210145671), (2962, 0.013401936922800232), (780, 0.01339941828200905), (1915, 0.013393571698506484), (189, 0.013374347146572485), (3545, 0.013374177861229516), (1297, 0.013371670799059751), (2525, 0.013368880714621185), (2031, 0.013361185914944767), (3543, 0.013360043597267411), (956, 0.013358125927688863), (2358, 0.013346070782463767), (1818, 0.013345891827308422), (4467, 0.013340893361800249), (1787, 0.013338987186259104), (1029, 0.013327310351953095), (2575, 0.013325960704452765), (2435, 0.013305521228854079), (472, 0.013296361424438508), (2018, 0.013295690484344085), (1919, 0.01329317022261557), (3350, 0.01329306534491507), (1849, 0.013264842080669234), (2160, 0.013252426519160978), (2315, 0.013246938513080283), (4205, 0.01322523543200971), (2215, 0.013219221553772016), (3767, 0.013202102940417975), (459, 0.013200652398877128), (4577, 0.013196033026912192), (4101, 0.013193524401757634), (1842, 0.013183609604430487), (4556, 0.013181356035293808), (2087, 0.013178851532002689), (549, 0.013172392366789756), (1018, 0.013163238492388128), (4186, 0.013156010592496357), (924, 0.013148447560194327), (1746, 0.01314397205593164), (887, 0.013143781196079144), (1888, 0.013124417064898922), (2071, 0.013102017329838494), (2277, 0.013092099948474292), (1235, 0.013086285537535373), (3262, 0.013072269667431035), (3447, 0.013055321279111624), (872, 0.013052528942291716), (1875, 0.01303744308836136), (1828, 0.013024903590086071), (1506, 0.013024497907793085), (3304, 0.013013613342388337), (430, 0.013010739132594583), (2542, 0.013008305888932637), (4007, 0.013007735070635804), (473, 0.013002417682556246), (4314, 0.012992459431562055), (249, 0.012985294751808077), (2501, 0.01297743893154937), (991, 0.012975672631779657), (1572, 0.01297311957118322), (395, 0.012969289992007556), (4167, 0.012967221124701302), (2447, 0.012946585668149657), (4021, 0.012944814816529359), (1061, 0.012938601129921963), (511, 0.012930099324200865), (1925, 0.012925576126690515), (180, 0.012917359364706688), (4297, 0.012905764860996633), (4217, 0.012904244859419645), (653, 0.012882514722197855), (1262, 0.012880895402847165), (79, 0.012875048780776353), (1401, 0.012874440110789856), (1120, 0.012869490026679826), (1839, 0.012867587601172428), (2412, 0.012856610409173411), (1744, 0.012854251826201105), (1870, 0.012845348755037499), (4710, 0.01284180603018163), (2795, 0.0128300872510786), (206, 0.012822833896094949), (2036, 0.012820342093066074), (3963, 0.012818643069093569), (2818, 0.01281050946506645), (3990, 0.012784034715029795), (3983, 0.012753514428844858), (2249, 0.012750447451231758), (4566, 0.0127428423618988), (3841, 0.012731990626338379), (1121, 0.012728220188111325), (2605, 0.012727421212540037), (393, 0.01272727446637195), (269, 0.012705045963376559), (2972, 0.01270088413386345), (4378, 0.012699807135858734), (553, 0.01269468095341154), (1663, 0.012693807775316892), (1535, 0.012693099394735126), (898, 0.012687006044769546), (1783, 0.012678202101957114), (2005, 0.01266375143495438), (793, 0.012662111067903705), (2713, 0.012652442706697627), (1213, 0.012624870878654985), (2099, 0.01259417857684763), (1244, 0.012576102698435027), (2103, 0.0125759952591297), (3353, 0.01256719711267688), (2052, 0.012566132637156465), (2353, 0.012552969291940176), (152, 0.012542345359924045), (723, 0.012534464838969556), (2201, 0.012534451444079147), (4356, 0.012531253920648674), (292, 0.012530643777577597), (1365, 0.012503305761415796), (1645, 0.012476966415695593), (2388, 0.012472887608364087), (261, 0.012460811017290935), (3894, 0.012451415528042199), (3191, 0.012444681365555793), (1108, 0.012440241209268548), (3917, 0.012423889957981174), (566, 0.012422141750966188), (4596, 0.012412819192924387), (3123, 0.012392058156700365), (2551, 0.012388186867204406), (71, 0.012383840528311223), (3445, 0.012379750564908112), (3567, 0.012374059727243664), (3522, 0.012371647546014834), (978, 0.012357792322660276), (4523, 0.012354893148141047), (641, 0.012346717284831592), (1176, 0.012339135641991683), (1611, 0.012321428976982511), (284, 0.01231707778536373), (1593, 0.012312012750330118), (1064, 0.012308542556614404), (1273, 0.012291744669886862), (4300, 0.012287573973119154), (2778, 0.012284570867418257), (171, 0.012259673857221806), (260, 0.012250066273635327), (1388, 0.012245360966678113), (416, 0.012243186399522056), (4500, 0.01224014280953634), (3361, 0.012225921283043409), (4447, 0.012224594821063578), (1465, 0.012210136250720661), (776, 0.012194231329220788), (1512, 0.012166825507468063), (965, 0.012165610443999417), (451, 0.012140300846614244), (3911, 0.012139715961256058), (3133, 0.012139577775610168), (2139, 0.01212148528676503), (583, 0.012112009333762108), (548, 0.012111269147738656), (3716, 0.012110323623909904), (2512, 0.01210478467501611), (3219, 0.012103847192255435), (2448, 0.012095726772229006), (2591, 0.012088553335239133), (426, 0.012080202294418562), (1378, 0.012077819678667074), (3416, 0.012076773478806008), (2569, 0.012047422047486336), (3276, 0.012045819851729863), (1816, 0.012043544558472643), (1126, 0.012039357005847615), (4740, 0.012024093846345637), (383, 0.012008823536887077), (181, 0.012007621034032053), (741, 0.011999701659212306), (1781, 0.011983172240422661), (2643, 0.01197839979852457), (3718, 0.011976091070958057), (375, 0.011946403746328924), (1830, 0.011939122747524681), (2257, 0.011924483384985142), (1251, 0.011923378246251176), (880, 0.011914503890145915), (3093, 0.01189637110061585), (2901, 0.011891392024362282), (94, 0.011860446037945914), (2142, 0.011848843046241187), (80, 0.011833917279478393), (2920, 0.011817033664635934), (1214, 0.01180930311103851), (3072, 0.011808019545163282), (3440, 0.011804051381770658), (2000, 0.011799189372325892), (230, 0.011771971687154985), (3582, 0.011745425298669315), (3328, 0.011733115728100547), (2721, 0.011708051662862543), (2608, 0.011701963746672064), (1231, 0.011683270413658383), (1809, 0.011672199188224156), (1208, 0.011662880718855063), (1490, 0.01164919988125999), (1963, 0.011627992329842646), (4074, 0.011622881837870363), (2665, 0.011596643509822927), (327, 0.01158578344802189), (3126, 0.011576367305371815), (2509, 0.01157351824618278), (1993, 0.011541413435145415), (3345, 0.011524098799803463), (948, 0.011518453152954019), (1088, 0.011518399312493417), (1523, 0.011511488695079357), (4092, 0.011497080791187287), (3022, 0.011483648672553696), (2937, 0.011458654576479713), (3875, 0.011447159659756066), (4414, 0.011440157122441915), (434, 0.011435938318661956), (2581, 0.01143153191998151), (903, 0.011428646394396426), (2182, 0.011413145283313664), (3723, 0.011407980543359609), (2851, 0.01139525410914724), (266, 0.011392660085776437), (4437, 0.01136754224484247), (2134, 0.011363783361553697), (2834, 0.011349295153917912), (1976, 0.01134917678879906), (1453, 0.011331613504585922), (3640, 0.01133016142765552), (1144, 0.011319105939302805), (2585, 0.011309688984619313), (2363, 0.011305045780055076), (3180, 0.011302798501330313), (1222, 0.01129560005041132), (1498, 0.011294790302512698), (1301, 0.011283459097033651), (3620, 0.011278099772115214), (2093, 0.011276068879508605), (2040, 0.011223818423294393), (4042, 0.01122095707453764), (1772, 0.011207448716480783), (1754, 0.011191574872752281), (3417, 0.011189473506176528), (595, 0.011173296699630535), (136, 0.011162824396900382), (3604, 0.011158701611351976), (1242, 0.01115360240240549), (355, 0.0111463655552002), (2770, 0.011142394844086686), (3802, 0.011124422294173365), (234, 0.011115557579470525), (1674, 0.011082541412916026), (3749, 0.011077198934225336), (3738, 0.011056598332085464), (2097, 0.011055524291814018), (3414, 0.011049595695715727), (1567, 0.011044371282395042), (513, 0.011043944203779969), (3915, 0.011034918644642984), (4730, 0.011033092189468227), (972, 0.01100839304591693), (1802, 0.011000408162732574), (4545, 0.010994132930850772), (2426, 0.010989389815582123), (3086, 0.01097494158353432), (2772, 0.010971374842767967), (1352, 0.010970763476639552), (1661, 0.010940350026818936), (4657, 0.01092653495707654), (4551, 0.010924226300310903), (2185, 0.010922463357334659), (1708, 0.010911774611124104), (3524, 0.010897089825569101), (2723, 0.010895803739103423), (684, 0.010864862297855753), (2996, 0.01086304965483022), (3924, 0.010850848216115936), (3677, 0.01083528013969766), (4752, 0.010812646527137083), (1799, 0.010811205467537884), (627, 0.010805304216912366), (3540, 0.010802498550006263), (2738, 0.010795608671310391), (3635, 0.010788747301436566), (1268, 0.010787125658996742), (1414, 0.010784062957079817), (904, 0.010768580573749499), (4652, 0.010764788095139647), (3048, 0.010761866692928255), (1676, 0.01075862786930585), (1685, 0.010748875029854119), (1997, 0.0107245605919501), (2720, 0.010721674886908623), (1075, 0.010702286475139695), (783, 0.010702162717424142), (7, 0.010636487254792349), (2252, 0.010635515913644967), (2083, 0.01063203527975777), (270, 0.010625167100193532), (3239, 0.01062191626861802), (4083, 0.010606603888779044), (4312, 0.010605316086470562), (4203, 0.010603874966571848), (1379, 0.010567708620730374), (4431, 0.010556493799479023), (3866, 0.01054482949084154), (2012, 0.010520402036373), (74, 0.010498224136960064), (847, 0.010490313853782195), (1629, 0.010487082447364475), (806, 0.010484329656560439), (4418, 0.0104803227277879), (237, 0.010477922085935773), (930, 0.010477255411229994), (2075, 0.010455924847900101), (2486, 0.010444600499546958), (1833, 0.010440095191410573), (220, 0.010435905917022452), (1294, 0.010429408241224656), (2339, 0.010390064938150381), (2579, 0.010381614389783482), (1832, 0.010375973581966014), (2916, 0.010374313158212764), (4460, 0.010369528621137044), (1740, 0.010363689185205504), (4396, 0.010362242737958837), (308, 0.010356910414506279), (2489, 0.010353492690588951), (3593, 0.010339023174371256), (1627, 0.010332991227433455), (994, 0.010324473021956068), (4375, 0.010315526234593), (4397, 0.010307773555626891), (2324, 0.010295781820017917), (3832, 0.010285108732193281), (3682, 0.010283660963910061), (294, 0.010283462862247173), (1886, 0.010265376682505212), (4266, 0.010251607546683847), (4108, 0.010236205974266317), (3436, 0.010224788975707878), (2436, 0.0102244201298347), (3341, 0.010187919223523115), (1443, 0.010184210593936822), (3116, 0.010177671018287622), (1419, 0.010171574901959487), (1873, 0.010169524453773001), (2558, 0.010160807010342344), (3681, 0.010155329428883652), (2390, 0.010153330765200478), (687, 0.010149379626314226), (4064, 0.010148235540577207), (2619, 0.010145748664641758), (3458, 0.010144059105303076), (0, 0.010121041467441335), (531, 0.010115342091574294), (3216, 0.010109912785261016), (3813, 0.010105645611087802), (4248, 0.010099305955241196), (1811, 0.010077769360207692), (1486, 0.01007457903660976), (3727, 0.010073022814106502), (4278, 0.010072842765788115), (3340, 0.010070840002392637), (2614, 0.01005668889216566), (466, 0.010044116611202343), (3938, 0.010042189041287446), (1733, 0.01003041465339529), (233, 0.010027040995847553), (2798, 0.010023748146844888), (1583, 0.010022268949861541), (1413, 0.010017927994815497), (3704, 0.010008859326953341), (4226, 0.010000957144889959), (3730, 0.01000020459724817), (2061, 0.009997896771067454), (3793, 0.009987650420326845), (1082, 0.00997786246256046), (2458, 0.009969234435889311), (3112, 0.00995937932125254), (1128, 0.009954913392984058), (244, 0.009938687358746444), (3069, 0.009921230417223686), (3480, 0.009911625918894156), (1191, 0.009909982574591317), (2793, 0.009900211639884953), (1141, 0.00989789241439678), (2824, 0.009897823601629442), (914, 0.00988027998832758), (749, 0.009876986468298498), (1813, 0.009863288133033887), (2494, 0.009862827395768534), (135, 0.009862562966659286), (4183, 0.009853700995829705), (825, 0.009853329900989893), (1907, 0.009846911154211619), (1390, 0.009842005101001446), (1044, 0.009841693470396365), (4673, 0.009839920555329017), (167, 0.009814644591474736), (259, 0.009814532403800248), (1116, 0.009811959079170407), (1115, 0.00979673352037522), (2196, 0.009794385269748176), (1076, 0.009793137496939693), (2918, 0.00978785835485585), (1531, 0.009786030029205828), (2716, 0.009785807154427029), (1282, 0.009779941351246985), (2712, 0.009774184399353996), (470, 0.00976833668153702), (1248, 0.00976109522520001), (2817, 0.00975457973255088), (1670, 0.009748201022819387), (1020, 0.009746882357939232), (2419, 0.009730531634621717), (1257, 0.009727021301644094), (2498, 0.00972313987319825), (530, 0.009716846541510945), (1027, 0.009714812861596712), (3744, 0.00971153516887629), (2141, 0.009710578871200649), (727, 0.009698121242958043), (1123, 0.009655463294468154), (3206, 0.009654739618712289), (360, 0.00964005103625352), (2632, 0.009639028202224635), (1631, 0.009638843006187486), (3546, 0.009635819511497572), (3277, 0.0096323637171747), (500, 0.009624861200743517), (2319, 0.009621626067524135), (2633, 0.009603910130101815), (818, 0.00959771649463677), (1718, 0.00958880848005255), (3021, 0.009588278379485938), (4576, 0.009587564383158421), (328, 0.00958690678363171), (1036, 0.009581887089731678), (4340, 0.00957912659568814), (4682, 0.009578198841888172), (3150, 0.009571281619292223), (1881, 0.009568250398915956), (3919, 0.009562971426295808), (1660, 0.009558123258922063), (1006, 0.009557328715800804), (4448, 0.009553585089675628), (120, 0.00955200896844431), (3599, 0.009551642539475972), (2895, 0.009551579365034346), (3378, 0.009545893392319399), (890, 0.009540769211321257), (154, 0.009536279661592834), (307, 0.009529529758071444), (1060, 0.00952389269069973), (1851, 0.009523846521038225), (2546, 0.009523218755210582), (3010, 0.009518657841132884), (2241, 0.009512767271236063), (2466, 0.009511795228364211), (926, 0.009509410261191334), (1702, 0.009508072330919642), (1364, 0.00949889723452763), (4459, 0.009496328103763142), (1086, 0.009489060854905442), (2511, 0.009482160469577807), (2567, 0.009469373245749146), (3648, 0.009465257212136334), (3338, 0.009465094673730768), (2680, 0.00946197076002713), (1033, 0.00946165745336731), (3549, 0.00946084888480794), (1825, 0.009442369764541629), (111, 0.009437583412793), (2119, 0.009424578872531284), (798, 0.009419950738955298), (3122, 0.00941668574074104), (971, 0.009416116290280056), (2431, 0.009415143364117008), (2304, 0.009413302543034355), (1562, 0.009410246148611238), (2852, 0.009408417092374648), (4388, 0.009407454964591328), (221, 0.009385242361616239), (824, 0.00938308865437722), (2765, 0.009382827631202944), (1564, 0.009369088474158642), (2224, 0.009366714443737515), (304, 0.00936648707398638), (2707, 0.009365549807791775), (3950, 0.009365294590295581), (3656, 0.009362927565083294), (3526, 0.00936197921809169), (2845, 0.009350893692697294), (110, 0.009349473936056323), (908, 0.00934550969409037), (3460, 0.009342161920747345), (3377, 0.00933772813042864), (4399, 0.009328856634360711), (359, 0.009323403209677408), (763, 0.009318924254917439), (3283, 0.009317919072655481), (3967, 0.009313443666378665), (1322, 0.009312405080063145), (160, 0.009312120767496334), (4238, 0.009311761794457417), (3303, 0.009309354511536895), (4322, 0.009302096416527511), (863, 0.00928659976130153), (2662, 0.00928557873927968), (4026, 0.009282346774226166), (3823, 0.009281026703220775), (1041, 0.00926570824590714), (1461, 0.009250362663792724), (202, 0.009241225115180818), (1398, 0.00923754618983972), (2193, 0.009231220246753397), (963, 0.00922702783235994), (4568, 0.009226375541203842), (4328, 0.009221430005798354), (1865, 0.009216597219881903), (3807, 0.009213298437087285), (529, 0.009204545250129769), (504, 0.009203289078617387), (1803, 0.009200829984063108), (2862, 0.009199300498412452), (2839, 0.009188333044989417), (3532, 0.009187560431765253), (490, 0.00917137900739422), (893, 0.009161052574227778), (1170, 0.009158282320680187), (1563, 0.009153129643578967), (3972, 0.0091398174758006), (3343, 0.00913875132915825), (1501, 0.00913642371120029), (1823, 0.009132939243882103), (800, 0.009131662929296753), (3665, 0.00912623371065745), (4592, 0.009119676218781689), (525, 0.009099026944443905), (1066, 0.009091269786184932), (3270, 0.00908852185835589), (2980, 0.009083526059341455), (537, 0.009083297818261619), (3379, 0.009080405405446678), (4394, 0.009077681944228404), (2776, 0.009073871475582028), (3818, 0.00907204104260746), (3477, 0.009071129324134085), (732, 0.009069356724258392), (1359, 0.00905304591707704), (2791, 0.009052789086964235), (1977, 0.009045500341364926), (1411, 0.009039763727350256), (1541, 0.009037388713229618), (2909, 0.009032933209777397), (1447, 0.009023063579145684), (4608, 0.009015556404468529), (124, 0.009013385437111878), (2401, 0.009001291154127367), (934, 0.008996272138095538), (3370, 0.00899019711914191), (3644, 0.008987903426149161), (169, 0.008987862254314274), (419, 0.008987349028298444), (215, 0.008987237344653998), (3260, 0.008975428634225891), (1039, 0.008973947835435297), (3973, 0.008970004369549454), (1130, 0.008964063862905663), (246, 0.008959723681689966), (2499, 0.008957656181427158), (3934, 0.008946560166872387), (170, 0.008943752853409601), (4535, 0.008931542755579657), (4233, 0.0089233568370019), (2356, 0.008920520622969247), (4401, 0.008915575189026689), (3825, 0.008912342085858855), (4290, 0.008909141665512524), (2566, 0.008906984341231999), (41, 0.008879282072864909), (3127, 0.008861147200172004), (1817, 0.008858511483764238), (1267, 0.008843371283496944), (1854, 0.008842913672259731), (4106, 0.008837428446322036), (3149, 0.008823851933052587), (1095, 0.008821485322362566), (2056, 0.008815365406686638), (1597, 0.008812178329951896), (2428, 0.00880638647953773), (3201, 0.008798520717947796), (4181, 0.008795921071025803), (2131, 0.00878793675421241), (3886, 0.008785456617035553), (2724, 0.008771393833690369), (3246, 0.008769863700739504), (1446, 0.00876652151454161), (2829, 0.008764518537983807), (591, 0.008763359339082124), (69, 0.008761836093134374), (4110, 0.008760696244777239), (875, 0.00875819930833222), (3869, 0.008747523292038638), (2143, 0.008746348621755533), (1526, 0.008741899139098196), (2897, 0.008737889241416037), (3787, 0.008736182770582333), (1091, 0.008736086066566175), (2148, 0.008732416144861605), (2409, 0.008712762197070456), (1553, 0.008711790516570882), (2743, 0.008710354522158608), (2726, 0.008699447619994005), (2706, 0.00869697774715428), (4628, 0.00869585879391167), (2631, 0.00868741217028281), (3163, 0.008685487266686007), (4491, 0.00868267735272186), (2975, 0.008672103156498938), (190, 0.00866969961682163), (3712, 0.008665417756514079), (2860, 0.00865775837417671), (1136, 0.00865380150454585), (2234, 0.008652974550903983), (3016, 0.008648990554324783), (1894, 0.008647203056328264), (2888, 0.0086439938125903), (4493, 0.008642027541321906), (2303, 0.00862779659374203), (1585, 0.00862129113094856), (3977, 0.008618440300675408), (4257, 0.008617681763264114), (1973, 0.008605662113502163), (2311, 0.008605373649783823), (1356, 0.008598854523957044), (1914, 0.008597507475940118), (3320, 0.008591992427431472), (3634, 0.00858977816587267), (507, 0.008589719906104649), (3182, 0.008582336699290238), (3071, 0.008568516503527341), (279, 0.008563984076407372), (762, 0.0085560207794264), (4703, 0.008552655332720007), (3782, 0.008547545555657498), (2593, 0.008545175143375737), (733, 0.008540702499754886), (3834, 0.008538086659841689), (3909, 0.008535021672065775), (2992, 0.008529669169694956), (1778, 0.008520780332217981), (4149, 0.00851762030323754), (874, 0.008512556277321136), (1324, 0.008512089829518637), (690, 0.008511361683756092), (826, 0.00851038107130858), (3083, 0.008503988856834534), (1280, 0.008497251554597693), (2446, 0.008496625649015538), (183, 0.008494193022752308), (4289, 0.008493257310686743), (2874, 0.00849036549724957), (454, 0.008490183632127776), (2359, 0.008479653740955872), (208, 0.008471852396750485), (1642, 0.00846660502435103), (3321, 0.008464235367331967), (2835, 0.00846399166771979), (3132, 0.00846032719508258), (1488, 0.008446138171708637), (199, 0.008445106574210581), (1904, 0.008438989797011978), (2981, 0.008432300824726832), (1691, 0.008422558618312278), (3409, 0.008421597669970785), (4174, 0.008419996626710587), (901, 0.008414840461490825), (907, 0.008412606647961073), (788, 0.00839936563964401), (3968, 0.008379807498652612), (4600, 0.008371713279647678), (2413, 0.0083703568096671), (331, 0.008367613550591494), (403, 0.008366611416328777), (4354, 0.008347716170053804), (3565, 0.008337946247053857), (3134, 0.00832861608026866), (3764, 0.008325069549231635), (3295, 0.008325018794163518), (1475, 0.00831879174644622), (4466, 0.00830928362175597), (1508, 0.008296999530382985), (3313, 0.00829444243242821), (27, 0.008289203965844804), (1626, 0.00828903520646116), (3849, 0.00828816878478579), (3124, 0.008284798650853886), (4109, 0.008277363375097848), (3311, 0.008275132847502547), (4647, 0.008272175521425751), (2841, 0.008270314929223173), (1470, 0.008259702729723577), (1719, 0.008256026220581615), (163, 0.008246466489187409), (151, 0.008243118778800988), (2663, 0.008236588410478285), (2985, 0.00823355958331845), (440, 0.008230773751055215), (3222, 0.008230152932794301), (1423, 0.008219819863077174), (2514, 0.00821873379038778), (4456, 0.008217937340771924), (1009, 0.008216439861422108), (2048, 0.008213244367606044), (3585, 0.008211396545508136), (95, 0.008208494183927903), (4643, 0.008208269470860646), (885, 0.008205332006304826), (664, 0.008200186355128213), (871, 0.008199090520480026), (118, 0.008187785542831876), (902, 0.008185697477181323), (572, 0.00818049693443842), (1901, 0.008178182414688984), (2172, 0.008171899622325717), (4533, 0.0081668826959615), (3597, 0.008166779656665894), (2617, 0.008165782058493347), (4663, 0.008165385514157334), (2908, 0.008164201429017635), (1305, 0.00816051541515069), (4719, 0.008158634983103348), (1686, 0.008158138506920608), (1931, 0.008153094128011823), (194, 0.008151188494135696), (2318, 0.008150246702770933), (3486, 0.008147595840224802), (2156, 0.00814583083302697), (2960, 0.008138824854432906), (738, 0.008131761320626832), (1440, 0.008102984046475317), (3352, 0.0081019150887808), (1464, 0.008085797758694543), (3317, 0.008084922339015197), (820, 0.008080785416956966), (3520, 0.008078147674446718), (4041, 0.008071125826194575), (2130, 0.00806634619949643), (412, 0.008064393277781547), (4541, 0.00806146979582283), (3309, 0.008045012643626179), (1945, 0.008040369332527695), (258, 0.008034241667634426), (2067, 0.008027771309362991), (3411, 0.008025997350604126), (4103, 0.008022975937773742), (2826, 0.008022404216581054), (4156, 0.008018939900650425), (3427, 0.008009936167685163), (2506, 0.008005705224243875), (1151, 0.008001482337225002), (2805, 0.007999519153758294), (1863, 0.007998939308220262), (3367, 0.007992346088387678), (3982, 0.007977793832373615), (2823, 0.007976582605575122), (4473, 0.007967314230045597), (1269, 0.007966926011714785), (1759, 0.007960398828416752), (241, 0.007960191169670942), (3346, 0.007958581987624235), (4128, 0.00795065470814945), (4353, 0.007944382689839874), (2202, 0.00793701168628486), (4056, 0.007936674790354505), (2850, 0.007930999407627122), (4674, 0.007928122274170621), (2767, 0.007926139702122524), (3748, 0.007915047945482622), (1012, 0.007905056114287035), (3622, 0.007896935391623712), (3319, 0.00787712728123873), (3937, 0.007875479573978097), (1263, 0.007869152521000521), (3393, 0.007867779384893105), (86, 0.007867354500216948), (467, 0.007866133014730462), (1272, 0.007862479711260015), (309, 0.007851162374508416), (1180, 0.007847449144153758), (3147, 0.007843184641928184), (4211, 0.007833171983632859), (539, 0.007808631527576186), (3579, 0.007808551512450534), (3773, 0.0078046520148639074), (90, 0.007803206615702544), (567, 0.00778157875472706), (1846, 0.007773546839831529), (1350, 0.007773016371275499), (2933, 0.007768792825798742), (3855, 0.007762195800695924), (1315, 0.007761842634429688), (2855, 0.007757711247431123), (2204, 0.007754821680248941), (3164, 0.007746901014828165), (1010, 0.007737295348516239), (3555, 0.007733986885268247), (2544, 0.007732203075467476), (970, 0.007729042412356309), (4588, 0.007728167062972187), (159, 0.007725580583442165), (175, 0.007724614672368268), (3674, 0.0077220655824081766), (1312, 0.007719979597052175), (195, 0.007689192925074129), (1287, 0.007688184845429242), (3658, 0.007687134707623278), (3156, 0.0076857448130668825), (390, 0.007680336288432735), (3098, 0.007653597386561094), (3418, 0.0076457577319339635), (93, 0.007642963515001521), (1981, 0.007639595286365021), (3105, 0.00761986787188021), (3430, 0.0076145069344441645), (2950, 0.007583234316164782), (3700, 0.007579645393773557), (25, 0.007567219797371806), (1571, 0.007563232927834269), (1715, 0.007545536222514434), (1005, 0.007544913151356906), (228, 0.007475878330337754), (650, 0.007471339311396149), (468, 0.00746720148902891), (3100, 0.007453977542582173), (565, 0.0074531837391050935), (3136, 0.007442547098862715), (156, 0.0074314447427152215), (921, 0.007426664903729106), (2442, 0.007421382449037568), (1135, 0.0074050069258175845), (1514, 0.007385042683919207), (4236, 0.0073798773864336455), (3114, 0.007376963690884305), (1648, 0.007371586486268764), (1789, 0.007368650460700881), (3410, 0.007361476065287098), (379, 0.0073488064693454785), (4439, 0.007334135040547787), (1471, 0.0073199862567972715), (510, 0.00731235233430488), (2747, 0.007300145827225254), (397, 0.007296112170262568), (3538, 0.007294314850971867), (3742, 0.007288922027706549), (2523, 0.0072807571431329), (4153, 0.007271834456965647), (2734, 0.007270868775356022), (4598, 0.007266200270260492), (2803, 0.0072619411092563575), (4193, 0.007256955961018693), (608, 0.00723345985842007), (1366, 0.007198124922810886), (1306, 0.00719585146479356), (3600, 0.007195552912775138), (1134, 0.007192929289983384), (4018, 0.007180794872902536), (501, 0.007165650445711121), (1219, 0.007158707946899235), (3795, 0.007138149693003245), (323, 0.007137968671559698), (1, 0.0071275335628312375), (3099, 0.007097829744219017), (252, 0.007068372892855695), (2737, 0.0070431689486428984), (4635, 0.007020163055826213), (3626, 0.007018419274947873), (32, 0.006997801807574119), (243, 0.006949521964609466), (3429, 0.00690744790896727), (4498, 0.0069044537094362325), (364, 0.006865058805152889), (2678, 0.006860475413263377), (3552, 0.00685116338423678), (286, 0.006847612737043703), (1277, 0.006840923758080815), (1745, 0.006830082886419111), (2701, 0.00681769338978893), (3693, 0.006808500178448232), (601, 0.00680741481114498), (1050, 0.006798184886684432), (3405, 0.006782317835684512), (3065, 0.006777998039918362), (4571, 0.00669372346212553), (314, 0.006689243057822656), (3215, 0.006673618269730283), (3178, 0.006660152164068535), (2534, 0.006605065564709002), (484, 0.006579520964518583), (2034, 0.006574337952509223), (2673, 0.006565592063281384), (3115, 0.006557783592385151), (2703, 0.006521008206652259), (602, 0.0065152305820666565), (290, 0.006511643877786262), (295, 0.006507628620046713), (4444, 0.006465267784671202), (4223, 0.006456921934075622), (4626, 0.006451598324767047), (3145, 0.006412137707311768), (289, 0.0064045816379431075), (1861, 0.0063860409662960475), (2645, 0.006351787596786545), (2010, 0.006301759066147045), (4646, 0.006292796473351619), (3088, 0.006264042861481116), (1548, 0.0062474259079241), (4745, 0.006243279565028459), (3392, 0.006154045178027146), (764, 0.0061478696596375774), (2118, 0.006139141072524333), (2529, 0.0061148762250076445), (2684, 0.006100368579179424), (4660, 0.0060861053864945626), (2490, 0.006071503707467356), (2659, 0.006067844703215191), (2312, 0.0060647065460293454), (2764, 0.006001478095017652), (3228, 0.005989624582327642), (4062, 0.005977941971973674), (3502, 0.00597389653604478), (2858, 0.005970782505087427), (2891, 0.005966921127146021), (3139, 0.005964075466120888), (996, 0.005944203755789878), (2722, 0.0059135977434488585), (3009, 0.0058985182082105375), (4524, 0.005889723799493006), (3040, 0.005882803066876293), (1343, 0.005867177793753317), (512, 0.0058661470754219295), (3166, 0.005843205973500139), (283, 0.0058396315340567325), (3266, 0.005827223436583269), (2395, 0.005826954333611171), (4239, 0.005819786257603831), (4594, 0.005813395375929653), (4449, 0.005791074321836775), (3949, 0.005790579270695288), (4477, 0.005766106129506239), (3951, 0.005758907302417774), (735, 0.005752145291745024), (2667, 0.0057400948835980665), (3450, 0.005732110549247721), (4002, 0.0057318143823880605), (2922, 0.005731705624756386), (3042, 0.0057076424912311146), (4281, 0.005704326132668025), (4700, 0.005703777933756805), (448, 0.005696815390126368), (2990, 0.00567073237430105), (2560, 0.005664579985834045), (614, 0.005662796175632765), (2731, 0.005654447088073862), (2785, 0.005650906265896359), (4222, 0.005649536884356247), (3651, 0.005646046068574576), (2180, 0.0056417769338433016), (3661, 0.005628945802588463), (3479, 0.005625659750880573), (2638, 0.005607759955021049), (1887, 0.005593124182432199), (4462, 0.005577511700893913), (2470, 0.005574296100533126), (683, 0.005571846636028951), (4198, 0.005562267768155608), (1349, 0.005561076699221518), (3800, 0.0055576215046819625), (2483, 0.005555392888080375), (4368, 0.005554685836498261), (1716, 0.00553515313657725), (2832, 0.005528246733245835), (250, 0.005522813241117957), (2840, 0.0055046759580361536), (2536, 0.005502758055679198), (2948, 0.005485727829760345), (4537, 0.005483427468922503), (3857, 0.005481865505704326), (2854, 0.00548137689818443), (3282, 0.005462976313186725), (2112, 0.005447443565720353), (2928, 0.005439567379933998), (4166, 0.005438361075391883), (48, 0.005438210632581939), (4040, 0.005435741425065979), (3715, 0.005435721831129387), (371, 0.005431002685662986), (4084, 0.0054166585508348625), (2739, 0.005416304847095296), (3831, 0.005412265290360645), (2282, 0.005412217731360138), (123, 0.005399844730479813), (4240, 0.005387903433176492), (2838, 0.005383450598757936), (2037, 0.005378719799289346), (342, 0.005376567086701028), (4013, 0.0053734648236042045), (1056, 0.005369913265960893), (3516, 0.005367729219596044), (4102, 0.005348561588301347), (2455, 0.005346743014176721), (704, 0.005336677378708385), (3740, 0.005331173069454519), (3936, 0.005328993820908161), (2983, 0.005316465655674305), (1952, 0.00531471682250966), (3087, 0.005314480797372952), (2543, 0.0052856789600057895), (1140, 0.005284588748890795), (3844, 0.005278738077503707), (4038, 0.005276492585948674), (12, 0.005270555810781333), (2963, 0.005269784433893058), (3780, 0.005269774780525741), (3249, 0.005268599294366562), (1619, 0.005259722756968713), (10, 0.00525967603283244), (4721, 0.0052428242539251215), (748, 0.005237202415401699), (3357, 0.005236151368226105), (1896, 0.005235877920565436), (3724, 0.00523327658745913), (1687, 0.005232977921082299), (3897, 0.0052328760065658555), (2689, 0.0052319281727865085), (3618, 0.005231592788578606), (2515, 0.005229855416686973), (3537, 0.005224936811417635), (4406, 0.005220510203406334), (3777, 0.005214714999579181), (3103, 0.00521464419216523), (1859, 0.005204290243757151), (654, 0.005201885746239986), (4695, 0.005201479290168247), (3922, 0.005200193599092954), (2857, 0.005199828148166523), (2809, 0.005195057749402689), (1104, 0.005194872080000752), (3654, 0.005190684730464027), (1643, 0.0051815959410164165), (1402, 0.005175445487830474), (4363, 0.005169244918726534), (4621, 0.005157469332550903), (2797, 0.005156027177474121), (4629, 0.005148694919839064), (2488, 0.00514811118587139), (2077, 0.005137368952818363), (2911, 0.005136640369810575), (4147, 0.005129237782188529), (1048, 0.005128823097756078), (588, 0.005128637413772074), (3544, 0.005127664921742491), (3778, 0.005126629949722253), (551, 0.005125757958793134), (4262, 0.00512403270219247), (216, 0.005116839081693488), (3507, 0.005116391631203521), (4631, 0.005115466689731276), (2072, 0.005114239976901333), (3020, 0.005113906799817148), (4379, 0.005113674747274169), (4127, 0.005113272510616923), (3959, 0.005111903209969637), (11, 0.005110934584829654), (3689, 0.005105045439913399), (2053, 0.0050955359122064545), (4514, 0.0050952875539953205), (2126, 0.005089944786033095), (1636, 0.005085216713869361), (137, 0.005081391893288077), (2334, 0.005080001275880144), (3233, 0.005077468049492026), (1768, 0.005074414582576864), (3203, 0.005073240805827836), (3446, 0.005068749208290656), (2727, 0.0050666301877572975), (3054, 0.005061699587005386), (3413, 0.005059689519295573), (4408, 0.005057587328490772), (2977, 0.00505351499145618), (4189, 0.005048491623223315), (2784, 0.0050446741275465695), (1077, 0.005042198621548985), (3758, 0.005038185567378318), (2434, 0.005035939454464753), (4506, 0.005029311543974869), (3810, 0.005029221807252699), (2788, 0.00502467302335329), (850, 0.005024543233816203), (3996, 0.005022615396751141), (1790, 0.005021664361176863), (2368, 0.005020726687503577), (832, 0.005018361829375459), (2333, 0.005014604670165267), (4204, 0.005013772115322099), (3686, 0.005007858603335421), (3017, 0.005004931264583685), (83, 0.005001434033550468), (131, 0.005000378523951533), (1049, 0.004995031387513318), (1985, 0.004987208160688562), (864, 0.00498718724329995), (3308, 0.004987086385687599), (2986, 0.004982705439285144), (3551, 0.0049813445403196575), (4137, 0.004980828936298156), (209, 0.0049802357010926045), (795, 0.0049788894925961134), (4503, 0.004977621217447034), (2109, 0.004975147562596653), (3789, 0.004974873328572262), (4023, 0.004974710275346099), (4717, 0.004974023489671906), (897, 0.004973061817166339), (2769, 0.0049721044502767636), (993, 0.00497182513618839), (4451, 0.004970141135811878), (2169, 0.004967429763594834), (104, 0.004966684600665673), (4686, 0.004965616159081347), (4755, 0.004965469284965668), (582, 0.0049626414860105125), (3125, 0.004959904791633014), (2570, 0.004957955466529035), (3621, 0.0049568569145491065), (3491, 0.004954902576282865), (3564, 0.004954674973288888), (4633, 0.004950588607091387), (1792, 0.004950394359549317), (1187, 0.004949258990215525), (711, 0.004948056157987663), (4285, 0.004943424789960785), (4006, 0.004932619023107427), (3931, 0.004927760290618353), (3955, 0.00492532640991123), (2250, 0.004924872613215255), (280, 0.004922621775770374), (2195, 0.004922512543433985), (2468, 0.004921889354935517), (2900, 0.0049198313232923455), (3594, 0.004916027808966716), (2158, 0.004911549914583599), (4511, 0.004908929469457579), (689, 0.0049084561115986065), (3299, 0.004904336810558183), (988, 0.004902248334458712), (2696, 0.004896841428001389), (105, 0.004894886720284242), (2503, 0.004894183381669937), (2480, 0.004893106266650545), (1239, 0.00489069152802641), (1947, 0.004890125168035315), (894, 0.004889162401848885), (1059, 0.004885553504839126), (3754, 0.00488525687866), (1692, 0.004883335166618689), (3190, 0.004881247020363491), (4241, 0.0048812001725476424), (3237, 0.004874856858371268), (905, 0.004872930727301733), (769, 0.004870915228462454), (1852, 0.0048670735131841015), (2416, 0.004864335206601671), (1857, 0.004858833852675763), (1314, 0.004855162768417816), (2403, 0.004855115909219284), (679, 0.004854783781851826), (1338, 0.004854316198322288), (2463, 0.004851412939565592), (1551, 0.0048508306608142674), (2872, 0.004848961491035646), (4685, 0.004845583798020626), (925, 0.004843643468069207), (4284, 0.004842669960895548), (1807, 0.004841147680089765), (3046, 0.004840749246148044), (4507, 0.004838503417823802), (2478, 0.00483580009905439), (2187, 0.004834620937999861), (84, 0.004832477645052769), (760, 0.004832471265239793), (3952, 0.004830803226257419), (2676, 0.004830401742523672), (2910, 0.004829007949735479), (4687, 0.004825942979616855), (1507, 0.0048239247472351655), (3851, 0.004823046809555875), (3759, 0.0048228799348703204), (4496, 0.00482162374201148), (985, 0.004818762479580726), (3368, 0.004818646991279161), (1617, 0.004818363407460509), (2305, 0.0048178764570413184), (2702, 0.004814563258374967), (3412, 0.004813545740086042), (1653, 0.004812973371715538), (4387, 0.004812504459536333), (4295, 0.004809534533927749), (1424, 0.004809283432604541), (2698, 0.0048086998739069195), (4117, 0.004808634435733664), (3791, 0.0048066647370551985), (2178, 0.004800680548186544), (4335, 0.004798138240772456), (3994, 0.004796296434982964), (1035, 0.004794741510518782), (2982, 0.004793954691450933), (3253, 0.004790351928973753), (72, 0.004786625085551078), (2302, 0.004784634291227645), (790, 0.004783670720455712), (643, 0.004782657215601275), (2808, 0.0047824337829796655), (2357, 0.004782234207660144), (3649, 0.004778825181324159), (4746, 0.004777864417199623), (2186, 0.004774724758362779), (2138, 0.004774388604737305), (999, 0.004771491931424205), (4472, 0.004770937933268647), (3383, 0.004769833855544407), (3028, 0.004769433171650273), (3240, 0.0047693932423600715), (2571, 0.0047684387733855395), (1347, 0.00476722219051104), (2245, 0.00476706454085025), (2268, 0.0047666293892039005), (3011, 0.004765962815856141), (2914, 0.004764032272200122), (4504, 0.00476352428600293), (1969, 0.004763034945274796), (3720, 0.004762905786239535), (3820, 0.004762296634175034), (3992, 0.0047616884815522426), (839, 0.004759319454028219), (1493, 0.004758293662884464), (1421, 0.00475801590110662), (2432, 0.004757337778271083), (223, 0.0047526638094966865), (112, 0.004751600251368855), (3168, 0.004743391000592593), (3373, 0.004741231526565463), (486, 0.004739691710549089), (138, 0.0047389629285179685), (3053, 0.004736338298454059), (782, 0.004736040910075897), (18, 0.004732616509884939), (1632, 0.004732118274375504), (3962, 0.004731043686999802), (4105, 0.004728413119580281), (1311, 0.004725784518282668), (2420, 0.004718499023828516), (4481, 0.004715630651840441), (3146, 0.0047118634355493745), (3964, 0.004704632138141069), (4453, 0.004703401443014046), (4580, 0.004700696350971184), (4293, 0.004700611453456917), (4051, 0.004699644536572584), (1260, 0.00469898855691374), (3784, 0.004697799168184979), (2384, 0.004691592893685163), (1132, 0.004690550711819559), (2209, 0.004689724013855696), (3465, 0.004687959918022658), (1274, 0.004687190051189253), (2892, 0.004685009302815321), (767, 0.0046818583793403964), (4706, 0.004680018998923393), (1371, 0.00467933667182889), (2859, 0.0046792315033344755), (3808, 0.004677098719799085), (1988, 0.004677085724027113), (4463, 0.0046758186422404405), (2108, 0.00467552974045989), (1710, 0.004675221263700037), (3891, 0.0046739050317324395), (3293, 0.0046714526515581785), (4124, 0.004670106091406349), (2535, 0.00466889114067344), (3688, 0.004667612933611531), (1742, 0.004666690494671417), (3371, 0.00466639103720469), (1404, 0.004665386248777535), (3572, 0.00466379642201669), (1658, 0.004663781092667972), (878, 0.004661668150919176), (1054, 0.004660447892402318), (3819, 0.00466006646551839), (387, 0.0046547830149957095), (3652, 0.004654552362739972), (1756, 0.004654229992227223), (3026, 0.004654098912316718), (4003, 0.004653287989276875), (2493, 0.004649139252212855), (2023, 0.004647760092720793), (3097, 0.004644998367968922), (2899, 0.004639594173639427), (742, 0.004639382602540024), (3407, 0.004633448242453109), (1723, 0.004633260519520272), (1786, 0.00463301588995304), (1682, 0.004631574392440895), (1089, 0.0046313295508284965), (3057, 0.00463002976216883), (3207, 0.004629162174848415), (3529, 0.004628870642815327), (2375, 0.004627817970459749), (4548, 0.004626583689324549), (1793, 0.004625897957185858), (841, 0.004625438366312953), (3837, 0.004623914191290703), (2452, 0.004621390655828033), (974, 0.0046202815235295), (1479, 0.004620192936520004), (2464, 0.004619963847740495), (4308, 0.0046195787945170754), (4059, 0.004615539357437088), (2552, 0.004614403450632775), (4097, 0.004613098569179516), (2811, 0.004613054064651707), (3183, 0.0046128615064346115), (810, 0.004611213145898219), (253, 0.004605593226818236), (318, 0.004603532803989253), (3966, 0.004603056504748131), (1662, 0.004599995130666143), (1806, 0.004598893630008224), (2968, 0.004598011553075397), (3280, 0.0045950487129842975), (1243, 0.004594650300035395), (1905, 0.004592572738600325), (678, 0.004592306985198033), (4522, 0.004590652567801758), (1491, 0.004590584806513528), (1430, 0.004589251835813717), (866, 0.004588275088879812), (350, 0.004585957847106461), (1456, 0.004581098469888929), (2748, 0.004580716324153864), (3258, 0.004580620675411039), (2978, 0.004580425687371063), (2882, 0.004577539897067219), (1052, 0.004569202975769397), (3889, 0.004568498685168465), (240, 0.004568332916936895), (96, 0.004567951436293792), (2258, 0.004567860910738725), (4413, 0.004567543836564903), (2777, 0.004566812236512865), (2317, 0.004566690855737046), (1068, 0.004564372827158797), (744, 0.004564304091236071), (3854, 0.004564115337259249), (4402, 0.004563727409759788), (4734, 0.004552389277241944), (2482, 0.00454933217233698), (324, 0.0045489931556740165), (590, 0.004548895034475155), (2116, 0.004546454536060664), (3510, 0.004541307546416114), (669, 0.0045412398303287934), (1441, 0.004541125202174683), (2880, 0.004540133104549381), (3226, 0.0045393577287922175), (1103, 0.004539284424491399), (771, 0.004538315456601996), (4176, 0.004538282745605105), (1848, 0.004534692521430626), (4132, 0.004534260680117609), (829, 0.004533916319157504), (4649, 0.004532591903199901), (3584, 0.004524044050673031), (3496, 0.004521692179823955), (3284, 0.004520279978444032), (1782, 0.004514087493987436), (3175, 0.004513960119849998), (754, 0.004513032427169661), (2588, 0.004512074831746099), (2786, 0.004511092943155967), (873, 0.004510895655306808), (4339, 0.004508432642683978), (4131, 0.004507888341238267), (1409, 0.0045066041744474235), (1614, 0.004506429487324767), (1568, 0.004503958771411289), (4689, 0.004503579920131017), (4370, 0.004498970197676351), (291, 0.004498771944852776), (1609, 0.004495254131669281), (1737, 0.004493470767301759), (1360, 0.004491919696634789), (4357, 0.004490333097051608), (2970, 0.004490045786878179), (3109, 0.004486373640554173), (4315, 0.004485971449256901), (1791, 0.004484583998119096), (536, 0.00448304283057603), (1205, 0.004482148608349876), (1856, 0.004479838830203858), (4560, 0.004479799855454127), (337, 0.004479577517385614), (148, 0.004478813416630796), (1596, 0.004474671353694064), (4622, 0.004471469614053551), (4256, 0.004470228552500172), (3442, 0.004468254620414397), (4489, 0.004467726183419355), (4054, 0.004466702011857107), (1595, 0.0044665039557266716), (1234, 0.00446072842187573), (205, 0.0044605631905128736), (4655, 0.004458820196719335), (3905, 0.004455881361501197), (4260, 0.004452336138475789), (4052, 0.004452084462763919), (4180, 0.004451556085438648), (4027, 0.004448139690904809), (1822, 0.00444678117874282), (3037, 0.004446505585272693), (3041, 0.004446394704052546), (3422, 0.004443211532827444), (3986, 0.004440780002340676), (2394, 0.00443870132715138), (3388, 0.004438309350865735), (2385, 0.004436797719271687), (3882, 0.004433457985444967), (3984, 0.004430149883387367), (1808, 0.0044263374119380555), (474, 0.004426259372771956), (1821, 0.004420436637227991), (2754, 0.004416360270943163), (1193, 0.004414138857035963), (1734, 0.004413889955579555), (3513, 0.0044135229528371326), (2217, 0.0044099540539936505), (3493, 0.004409023722170008), (3038, 0.004406564098086478), (2380, 0.004406212127309816), (2926, 0.004405472092758357), (3061, 0.004404316827687709), (2929, 0.004401882526956122), (3514, 0.0043976840113274275), (4421, 0.004397331584727377), (1224, 0.004397274098902023), (3351, 0.004396487369511342), (2090, 0.004396437162266239), (2042, 0.00439568089724665), (3382, 0.004395572190325336), (4433, 0.004394922223693737), (879, 0.004394811160147386), (2561, 0.00439478183204567), (3845, 0.0043938196826828185), (2601, 0.004393183258390584), (1432, 0.004387931799766288), (1024, 0.004387431000976688), (4057, 0.004386957500545451), (3224, 0.00438570881597851), (1727, 0.004379824588085568), (4450, 0.00437511803177214), (2325, 0.0043730921229960555), (4008, 0.004371755724965933), (3349, 0.00437036572643762), (784, 0.004367790452427304), (1124, 0.0043672748654183), (1949, 0.004367162103518703), (2744, 0.004365784504372516), (33, 0.0043617464624840455), (166, 0.004358835201268214), (1765, 0.004356812727067173), (4648, 0.004356526929346931), (4422, 0.004353164145973164), (3428, 0.004352016872097727), (4287, 0.004352014773107253), (3198, 0.004351654485405602), (671, 0.004349739157448756), (1847, 0.004349243265610839), (708, 0.004346148619242316), (184, 0.004346143358847935), (2906, 0.004345184860716857), (2519, 0.0043451515046603745), (1735, 0.004344186372991477), (2648, 0.0043436677137573204), (3489, 0.004342170881097537), (377, 0.004340293079014273), (1516, 0.004338271161230365), (3290, 0.004335092252872362), (1186, 0.0043336920550070095), (97, 0.004331260906697998), (4319, 0.004329740953902343), (1777, 0.0043277106264299516), (814, 0.0043272300883656295), (1917, 0.004324124433809216), (869, 0.004319030128868756), (3637, 0.004316206366130258), (846, 0.004313393181648891), (3683, 0.004311969396331358), (4093, 0.004309045697731259), (42, 0.004308794259533089), (3209, 0.004308192029305458), (115, 0.004307349678891576), (4404, 0.004303732417797961), (134, 0.004303220681555226), (933, 0.004302104753375544), (3852, 0.004300445475940577), (1337, 0.00429885918783027), (3113, 0.0042965111775741215), (3655, 0.004295255238611404), (4197, 0.0042943889183182414), (3603, 0.004292873203814864), (2292, 0.004290378570556188), (2397, 0.004284220109697205), (3060, 0.00428195854661038), (4049, 0.004275209859355152), (2685, 0.004275094748905903), (4748, 0.00427449757978858), (1559, 0.004271499461407415), (2942, 0.004270820901362597), (579, 0.0042701895611058985), (2586, 0.00426808313536136), (1476, 0.004267806425313493), (2842, 0.004267189002167083), (4214, 0.004266878386011593), (1599, 0.0042650439126475335), (3462, 0.004264784397466025), (3332, 0.004262923039942253), (1879, 0.0042616749244579755), (1956, 0.004260860315327516), (1410, 0.004257496445276552), (3676, 0.004256935019362322), (3245, 0.004256155914926239), (1722, 0.004253858464005739), (2122, 0.004252602541845799), (2396, 0.004250763556438087), (2761, 0.004247222523850812), (1546, 0.004245922873761685), (2192, 0.004242192665342817), (398, 0.004241770462691356), (3155, 0.004241293780615442), (3034, 0.004239888966147025), (2994, 0.004239788111410546), (3494, 0.004239515541966717), (4158, 0.0042377879811638765), (2611, 0.00423423851262204), (2801, 0.004233818503412249), (697, 0.004230087309775859), (4184, 0.004229667925459751), (1906, 0.004226768562741153), (1074, 0.00422541703431766), (1215, 0.004224629795849398), (2340, 0.004222913329513689), (943, 0.00422257606674749), (2070, 0.004221583150241399), (2081, 0.004216933703532905), (1707, 0.004216831739764264), (114, 0.004216484309887695), (3376, 0.004214583979693043), (2709, 0.004214309584974314), (2495, 0.004212105447896637), (4738, 0.00421056614919041), (3662, 0.004210368632532496), (2020, 0.00420997224310247), (2026, 0.00420912918662607), (3731, 0.0042090366183597456), (1227, 0.004208203426804662), (1644, 0.004207715834308599), (3188, 0.0042076765991814), (479, 0.004207503744375124), (4291, 0.004206572425064537), (1133, 0.004203419430656893), (2387, 0.00420331737680817), (1345, 0.004203139584458959), (3104, 0.004202612419612836), (1743, 0.004201069205751066), (3106, 0.004199138875385819), (1638, 0.004196139716093002), (3200, 0.00419356021545034), (1444, 0.0041917091286509675), (2999, 0.004188591139098867), (2622, 0.004187364829035288), (3570, 0.004186122557799244), (1971, 0.004183342939416504), (4688, 0.004182720523993738), (22, 0.004182654309191863), (2836, 0.004179729922654921), (3668, 0.004177532527900903), (1834, 0.004176114281312638), (1845, 0.00417370841029358), (2280, 0.004172882319639718), (1910, 0.004169532685937534), (3888, 0.004168029390931778), (2825, 0.004161423545830936), (547, 0.004161188393281817), (174, 0.0041608735502603866), (1028, 0.004157491789430355), (1279, 0.004155406446985157), (1549, 0.004155261297965578), (3443, 0.004154956470861758), (1313, 0.004151004119165908), (1757, 0.0041497327237897865), (3508, 0.004145589432419156), (2687, 0.004144412287604742), (1100, 0.004142761262688594), (1292, 0.004142440059901951), (3090, 0.004142353502620729), (575, 0.004140457234676728), (3821, 0.00413915433715307), (983, 0.00413730874571577), (1330, 0.004135183140011606), (2639, 0.004133050014369652), (186, 0.004127408947575283), (3580, 0.004127141543523503), (1589, 0.0041263865492143495), (2945, 0.004123480963648826), (3928, 0.004122709952197714), (1094, 0.00412248172004121), (3288, 0.0041215951602154135), (4530, 0.004119774062257317), (3400, 0.004119588204072141), (3713, 0.004114981795644807), (2481, 0.004110137905712218), (4234, 0.004109406361274714), (1880, 0.0041070771545820405), (4073, 0.0041057947570497955), (4327, 0.004105304381512429), (2677, 0.004104317110773684), (2789, 0.0041024891647207335), (755, 0.0040938035127663485), (2969, 0.004093469140605246), (442, 0.004092404907468262), (3879, 0.004083997228821965), (3375, 0.004083672487176998), (49, 0.004083111240821494), (4367, 0.004082160266307616), (2563, 0.004081911850522492), (2912, 0.004078910553681918), (1618, 0.004078888716086745), (4382, 0.004073317499929361), (88, 0.004070783148375146), (3957, 0.004068101847488135), (2653, 0.004064984449993305), (2467, 0.00406420582437561), (3896, 0.004061951865515813), (2465, 0.004059912861956762), (2681, 0.004049861846318723), (1561, 0.004048986628166855), (1117, 0.004046737307148051), (1767, 0.004046608310100096), (3490, 0.004045267424537658), (1544, 0.004043741071016044), (1369, 0.0040395815858611595), (2526, 0.004038208049031506), (4434, 0.004035321266143316), (1950, 0.004031419516756932), (3315, 0.004024103881195834), (2309, 0.004023988344475372), (1654, 0.004020960291267429), (3824, 0.004020556693116483), (2620, 0.004019670406254669), (2107, 0.004012514982451688), (157, 0.004011931396385679), (984, 0.00400693359753903), (4213, 0.004005609429078353), (2787, 0.004005573418479515), (2140, 0.004005421286477431), (2068, 0.0040028395379501985), (3177, 0.004001553950951354), (4206, 0.004001367388969616), (2690, 0.004000148336506806), (1376, 0.003999980388398836), (1532, 0.003998595066284567), (1211, 0.003991551680814622), (4246, 0.003988501765235787), (2271, 0.003986586723298896), (3859, 0.003984410484963452), (1377, 0.003981337991867173), (422, 0.0039801015560191255), (3944, 0.003978481266193967), (197, 0.003977464325803183), (3194, 0.003976032492310991), (3864, 0.003975281661185032), (939, 0.003973264844549616), (1395, 0.003972821789387257), (3811, 0.003971157488375227), (2348, 0.0039678097033030504), (1139, 0.003962180291081157), (4254, 0.003955320112723965), (1203, 0.003955161329024442), (1693, 0.00395515799198358), (3250, 0.00395076208958839), (4690, 0.003950470040852115), (886, 0.003949224325814945), (3941, 0.003947529075390524), (2594, 0.00394562512203725), (941, 0.0039454041649841474), (1721, 0.003941815214942885), (4667, 0.00393937046825786), (4603, 0.0039293965578411595), (1899, 0.003927061900493863), (2078, 0.0039252581705971935), (659, 0.003923887663892892), (1457, 0.003922977351420891), (2866, 0.00391987165069786), (1353, 0.003916758948106553), (710, 0.003913400853439888), (4305, 0.003913358926572529), (2272, 0.00391275774885622), (532, 0.003911634737179504), (3362, 0.00390821878919466), (3500, 0.003908167083662247), (4325, 0.003907215009994325), (668, 0.0039046844950764276), (589, 0.003904002878600031), (2548, 0.00389235247725208), (2399, 0.0038884459394196145), (3839, 0.0038854553180803723), (3589, 0.003884589482874318), (1543, 0.003881017139857908), (168, 0.003878970441602149), (2445, 0.003877143894632542), (2274, 0.003875987021722595), (2326, 0.0038755220557585655), (1331, 0.00386106619738857), (3050, 0.0038594202798662752), (3329, 0.0038510729353365652), (958, 0.0038502815459753167), (1974, 0.003849693135804131), (1038, 0.0038472460808418895), (2007, 0.0038450231829102116), (759, 0.003835336253145551), (2728, 0.003834310463167991), (3842, 0.003834115719654996), (3885, 0.003832101809321111), (1200, 0.003828878764915411), (3197, 0.003828322690945095), (1528, 0.0038261181823820156), (2063, 0.003818995314750186), (2424, 0.0038182016268781746), (853, 0.0038160354918573064), (2402, 0.0038149134764252643), (1485, 0.0038005441844407408), (106, 0.0037992937086798306), (515, 0.0037970743298111893), (3316, 0.0037965571982186944), (161, 0.003786397516152381), (4304, 0.0037807327173483645), (3667, 0.003773413608330718), (3070, 0.003762905399744735), (1318, 0.0037568595467710165), (672, 0.0037562709198144064), (3933, 0.003754867364747649), (2833, 0.003754836331095452), (1978, 0.003754505773364169), (3082, 0.0037465927946098553), (562, 0.003744336871696482), (1694, 0.003740102878125557), (2366, 0.003735765251841541), (4104, 0.003733893219150705), (1954, 0.0037315262828991097), (3861, 0.0037300441739711748), (2398, 0.0037263109089294296), (3063, 0.0037252451108306787), (3755, 0.0037229614413374443), (2360, 0.0037228834504581475), (3356, 0.0037225332176913217), (1199, 0.00371601588112365), (4373, 0.0037154068753320335), (605, 0.00370663510205155), (2636, 0.00370541217763291), (2240, 0.0036966595346713004), (4558, 0.003690936613144963), (2820, 0.003684513198286838), (2059, 0.003673853376116205), (2460, 0.0036711185472171576), (4035, 0.00366532601172033), (2971, 0.003665317823791501), (3509, 0.0036547480230275436), (892, 0.0036493549847557275), (103, 0.0036486102887595623), (3856, 0.0036456456847301), (1351, 0.0036398127088440257), (2270, 0.0036396560888072517), (629, 0.0036375347330653302), (278, 0.0036280532305330536), (4627, 0.0036145807907965836), (2168, 0.0036047373918694993), (2098, 0.003603297801899292), (1070, 0.0036004007997810683), (2146, 0.003599959076176507), (3916, 0.0035894531760215353), (1639, 0.003566132445247009), (4636, 0.0035523794067192495), (4610, 0.003535395503432747), (786, 0.0035281772851298767), (709, 0.003527407357188128), (1062, 0.003522231864127023), (2876, 0.0035181947956735003), (1367, 0.003517803750237677), (2373, 0.0035130566299275126), (1938, 0.0035121536370787748), (964, 0.0035117147425793045), (1078, 0.0035080790935499593), (2227, 0.0035003521726142315), (1944, 0.0034986733478572815), (4171, 0.0034881326321719456), (2508, 0.003486809482641888), (4200, 0.003482830032745739), (1752, 0.0034828112840044004), (3365, 0.003480551690202213), (2025, 0.0034749327838221665), (1289, 0.0034608497822796063), (2439, 0.00345850195735092), (1427, 0.0034531314970245946), (366, 0.003435300750986423), (4311, 0.003422410872150681), (4744, 0.0034148629687638277), (2441, 0.0034111599843283957), (1344, 0.003406298038428195), (3575, 0.003403168775684649), (3971, 0.00339712224128376), (1646, 0.0033893939148358482), (2925, 0.0033821818812827895), (2113, 0.0032964056525003433), (1040, 0.0032901260487799714), (837, 0.0032381593096725333), (1403, 0.0032365068940426907), (4182, 0.0031959366405529908), (1362, 0.003130388855916469), (2219, 0.003108782910417706), (2671, 0.003093993263221739), (1153, 0.0029535330013333635), (3421, 0.0029143343520842747), (740, 0.002825901953361535), (4, 0.0), (5, 0.0), (8, 0.0), (15, 0.0), (16, 0.0), (21, 0.0), (23, 0.0), (26, 0.0), (30, 0.0), (31, 0.0), (34, 0.0), (43, 0.0), (44, 0.0), (47, 0.0), (51, 0.0), (52, 0.0), (62, 0.0), (66, 0.0), (68, 0.0), (70, 0.0), (76, 0.0), (81, 0.0), (85, 0.0), (87, 0.0), (89, 0.0), (92, 0.0), (99, 0.0), (100, 0.0), (107, 0.0), (109, 0.0), (121, 0.0), (126, 0.0), (127, 0.0), (132, 0.0), (133, 0.0), (140, 0.0), (142, 0.0), (143, 0.0), (144, 0.0), (147, 0.0), (149, 0.0), (155, 0.0), (158, 0.0), (164, 0.0), (172, 0.0), (173, 0.0), (176, 0.0), (178, 0.0), (193, 0.0), (196, 0.0), (198, 0.0), (200, 0.0), (207, 0.0), (210, 0.0), (213, 0.0), (224, 0.0), (226, 0.0), (227, 0.0), (229, 0.0), (235, 0.0), (236, 0.0), (248, 0.0), (254, 0.0), (256, 0.0), (262, 0.0), (265, 0.0), (267, 0.0), (268, 0.0), (273, 0.0), (274, 0.0), (275, 0.0), (276, 0.0), (281, 0.0), (282, 0.0), (296, 0.0), (302, 0.0), (313, 0.0), (317, 0.0), (326, 0.0), (329, 0.0), (334, 0.0), (358, 0.0), (370, 0.0), (374, 0.0), (376, 0.0), (378, 0.0), (384, 0.0), (386, 0.0), (394, 0.0), (399, 0.0), (400, 0.0), (402, 0.0), (406, 0.0), (433, 0.0), (435, 0.0), (436, 0.0), (445, 0.0), (446, 0.0), (447, 0.0), (449, 0.0), (450, 0.0), (453, 0.0), (455, 0.0), (458, 0.0), (462, 0.0), (463, 0.0), (464, 0.0), (465, 0.0), (475, 0.0), (476, 0.0), (478, 0.0), (481, 0.0), (482, 0.0), (487, 0.0), (488, 0.0), (489, 0.0), (499, 0.0), (502, 0.0), (509, 0.0), (514, 0.0), (516, 0.0), (517, 0.0), (526, 0.0), (533, 0.0), (534, 0.0), (541, 0.0), (542, 0.0), (544, 0.0), (552, 0.0), (554, 0.0), (556, 0.0), (557, 0.0), (558, 0.0), (559, 0.0), (563, 0.0), (571, 0.0), (573, 0.0), (574, 0.0), (578, 0.0), (580, 0.0), (581, 0.0), (587, 0.0), (593, 0.0), (596, 0.0), (598, 0.0), (604, 0.0), (607, 0.0), (611, 0.0), (612, 0.0), (616, 0.0), (617, 0.0), (619, 0.0), (620, 0.0), (621, 0.0), (622, 0.0), (623, 0.0), (625, 0.0), (628, 0.0), (634, 0.0), (636, 0.0), (637, 0.0), (638, 0.0), (642, 0.0), (645, 0.0), (647, 0.0), (651, 0.0), (652, 0.0), (656, 0.0), (658, 0.0), (660, 0.0), (663, 0.0), (673, 0.0), (676, 0.0), (682, 0.0), (688, 0.0), (693, 0.0), (694, 0.0), (696, 0.0), (698, 0.0), (718, 0.0), (721, 0.0), (728, 0.0), (729, 0.0), (734, 0.0), (739, 0.0), (743, 0.0), (750, 0.0), (753, 0.0), (761, 0.0), (777, 0.0), (796, 0.0), (799, 0.0), (801, 0.0), (804, 0.0), (808, 0.0), (809, 0.0), (811, 0.0), (817, 0.0), (823, 0.0), (827, 0.0), (828, 0.0), (830, 0.0), (831, 0.0), (833, 0.0), (834, 0.0), (835, 0.0), (838, 0.0), (843, 0.0), (844, 0.0), (845, 0.0), (848, 0.0), (855, 0.0), (857, 0.0), (858, 0.0), (860, 0.0), (861, 0.0), (865, 0.0), (868, 0.0), (876, 0.0), (877, 0.0), (888, 0.0), (889, 0.0), (896, 0.0), (910, 0.0), (917, 0.0), (922, 0.0), (927, 0.0), (932, 0.0), (942, 0.0), (944, 0.0), (947, 0.0), (952, 0.0), (960, 0.0), (967, 0.0), (976, 0.0), (979, 0.0), (980, 0.0), (986, 0.0), (987, 0.0), (989, 0.0), (997, 0.0), (1004, 0.0), (1015, 0.0), (1017, 0.0), (1019, 0.0), (1023, 0.0), (1026, 0.0), (1030, 0.0), (1032, 0.0), (1034, 0.0), (1037, 0.0), (1042, 0.0), (1053, 0.0), (1057, 0.0), (1058, 0.0), (1065, 0.0), (1072, 0.0), (1080, 0.0), (1081, 0.0), (1083, 0.0), (1092, 0.0), (1096, 0.0), (1097, 0.0), (1098, 0.0), (1101, 0.0), (1102, 0.0), (1107, 0.0), (1110, 0.0), (1119, 0.0), (1122, 0.0), (1127, 0.0), (1131, 0.0), (1137, 0.0), (1138, 0.0), (1145, 0.0), (1148, 0.0), (1154, 0.0), (1158, 0.0), (1159, 0.0), (1160, 0.0), (1162, 0.0), (1163, 0.0), (1164, 0.0), (1167, 0.0), (1174, 0.0), (1177, 0.0), (1181, 0.0), (1183, 0.0), (1184, 0.0), (1197, 0.0), (1202, 0.0), (1209, 0.0), (1229, 0.0), (1230, 0.0), (1233, 0.0), (1236, 0.0), (1237, 0.0), (1247, 0.0), (1255, 0.0), (1264, 0.0), (1265, 0.0), (1271, 0.0), (1276, 0.0), (1281, 0.0), (1290, 0.0), (1295, 0.0), (1296, 0.0), (1303, 0.0), (1316, 0.0), (1325, 0.0), (1334, 0.0), (1335, 0.0), (1339, 0.0), (1342, 0.0), (1357, 0.0), (1383, 0.0), (1391, 0.0), (1393, 0.0), (1399, 0.0), (1406, 0.0), (1407, 0.0), (1415, 0.0), (1416, 0.0), (1428, 0.0), (1429, 0.0), (1434, 0.0), (1435, 0.0), (1438, 0.0), (1439, 0.0), (1449, 0.0), (1452, 0.0), (1454, 0.0), (1455, 0.0), (1462, 0.0), (1478, 0.0), (1480, 0.0), (1483, 0.0), (1499, 0.0), (1504, 0.0), (1519, 0.0), (1527, 0.0), (1550, 0.0), (1556, 0.0), (1558, 0.0), (1573, 0.0), (1576, 0.0), (1588, 0.0), (1590, 0.0), (1591, 0.0), (1605, 0.0), (1621, 0.0), (1622, 0.0), (1623, 0.0), (1624, 0.0), (1625, 0.0), (1628, 0.0), (1635, 0.0), (1641, 0.0), (1647, 0.0), (1651, 0.0), (1655, 0.0), (1657, 0.0), (1659, 0.0), (1665, 0.0), (1667, 0.0), (1671, 0.0), (1680, 0.0), (1696, 0.0), (1699, 0.0), (1703, 0.0), (1712, 0.0), (1717, 0.0), (1728, 0.0), (1730, 0.0), (1736, 0.0), (1739, 0.0), (1747, 0.0), (1748, 0.0), (1749, 0.0), (1753, 0.0), (1760, 0.0), (1761, 0.0), (1763, 0.0), (1770, 0.0), (1773, 0.0), (1774, 0.0), (1776, 0.0), (1780, 0.0), (1795, 0.0), (1801, 0.0), (1814, 0.0), (1815, 0.0), (1819, 0.0), (1826, 0.0), (1829, 0.0), (1831, 0.0), (1835, 0.0), (1838, 0.0), (1853, 0.0), (1860, 0.0), (1862, 0.0), (1869, 0.0), (1872, 0.0), (1882, 0.0), (1884, 0.0), (1885, 0.0), (1890, 0.0), (1892, 0.0), (1909, 0.0), (1916, 0.0), (1918, 0.0), (1920, 0.0), (1921, 0.0), (1922, 0.0), (1924, 0.0), (1927, 0.0), (1930, 0.0), (1933, 0.0), (1937, 0.0), (1940, 0.0), (1942, 0.0), (1946, 0.0), (1959, 0.0), (1960, 0.0), (1966, 0.0), (1967, 0.0), (1970, 0.0), (1972, 0.0), (1975, 0.0), (1983, 0.0), (1991, 0.0), (2004, 0.0), (2011, 0.0), (2024, 0.0), (2039, 0.0), (2044, 0.0), (2051, 0.0), (2054, 0.0), (2057, 0.0), (2080, 0.0), (2085, 0.0), (2088, 0.0), (2089, 0.0), (2096, 0.0), (2104, 0.0), (2105, 0.0), (2110, 0.0), (2120, 0.0), (2121, 0.0), (2123, 0.0), (2129, 0.0), (2132, 0.0), (2133, 0.0), (2144, 0.0), (2149, 0.0), (2152, 0.0), (2159, 0.0), (2162, 0.0), (2173, 0.0), (2174, 0.0), (2181, 0.0), (2184, 0.0), (2188, 0.0), (2189, 0.0), (2190, 0.0), (2191, 0.0), (2197, 0.0), (2205, 0.0), (2206, 0.0), (2213, 0.0), (2216, 0.0), (2226, 0.0), (2229, 0.0), (2230, 0.0), (2231, 0.0), (2232, 0.0), (2235, 0.0), (2238, 0.0), (2243, 0.0), (2244, 0.0), (2248, 0.0), (2251, 0.0), (2253, 0.0), (2255, 0.0), (2266, 0.0), (2273, 0.0), (2275, 0.0), (2276, 0.0), (2279, 0.0), (2288, 0.0), (2289, 0.0), (2299, 0.0), (2300, 0.0), (2306, 0.0), (2310, 0.0), (2313, 0.0), (2314, 0.0), (2321, 0.0), (2323, 0.0), (2341, 0.0), (2342, 0.0), (2343, 0.0), (2344, 0.0), (2345, 0.0), (2347, 0.0), (2349, 0.0), (2350, 0.0), (2354, 0.0), (2355, 0.0), (2361, 0.0), (2362, 0.0), (2369, 0.0), (2374, 0.0), (2378, 0.0), (2382, 0.0), (2383, 0.0), (2386, 0.0), (2392, 0.0), (2400, 0.0), (2405, 0.0), (2407, 0.0), (2415, 0.0), (2417, 0.0), (2429, 0.0), (2438, 0.0), (2453, 0.0), (2454, 0.0), (2457, 0.0), (2469, 0.0), (2471, 0.0), (2475, 0.0), (2476, 0.0), (2477, 0.0), (2496, 0.0), (2502, 0.0), (2505, 0.0), (2520, 0.0), (2524, 0.0), (2528, 0.0), (2533, 0.0), (2538, 0.0), (2540, 0.0), (2541, 0.0), (2557, 0.0), (2565, 0.0), (2572, 0.0), (2573, 0.0), (2576, 0.0), (2578, 0.0), (2589, 0.0), (2596, 0.0), (2598, 0.0), (2599, 0.0), (2602, 0.0), (2606, 0.0), (2607, 0.0), (2613, 0.0), (2618, 0.0), (2623, 0.0), (2624, 0.0), (2628, 0.0), (2629, 0.0), (2630, 0.0), (2655, 0.0), (2658, 0.0), (2664, 0.0), (2670, 0.0), (2674, 0.0), (2679, 0.0), (2683, 0.0), (2686, 0.0), (2692, 0.0), (2694, 0.0), (2695, 0.0), (2697, 0.0), (2700, 0.0), (2705, 0.0), (2711, 0.0), (2735, 0.0), (2736, 0.0), (2742, 0.0), (2750, 0.0), (2751, 0.0), (2753, 0.0), (2757, 0.0), (2759, 0.0), (2760, 0.0), (2762, 0.0), (2768, 0.0), (2773, 0.0), (2779, 0.0), (2780, 0.0), (2783, 0.0), (2800, 0.0), (2802, 0.0), (2815, 0.0), (2821, 0.0), (2827, 0.0), (2828, 0.0), (2849, 0.0), (2853, 0.0), (2861, 0.0), (2863, 0.0), (2865, 0.0), (2868, 0.0), (2869, 0.0), (2870, 0.0), (2871, 0.0), (2879, 0.0), (2881, 0.0), (2883, 0.0), (2886, 0.0), (2889, 0.0), (2894, 0.0), (2902, 0.0), (2903, 0.0), (2904, 0.0), (2905, 0.0), (2907, 0.0), (2915, 0.0), (2917, 0.0), (2921, 0.0), (2932, 0.0), (2934, 0.0), (2935, 0.0), (2936, 0.0), (2943, 0.0), (2946, 0.0), (2947, 0.0), (2953, 0.0), (2957, 0.0), (2958, 0.0), (2959, 0.0), (2961, 0.0), (2965, 0.0), (2966, 0.0), (2967, 0.0), (2974, 0.0), (2987, 0.0), (2988, 0.0), (2989, 0.0), (2991, 0.0), (2993, 0.0), (2995, 0.0), (2997, 0.0), (3000, 0.0), (3001, 0.0), (3002, 0.0), (3004, 0.0), (3005, 0.0), (3006, 0.0), (3008, 0.0), (3012, 0.0), (3013, 0.0), (3014, 0.0), (3019, 0.0), (3023, 0.0), (3024, 0.0), (3025, 0.0), (3029, 0.0), (3030, 0.0), (3031, 0.0), (3032, 0.0), (3035, 0.0), (3036, 0.0), (3043, 0.0), (3045, 0.0), (3047, 0.0), (3049, 0.0), (3055, 0.0), (3056, 0.0), (3059, 0.0), (3064, 0.0), (3067, 0.0), (3075, 0.0), (3079, 0.0), (3085, 0.0), (3092, 0.0), (3094, 0.0), (3095, 0.0), (3101, 0.0), (3107, 0.0), (3110, 0.0), (3117, 0.0), (3118, 0.0), (3119, 0.0), (3120, 0.0), (3130, 0.0), (3140, 0.0), (3148, 0.0), (3153, 0.0), (3154, 0.0), (3157, 0.0), (3158, 0.0), (3159, 0.0), (3160, 0.0), (3161, 0.0), (3165, 0.0), (3170, 0.0), (3171, 0.0), (3173, 0.0), (3176, 0.0), (3179, 0.0), (3185, 0.0), (3195, 0.0), (3196, 0.0), (3210, 0.0), (3213, 0.0), (3223, 0.0), (3225, 0.0), (3227, 0.0), (3235, 0.0), (3241, 0.0), (3242, 0.0), (3243, 0.0), (3247, 0.0), (3248, 0.0), (3251, 0.0), (3252, 0.0), (3254, 0.0), (3255, 0.0), (3261, 0.0), (3263, 0.0), (3268, 0.0), (3269, 0.0), (3273, 0.0), (3274, 0.0), (3275, 0.0), (3278, 0.0), (3279, 0.0), (3281, 0.0), (3296, 0.0), (3300, 0.0), (3301, 0.0), (3305, 0.0), (3307, 0.0), (3314, 0.0), (3318, 0.0), (3322, 0.0), (3325, 0.0), (3326, 0.0), (3331, 0.0), (3333, 0.0), (3334, 0.0), (3339, 0.0), (3347, 0.0), (3354, 0.0), (3358, 0.0), (3359, 0.0), (3363, 0.0), (3369, 0.0), (3372, 0.0), (3380, 0.0), (3381, 0.0), (3391, 0.0), (3396, 0.0), (3423, 0.0), (3425, 0.0), (3431, 0.0), (3432, 0.0), (3433, 0.0), (3434, 0.0), (3437, 0.0), (3441, 0.0), (3452, 0.0), (3453, 0.0), (3455, 0.0), (3466, 0.0), (3474, 0.0), (3478, 0.0), (3483, 0.0), (3487, 0.0), (3488, 0.0), (3495, 0.0), (3497, 0.0), (3499, 0.0), (3506, 0.0), (3511, 0.0), (3521, 0.0), (3523, 0.0), (3525, 0.0), (3527, 0.0), (3534, 0.0), (3535, 0.0), (3547, 0.0), (3548, 0.0), (3550, 0.0), (3553, 0.0), (3556, 0.0), (3558, 0.0), (3569, 0.0), (3573, 0.0), (3576, 0.0), (3588, 0.0), (3590, 0.0), (3596, 0.0), (3602, 0.0), (3605, 0.0), (3608, 0.0), (3614, 0.0), (3615, 0.0), (3617, 0.0), (3619, 0.0), (3624, 0.0), (3625, 0.0), (3627, 0.0), (3636, 0.0), (3639, 0.0), (3642, 0.0), (3645, 0.0), (3647, 0.0), (3653, 0.0), (3660, 0.0), (3663, 0.0), (3664, 0.0), (3666, 0.0), (3669, 0.0), (3670, 0.0), (3672, 0.0), (3675, 0.0), (3679, 0.0), (3687, 0.0), (3691, 0.0), (3692, 0.0), (3699, 0.0), (3702, 0.0), (3705, 0.0), (3706, 0.0), (3710, 0.0), (3714, 0.0), (3717, 0.0), (3719, 0.0), (3721, 0.0), (3729, 0.0), (3734, 0.0), (3737, 0.0), (3745, 0.0), (3750, 0.0), (3756, 0.0), (3757, 0.0), (3760, 0.0), (3761, 0.0), (3762, 0.0), (3766, 0.0), (3768, 0.0), (3770, 0.0), (3771, 0.0), (3775, 0.0), (3781, 0.0), (3788, 0.0), (3794, 0.0), (3797, 0.0), (3799, 0.0), (3801, 0.0), (3804, 0.0), (3806, 0.0), (3809, 0.0), (3814, 0.0), (3827, 0.0), (3828, 0.0), (3830, 0.0), (3833, 0.0), (3835, 0.0), (3838, 0.0), (3848, 0.0), (3850, 0.0), (3860, 0.0), (3862, 0.0), (3863, 0.0), (3867, 0.0), (3872, 0.0), (3873, 0.0), (3874, 0.0), (3876, 0.0), (3881, 0.0), (3883, 0.0), (3887, 0.0), (3893, 0.0), (3895, 0.0), (3898, 0.0), (3899, 0.0), (3900, 0.0), (3901, 0.0), (3904, 0.0), (3906, 0.0), (3908, 0.0), (3910, 0.0), (3913, 0.0), (3918, 0.0), (3925, 0.0), (3929, 0.0), (3932, 0.0), (3939, 0.0), (3940, 0.0), (3945, 0.0), (3946, 0.0), (3947, 0.0), (3953, 0.0), (3954, 0.0), (3956, 0.0), (3958, 0.0), (3961, 0.0), (3974, 0.0), (3975, 0.0), (3976, 0.0), (3978, 0.0), (3981, 0.0), (3985, 0.0), (3987, 0.0), (3989, 0.0), (3993, 0.0), (3995, 0.0), (3997, 0.0), (3999, 0.0), (4004, 0.0), (4005, 0.0), (4014, 0.0), (4019, 0.0), (4024, 0.0), (4028, 0.0), (4030, 0.0), (4033, 0.0), (4039, 0.0), (4043, 0.0), (4044, 0.0), (4045, 0.0), (4046, 0.0), (4047, 0.0), (4048, 0.0), (4053, 0.0), (4060, 0.0), (4063, 0.0), (4065, 0.0), (4072, 0.0), (4075, 0.0), (4078, 0.0), (4079, 0.0), (4080, 0.0), (4081, 0.0), (4085, 0.0), (4088, 0.0), (4089, 0.0), (4090, 0.0), (4095, 0.0), (4096, 0.0), (4098, 0.0), (4100, 0.0), (4107, 0.0), (4116, 0.0), (4122, 0.0), (4123, 0.0), (4126, 0.0), (4133, 0.0), (4139, 0.0), (4141, 0.0), (4145, 0.0), (4148, 0.0), (4150, 0.0), (4151, 0.0), (4154, 0.0), (4161, 0.0), (4163, 0.0), (4164, 0.0), (4165, 0.0), (4169, 0.0), (4170, 0.0), (4172, 0.0), (4175, 0.0), (4178, 0.0), (4179, 0.0), (4185, 0.0), (4187, 0.0), (4202, 0.0), (4208, 0.0), (4209, 0.0), (4212, 0.0), (4216, 0.0), (4219, 0.0), (4220, 0.0), (4221, 0.0), (4225, 0.0), (4227, 0.0), (4228, 0.0), (4229, 0.0), (4230, 0.0), (4231, 0.0), (4232, 0.0), (4235, 0.0), (4243, 0.0), (4244, 0.0), (4245, 0.0), (4247, 0.0), (4249, 0.0), (4251, 0.0), (4255, 0.0), (4261, 0.0), (4264, 0.0), (4268, 0.0), (4273, 0.0), (4274, 0.0), (4275, 0.0), (4276, 0.0), (4277, 0.0), (4286, 0.0), (4296, 0.0), (4299, 0.0), (4301, 0.0), (4302, 0.0), (4306, 0.0), (4307, 0.0), (4309, 0.0), (4310, 0.0), (4313, 0.0), (4316, 0.0), (4318, 0.0), (4320, 0.0), (4326, 0.0), (4331, 0.0), (4333, 0.0), (4334, 0.0), (4336, 0.0), (4343, 0.0), (4349, 0.0), (4352, 0.0), (4355, 0.0), (4359, 0.0), (4360, 0.0), (4361, 0.0), (4365, 0.0), (4366, 0.0), (4377, 0.0), (4381, 0.0), (4383, 0.0), (4384, 0.0), (4385, 0.0), (4386, 0.0), (4389, 0.0), (4390, 0.0), (4392, 0.0), (4398, 0.0), (4403, 0.0), (4407, 0.0), (4409, 0.0), (4410, 0.0), (4411, 0.0), (4412, 0.0), (4415, 0.0), (4417, 0.0), (4424, 0.0), (4425, 0.0), (4429, 0.0), (4432, 0.0), (4443, 0.0), (4445, 0.0), (4458, 0.0), (4461, 0.0), (4465, 0.0), (4468, 0.0), (4469, 0.0), (4470, 0.0), (4471, 0.0), (4475, 0.0), (4476, 0.0), (4485, 0.0), (4487, 0.0), (4488, 0.0), (4490, 0.0), (4494, 0.0), (4495, 0.0), (4497, 0.0), (4499, 0.0), (4502, 0.0), (4505, 0.0), (4508, 0.0), (4510, 0.0), (4512, 0.0), (4513, 0.0), (4517, 0.0), (4518, 0.0), (4520, 0.0), (4521, 0.0), (4525, 0.0), (4527, 0.0), (4529, 0.0), (4532, 0.0), (4534, 0.0), (4536, 0.0), (4538, 0.0), (4539, 0.0), (4540, 0.0), (4543, 0.0), (4544, 0.0), (4547, 0.0), (4553, 0.0), (4561, 0.0), (4563, 0.0), (4567, 0.0), (4572, 0.0), (4573, 0.0), (4575, 0.0), (4578, 0.0), (4579, 0.0), (4582, 0.0), (4583, 0.0), (4584, 0.0), (4585, 0.0), (4586, 0.0), (4587, 0.0), (4591, 0.0), (4593, 0.0), (4595, 0.0), (4597, 0.0), (4601, 0.0), (4602, 0.0), (4605, 0.0), (4606, 0.0), (4607, 0.0), (4614, 0.0), (4615, 0.0), (4616, 0.0), (4617, 0.0), (4618, 0.0), (4619, 0.0), (4620, 0.0), (4623, 0.0), (4625, 0.0), (4630, 0.0), (4632, 0.0), (4638, 0.0), (4639, 0.0), (4640, 0.0), (4641, 0.0), (4642, 0.0), (4644, 0.0), (4645, 0.0), (4651, 0.0), (4654, 0.0), (4656, 0.0), (4661, 0.0), (4664, 0.0), (4665, 0.0), (4668, 0.0), (4669, 0.0), (4670, 0.0), (4671, 0.0), (4672, 0.0), (4678, 0.0), (4681, 0.0), (4683, 0.0), (4691, 0.0), (4692, 0.0), (4693, 0.0), (4694, 0.0), (4696, 0.0), (4697, 0.0), (4698, 0.0), (4699, 0.0), (4701, 0.0), (4704, 0.0), (4705, 0.0), (4707, 0.0), (4709, 0.0), (4713, 0.0), (4714, 0.0), (4715, 0.0), (4716, 0.0), (4722, 0.0), (4723, 0.0), (4724, 0.0), (4727, 0.0), (4728, 0.0), (4729, 0.0), (4731, 0.0), (4733, 0.0), (4735, 0.0), (4736, 0.0), (4739, 0.0), (4741, 0.0), (4743, 0.0), (4747, 0.0), (4750, 0.0), (4751, 0.0), (4753, 0.0), (4759, 0.0)]\n"
          ]
        }
      ]
    },
    {
      "cell_type": "code",
      "source": [
        "print('Top 30 Movies Suggested for You :\\n')\n",
        "\n",
        "i=1\n",
        "\n",
        "for movie in Sorted_Similar_Movies:\n",
        "  index = movie[0]\n",
        "  title_from_index = df[df.index == index]['Movie_Title'].values[0]\n",
        "  if (i<31):\n",
        "    print(i, '.'  ,title_from_index)\n",
        "    i+=1"
      ],
      "metadata": {
        "colab": {
          "base_uri": "https://localhost:8080/"
        },
        "id": "-VZubkKpBfyS",
        "outputId": "565601de-10e5-45ae-c4f7-3abcacc865cc"
      },
      "execution_count": 52,
      "outputs": [
        {
          "output_type": "stream",
          "name": "stdout",
          "text": [
            "Top 30 Movies Suggested for You :\n",
            "\n",
            "1 . Shrek\n",
            "2 . Shrek 2\n",
            "3 . Shrek the Third\n",
            "4 . Shrek Forever After\n",
            "5 . Maleficent\n",
            "6 . Snow White: A Tale of Terror\n",
            "7 . Tangled\n",
            "8 . Red Riding Hood\n",
            "9 . Hoodwinked Too! Hood VS. Evil\n",
            "10 . Snow White and the Huntsman\n",
            "11 . Pan\n",
            "12 . Robin and Marian\n",
            "13 . Cinderella\n",
            "14 . The Golden Child\n",
            "15 . The Craft\n",
            "16 . Mirror Mirror\n",
            "17 . Puss in Boots\n",
            "18 . I Spy\n",
            "19 . Rugrats in Paris: The Movie\n",
            "20 . Aladdin\n",
            "21 . Vampire in Brooklyn\n",
            "22 . The Chronicles of Narnia: The Lion, the Witch and the Wardrobe\n",
            "23 . Dragon Hunters\n",
            "24 . The Chronicles of Narnia: Prince Caspian\n",
            "25 . The Haunted Mansion\n",
            "26 . Cirque du Soleil: Worlds Away\n",
            "27 . The Huntsman: Winter's War\n",
            "28 . Jack the Giant Slayer\n",
            "29 . The Messenger: The Story of Joan of Arc\n",
            "30 . Return to Never Land\n"
          ]
        }
      ]
    },
    {
      "cell_type": "code",
      "source": [
        "Movie_Name =  input(\"Enter your favourite movie name: \")\n",
        "\n",
        "list_of_all_titles =  df['Movie_Title'].tolist()\n",
        "\n",
        "Find_Close_Match = difflib.get_close_matches(Movie_Name, list_of_all_titles)\n",
        "\n",
        "Close_Match = Find_Close_Match[0]\n",
        "\n",
        "Index_of_Movie = df[df.Movie_Title == Close_Match]['Movie_ID'].values[0]\n",
        "\n",
        "Recommendation_Score = list(enumerate (Similarity_Score[Index_of_Movie]))\n",
        "\n",
        "sorted_similar_movies =  sorted(Recommendation_Score, key = lambda x:x[1], reverse = True)\n",
        "\n",
        "print('Top 10 Movies Suggested for You :\\n')\n",
        "\n",
        "i=1\n",
        "\n",
        "for movie in Sorted_Similar_Movies:\n",
        "  index = movie[0]\n",
        "  title_from_index = df[df.Movie_ID== index]['Movie_Title'].values\n",
        "  if (i<11):\n",
        "    print(i, '.'  ,title_from_index)\n",
        "    i+=1"
      ],
      "metadata": {
        "colab": {
          "base_uri": "https://localhost:8080/"
        },
        "id": "VOo1Bl5QDCsV",
        "outputId": "233f707b-ef66-4e24-8ea6-1098d57ea4d0"
      },
      "execution_count": 53,
      "outputs": [
        {
          "output_type": "stream",
          "name": "stdout",
          "text": [
            "Enter your favourite movie name: seven\n",
            "Top 10 Movies Suggested for You :\n",
            "\n",
            "1 . ['Se7en']\n",
            "2 . ['Shrek']\n",
            "3 . ['Shrek 2']\n",
            "4 . ['How to Train Your Dragon']\n",
            "5 . ['The Hunger Games: Catching Fire']\n",
            "6 . ['Home for the Holidays']\n",
            "7 . [\"Gulliver's Travels\"]\n",
            "8 . ['John Carter']\n",
            "9 . ['Just Visiting']\n",
            "10 . ['Pride and Prejudice and Zombies']\n"
          ]
        }
      ]
    }
  ]
}