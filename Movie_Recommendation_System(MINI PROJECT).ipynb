{
  "nbformat": 4,
  "nbformat_minor": 0,
  "metadata": {
    "colab": {
      "provenance": [],
      "include_colab_link": true
    },
    "kernelspec": {
      "name": "python3",
      "display_name": "Python 3"
    },
    "language_info": {
      "name": "python"
    }
  },
  "cells": [
    {
      "cell_type": "markdown",
      "metadata": {
        "id": "view-in-github",
        "colab_type": "text"
      },
      "source": [
        "<a href=\"https://colab.research.google.com/github/aditya6603/CC/blob/main/Movie_Recommendation_System(MINI%20PROJECT).ipynb\" target=\"_parent\"><img src=\"https://colab.research.google.com/assets/colab-badge.svg\" alt=\"Open In Colab\"/></a>"
      ]
    },
    {
      "cell_type": "markdown",
      "source": [
        "# Import Library"
      ],
      "metadata": {
        "id": "n_7zoIqixSN7"
      }
    },
    {
      "cell_type": "code",
      "source": [
        "import pandas as pd\n",
        "import numpy as np\n",
        "\n"
      ],
      "metadata": {
        "id": "PaSAvhVPxZ3s"
      },
      "execution_count": 55,
      "outputs": []
    },
    {
      "cell_type": "markdown",
      "source": [
        "### Import Dataset"
      ],
      "metadata": {
        "id": "F0V4c_1cx3wh"
      }
    },
    {
      "cell_type": "code",
      "source": [
        "df =  pd.read_csv(r'https://raw.githubusercontent.com/rashida048/Some-NLP-Projects/master/movie_dataset.csv')\n",
        "\n",
        "\n",
        "df.head()\n"
      ],
      "metadata": {
        "colab": {
          "base_uri": "https://localhost:8080/",
          "height": 793
        },
        "id": "GDKvyUWfx85k",
        "outputId": "aef6d1b8-dcc0-4714-dcfa-43e1bf2c46be"
      },
      "execution_count": 56,
      "outputs": [
        {
          "output_type": "execute_result",
          "data": {
            "text/plain": [
              "   index     budget                                    genres  \\\n",
              "0      0  237000000  Action Adventure Fantasy Science Fiction   \n",
              "1      1  300000000                  Adventure Fantasy Action   \n",
              "2      2  245000000                    Action Adventure Crime   \n",
              "3      3  250000000               Action Crime Drama Thriller   \n",
              "4      4  260000000          Action Adventure Science Fiction   \n",
              "\n",
              "                                       homepage      id  \\\n",
              "0                   http://www.avatarmovie.com/   19995   \n",
              "1  http://disney.go.com/disneypictures/pirates/     285   \n",
              "2   http://www.sonypictures.com/movies/spectre/  206647   \n",
              "3            http://www.thedarkknightrises.com/   49026   \n",
              "4          http://movies.disney.com/john-carter   49529   \n",
              "\n",
              "                                            keywords original_language  \\\n",
              "0  culture clash future space war space colony so...                en   \n",
              "1  ocean drug abuse exotic island east india trad...                en   \n",
              "2         spy based on novel secret agent sequel mi6                en   \n",
              "3  dc comics crime fighter terrorist secret ident...                en   \n",
              "4  based on novel mars medallion space travel pri...                en   \n",
              "\n",
              "                             original_title  \\\n",
              "0                                    Avatar   \n",
              "1  Pirates of the Caribbean: At World's End   \n",
              "2                                   Spectre   \n",
              "3                     The Dark Knight Rises   \n",
              "4                               John Carter   \n",
              "\n",
              "                                            overview  popularity  ... runtime  \\\n",
              "0  In the 22nd century, a paraplegic Marine is di...  150.437577  ...   162.0   \n",
              "1  Captain Barbossa, long believed to be dead, ha...  139.082615  ...   169.0   \n",
              "2  A cryptic message from Bond’s past sends him o...  107.376788  ...   148.0   \n",
              "3  Following the death of District Attorney Harve...  112.312950  ...   165.0   \n",
              "4  John Carter is a war-weary, former military ca...   43.926995  ...   132.0   \n",
              "\n",
              "                                    spoken_languages    status  \\\n",
              "0  [{\"iso_639_1\": \"en\", \"name\": \"English\"}, {\"iso...  Released   \n",
              "1           [{\"iso_639_1\": \"en\", \"name\": \"English\"}]  Released   \n",
              "2  [{\"iso_639_1\": \"fr\", \"name\": \"Fran\\u00e7ais\"},...  Released   \n",
              "3           [{\"iso_639_1\": \"en\", \"name\": \"English\"}]  Released   \n",
              "4           [{\"iso_639_1\": \"en\", \"name\": \"English\"}]  Released   \n",
              "\n",
              "                                          tagline  \\\n",
              "0                     Enter the World of Pandora.   \n",
              "1  At the end of the world, the adventure begins.   \n",
              "2                           A Plan No One Escapes   \n",
              "3                                 The Legend Ends   \n",
              "4            Lost in our world, found in another.   \n",
              "\n",
              "                                      title vote_average vote_count  \\\n",
              "0                                    Avatar          7.2      11800   \n",
              "1  Pirates of the Caribbean: At World's End          6.9       4500   \n",
              "2                                   Spectre          6.3       4466   \n",
              "3                     The Dark Knight Rises          7.6       9106   \n",
              "4                               John Carter          6.1       2124   \n",
              "\n",
              "                                                cast  \\\n",
              "0  Sam Worthington Zoe Saldana Sigourney Weaver S...   \n",
              "1  Johnny Depp Orlando Bloom Keira Knightley Stel...   \n",
              "2  Daniel Craig Christoph Waltz L\\u00e9a Seydoux ...   \n",
              "3  Christian Bale Michael Caine Gary Oldman Anne ...   \n",
              "4  Taylor Kitsch Lynn Collins Samantha Morton Wil...   \n",
              "\n",
              "                                                crew           director  \n",
              "0  [{'name': 'Stephen E. Rivkin', 'gender': 0, 'd...      James Cameron  \n",
              "1  [{'name': 'Dariusz Wolski', 'gender': 2, 'depa...     Gore Verbinski  \n",
              "2  [{'name': 'Thomas Newman', 'gender': 2, 'depar...         Sam Mendes  \n",
              "3  [{'name': 'Hans Zimmer', 'gender': 2, 'departm...  Christopher Nolan  \n",
              "4  [{'name': 'Andrew Stanton', 'gender': 2, 'depa...     Andrew Stanton  \n",
              "\n",
              "[5 rows x 24 columns]"
            ],
            "text/html": [
              "\n",
              "  <div id=\"df-551593b8-a95e-4ee3-8892-d9d025219066\" class=\"colab-df-container\">\n",
              "    <div>\n",
              "<style scoped>\n",
              "    .dataframe tbody tr th:only-of-type {\n",
              "        vertical-align: middle;\n",
              "    }\n",
              "\n",
              "    .dataframe tbody tr th {\n",
              "        vertical-align: top;\n",
              "    }\n",
              "\n",
              "    .dataframe thead th {\n",
              "        text-align: right;\n",
              "    }\n",
              "</style>\n",
              "<table border=\"1\" class=\"dataframe\">\n",
              "  <thead>\n",
              "    <tr style=\"text-align: right;\">\n",
              "      <th></th>\n",
              "      <th>index</th>\n",
              "      <th>budget</th>\n",
              "      <th>genres</th>\n",
              "      <th>homepage</th>\n",
              "      <th>id</th>\n",
              "      <th>keywords</th>\n",
              "      <th>original_language</th>\n",
              "      <th>original_title</th>\n",
              "      <th>overview</th>\n",
              "      <th>popularity</th>\n",
              "      <th>...</th>\n",
              "      <th>runtime</th>\n",
              "      <th>spoken_languages</th>\n",
              "      <th>status</th>\n",
              "      <th>tagline</th>\n",
              "      <th>title</th>\n",
              "      <th>vote_average</th>\n",
              "      <th>vote_count</th>\n",
              "      <th>cast</th>\n",
              "      <th>crew</th>\n",
              "      <th>director</th>\n",
              "    </tr>\n",
              "  </thead>\n",
              "  <tbody>\n",
              "    <tr>\n",
              "      <th>0</th>\n",
              "      <td>0</td>\n",
              "      <td>237000000</td>\n",
              "      <td>Action Adventure Fantasy Science Fiction</td>\n",
              "      <td>http://www.avatarmovie.com/</td>\n",
              "      <td>19995</td>\n",
              "      <td>culture clash future space war space colony so...</td>\n",
              "      <td>en</td>\n",
              "      <td>Avatar</td>\n",
              "      <td>In the 22nd century, a paraplegic Marine is di...</td>\n",
              "      <td>150.437577</td>\n",
              "      <td>...</td>\n",
              "      <td>162.0</td>\n",
              "      <td>[{\"iso_639_1\": \"en\", \"name\": \"English\"}, {\"iso...</td>\n",
              "      <td>Released</td>\n",
              "      <td>Enter the World of Pandora.</td>\n",
              "      <td>Avatar</td>\n",
              "      <td>7.2</td>\n",
              "      <td>11800</td>\n",
              "      <td>Sam Worthington Zoe Saldana Sigourney Weaver S...</td>\n",
              "      <td>[{'name': 'Stephen E. Rivkin', 'gender': 0, 'd...</td>\n",
              "      <td>James Cameron</td>\n",
              "    </tr>\n",
              "    <tr>\n",
              "      <th>1</th>\n",
              "      <td>1</td>\n",
              "      <td>300000000</td>\n",
              "      <td>Adventure Fantasy Action</td>\n",
              "      <td>http://disney.go.com/disneypictures/pirates/</td>\n",
              "      <td>285</td>\n",
              "      <td>ocean drug abuse exotic island east india trad...</td>\n",
              "      <td>en</td>\n",
              "      <td>Pirates of the Caribbean: At World's End</td>\n",
              "      <td>Captain Barbossa, long believed to be dead, ha...</td>\n",
              "      <td>139.082615</td>\n",
              "      <td>...</td>\n",
              "      <td>169.0</td>\n",
              "      <td>[{\"iso_639_1\": \"en\", \"name\": \"English\"}]</td>\n",
              "      <td>Released</td>\n",
              "      <td>At the end of the world, the adventure begins.</td>\n",
              "      <td>Pirates of the Caribbean: At World's End</td>\n",
              "      <td>6.9</td>\n",
              "      <td>4500</td>\n",
              "      <td>Johnny Depp Orlando Bloom Keira Knightley Stel...</td>\n",
              "      <td>[{'name': 'Dariusz Wolski', 'gender': 2, 'depa...</td>\n",
              "      <td>Gore Verbinski</td>\n",
              "    </tr>\n",
              "    <tr>\n",
              "      <th>2</th>\n",
              "      <td>2</td>\n",
              "      <td>245000000</td>\n",
              "      <td>Action Adventure Crime</td>\n",
              "      <td>http://www.sonypictures.com/movies/spectre/</td>\n",
              "      <td>206647</td>\n",
              "      <td>spy based on novel secret agent sequel mi6</td>\n",
              "      <td>en</td>\n",
              "      <td>Spectre</td>\n",
              "      <td>A cryptic message from Bond’s past sends him o...</td>\n",
              "      <td>107.376788</td>\n",
              "      <td>...</td>\n",
              "      <td>148.0</td>\n",
              "      <td>[{\"iso_639_1\": \"fr\", \"name\": \"Fran\\u00e7ais\"},...</td>\n",
              "      <td>Released</td>\n",
              "      <td>A Plan No One Escapes</td>\n",
              "      <td>Spectre</td>\n",
              "      <td>6.3</td>\n",
              "      <td>4466</td>\n",
              "      <td>Daniel Craig Christoph Waltz L\\u00e9a Seydoux ...</td>\n",
              "      <td>[{'name': 'Thomas Newman', 'gender': 2, 'depar...</td>\n",
              "      <td>Sam Mendes</td>\n",
              "    </tr>\n",
              "    <tr>\n",
              "      <th>3</th>\n",
              "      <td>3</td>\n",
              "      <td>250000000</td>\n",
              "      <td>Action Crime Drama Thriller</td>\n",
              "      <td>http://www.thedarkknightrises.com/</td>\n",
              "      <td>49026</td>\n",
              "      <td>dc comics crime fighter terrorist secret ident...</td>\n",
              "      <td>en</td>\n",
              "      <td>The Dark Knight Rises</td>\n",
              "      <td>Following the death of District Attorney Harve...</td>\n",
              "      <td>112.312950</td>\n",
              "      <td>...</td>\n",
              "      <td>165.0</td>\n",
              "      <td>[{\"iso_639_1\": \"en\", \"name\": \"English\"}]</td>\n",
              "      <td>Released</td>\n",
              "      <td>The Legend Ends</td>\n",
              "      <td>The Dark Knight Rises</td>\n",
              "      <td>7.6</td>\n",
              "      <td>9106</td>\n",
              "      <td>Christian Bale Michael Caine Gary Oldman Anne ...</td>\n",
              "      <td>[{'name': 'Hans Zimmer', 'gender': 2, 'departm...</td>\n",
              "      <td>Christopher Nolan</td>\n",
              "    </tr>\n",
              "    <tr>\n",
              "      <th>4</th>\n",
              "      <td>4</td>\n",
              "      <td>260000000</td>\n",
              "      <td>Action Adventure Science Fiction</td>\n",
              "      <td>http://movies.disney.com/john-carter</td>\n",
              "      <td>49529</td>\n",
              "      <td>based on novel mars medallion space travel pri...</td>\n",
              "      <td>en</td>\n",
              "      <td>John Carter</td>\n",
              "      <td>John Carter is a war-weary, former military ca...</td>\n",
              "      <td>43.926995</td>\n",
              "      <td>...</td>\n",
              "      <td>132.0</td>\n",
              "      <td>[{\"iso_639_1\": \"en\", \"name\": \"English\"}]</td>\n",
              "      <td>Released</td>\n",
              "      <td>Lost in our world, found in another.</td>\n",
              "      <td>John Carter</td>\n",
              "      <td>6.1</td>\n",
              "      <td>2124</td>\n",
              "      <td>Taylor Kitsch Lynn Collins Samantha Morton Wil...</td>\n",
              "      <td>[{'name': 'Andrew Stanton', 'gender': 2, 'depa...</td>\n",
              "      <td>Andrew Stanton</td>\n",
              "    </tr>\n",
              "  </tbody>\n",
              "</table>\n",
              "<p>5 rows × 24 columns</p>\n",
              "</div>\n",
              "    <div class=\"colab-df-buttons\">\n",
              "\n",
              "  <div class=\"colab-df-container\">\n",
              "    <button class=\"colab-df-convert\" onclick=\"convertToInteractive('df-551593b8-a95e-4ee3-8892-d9d025219066')\"\n",
              "            title=\"Convert this dataframe to an interactive table.\"\n",
              "            style=\"display:none;\">\n",
              "\n",
              "  <svg xmlns=\"http://www.w3.org/2000/svg\" height=\"24px\" viewBox=\"0 -960 960 960\">\n",
              "    <path d=\"M120-120v-720h720v720H120Zm60-500h600v-160H180v160Zm220 220h160v-160H400v160Zm0 220h160v-160H400v160ZM180-400h160v-160H180v160Zm440 0h160v-160H620v160ZM180-180h160v-160H180v160Zm440 0h160v-160H620v160Z\"/>\n",
              "  </svg>\n",
              "    </button>\n",
              "\n",
              "  <style>\n",
              "    .colab-df-container {\n",
              "      display:flex;\n",
              "      gap: 12px;\n",
              "    }\n",
              "\n",
              "    .colab-df-convert {\n",
              "      background-color: #E8F0FE;\n",
              "      border: none;\n",
              "      border-radius: 50%;\n",
              "      cursor: pointer;\n",
              "      display: none;\n",
              "      fill: #1967D2;\n",
              "      height: 32px;\n",
              "      padding: 0 0 0 0;\n",
              "      width: 32px;\n",
              "    }\n",
              "\n",
              "    .colab-df-convert:hover {\n",
              "      background-color: #E2EBFA;\n",
              "      box-shadow: 0px 1px 2px rgba(60, 64, 67, 0.3), 0px 1px 3px 1px rgba(60, 64, 67, 0.15);\n",
              "      fill: #174EA6;\n",
              "    }\n",
              "\n",
              "    .colab-df-buttons div {\n",
              "      margin-bottom: 4px;\n",
              "    }\n",
              "\n",
              "    [theme=dark] .colab-df-convert {\n",
              "      background-color: #3B4455;\n",
              "      fill: #D2E3FC;\n",
              "    }\n",
              "\n",
              "    [theme=dark] .colab-df-convert:hover {\n",
              "      background-color: #434B5C;\n",
              "      box-shadow: 0px 1px 3px 1px rgba(0, 0, 0, 0.15);\n",
              "      filter: drop-shadow(0px 1px 2px rgba(0, 0, 0, 0.3));\n",
              "      fill: #FFFFFF;\n",
              "    }\n",
              "  </style>\n",
              "\n",
              "    <script>\n",
              "      const buttonEl =\n",
              "        document.querySelector('#df-551593b8-a95e-4ee3-8892-d9d025219066 button.colab-df-convert');\n",
              "      buttonEl.style.display =\n",
              "        google.colab.kernel.accessAllowed ? 'block' : 'none';\n",
              "\n",
              "      async function convertToInteractive(key) {\n",
              "        const element = document.querySelector('#df-551593b8-a95e-4ee3-8892-d9d025219066');\n",
              "        const dataTable =\n",
              "          await google.colab.kernel.invokeFunction('convertToInteractive',\n",
              "                                                    [key], {});\n",
              "        if (!dataTable) return;\n",
              "\n",
              "        const docLinkHtml = 'Like what you see? Visit the ' +\n",
              "          '<a target=\"_blank\" href=https://colab.research.google.com/notebooks/data_table.ipynb>data table notebook</a>'\n",
              "          + ' to learn more about interactive tables.';\n",
              "        element.innerHTML = '';\n",
              "        dataTable['output_type'] = 'display_data';\n",
              "        await google.colab.output.renderOutput(dataTable, element);\n",
              "        const docLink = document.createElement('div');\n",
              "        docLink.innerHTML = docLinkHtml;\n",
              "        element.appendChild(docLink);\n",
              "      }\n",
              "    </script>\n",
              "  </div>\n",
              "\n",
              "\n",
              "<div id=\"df-5cdb8102-c51a-40d3-804e-254dfef8b1a0\">\n",
              "  <button class=\"colab-df-quickchart\" onclick=\"quickchart('df-5cdb8102-c51a-40d3-804e-254dfef8b1a0')\"\n",
              "            title=\"Suggest charts\"\n",
              "            style=\"display:none;\">\n",
              "\n",
              "<svg xmlns=\"http://www.w3.org/2000/svg\" height=\"24px\"viewBox=\"0 0 24 24\"\n",
              "     width=\"24px\">\n",
              "    <g>\n",
              "        <path d=\"M19 3H5c-1.1 0-2 .9-2 2v14c0 1.1.9 2 2 2h14c1.1 0 2-.9 2-2V5c0-1.1-.9-2-2-2zM9 17H7v-7h2v7zm4 0h-2V7h2v10zm4 0h-2v-4h2v4z\"/>\n",
              "    </g>\n",
              "</svg>\n",
              "  </button>\n",
              "\n",
              "<style>\n",
              "  .colab-df-quickchart {\n",
              "      --bg-color: #E8F0FE;\n",
              "      --fill-color: #1967D2;\n",
              "      --hover-bg-color: #E2EBFA;\n",
              "      --hover-fill-color: #174EA6;\n",
              "      --disabled-fill-color: #AAA;\n",
              "      --disabled-bg-color: #DDD;\n",
              "  }\n",
              "\n",
              "  [theme=dark] .colab-df-quickchart {\n",
              "      --bg-color: #3B4455;\n",
              "      --fill-color: #D2E3FC;\n",
              "      --hover-bg-color: #434B5C;\n",
              "      --hover-fill-color: #FFFFFF;\n",
              "      --disabled-bg-color: #3B4455;\n",
              "      --disabled-fill-color: #666;\n",
              "  }\n",
              "\n",
              "  .colab-df-quickchart {\n",
              "    background-color: var(--bg-color);\n",
              "    border: none;\n",
              "    border-radius: 50%;\n",
              "    cursor: pointer;\n",
              "    display: none;\n",
              "    fill: var(--fill-color);\n",
              "    height: 32px;\n",
              "    padding: 0;\n",
              "    width: 32px;\n",
              "  }\n",
              "\n",
              "  .colab-df-quickchart:hover {\n",
              "    background-color: var(--hover-bg-color);\n",
              "    box-shadow: 0 1px 2px rgba(60, 64, 67, 0.3), 0 1px 3px 1px rgba(60, 64, 67, 0.15);\n",
              "    fill: var(--button-hover-fill-color);\n",
              "  }\n",
              "\n",
              "  .colab-df-quickchart-complete:disabled,\n",
              "  .colab-df-quickchart-complete:disabled:hover {\n",
              "    background-color: var(--disabled-bg-color);\n",
              "    fill: var(--disabled-fill-color);\n",
              "    box-shadow: none;\n",
              "  }\n",
              "\n",
              "  .colab-df-spinner {\n",
              "    border: 2px solid var(--fill-color);\n",
              "    border-color: transparent;\n",
              "    border-bottom-color: var(--fill-color);\n",
              "    animation:\n",
              "      spin 1s steps(1) infinite;\n",
              "  }\n",
              "\n",
              "  @keyframes spin {\n",
              "    0% {\n",
              "      border-color: transparent;\n",
              "      border-bottom-color: var(--fill-color);\n",
              "      border-left-color: var(--fill-color);\n",
              "    }\n",
              "    20% {\n",
              "      border-color: transparent;\n",
              "      border-left-color: var(--fill-color);\n",
              "      border-top-color: var(--fill-color);\n",
              "    }\n",
              "    30% {\n",
              "      border-color: transparent;\n",
              "      border-left-color: var(--fill-color);\n",
              "      border-top-color: var(--fill-color);\n",
              "      border-right-color: var(--fill-color);\n",
              "    }\n",
              "    40% {\n",
              "      border-color: transparent;\n",
              "      border-right-color: var(--fill-color);\n",
              "      border-top-color: var(--fill-color);\n",
              "    }\n",
              "    60% {\n",
              "      border-color: transparent;\n",
              "      border-right-color: var(--fill-color);\n",
              "    }\n",
              "    80% {\n",
              "      border-color: transparent;\n",
              "      border-right-color: var(--fill-color);\n",
              "      border-bottom-color: var(--fill-color);\n",
              "    }\n",
              "    90% {\n",
              "      border-color: transparent;\n",
              "      border-bottom-color: var(--fill-color);\n",
              "    }\n",
              "  }\n",
              "</style>\n",
              "\n",
              "  <script>\n",
              "    async function quickchart(key) {\n",
              "      const quickchartButtonEl =\n",
              "        document.querySelector('#' + key + ' button');\n",
              "      quickchartButtonEl.disabled = true;  // To prevent multiple clicks.\n",
              "      quickchartButtonEl.classList.add('colab-df-spinner');\n",
              "      try {\n",
              "        const charts = await google.colab.kernel.invokeFunction(\n",
              "            'suggestCharts', [key], {});\n",
              "      } catch (error) {\n",
              "        console.error('Error during call to suggestCharts:', error);\n",
              "      }\n",
              "      quickchartButtonEl.classList.remove('colab-df-spinner');\n",
              "      quickchartButtonEl.classList.add('colab-df-quickchart-complete');\n",
              "    }\n",
              "    (() => {\n",
              "      let quickchartButtonEl =\n",
              "        document.querySelector('#df-5cdb8102-c51a-40d3-804e-254dfef8b1a0 button');\n",
              "      quickchartButtonEl.style.display =\n",
              "        google.colab.kernel.accessAllowed ? 'block' : 'none';\n",
              "    })();\n",
              "  </script>\n",
              "</div>\n",
              "\n",
              "    </div>\n",
              "  </div>\n"
            ]
          },
          "metadata": {},
          "execution_count": 56
        }
      ]
    },
    {
      "cell_type": "markdown",
      "source": [],
      "metadata": {
        "id": "SInPyXFx0CRZ"
      }
    },
    {
      "cell_type": "code",
      "source": [
        "df.info()"
      ],
      "metadata": {
        "colab": {
          "base_uri": "https://localhost:8080/"
        },
        "id": "FSPFAXH50Cvy",
        "outputId": "de50cfe2-1266-42ea-d252-46372c886439"
      },
      "execution_count": 57,
      "outputs": [
        {
          "output_type": "stream",
          "name": "stdout",
          "text": [
            "<class 'pandas.core.frame.DataFrame'>\n",
            "RangeIndex: 4803 entries, 0 to 4802\n",
            "Data columns (total 24 columns):\n",
            " #   Column                Non-Null Count  Dtype  \n",
            "---  ------                --------------  -----  \n",
            " 0   index                 4803 non-null   int64  \n",
            " 1   budget                4803 non-null   int64  \n",
            " 2   genres                4775 non-null   object \n",
            " 3   homepage              1712 non-null   object \n",
            " 4   id                    4803 non-null   int64  \n",
            " 5   keywords              4391 non-null   object \n",
            " 6   original_language     4803 non-null   object \n",
            " 7   original_title        4803 non-null   object \n",
            " 8   overview              4800 non-null   object \n",
            " 9   popularity            4803 non-null   float64\n",
            " 10  production_companies  4803 non-null   object \n",
            " 11  production_countries  4803 non-null   object \n",
            " 12  release_date          4802 non-null   object \n",
            " 13  revenue               4803 non-null   int64  \n",
            " 14  runtime               4801 non-null   float64\n",
            " 15  spoken_languages      4803 non-null   object \n",
            " 16  status                4803 non-null   object \n",
            " 17  tagline               3959 non-null   object \n",
            " 18  title                 4803 non-null   object \n",
            " 19  vote_average          4803 non-null   float64\n",
            " 20  vote_count            4803 non-null   int64  \n",
            " 21  cast                  4760 non-null   object \n",
            " 22  crew                  4803 non-null   object \n",
            " 23  director              4773 non-null   object \n",
            "dtypes: float64(3), int64(5), object(16)\n",
            "memory usage: 900.7+ KB\n"
          ]
        }
      ]
    },
    {
      "cell_type": "code",
      "source": [
        "df.shape"
      ],
      "metadata": {
        "colab": {
          "base_uri": "https://localhost:8080/"
        },
        "id": "7qFQ0nsc0J52",
        "outputId": "368f8038-eae3-4b86-f564-a4f2fd647207"
      },
      "execution_count": 58,
      "outputs": [
        {
          "output_type": "execute_result",
          "data": {
            "text/plain": [
              "(4803, 24)"
            ]
          },
          "metadata": {},
          "execution_count": 58
        }
      ]
    },
    {
      "cell_type": "code",
      "source": [
        "df.columns"
      ],
      "metadata": {
        "colab": {
          "base_uri": "https://localhost:8080/"
        },
        "id": "ykBHJ3bB0UUW",
        "outputId": "5657e7a8-617b-4eda-e3d9-6256517db99a"
      },
      "execution_count": 62,
      "outputs": [
        {
          "output_type": "execute_result",
          "data": {
            "text/plain": [
              "Index(['index', 'budget', 'genres', 'homepage', 'id', 'keywords',\n",
              "       'original_language', 'original_title', 'overview', 'popularity',\n",
              "       'production_companies', 'production_countries', 'release_date',\n",
              "       'revenue', 'runtime', 'spoken_languages', 'status', 'tagline', 'title',\n",
              "       'vote_average', 'vote_count', 'cast', 'crew', 'director'],\n",
              "      dtype='object')"
            ]
          },
          "metadata": {},
          "execution_count": 62
        }
      ]
    },
    {
      "cell_type": "markdown",
      "source": [
        "# Get Feature Selection"
      ],
      "metadata": {
        "id": "4mFyHgMD0b0J"
      }
    },
    {
      "cell_type": "code",
      "source": [
        "df_features =  df [['original_title', 'genres', 'homepage', 'budget', 'director', 'cast', 'tagline']].fillna('')"
      ],
      "metadata": {
        "id": "H8XGdlu00he8"
      },
      "execution_count": 64,
      "outputs": []
    },
    {
      "cell_type": "code",
      "source": [
        "df_features.shape"
      ],
      "metadata": {
        "colab": {
          "base_uri": "https://localhost:8080/"
        },
        "id": "p-K3VaT81QQX",
        "outputId": "a9944172-0a1d-4a95-d17f-a762fb3dc9eb"
      },
      "execution_count": 66,
      "outputs": [
        {
          "output_type": "execute_result",
          "data": {
            "text/plain": [
              "(4803, 7)"
            ]
          },
          "metadata": {},
          "execution_count": 66
        }
      ]
    },
    {
      "cell_type": "code",
      "source": [
        "df_features"
      ],
      "metadata": {
        "colab": {
          "base_uri": "https://localhost:8080/",
          "height": 597
        },
        "id": "BVmJGZVx1Wxn",
        "outputId": "e74c0e37-7906-4008-dba8-9943202febf9"
      },
      "execution_count": 67,
      "outputs": [
        {
          "output_type": "execute_result",
          "data": {
            "text/plain": [
              "                                original_title  \\\n",
              "0                                       Avatar   \n",
              "1     Pirates of the Caribbean: At World's End   \n",
              "2                                      Spectre   \n",
              "3                        The Dark Knight Rises   \n",
              "4                                  John Carter   \n",
              "...                                        ...   \n",
              "4798                               El Mariachi   \n",
              "4799                                 Newlyweds   \n",
              "4800                 Signed, Sealed, Delivered   \n",
              "4801                          Shanghai Calling   \n",
              "4802                         My Date with Drew   \n",
              "\n",
              "                                        genres  \\\n",
              "0     Action Adventure Fantasy Science Fiction   \n",
              "1                     Adventure Fantasy Action   \n",
              "2                       Action Adventure Crime   \n",
              "3                  Action Crime Drama Thriller   \n",
              "4             Action Adventure Science Fiction   \n",
              "...                                        ...   \n",
              "4798                     Action Crime Thriller   \n",
              "4799                            Comedy Romance   \n",
              "4800             Comedy Drama Romance TV Movie   \n",
              "4801                                             \n",
              "4802                               Documentary   \n",
              "\n",
              "                                               homepage     budget  \\\n",
              "0                           http://www.avatarmovie.com/  237000000   \n",
              "1          http://disney.go.com/disneypictures/pirates/  300000000   \n",
              "2           http://www.sonypictures.com/movies/spectre/  245000000   \n",
              "3                    http://www.thedarkknightrises.com/  250000000   \n",
              "4                  http://movies.disney.com/john-carter  260000000   \n",
              "...                                                 ...        ...   \n",
              "4798                                                        220000   \n",
              "4799                                                          9000   \n",
              "4800  http://www.hallmarkchannel.com/signedsealeddel...          0   \n",
              "4801                        http://shanghaicalling.com/          0   \n",
              "4802                                                             0   \n",
              "\n",
              "               director                                               cast  \\\n",
              "0         James Cameron  Sam Worthington Zoe Saldana Sigourney Weaver S...   \n",
              "1        Gore Verbinski  Johnny Depp Orlando Bloom Keira Knightley Stel...   \n",
              "2            Sam Mendes  Daniel Craig Christoph Waltz L\\u00e9a Seydoux ...   \n",
              "3     Christopher Nolan  Christian Bale Michael Caine Gary Oldman Anne ...   \n",
              "4        Andrew Stanton  Taylor Kitsch Lynn Collins Samantha Morton Wil...   \n",
              "...                 ...                                                ...   \n",
              "4798   Robert Rodriguez  Carlos Gallardo Jaime de Hoyos Peter Marquardt...   \n",
              "4799       Edward Burns  Edward Burns Kerry Bish\\u00e9 Marsha Dietlein ...   \n",
              "4800        Scott Smith  Eric Mabius Kristin Booth Crystal Lowe Geoff G...   \n",
              "4801        Daniel Hsia  Daniel Henney Eliza Coupe Bill Paxton Alan Ruc...   \n",
              "4802   Brian Herzlinger  Drew Barrymore Brian Herzlinger Corey Feldman ...   \n",
              "\n",
              "                                                tagline  \n",
              "0                           Enter the World of Pandora.  \n",
              "1        At the end of the world, the adventure begins.  \n",
              "2                                 A Plan No One Escapes  \n",
              "3                                       The Legend Ends  \n",
              "4                  Lost in our world, found in another.  \n",
              "...                                                 ...  \n",
              "4798  He didn't come looking for trouble, but troubl...  \n",
              "4799  A newlywed couple's honeymoon is upended by th...  \n",
              "4800                                                     \n",
              "4801                           A New Yorker in Shanghai  \n",
              "4802                                                     \n",
              "\n",
              "[4803 rows x 7 columns]"
            ],
            "text/html": [
              "\n",
              "  <div id=\"df-f389ffa7-6027-4a0a-8e8a-498b01c85607\" class=\"colab-df-container\">\n",
              "    <div>\n",
              "<style scoped>\n",
              "    .dataframe tbody tr th:only-of-type {\n",
              "        vertical-align: middle;\n",
              "    }\n",
              "\n",
              "    .dataframe tbody tr th {\n",
              "        vertical-align: top;\n",
              "    }\n",
              "\n",
              "    .dataframe thead th {\n",
              "        text-align: right;\n",
              "    }\n",
              "</style>\n",
              "<table border=\"1\" class=\"dataframe\">\n",
              "  <thead>\n",
              "    <tr style=\"text-align: right;\">\n",
              "      <th></th>\n",
              "      <th>original_title</th>\n",
              "      <th>genres</th>\n",
              "      <th>homepage</th>\n",
              "      <th>budget</th>\n",
              "      <th>director</th>\n",
              "      <th>cast</th>\n",
              "      <th>tagline</th>\n",
              "    </tr>\n",
              "  </thead>\n",
              "  <tbody>\n",
              "    <tr>\n",
              "      <th>0</th>\n",
              "      <td>Avatar</td>\n",
              "      <td>Action Adventure Fantasy Science Fiction</td>\n",
              "      <td>http://www.avatarmovie.com/</td>\n",
              "      <td>237000000</td>\n",
              "      <td>James Cameron</td>\n",
              "      <td>Sam Worthington Zoe Saldana Sigourney Weaver S...</td>\n",
              "      <td>Enter the World of Pandora.</td>\n",
              "    </tr>\n",
              "    <tr>\n",
              "      <th>1</th>\n",
              "      <td>Pirates of the Caribbean: At World's End</td>\n",
              "      <td>Adventure Fantasy Action</td>\n",
              "      <td>http://disney.go.com/disneypictures/pirates/</td>\n",
              "      <td>300000000</td>\n",
              "      <td>Gore Verbinski</td>\n",
              "      <td>Johnny Depp Orlando Bloom Keira Knightley Stel...</td>\n",
              "      <td>At the end of the world, the adventure begins.</td>\n",
              "    </tr>\n",
              "    <tr>\n",
              "      <th>2</th>\n",
              "      <td>Spectre</td>\n",
              "      <td>Action Adventure Crime</td>\n",
              "      <td>http://www.sonypictures.com/movies/spectre/</td>\n",
              "      <td>245000000</td>\n",
              "      <td>Sam Mendes</td>\n",
              "      <td>Daniel Craig Christoph Waltz L\\u00e9a Seydoux ...</td>\n",
              "      <td>A Plan No One Escapes</td>\n",
              "    </tr>\n",
              "    <tr>\n",
              "      <th>3</th>\n",
              "      <td>The Dark Knight Rises</td>\n",
              "      <td>Action Crime Drama Thriller</td>\n",
              "      <td>http://www.thedarkknightrises.com/</td>\n",
              "      <td>250000000</td>\n",
              "      <td>Christopher Nolan</td>\n",
              "      <td>Christian Bale Michael Caine Gary Oldman Anne ...</td>\n",
              "      <td>The Legend Ends</td>\n",
              "    </tr>\n",
              "    <tr>\n",
              "      <th>4</th>\n",
              "      <td>John Carter</td>\n",
              "      <td>Action Adventure Science Fiction</td>\n",
              "      <td>http://movies.disney.com/john-carter</td>\n",
              "      <td>260000000</td>\n",
              "      <td>Andrew Stanton</td>\n",
              "      <td>Taylor Kitsch Lynn Collins Samantha Morton Wil...</td>\n",
              "      <td>Lost in our world, found in another.</td>\n",
              "    </tr>\n",
              "    <tr>\n",
              "      <th>...</th>\n",
              "      <td>...</td>\n",
              "      <td>...</td>\n",
              "      <td>...</td>\n",
              "      <td>...</td>\n",
              "      <td>...</td>\n",
              "      <td>...</td>\n",
              "      <td>...</td>\n",
              "    </tr>\n",
              "    <tr>\n",
              "      <th>4798</th>\n",
              "      <td>El Mariachi</td>\n",
              "      <td>Action Crime Thriller</td>\n",
              "      <td></td>\n",
              "      <td>220000</td>\n",
              "      <td>Robert Rodriguez</td>\n",
              "      <td>Carlos Gallardo Jaime de Hoyos Peter Marquardt...</td>\n",
              "      <td>He didn't come looking for trouble, but troubl...</td>\n",
              "    </tr>\n",
              "    <tr>\n",
              "      <th>4799</th>\n",
              "      <td>Newlyweds</td>\n",
              "      <td>Comedy Romance</td>\n",
              "      <td></td>\n",
              "      <td>9000</td>\n",
              "      <td>Edward Burns</td>\n",
              "      <td>Edward Burns Kerry Bish\\u00e9 Marsha Dietlein ...</td>\n",
              "      <td>A newlywed couple's honeymoon is upended by th...</td>\n",
              "    </tr>\n",
              "    <tr>\n",
              "      <th>4800</th>\n",
              "      <td>Signed, Sealed, Delivered</td>\n",
              "      <td>Comedy Drama Romance TV Movie</td>\n",
              "      <td>http://www.hallmarkchannel.com/signedsealeddel...</td>\n",
              "      <td>0</td>\n",
              "      <td>Scott Smith</td>\n",
              "      <td>Eric Mabius Kristin Booth Crystal Lowe Geoff G...</td>\n",
              "      <td></td>\n",
              "    </tr>\n",
              "    <tr>\n",
              "      <th>4801</th>\n",
              "      <td>Shanghai Calling</td>\n",
              "      <td></td>\n",
              "      <td>http://shanghaicalling.com/</td>\n",
              "      <td>0</td>\n",
              "      <td>Daniel Hsia</td>\n",
              "      <td>Daniel Henney Eliza Coupe Bill Paxton Alan Ruc...</td>\n",
              "      <td>A New Yorker in Shanghai</td>\n",
              "    </tr>\n",
              "    <tr>\n",
              "      <th>4802</th>\n",
              "      <td>My Date with Drew</td>\n",
              "      <td>Documentary</td>\n",
              "      <td></td>\n",
              "      <td>0</td>\n",
              "      <td>Brian Herzlinger</td>\n",
              "      <td>Drew Barrymore Brian Herzlinger Corey Feldman ...</td>\n",
              "      <td></td>\n",
              "    </tr>\n",
              "  </tbody>\n",
              "</table>\n",
              "<p>4803 rows × 7 columns</p>\n",
              "</div>\n",
              "    <div class=\"colab-df-buttons\">\n",
              "\n",
              "  <div class=\"colab-df-container\">\n",
              "    <button class=\"colab-df-convert\" onclick=\"convertToInteractive('df-f389ffa7-6027-4a0a-8e8a-498b01c85607')\"\n",
              "            title=\"Convert this dataframe to an interactive table.\"\n",
              "            style=\"display:none;\">\n",
              "\n",
              "  <svg xmlns=\"http://www.w3.org/2000/svg\" height=\"24px\" viewBox=\"0 -960 960 960\">\n",
              "    <path d=\"M120-120v-720h720v720H120Zm60-500h600v-160H180v160Zm220 220h160v-160H400v160Zm0 220h160v-160H400v160ZM180-400h160v-160H180v160Zm440 0h160v-160H620v160ZM180-180h160v-160H180v160Zm440 0h160v-160H620v160Z\"/>\n",
              "  </svg>\n",
              "    </button>\n",
              "\n",
              "  <style>\n",
              "    .colab-df-container {\n",
              "      display:flex;\n",
              "      gap: 12px;\n",
              "    }\n",
              "\n",
              "    .colab-df-convert {\n",
              "      background-color: #E8F0FE;\n",
              "      border: none;\n",
              "      border-radius: 50%;\n",
              "      cursor: pointer;\n",
              "      display: none;\n",
              "      fill: #1967D2;\n",
              "      height: 32px;\n",
              "      padding: 0 0 0 0;\n",
              "      width: 32px;\n",
              "    }\n",
              "\n",
              "    .colab-df-convert:hover {\n",
              "      background-color: #E2EBFA;\n",
              "      box-shadow: 0px 1px 2px rgba(60, 64, 67, 0.3), 0px 1px 3px 1px rgba(60, 64, 67, 0.15);\n",
              "      fill: #174EA6;\n",
              "    }\n",
              "\n",
              "    .colab-df-buttons div {\n",
              "      margin-bottom: 4px;\n",
              "    }\n",
              "\n",
              "    [theme=dark] .colab-df-convert {\n",
              "      background-color: #3B4455;\n",
              "      fill: #D2E3FC;\n",
              "    }\n",
              "\n",
              "    [theme=dark] .colab-df-convert:hover {\n",
              "      background-color: #434B5C;\n",
              "      box-shadow: 0px 1px 3px 1px rgba(0, 0, 0, 0.15);\n",
              "      filter: drop-shadow(0px 1px 2px rgba(0, 0, 0, 0.3));\n",
              "      fill: #FFFFFF;\n",
              "    }\n",
              "  </style>\n",
              "\n",
              "    <script>\n",
              "      const buttonEl =\n",
              "        document.querySelector('#df-f389ffa7-6027-4a0a-8e8a-498b01c85607 button.colab-df-convert');\n",
              "      buttonEl.style.display =\n",
              "        google.colab.kernel.accessAllowed ? 'block' : 'none';\n",
              "\n",
              "      async function convertToInteractive(key) {\n",
              "        const element = document.querySelector('#df-f389ffa7-6027-4a0a-8e8a-498b01c85607');\n",
              "        const dataTable =\n",
              "          await google.colab.kernel.invokeFunction('convertToInteractive',\n",
              "                                                    [key], {});\n",
              "        if (!dataTable) return;\n",
              "\n",
              "        const docLinkHtml = 'Like what you see? Visit the ' +\n",
              "          '<a target=\"_blank\" href=https://colab.research.google.com/notebooks/data_table.ipynb>data table notebook</a>'\n",
              "          + ' to learn more about interactive tables.';\n",
              "        element.innerHTML = '';\n",
              "        dataTable['output_type'] = 'display_data';\n",
              "        await google.colab.output.renderOutput(dataTable, element);\n",
              "        const docLink = document.createElement('div');\n",
              "        docLink.innerHTML = docLinkHtml;\n",
              "        element.appendChild(docLink);\n",
              "      }\n",
              "    </script>\n",
              "  </div>\n",
              "\n",
              "\n",
              "<div id=\"df-e200f00e-942d-4367-aa47-67a2162eb5fe\">\n",
              "  <button class=\"colab-df-quickchart\" onclick=\"quickchart('df-e200f00e-942d-4367-aa47-67a2162eb5fe')\"\n",
              "            title=\"Suggest charts\"\n",
              "            style=\"display:none;\">\n",
              "\n",
              "<svg xmlns=\"http://www.w3.org/2000/svg\" height=\"24px\"viewBox=\"0 0 24 24\"\n",
              "     width=\"24px\">\n",
              "    <g>\n",
              "        <path d=\"M19 3H5c-1.1 0-2 .9-2 2v14c0 1.1.9 2 2 2h14c1.1 0 2-.9 2-2V5c0-1.1-.9-2-2-2zM9 17H7v-7h2v7zm4 0h-2V7h2v10zm4 0h-2v-4h2v4z\"/>\n",
              "    </g>\n",
              "</svg>\n",
              "  </button>\n",
              "\n",
              "<style>\n",
              "  .colab-df-quickchart {\n",
              "      --bg-color: #E8F0FE;\n",
              "      --fill-color: #1967D2;\n",
              "      --hover-bg-color: #E2EBFA;\n",
              "      --hover-fill-color: #174EA6;\n",
              "      --disabled-fill-color: #AAA;\n",
              "      --disabled-bg-color: #DDD;\n",
              "  }\n",
              "\n",
              "  [theme=dark] .colab-df-quickchart {\n",
              "      --bg-color: #3B4455;\n",
              "      --fill-color: #D2E3FC;\n",
              "      --hover-bg-color: #434B5C;\n",
              "      --hover-fill-color: #FFFFFF;\n",
              "      --disabled-bg-color: #3B4455;\n",
              "      --disabled-fill-color: #666;\n",
              "  }\n",
              "\n",
              "  .colab-df-quickchart {\n",
              "    background-color: var(--bg-color);\n",
              "    border: none;\n",
              "    border-radius: 50%;\n",
              "    cursor: pointer;\n",
              "    display: none;\n",
              "    fill: var(--fill-color);\n",
              "    height: 32px;\n",
              "    padding: 0;\n",
              "    width: 32px;\n",
              "  }\n",
              "\n",
              "  .colab-df-quickchart:hover {\n",
              "    background-color: var(--hover-bg-color);\n",
              "    box-shadow: 0 1px 2px rgba(60, 64, 67, 0.3), 0 1px 3px 1px rgba(60, 64, 67, 0.15);\n",
              "    fill: var(--button-hover-fill-color);\n",
              "  }\n",
              "\n",
              "  .colab-df-quickchart-complete:disabled,\n",
              "  .colab-df-quickchart-complete:disabled:hover {\n",
              "    background-color: var(--disabled-bg-color);\n",
              "    fill: var(--disabled-fill-color);\n",
              "    box-shadow: none;\n",
              "  }\n",
              "\n",
              "  .colab-df-spinner {\n",
              "    border: 2px solid var(--fill-color);\n",
              "    border-color: transparent;\n",
              "    border-bottom-color: var(--fill-color);\n",
              "    animation:\n",
              "      spin 1s steps(1) infinite;\n",
              "  }\n",
              "\n",
              "  @keyframes spin {\n",
              "    0% {\n",
              "      border-color: transparent;\n",
              "      border-bottom-color: var(--fill-color);\n",
              "      border-left-color: var(--fill-color);\n",
              "    }\n",
              "    20% {\n",
              "      border-color: transparent;\n",
              "      border-left-color: var(--fill-color);\n",
              "      border-top-color: var(--fill-color);\n",
              "    }\n",
              "    30% {\n",
              "      border-color: transparent;\n",
              "      border-left-color: var(--fill-color);\n",
              "      border-top-color: var(--fill-color);\n",
              "      border-right-color: var(--fill-color);\n",
              "    }\n",
              "    40% {\n",
              "      border-color: transparent;\n",
              "      border-right-color: var(--fill-color);\n",
              "      border-top-color: var(--fill-color);\n",
              "    }\n",
              "    60% {\n",
              "      border-color: transparent;\n",
              "      border-right-color: var(--fill-color);\n",
              "    }\n",
              "    80% {\n",
              "      border-color: transparent;\n",
              "      border-right-color: var(--fill-color);\n",
              "      border-bottom-color: var(--fill-color);\n",
              "    }\n",
              "    90% {\n",
              "      border-color: transparent;\n",
              "      border-bottom-color: var(--fill-color);\n",
              "    }\n",
              "  }\n",
              "</style>\n",
              "\n",
              "  <script>\n",
              "    async function quickchart(key) {\n",
              "      const quickchartButtonEl =\n",
              "        document.querySelector('#' + key + ' button');\n",
              "      quickchartButtonEl.disabled = true;  // To prevent multiple clicks.\n",
              "      quickchartButtonEl.classList.add('colab-df-spinner');\n",
              "      try {\n",
              "        const charts = await google.colab.kernel.invokeFunction(\n",
              "            'suggestCharts', [key], {});\n",
              "      } catch (error) {\n",
              "        console.error('Error during call to suggestCharts:', error);\n",
              "      }\n",
              "      quickchartButtonEl.classList.remove('colab-df-spinner');\n",
              "      quickchartButtonEl.classList.add('colab-df-quickchart-complete');\n",
              "    }\n",
              "    (() => {\n",
              "      let quickchartButtonEl =\n",
              "        document.querySelector('#df-e200f00e-942d-4367-aa47-67a2162eb5fe button');\n",
              "      quickchartButtonEl.style.display =\n",
              "        google.colab.kernel.accessAllowed ? 'block' : 'none';\n",
              "    })();\n",
              "  </script>\n",
              "</div>\n",
              "\n",
              "  <div id=\"id_542a5e29-7034-49e0-80e8-96e986b99f3a\">\n",
              "    <style>\n",
              "      .colab-df-generate {\n",
              "        background-color: #E8F0FE;\n",
              "        border: none;\n",
              "        border-radius: 50%;\n",
              "        cursor: pointer;\n",
              "        display: none;\n",
              "        fill: #1967D2;\n",
              "        height: 32px;\n",
              "        padding: 0 0 0 0;\n",
              "        width: 32px;\n",
              "      }\n",
              "\n",
              "      .colab-df-generate:hover {\n",
              "        background-color: #E2EBFA;\n",
              "        box-shadow: 0px 1px 2px rgba(60, 64, 67, 0.3), 0px 1px 3px 1px rgba(60, 64, 67, 0.15);\n",
              "        fill: #174EA6;\n",
              "      }\n",
              "\n",
              "      [theme=dark] .colab-df-generate {\n",
              "        background-color: #3B4455;\n",
              "        fill: #D2E3FC;\n",
              "      }\n",
              "\n",
              "      [theme=dark] .colab-df-generate:hover {\n",
              "        background-color: #434B5C;\n",
              "        box-shadow: 0px 1px 3px 1px rgba(0, 0, 0, 0.15);\n",
              "        filter: drop-shadow(0px 1px 2px rgba(0, 0, 0, 0.3));\n",
              "        fill: #FFFFFF;\n",
              "      }\n",
              "    </style>\n",
              "    <button class=\"colab-df-generate\" onclick=\"generateWithVariable('df_features')\"\n",
              "            title=\"Generate code using this dataframe.\"\n",
              "            style=\"display:none;\">\n",
              "\n",
              "  <svg xmlns=\"http://www.w3.org/2000/svg\" height=\"24px\"viewBox=\"0 0 24 24\"\n",
              "       width=\"24px\">\n",
              "    <path d=\"M7,19H8.4L18.45,9,17,7.55,7,17.6ZM5,21V16.75L18.45,3.32a2,2,0,0,1,2.83,0l1.4,1.43a1.91,1.91,0,0,1,.58,1.4,1.91,1.91,0,0,1-.58,1.4L9.25,21ZM18.45,9,17,7.55Zm-12,3A5.31,5.31,0,0,0,4.9,8.1,5.31,5.31,0,0,0,1,6.5,5.31,5.31,0,0,0,4.9,4.9,5.31,5.31,0,0,0,6.5,1,5.31,5.31,0,0,0,8.1,4.9,5.31,5.31,0,0,0,12,6.5,5.46,5.46,0,0,0,6.5,12Z\"/>\n",
              "  </svg>\n",
              "    </button>\n",
              "    <script>\n",
              "      (() => {\n",
              "      const buttonEl =\n",
              "        document.querySelector('#id_542a5e29-7034-49e0-80e8-96e986b99f3a button.colab-df-generate');\n",
              "      buttonEl.style.display =\n",
              "        google.colab.kernel.accessAllowed ? 'block' : 'none';\n",
              "\n",
              "      buttonEl.onclick = () => {\n",
              "        google.colab.notebook.generateWithVariable('df_features');\n",
              "      }\n",
              "      })();\n",
              "    </script>\n",
              "  </div>\n",
              "\n",
              "    </div>\n",
              "  </div>\n"
            ]
          },
          "metadata": {},
          "execution_count": 67
        }
      ]
    },
    {
      "cell_type": "code",
      "source": [
        "x = df_features['original_title']  + '  ' +  df_features['genres'] + ' ' + df_features['homepage'] + ' '+ df_features['director'] + ' '+ df_features['cast'] + ' '+ df_features['tagline']"
      ],
      "metadata": {
        "id": "Rr81Myf21xok"
      },
      "execution_count": 72,
      "outputs": []
    },
    {
      "cell_type": "code",
      "source": [
        "x"
      ],
      "metadata": {
        "colab": {
          "base_uri": "https://localhost:8080/"
        },
        "id": "PB95QX9n2p8n",
        "outputId": "7667d3a9-1378-4572-d956-af6503a1442a"
      },
      "execution_count": 73,
      "outputs": [
        {
          "output_type": "execute_result",
          "data": {
            "text/plain": [
              "0       Avatar  Action Adventure Fantasy Science Ficti...\n",
              "1       Pirates of the Caribbean: At World's End  Adve...\n",
              "2       Spectre  Action Adventure Crime http://www.son...\n",
              "3       The Dark Knight Rises  Action Crime Drama Thri...\n",
              "4       John Carter  Action Adventure Science Fiction ...\n",
              "                              ...                        \n",
              "4798    El Mariachi  Action Crime Thriller  Robert Rod...\n",
              "4799    Newlyweds  Comedy Romance  Edward Burns Edward...\n",
              "4800    Signed, Sealed, Delivered  Comedy Drama Romanc...\n",
              "4801    Shanghai Calling   http://shanghaicalling.com/...\n",
              "4802    My Date with Drew  Documentary  Brian Herzling...\n",
              "Length: 4803, dtype: object"
            ]
          },
          "metadata": {},
          "execution_count": 73
        }
      ]
    },
    {
      "cell_type": "code",
      "source": [
        "x.shape"
      ],
      "metadata": {
        "colab": {
          "base_uri": "https://localhost:8080/"
        },
        "id": "JpUATI7C2sIM",
        "outputId": "4f0348bc-2b3e-4c9e-ec33-963d78b7abe4"
      },
      "execution_count": 74,
      "outputs": [
        {
          "output_type": "execute_result",
          "data": {
            "text/plain": [
              "(4803,)"
            ]
          },
          "metadata": {},
          "execution_count": 74
        }
      ]
    },
    {
      "cell_type": "markdown",
      "source": [
        "### Get Feature Text Conversions to Token"
      ],
      "metadata": {
        "id": "GJLF8l692xRx"
      }
    },
    {
      "cell_type": "code",
      "source": [
        "from sklearn.feature_extraction.text import TfidfVectorizer"
      ],
      "metadata": {
        "id": "8lL1kdLF29ms"
      },
      "execution_count": 75,
      "outputs": []
    },
    {
      "cell_type": "code",
      "source": [
        "tfidf = TfidfVectorizer()"
      ],
      "metadata": {
        "id": "PqM6BdtE3Mqb"
      },
      "execution_count": 76,
      "outputs": []
    },
    {
      "cell_type": "code",
      "source": [
        "x=tfidf.fit_transform(x)"
      ],
      "metadata": {
        "id": "CPJ4-ryF3m6Z"
      },
      "execution_count": 77,
      "outputs": []
    },
    {
      "cell_type": "code",
      "source": [
        "x.shape"
      ],
      "metadata": {
        "colab": {
          "base_uri": "https://localhost:8080/"
        },
        "id": "kvq0Qqqx3wx8",
        "outputId": "486fc2af-a503-4feb-decf-9ad2f04bd4c0"
      },
      "execution_count": 78,
      "outputs": [
        {
          "output_type": "execute_result",
          "data": {
            "text/plain": [
              "(4803, 18773)"
            ]
          },
          "metadata": {},
          "execution_count": 78
        }
      ]
    },
    {
      "cell_type": "code",
      "source": [
        "print(x)"
      ],
      "metadata": {
        "colab": {
          "base_uri": "https://localhost:8080/"
        },
        "id": "USd5RFor30ks",
        "outputId": "01fc2a51-1189-425b-e127-7afebf62770f"
      },
      "execution_count": 79,
      "outputs": [
        {
          "output_type": "stream",
          "name": "stdout",
          "text": [
            "  (0, 12373)\t0.29299726458320485\n",
            "  (0, 12029)\t0.09674274304412471\n",
            "  (0, 18312)\t0.15851715279062967\n",
            "  (0, 16234)\t0.06342488220463613\n",
            "  (0, 5322)\t0.25321306200331506\n",
            "  (0, 13922)\t0.21657981475554458\n",
            "  (0, 10996)\t0.17905967072767395\n",
            "  (0, 9410)\t0.24763078157797014\n",
            "  (0, 15587)\t0.16923064359591125\n",
            "  (0, 17952)\t0.2225297444482033\n",
            "  (0, 15000)\t0.22965324222495082\n",
            "  (0, 14221)\t0.24279519032367125\n",
            "  (0, 18635)\t0.2238467311030691\n",
            "  (0, 18323)\t0.2636309336829589\n",
            "  (0, 14250)\t0.1672102631791263\n",
            "  (0, 2688)\t0.19259311606413757\n",
            "  (0, 8364)\t0.12586925093681225\n",
            "  (0, 3519)\t0.07666685009236748\n",
            "  (0, 1220)\t0.31809830171297176\n",
            "  (0, 18354)\t0.08357465015920741\n",
            "  (0, 7840)\t0.07445518476368396\n",
            "  (0, 5824)\t0.11563109745128032\n",
            "  (0, 14489)\t0.1159023582086978\n",
            "  (0, 5662)\t0.12446273854589705\n",
            "  (0, 386)\t0.10058938311380453\n",
            "  :\t:\n",
            "  (4801, 14750)\t0.4494636872524885\n",
            "  (4801, 5210)\t0.20979467492971354\n",
            "  (4801, 520)\t0.15048912896270855\n",
            "  (4801, 7476)\t0.24500031859274582\n",
            "  (4801, 12534)\t0.1830012084309739\n",
            "  (4801, 1898)\t0.1322106208529589\n",
            "  (4801, 11731)\t0.14335492313849424\n",
            "  (4801, 8055)\t0.09459481562840813\n",
            "  (4801, 4085)\t0.28377041070371267\n",
            "  (4801, 3519)\t0.06190661062426445\n",
            "  (4801, 7840)\t0.060120744840434275\n",
            "  (4802, 7537)\t0.5717844859838646\n",
            "  (4802, 5757)\t0.23040828430635144\n",
            "  (4802, 4979)\t0.2407729086993017\n",
            "  (4802, 6912)\t0.21821324155298644\n",
            "  (4802, 4691)\t0.15517214973974583\n",
            "  (4802, 11506)\t0.17686385291762477\n",
            "  (4802, 13876)\t0.16971566208821076\n",
            "  (4802, 1504)\t0.1966868903984164\n",
            "  (4802, 4882)\t0.3893041157013813\n",
            "  (4802, 3700)\t0.21821324155298644\n",
            "  (4802, 5364)\t0.16128252380123592\n",
            "  (4802, 2360)\t0.3109333844033986\n",
            "  (4802, 18233)\t0.1453721666195978\n",
            "  (4802, 4157)\t0.2203137587242499\n"
          ]
        }
      ]
    },
    {
      "cell_type": "markdown",
      "source": [
        "### Get Similarity Score Using Cosine Similarity"
      ],
      "metadata": {
        "id": "GNgJo4DV4e7D"
      }
    },
    {
      "cell_type": "code",
      "source": [
        "from sklearn.metrics.pairwise import cosine_similarity"
      ],
      "metadata": {
        "id": "bQO0eCHR4cvL"
      },
      "execution_count": 80,
      "outputs": []
    },
    {
      "cell_type": "code",
      "source": [
        "Similarity_Score= cosine_similarity(x)"
      ],
      "metadata": {
        "id": "9fApFEaV44BM"
      },
      "execution_count": 81,
      "outputs": []
    },
    {
      "cell_type": "code",
      "source": [
        "Similarity_Score"
      ],
      "metadata": {
        "colab": {
          "base_uri": "https://localhost:8080/"
        },
        "id": "0dIFEigT5Go9",
        "outputId": "f117e5c8-b5af-48ae-c153-b9382e724761"
      },
      "execution_count": 82,
      "outputs": [
        {
          "output_type": "execute_result",
          "data": {
            "text/plain": [
              "array([[1.        , 0.10109668, 0.0547983 , ..., 0.01587728, 0.00922249,\n",
              "        0.        ],\n",
              "       [0.10109668, 1.        , 0.02427966, ..., 0.00711927, 0.00666424,\n",
              "        0.        ],\n",
              "       [0.0547983 , 0.02427966, 1.        , ..., 0.01355729, 0.05045156,\n",
              "        0.        ],\n",
              "       ...,\n",
              "       [0.01587728, 0.00711927, 0.01355729, ..., 1.        , 0.0079554 ,\n",
              "        0.02496594],\n",
              "       [0.00922249, 0.00666424, 0.05045156, ..., 0.0079554 , 1.        ,\n",
              "        0.        ],\n",
              "       [0.        , 0.        , 0.        , ..., 0.02496594, 0.        ,\n",
              "        1.        ]])"
            ]
          },
          "metadata": {},
          "execution_count": 82
        }
      ]
    },
    {
      "cell_type": "code",
      "source": [
        "Similarity_Score.shape"
      ],
      "metadata": {
        "colab": {
          "base_uri": "https://localhost:8080/"
        },
        "id": "th7qCYxN5Mce",
        "outputId": "7705b19b-0174-49f7-ff63-428b3d033234"
      },
      "execution_count": 83,
      "outputs": [
        {
          "output_type": "execute_result",
          "data": {
            "text/plain": [
              "(4803, 4803)"
            ]
          },
          "metadata": {},
          "execution_count": 83
        }
      ]
    },
    {
      "cell_type": "markdown",
      "source": [
        "### Get Movie Name as Input User and Validate for Closet Spelling"
      ],
      "metadata": {
        "id": "Yisn2VZ65WwQ"
      }
    },
    {
      "cell_type": "code",
      "source": [
        "Favourite_Movie_name=input('Enter your favourite movie name : ')"
      ],
      "metadata": {
        "colab": {
          "base_uri": "https://localhost:8080/"
        },
        "id": "M_crsw8o5VQ3",
        "outputId": "aff72a27-7c5d-47c6-f1a9-3e0775a1884c"
      },
      "execution_count": 117,
      "outputs": [
        {
          "name": "stdout",
          "output_type": "stream",
          "text": [
            "Enter your favourite movie name : Furious 7\n"
          ]
        }
      ]
    },
    {
      "cell_type": "code",
      "source": [
        "All_Movies_Title_List = df['original_title'].tolist()"
      ],
      "metadata": {
        "id": "FQxM0Kj76cVd"
      },
      "execution_count": 118,
      "outputs": []
    },
    {
      "cell_type": "code",
      "source": [
        "import difflib"
      ],
      "metadata": {
        "id": "WcP6akzT6vQy"
      },
      "execution_count": 119,
      "outputs": []
    },
    {
      "cell_type": "code",
      "source": [
        "Movie_Recommendation = difflib.get_close_matches(Favourite_Movie_name, All_Movies_Title_List)\n",
        "print(Movie_Recommendation)"
      ],
      "metadata": {
        "colab": {
          "base_uri": "https://localhost:8080/"
        },
        "id": "oAfR19Wg62jR",
        "outputId": "dbcb29bd-81ce-4d8a-dae0-a0e5fe5a0f84"
      },
      "execution_count": 120,
      "outputs": [
        {
          "output_type": "stream",
          "name": "stdout",
          "text": [
            "['Furious 7', 'Curious George']\n"
          ]
        }
      ]
    },
    {
      "cell_type": "code",
      "source": [
        "Close_Match  = Movie_Recommendation[0]\n",
        "print(Close_Match)"
      ],
      "metadata": {
        "colab": {
          "base_uri": "https://localhost:8080/"
        },
        "id": "pBkAdnAa8LiU",
        "outputId": "65f7c04e-f419-4218-ade6-0250c98f6fe3"
      },
      "execution_count": 121,
      "outputs": [
        {
          "output_type": "stream",
          "name": "stdout",
          "text": [
            "Furious 7\n"
          ]
        }
      ]
    },
    {
      "cell_type": "code",
      "source": [
        "Index_of_Close_Match_Movie = df[df.original_title ==  Close_Match]['index'].values[0]\n",
        "\n",
        "print(Index_of_Close_Match_Movie)"
      ],
      "metadata": {
        "colab": {
          "base_uri": "https://localhost:8080/"
        },
        "id": "DaJj7QT68asG",
        "outputId": "5a8160ac-35c4-41e4-bae9-478670cd271b"
      },
      "execution_count": 122,
      "outputs": [
        {
          "output_type": "stream",
          "name": "stdout",
          "text": [
            "44\n"
          ]
        }
      ]
    },
    {
      "cell_type": "code",
      "source": [
        "Recommendation_Score = list(enumerate(Similarity_Score[Index_of_Close_Match_Movie]))\n",
        "\n",
        "print (Recommendation_Score)"
      ],
      "metadata": {
        "colab": {
          "base_uri": "https://localhost:8080/"
        },
        "id": "-4l_zyqp9iHR",
        "outputId": "a2c8e53d-a7c1-44e4-850d-873e815a39d2"
      },
      "execution_count": 123,
      "outputs": [
        {
          "output_type": "stream",
          "name": "stdout",
          "text": [
            "[(0, 0.12592130968392423), (1, 0.014383895145956178), (2, 0.02320823420671475), (3, 0.027888969706491767), (4, 0.017586917147977242), (5, 0.03857394968960329), (6, 0.009722474330112148), (7, 0.016044503741036716), (8, 0.009538834031354772), (9, 0.023674020447394167), (10, 0.042824357740479796), (11, 0.017865163627714564), (12, 0.01638219121210844), (13, 0.027513212211908535), (14, 0.025804574248189716), (15, 0.0), (16, 0.01835859067865607), (17, 0.013312723126631303), (18, 0.02759061511446803), (19, 0.021796163039984082), (20, 0.02650563974315607), (21, 0.023475321454759394), (22, 0.014309810676969556), (23, 0.014570460454958474), (24, 0.008429582506119028), (25, 0.03482163038221564), (26, 0.01790893858465176), (27, 0.007472306733307384), (28, 0.026158446937012456), (29, 0.024513567986962935), (30, 0.03855415842932386), (31, 0.018389995389689676), (32, 0.00960303474787701), (33, 0.008067974110776683), (34, 0.0), (35, 0.1311826847769957), (36, 0.02248971575102333), (37, 0.06111408888777746), (38, 0.027069403635613137), (39, 0.016326384741209392), (40, 0.017428523261883735), (41, 0.01853998202604884), (42, 0.010584271191117722), (43, 0.017181895704423526), (44, 1.0000000000000004), (45, 0.03976218196138542), (46, 0.03671487374887187), (47, 0.008097120231843476), (48, 0.01675730407412094), (49, 0.0), (50, 0.017242810308047224), (51, 0.021487120684900905), (52, 0.022166647081789417), (53, 0.02356222895508333), (54, 0.009061607820467475), (55, 0.05361925610865629), (56, 0.027771378866431586), (57, 0.010112132955376092), (58, 0.007661206246871916), (59, 0.02423086789779949), (60, 0.010383119680773267), (61, 0.024242116928755678), (62, 0.018742134921243526), (63, 0.0), (64, 0.031029790081134063), (65, 0.018829455191303104), (66, 0.011714830635555947), (67, 0.031387438099442354), (68, 0.02505871942411579), (69, 0.015341697067720317), (70, 0.007463018927281826), (71, 0.02493760060211889), (72, 0.025640343988506377), (73, 0.018673225737156678), (74, 0.026427014688495284), (75, 0.007219451794728626), (76, 0.024290932577438546), (77, 0.009487180378669694), (78, 0.010086758938927496), (79, 0.02376584754162441), (80, 0.01824752785491336), (81, 0.016528869589369548), (82, 0.02538301613244519), (83, 0.0071416378496325815), (84, 0.006494541654327506), (85, 0.025772810271959067), (86, 0.015718266969911666), (87, 0.009944713522121083), (88, 0.017240549898455602), (89, 0.008167061040838284), (90, 0.0), (91, 0.022446496927945484), (92, 0.017700727551029676), (93, 0.006747629012316981), (94, 0.13100271602142272), (95, 0.01135235942847853), (96, 0.018495515781776307), (97, 0.006013673704835452), (98, 0.02389527216196307), (99, 0.35772274595060055), (100, 0.015684855520260565), (101, 0.04240986374926169), (102, 0.018919638299599948), (103, 0.01713511040252573), (104, 0.017263557611294507), (105, 0.020525937619212772), (106, 0.017527217303421862), (107, 0.05935146054650051), (108, 0.025614444074416754), (109, 0.0), (110, 0.0), (111, 0.14647582333836245), (112, 0.008332404883875546), (113, 0.017431189078813504), (114, 0.01003943047837929), (115, 0.023080479577653176), (116, 0.017539178987866968), (117, 0.009223431857232803), (118, 0.009479364461461085), (119, 0.018847584087670538), (120, 0.01567267312790988), (121, 0.022894440142007894), (122, 0.025615044782161766), (123, 0.0072666416611284305), (124, 0.008640834125799138), (125, 0.007367268336838584), (126, 0.017880689972576237), (127, 0.024859370292226596), (128, 0.018516818671501817), (129, 0.018146574181161557), (130, 0.009500989777657187), (131, 0.017915395381483307), (132, 0.011054324270548685), (133, 0.041741300756802165), (134, 0.022636401077724848), (135, 0.01676716375297643), (136, 0.016458655353175356), (137, 0.017641814159452818), (138, 0.023304901161135788), (139, 0.021460978296363807), (140, 0.008068352311862755), (141, 0.041955116684443454), (142, 0.016899243778559062), (143, 0.0), (144, 0.0), (145, 0.0), (146, 0.0), (147, 0.021225246743603623), (148, 0.04371731513946102), (149, 0.00774108550451347), (150, 0.023959672615448464), (151, 0.027803146897952432), (152, 0.023306914967203347), (153, 0.022475191927381254), (154, 0.019112225090610013), (155, 0.016310350169109672), (156, 0.006679560459070272), (157, 0.045137239164022645), (158, 0.008722745195421499), (159, 0.03593717927141972), (160, 0.025231966835317716), (161, 0.0), (162, 0.009324890196758374), (163, 0.01698074698392127), (164, 0.06105974580507477), (165, 0.008796273285124355), (166, 0.12213017816601222), (167, 0.023747961021415596), (168, 0.006961084774027763), (169, 0.016967544951619472), (170, 0.017919734078859266), (171, 0.047541485091134705), (172, 0.0), (173, 0.01156409622798464), (174, 0.007623314441723464), (175, 0.00951151278066175), (176, 0.030215028422151582), (177, 0.03855988079869281), (178, 0.01715309991738486), (179, 0.0), (180, 0.03737843201512756), (181, 0.018098442454248773), (182, 0.03198039794480362), (183, 0.0184287179846953), (184, 0.10355261965188176), (185, 0.0), (186, 0.007406367030063182), (187, 0.0067080317037415136), (188, 0.019871149556473153), (189, 0.019629028791505316), (190, 0.015888250424899553), (191, 0.0), (192, 0.0), (193, 0.007376619464442168), (194, 0.0), (195, 0.0), (196, 0.023906348448250438), (197, 0.010020437492851468), (198, 0.027575694756411313), (199, 0.013676875964359889), (200, 0.011298965236805198), (201, 0.035825061163346744), (202, 0.018059009629417748), (203, 0.007335479560596204), (204, 0.2612969626467779), (205, 0.016963808052822715), (206, 0.017705405800139455), (207, 0.02610193737075328), (208, 0.0075438315963177235), (209, 0.02695430908777817), (210, 0.007953196591429937), (211, 0.016901438719281146), (212, 0.025679673759554454), (213, 0.025491613261541084), (214, 0.0), (215, 0.007124803179833374), (216, 0.023318071358539614), (217, 0.05757133791420986), (218, 0.04916659327642605), (219, 0.00735386096690983), (220, 0.01607877100280673), (221, 0.0), (222, 0.00795085454091244), (223, 0.1120860515234665), (224, 0.022587394685220193), (225, 0.02691107235632064), (226, 0.05187006785678617), (227, 0.040333003923931396), (228, 0.01641183449933204), (229, 0.01711347857992995), (230, 0.014908997340329843), (231, 0.022230738174516467), (232, 0.03679813192820169), (233, 0.0153897781420878), (234, 0.018745758914957347), (235, 0.014808182710170151), (236, 0.008638310300303794), (237, 0.025110971440610655), (238, 0.021381212315549063), (239, 0.0108447444965313), (240, 0.007775026583579801), (241, 0.022934865893934606), (242, 0.027243701826313103), (243, 0.008064566030042637), (244, 0.09215997885444918), (245, 0.039091012842289684), (246, 0.049879829249960116), (247, 0.01061986996125709), (248, 0.008339018131165247), (249, 0.024167630008732295), (250, 0.0), (251, 0.0), (252, 0.024374977328793186), (253, 0.023078077949300602), (254, 0.01715062903757389), (255, 0.0742027782848715), (256, 0.02410445213355398), (257, 0.023803369422102955), (258, 0.010692317115692275), (259, 0.006680591432387484), (260, 0.02458173321904541), (261, 0.007996293967825766), (262, 0.01673977310535466), (263, 0.007457047522627279), (264, 0.0), (265, 0.0), (266, 0.025307396006077884), (267, 0.021672922976029317), (268, 0.0), (269, 0.00954223829065794), (270, 0.05381461147088733), (271, 0.027835182506510903), (272, 0.0), (273, 0.007343212444188088), (274, 0.009178844944148966), (275, 0.007415630685423987), (276, 0.0), (277, 0.019052288157160757), (278, 0.007078429157495177), (279, 0.026608859804324952), (280, 0.012666623497389553), (281, 0.011438170993142597), (282, 0.020879373510686423), (283, 0.01635230000068944), (284, 0.03166756297771081), (285, 0.11147751193621398), (286, 0.0502664977123865), (287, 0.06201118033079089), (288, 0.021232973125198847), (289, 0.0), (290, 0.021557309081858364), (291, 0.007723867627530575), (292, 0.02222136888015885), (293, 0.026305166969385795), (294, 0.0), (295, 0.034839697536133876), (296, 0.022897814681887577), (297, 0.007858823244526079), (298, 0.01722309518264571), (299, 0.008556826450541495), (300, 0.023255692308760276), (301, 0.010945276188678871), (302, 0.008569392749628599), (303, 0.008165173538566238), (304, 0.0936282704080532), (305, 0.0), (306, 0.0), (307, 0.059505956799694094), (308, 0.017546555736911742), (309, 0.0), (310, 0.06707066277915029), (311, 0.015214038120450699), (312, 0.03965484075515617), (313, 0.015647409994781453), (314, 0.0), (315, 0.0064871819284014936), (316, 0.010734825599133491), (317, 0.015892112079894376), (318, 0.029108869387658536), (319, 0.00657926966939986), (320, 0.008394438036606569), (321, 0.0), (322, 0.007953014798222155), (323, 0.019730654434458372), (324, 0.0313189406698583), (325, 0.01136259514549999), (326, 0.024728984780337186), (327, 0.018210077151615423), (328, 0.008797167552330693), (329, 0.01752551236017963), (330, 0.018918842357977982), (331, 0.012634500543762818), (332, 0.00650433667728561), (333, 0.019157509216152724), (334, 0.007290612382906869), (335, 0.03976334018172176), (336, 0.0), (337, 0.016264499721812015), (338, 0.0), (339, 0.015868890021809214), (340, 0.005865824935223915), (341, 0.0), (342, 0.023712144542426133), (343, 0.01039801493427208), (344, 0.006112373710915409), (345, 0.007391892143508612), (346, 0.07855946530471776), (347, 0.033579779462003204), (348, 0.012721934193192813), (349, 0.0), (350, 0.018555000835533873), (351, 0.010961579761817223), (352, 0.0), (353, 0.022861701118785452), (354, 0.00984482672709885), (355, 0.058530221598707), (356, 0.01686843902876283), (357, 0.01658446384189756), (358, 0.02750602893710228), (359, 0.012301730889097544), (360, 0.0), (361, 0.023681798243404162), (362, 0.0749600393389111), (363, 0.0), (364, 0.0), (365, 0.028943438328558), (366, 0.0251429414598454), (367, 0.017748177033241785), (368, 0.043900697890121854), (369, 0.005372397296020384), (370, 0.012872195121476963), (371, 0.006194183490850047), (372, 0.0066782003794845805), (373, 0.0), (374, 0.015998762089615884), (375, 0.0), (376, 0.0076920666517355085), (377, 0.0), (378, 0.0), (379, 0.021528224492904893), (380, 0.034288921500836504), (381, 0.025282647686984423), (382, 0.017737350042350265), (383, 0.007769193375223301), (384, 0.020686299003907182), (385, 0.015825324554594032), (386, 0.03151075981918794), (387, 0.007299145488391911), (388, 0.011223055653743857), (389, 0.045457825269018634), (390, 0.0325704110330277), (391, 0.022444629723939638), (392, 0.02630055898705877), (393, 0.0), (394, 0.0242342047958669), (395, 0.015282026275518081), (396, 0.008146147490638602), (397, 0.010140891452576767), (398, 0.010896152843201893), (399, 0.015355168425849882), (400, 0.028750330617020935), (401, 0.0), (402, 0.11507743823001321), (403, 0.01630361671270417), (404, 0.012645120256622542), (405, 0.08287854602218545), (406, 0.030521268346773087), (407, 0.017154070395487307), (408, 0.021809907646357832), (409, 0.0), (410, 0.0), (411, 0.021631530641689756), (412, 0.007676739045739102), (413, 0.0), (414, 0.03169332912099425), (415, 0.01929385075318766), (416, 0.0), (417, 0.0), (418, 0.02309841774233809), (419, 0.011212457762407693), (420, 0.0), (421, 0.0), (422, 0.0), (423, 0.01865551162111759), (424, 0.018276862017694472), (425, 0.02574730785806902), (426, 0.012272746747311845), (427, 0.011245055359927581), (428, 0.041706302985514726), (429, 0.0), (430, 0.0), (431, 0.0), (432, 0.007888135132578576), (433, 0.019958206357774032), (434, 0.0), (435, 0.016895281732043847), (436, 0.027850502377318318), (437, 0.10939733775168443), (438, 0.0), (439, 0.05439638999191762), (440, 0.0), (441, 0.0), (442, 0.007298971489247484), (443, 0.0), (444, 0.021333397064097263), (445, 0.01755168298584469), (446, 0.007467188859574429), (447, 0.04384224561826839), (448, 0.03140109765996908), (449, 0.007047178479646462), (450, 0.0), (451, 0.0), (452, 0.013144694905196493), (453, 0.007925626772098156), (454, 0.0), (455, 0.04810014147716061), (456, 0.007946211421291214), (457, 0.006680248442247698), (458, 0.017825004454202136), (459, 0.014567142447369251), (460, 0.033211318146712444), (461, 0.0), (462, 0.0), (463, 0.0), (464, 0.01601272882480542), (465, 0.035488724092788984), (466, 0.017730114687131825), (467, 0.008122668994948342), (468, 0.0076465565717718864), (469, 0.020791121575858006), (470, 0.0), (471, 0.0), (472, 0.007115275852673598), (473, 0.011042990717104455), (474, 0.0), (475, 0.006636544306470017), (476, 0.03182638991848885), (477, 0.0), (478, 0.007613968716206261), (479, 0.01681579169207879), (480, 0.008096335010000406), (481, 0.0072328958883529785), (482, 0.010007722686823307), (483, 0.07502518307230117), (484, 0.0), (485, 0.013547123152500635), (486, 0.12111846384673412), (487, 0.0066152140649752625), (488, 0.0), (489, 0.006927246952324136), (490, 0.016817933335274933), (491, 0.026243699980951034), (492, 0.017769405327193084), (493, 0.03764364264606958), (494, 0.021984184213988664), (495, 0.10585365140638553), (496, 0.015883707262752057), (497, 0.0), (498, 0.0), (499, 0.015991338978257733), (500, 0.26846163824258396), (501, 0.05222603749965608), (502, 0.0), (503, 0.0070158515995373), (504, 0.017715678320776036), (505, 0.00674080892284608), (506, 0.018705068763835334), (507, 0.007757942595388362), (508, 0.008076371020650425), (509, 0.0), (510, 0.02195289395670608), (511, 0.009005877984060578), (512, 0.04411547063089716), (513, 0.007018402071627834), (514, 0.012337022754025453), (515, 0.0), (516, 0.05958258623313161), (517, 0.0146336860823452), (518, 0.040099860615830867), (519, 0.0), (520, 0.016198434115905803), (521, 0.019148805227040086), (522, 0.0), (523, 0.011733074167307336), (524, 0.011560946618527215), (525, 0.007021149979886755), (526, 0.019215800921283183), (527, 0.0), (528, 0.005346580373724552), (529, 0.046024736977515315), (530, 0.018234233121666537), (531, 0.007382303089578412), (532, 0.017389882126575728), (533, 0.016797519774905206), (534, 0.007892222947600936), (535, 0.008206105426185622), (536, 0.0), (537, 0.024303353819283557), (538, 0.033612856523711376), (539, 0.008343276235005874), (540, 0.008955070491329252), (541, 0.03419952909334216), (542, 0.007010744741812406), (543, 0.006257352811179516), (544, 0.12091368497210368), (545, 0.0), (546, 0.016887556221127913), (547, 0.017847367138999582), (548, 0.0), (549, 0.038921399251677084), (550, 0.01576109525307368), (551, 0.015442726190806678), (552, 0.016079198308733667), (553, 0.02521605430910507), (554, 0.015822831880388803), (555, 0.0), (556, 0.08264305177542772), (557, 0.0), (558, 0.016401143504133228), (559, 0.0), (560, 0.007608949484295931), (561, 0.0), (562, 0.0), (563, 0.0), (564, 0.04442140265590368), (565, 0.019141720238169773), (566, 0.02614309116422825), (567, 0.0), (568, 0.1196540638843325), (569, 0.03351849323150877), (570, 0.05712126627917692), (571, 0.022329524351152222), (572, 0.0), (573, 0.007858310662389026), (574, 0.14134931597316588), (575, 0.0), (576, 0.018886569394487195), (577, 0.036617582653991884), (578, 0.015865612251324247), (579, 0.06673237570193881), (580, 0.006955612176623603), (581, 0.006920746407437936), (582, 0.023014090599780497), (583, 0.0), (584, 0.05849531522506521), (585, 0.014408003356338251), (586, 0.02451764588279232), (587, 0.019677063215785058), (588, 0.017371589023650064), (589, 0.007726631775690719), (590, 0.007562973361400464), (591, 0.05013287041630367), (592, 0.0), (593, 0.03158556273053374), (594, 0.007640848096353893), (595, 0.09533888456912115), (596, 0.008447031873578143), (597, 0.09286704179039167), (598, 0.015790886074546276), (599, 0.0), (600, 0.008074422667496596), (601, 0.00854257547889404), (602, 0.0075012901773566084), (603, 0.0), (604, 0.025448435337748612), (605, 0.016022283757271993), (606, 0.01550212611064631), (607, 0.023636928136447664), (608, 0.0), (609, 0.01814643419830074), (610, 0.007284159868203729), (611, 0.03040206525408716), (612, 0.01116442972658914), (613, 0.029679608029003386), (614, 0.011303577981173724), (615, 0.008346623591599267), (616, 0.0), (617, 0.01568779614702595), (618, 0.006937519732663895), (619, 0.011163764432308227), (620, 0.0), (621, 0.01830143224031337), (622, 0.012106834951649941), (623, 0.036567676714060984), (624, 0.04943354551172843), (625, 0.016150046312350133), (626, 0.0), (627, 0.00711968916002649), (628, 0.12526400187821923), (629, 0.02382680269318111), (630, 0.038656620724451876), (631, 0.014848184501040088), (632, 0.010510662873187495), (633, 0.012941296550755233), (634, 0.02391904764814821), (635, 0.0), (636, 0.0), (637, 0.018386892153083024), (638, 0.009804793808194564), (639, 0.0), (640, 0.007345599385688626), (641, 0.042925002846085705), (642, 0.01765704937020657), (643, 0.04386234804515926), (644, 0.008110504591228277), (645, 0.008064663405363678), (646, 0.009846213224071665), (647, 0.0), (648, 0.0), (649, 0.017832549039775596), (650, 0.009356004793900797), (651, 0.0), (652, 0.01147996628062627), (653, 0.025403185493382892), (654, 0.021411378588311384), (655, 0.009288210157152725), (656, 0.0), (657, 0.1133331749174081), (658, 0.14324714436471053), (659, 0.0072684947788333315), (660, 0.009353952119078513), (661, 0.0), (662, 0.015423218972907084), (663, 0.0), (664, 0.02517794382076093), (665, 0.007337390565458662), (666, 0.015986614324355018), (667, 0.012563092488914842), (668, 0.01616223917017392), (669, 0.05210210871558953), (670, 0.0), (671, 0.01854393429739267), (672, 0.010731988633966743), (673, 0.012763912543569268), (674, 0.026486007509065445), (675, 0.017809055645194687), (676, 0.007560796946155636), (677, 0.006678391304540575), (678, 0.00780259423275021), (679, 0.015601597048654334), (680, 0.020898187271717182), (681, 0.0), (682, 0.017712260811514193), (683, 0.007792930962751241), (684, 0.009727541444284827), (685, 0.008324987666787978), (686, 0.03244654536422758), (687, 0.01879877928986955), (688, 0.0177337382864558), (689, 0.01245411416801545), (690, 0.02807849826170837), (691, 0.018007859573835053), (692, 0.008158924366036654), (693, 0.017548641794642682), (694, 0.02032357722759668), (695, 0.020492631403578227), (696, 0.01670654436703807), (697, 0.0), (698, 0.0355394681461861), (699, 0.0), (700, 0.01839966611352934), (701, 0.009719432716343387), (702, 0.025538852021481095), (703, 0.0), (704, 0.0), (705, 0.017110750567428737), (706, 0.0), (707, 0.0), (708, 0.015093609377496455), (709, 0.03604314760175141), (710, 0.0), (711, 0.006899348501659906), (712, 0.017113163558971054), (713, 0.0), (714, 0.0), (715, 0.09634487865042274), (716, 0.007185495269526874), (717, 0.017779997378031993), (718, 0.007560435323975561), (719, 0.014722204050658574), (720, 0.011462095774462378), (721, 0.0), (722, 0.010188286982593157), (723, 0.014629680719534487), (724, 0.007406567047589665), (725, 0.009637725213302587), (726, 0.0), (727, 0.0), (728, 0.021980062647847187), (729, 0.008563136562289214), (730, 0.009005830606650365), (731, 0.00755754542753862), (732, 0.031005321851847022), (733, 0.030227117327254756), (734, 0.010273197602114474), (735, 0.01594898762850236), (736, 0.006490967518388873), (737, 0.007135000547206535), (738, 0.018943894340911024), (739, 0.01728998226761362), (740, 0.007660361653131329), (741, 0.024207831619324164), (742, 0.0), (743, 0.0), (744, 0.017742536873261782), (745, 0.006998595888153443), (746, 0.00680397714219388), (747, 0.016915036407443917), (748, 0.0), (749, 0.010217276697733445), (750, 0.02303304396999857), (751, 0.030334122324376406), (752, 0.0), (753, 0.03763302094423254), (754, 0.09174696192412311), (755, 0.007525898090953155), (756, 0.0), (757, 0.011217384785728892), (758, 0.04433977019048016), (759, 0.016052132766043475), (760, 0.0), (761, 0.02228749054507884), (762, 0.007788897723436387), (763, 0.018904426413560188), (764, 0.0), (765, 0.0), (766, 0.0), (767, 0.02405998520553628), (768, 0.04429720998267283), (769, 0.06959355465457004), (770, 0.018790337938929813), (771, 0.0), (772, 0.0), (773, 0.024950013664803074), (774, 0.023639995506745858), (775, 0.014340742167032239), (776, 0.01673788344460663), (777, 0.02253232195153039), (778, 0.01793397878932488), (779, 0.0), (780, 0.0), (781, 0.03465488013186453), (782, 0.02562056069959924), (783, 0.03258201856330779), (784, 0.023595399924187382), (785, 0.0), (786, 0.018276357880163144), (787, 0.02065605120514833), (788, 0.022313282262184812), (789, 0.0), (790, 0.02274803667415383), (791, 0.016960706048043034), (792, 0.0), (793, 0.01675602208429728), (794, 0.006134868579977484), (795, 0.016644132847325976), (796, 0.01882553731399703), (797, 0.0), (798, 0.017557000027314598), (799, 0.037992102465370096), (800, 0.02915773025400359), (801, 0.0), (802, 0.01716927178099961), (803, 0.0), (804, 0.02524680766665379), (805, 0.07089595976407118), (806, 0.005237619968017319), (807, 0.12071904184923003), (808, 0.09460139617766421), (809, 0.0), (810, 0.0181025314846437), (811, 0.0), (812, 0.0455062522334595), (813, 0.0078103226975464405), (814, 0.014266807992158405), (815, 0.01703418850710012), (816, 0.0), (817, 0.0), (818, 0.04598190331743801), (819, 0.017103322417880963), (820, 0.0), (821, 0.007255409259557563), (822, 0.0192333270014306), (823, 0.008103927181186287), (824, 0.03443048910382725), (825, 0.0), (826, 0.0), (827, 0.0), (828, 0.02218758420809354), (829, 0.0), (830, 0.007208452820162405), (831, 0.01901071635883879), (832, 0.0), (833, 0.007148725249506141), (834, 0.0075830131929658946), (835, 0.01730546915993613), (836, 0.022950288618485328), (837, 0.0), (838, 0.008285986828275893), (839, 0.004499251879553014), (840, 0.007577436743202902), (841, 0.0), (842, 0.038156181912022136), (843, 0.0), (844, 0.007865896998984679), (845, 0.0), (846, 0.0), (847, 0.009754294361667314), (848, 0.0), (849, 0.011403739809727049), (850, 0.007414219287473599), (851, 0.0), (852, 0.0), (853, 0.0), (854, 0.006724894975601029), (855, 0.0), (856, 0.0073520329293556095), (857, 0.015578786899891287), (858, 0.015090110128185152), (859, 0.02574705796692509), (860, 0.017927322764484145), (861, 0.0), (862, 0.015700989450977757), (863, 0.008732833528770335), (864, 0.0210358289942215), (865, 0.014960242384460231), (866, 0.007425272094740982), (867, 0.015090984910364685), (868, 0.0), (869, 0.017342408140594796), (870, 0.007946688405956946), (871, 0.01659308193279708), (872, 0.027307240900890175), (873, 0.00818996776139477), (874, 0.0), (875, 0.0), (876, 0.0), (877, 0.036675634319963124), (878, 0.0), (879, 0.0), (880, 0.049777056559564395), (881, 0.0), (882, 0.010982729101586194), (883, 0.012447589312383791), (884, 0.01742226772540579), (885, 0.01160261118109111), (886, 0.0), (887, 0.018527309488510845), (888, 0.020227520102857617), (889, 0.0), (890, 0.018428903656533935), (891, 0.015566630993237672), (892, 0.017463670503129722), (893, 0.022645526936503207), (894, 0.024054306946708834), (895, 0.0), (896, 0.014243462573438328), (897, 0.0), (898, 0.01827220706629889), (899, 0.01752067125057858), (900, 0.01805911542642918), (901, 0.0), (902, 0.0), (903, 0.016399136654183234), (904, 0.015118437897738833), (905, 0.0), (906, 0.021269408290833264), (907, 0.0), (908, 0.019331850265183716), (909, 0.013492439322328369), (910, 0.0), (911, 0.024562610709373517), (912, 0.0), (913, 0.0), (914, 0.14463294492824308), (915, 0.0), (916, 0.04663937794016354), (917, 0.02484137542843033), (918, 0.004789172637675926), (919, 0.055272834042664504), (920, 0.007877786630712208), (921, 0.017114034249127812), (922, 0.015605942112669635), (923, 0.0), (924, 0.0), (925, 0.010344361138079336), (926, 0.0), (927, 0.0), (928, 0.01754418180726924), (929, 0.006472726420681973), (930, 0.03814918621527437), (931, 0.08059586063554273), (932, 0.02413739768127327), (933, 0.03972369917159191), (934, 0.0), (935, 0.0), (936, 0.0), (937, 0.021663934156778385), (938, 0.0), (939, 0.019969354080633682), (940, 0.012533890338234252), (941, 0.033022829425723), (942, 0.01873107141470127), (943, 0.01975607919478799), (944, 0.0), (945, 0.008087939805138267), (946, 0.016860126023652576), (947, 0.01630501767437407), (948, 0.0), (949, 0.018196761811923572), (950, 0.006616807476989571), (951, 0.007619952161254813), (952, 0.008246532313176689), (953, 0.0), (954, 0.012216643116226014), (955, 0.007143849984215788), (956, 0.007433301443685149), (957, 0.0), (958, 0.0), (959, 0.006466656967711025), (960, 0.04508215719120486), (961, 0.0), (962, 0.0), (963, 0.027254818719363662), (964, 0.0), (965, 0.0), (966, 0.019360147376892158), (967, 0.009234663733757562), (968, 0.0), (969, 0.006917565140557447), (970, 0.010835368064404577), (971, 0.034004628987291424), (972, 0.00830619793708723), (973, 0.007973803499164003), (974, 0.0), (975, 0.016098671615994212), (976, 0.024325743255852596), (977, 0.10047253504020823), (978, 0.0), (979, 0.016642709205811755), (980, 0.0), (981, 0.006973807468740532), (982, 0.007619958481006344), (983, 0.015217017585078995), (984, 0.08386693654845466), (985, 0.008575977830997271), (986, 0.029017726873818997), (987, 0.0), (988, 0.007064706652913546), (989, 0.03568606399964597), (990, 0.0), (991, 0.018656571802791882), (992, 0.007334517977099759), (993, 0.008088802971732725), (994, 0.016101524130598215), (995, 0.0), (996, 0.0), (997, 0.017665331219418552), (998, 0.0), (999, 0.0), (1000, 0.02735673589523198), (1001, 0.006302115022513505), (1002, 0.03839363098202022), (1003, 0.006639229934227704), (1004, 0.011484457646702594), (1005, 0.0), (1006, 0.020057824417449334), (1007, 0.03732095133752232), (1008, 0.01653833838867173), (1009, 0.0), (1010, 0.01928964827057239), (1011, 0.0), (1012, 0.009006907448190576), (1013, 0.0), (1014, 0.0), (1015, 0.016272314387105417), (1016, 0.014219343697241009), (1017, 0.017688518747026555), (1018, 0.005542297974569732), (1019, 0.03482782501440874), (1020, 0.027727455490297703), (1021, 0.0), (1022, 0.0), (1023, 0.0), (1024, 0.006039296349819765), (1025, 0.0), (1026, 0.0), (1027, 0.007820332857454575), (1028, 0.0), (1029, 0.04069148006477098), (1030, 0.0), (1031, 0.0), (1032, 0.0), (1033, 0.0), (1034, 0.01834085953746245), (1035, 0.0166895954767233), (1036, 0.0), (1037, 0.0), (1038, 0.01632493020508887), (1039, 0.0), (1040, 0.0), (1041, 0.007056406643734168), (1042, 0.0), (1043, 0.007473646057443841), (1044, 0.0072055914279838314), (1045, 0.0), (1046, 0.0), (1047, 0.0), (1048, 0.015586706144555837), (1049, 0.02102821399475977), (1050, 0.0), (1051, 0.032288234262364574), (1052, 0.006847146604919061), (1053, 0.0), (1054, 0.011216059432131444), (1055, 0.02556184431971985), (1056, 0.02210521110795324), (1057, 0.0), (1058, 0.006477616849875708), (1059, 0.0), (1060, 0.0), (1061, 0.019262311816554214), (1062, 0.009544206084329415), (1063, 0.0), (1064, 0.018174433801396814), (1065, 0.03299052859317073), (1066, 0.02874062912791082), (1067, 0.0), (1068, 0.0), (1069, 0.0), (1070, 0.021834514374901245), (1071, 0.0), (1072, 0.0), (1073, 0.008758839211338108), (1074, 0.0), (1075, 0.05007719565765618), (1076, 0.026356738248871463), (1077, 0.00583922660936051), (1078, 0.038938059696775225), (1079, 0.006885661433387285), (1080, 0.017951379814122845), (1081, 0.0), (1082, 0.006417941572115691), (1083, 0.16582028649040384), (1084, 0.07324612734905721), (1085, 0.0), (1086, 0.016323799296318775), (1087, 0.012909666300219799), (1088, 0.0), (1089, 0.025621458257822673), (1090, 0.010846929877246843), (1091, 0.0), (1092, 0.0), (1093, 0.007899187091213285), (1094, 0.0), (1095, 0.014317546937195436), (1096, 0.01770710489256018), (1097, 0.006544950140151759), (1098, 0.015517899628875266), (1099, 0.009406675431858894), (1100, 0.024103269297567113), (1101, 0.021052547004225187), (1102, 0.010536269301717367), (1103, 0.007018466905495202), (1104, 0.017378745097643793), (1105, 0.0), (1106, 0.04124023182625818), (1107, 0.06864840529194993), (1108, 0.0), (1109, 0.006308739367307244), (1110, 0.022860567486066168), (1111, 0.0435968454911317), (1112, 0.0), (1113, 0.0), (1114, 0.025448285978204532), (1115, 0.01796883569695439), (1116, 0.0), (1117, 0.0), (1118, 0.02537561516990414), (1119, 0.02119980239530324), (1120, 0.014637339190451074), (1121, 0.040113923801957885), (1122, 0.01642568147527525), (1123, 0.0), (1124, 0.03561909633503312), (1125, 0.0), (1126, 0.014868188788032923), (1127, 0.0), (1128, 0.0), (1129, 0.0), (1130, 0.018434865340122817), (1131, 0.020907448795533377), (1132, 0.018601727630293243), (1133, 0.007920491831192792), (1134, 0.0), (1135, 0.04879157795347755), (1136, 0.006597160846116784), (1137, 0.023250248327655886), (1138, 0.021418911296301066), (1139, 0.023755141970259134), (1140, 0.00608723878704863), (1141, 0.00540912109442515), (1142, 0.007504322337108611), (1143, 0.029927097568184097), (1144, 0.00881351070509366), (1145, 0.0), (1146, 0.023619387269930098), (1147, 0.0), (1148, 0.0), (1149, 0.019520669692721208), (1150, 0.01846490184414913), (1151, 0.0), (1152, 0.02726833963812354), (1153, 0.013892930257022935), (1154, 0.06896708045071608), (1155, 0.0471377849398864), (1156, 0.0), (1157, 0.0), (1158, 0.02443296283311023), (1159, 0.0), (1160, 0.08654666935849252), (1161, 0.01583116980681507), (1162, 0.017724206428295836), (1163, 0.0), (1164, 0.0), (1165, 0.015042398059466663), (1166, 0.0), (1167, 0.0), (1168, 0.018347071011264843), (1169, 0.0), (1170, 0.013278533308235793), (1171, 0.0), (1172, 0.06413923475608826), (1173, 0.01802868218098957), (1174, 0.02653963537061036), (1175, 0.007804845017664082), (1176, 0.0), (1177, 0.05148575865727856), (1178, 0.024295731334898475), (1179, 0.038087818816114595), (1180, 0.0), (1181, 0.0), (1182, 0.0), (1183, 0.02646354709654789), (1184, 0.01739331309866387), (1185, 0.03295455371126504), (1186, 0.017308295170002957), (1187, 0.0), (1188, 0.007682680319671973), (1189, 0.009795997823515128), (1190, 0.0180941493474107), (1191, 0.007537874931134571), (1192, 0.007395859057276736), (1193, 0.021418386738906822), (1194, 0.017984939589680088), (1195, 0.018477744015914586), (1196, 0.005456429178741953), (1197, 0.0), (1198, 0.015624548283235291), (1199, 0.045674895809824013), (1200, 0.019689021756108396), (1201, 0.007626974650055321), (1202, 0.0), (1203, 0.0), (1204, 0.004522357666010726), (1205, 0.0), (1206, 0.008623519855601927), (1207, 0.049432895941141086), (1208, 0.01711287004226119), (1209, 0.0), (1210, 0.01021298270692638), (1211, 0.0), (1212, 0.0), (1213, 0.020819779241293763), (1214, 0.0), (1215, 0.0), (1216, 0.0), (1217, 0.025114219387952864), (1218, 0.0), (1219, 0.01791791579257964), (1220, 0.016382266859865012), (1221, 0.0), (1222, 0.0), (1223, 0.0), (1224, 0.00943091989639392), (1225, 0.03276708635311204), (1226, 0.0), (1227, 0.0), (1228, 0.01853462832395556), (1229, 0.0), (1230, 0.007923773900623435), (1231, 0.009258498188955085), (1232, 0.0181662510171316), (1233, 0.0), (1234, 0.00817498468976354), (1235, 0.016585722060427743), (1236, 0.0), (1237, 0.0), (1238, 0.0), (1239, 0.00806102878821043), (1240, 0.0), (1241, 0.0), (1242, 0.017417419796143252), (1243, 0.0), (1244, 0.01487755428646834), (1245, 0.03884582442933713), (1246, 0.0), (1247, 0.013989995596510974), (1248, 0.0), (1249, 0.008198222983415295), (1250, 0.0), (1251, 0.016608208029158734), (1252, 0.016086659153134994), (1253, 0.009040832902937498), (1254, 0.008595275000916692), (1255, 0.0), (1256, 0.008821497827685203), (1257, 0.016429850360847806), (1258, 0.0), (1259, 0.013717467830735628), (1260, 0.009270694242808023), (1261, 0.0), (1262, 0.0), (1263, 0.0163282693109488), (1264, 0.025366577949623874), (1265, 0.0), (1266, 0.024072230832102172), (1267, 0.00909177329821188), (1268, 0.0), (1269, 0.006674935134752532), (1270, 0.006828540457732794), (1271, 0.022312812546538), (1272, 0.007259874311143925), (1273, 0.007325156922259299), (1274, 0.0), (1275, 0.03443404715697108), (1276, 0.015837262180281867), (1277, 0.017495561229506826), (1278, 0.0080510572477426), (1279, 0.007830658380435014), (1280, 0.01586987205592714), (1281, 0.007091596438707315), (1282, 0.03613385778044493), (1283, 0.01774090699451677), (1284, 0.008274894065489964), (1285, 0.007098266694067318), (1286, 0.01401426501706483), (1287, 0.0), (1288, 0.008844684243568502), (1289, 0.00837721941611951), (1290, 0.016216518647808865), (1291, 0.035816383597724745), (1292, 0.015221755764896575), (1293, 0.00912633483290599), (1294, 0.0076199936502830004), (1295, 0.0), (1296, 0.006207092556552635), (1297, 0.0), (1298, 0.022721493626558627), (1299, 0.034832721673774686), (1300, 0.01814378657054881), (1301, 0.0), (1302, 0.0521485912637929), (1303, 0.008021868470481768), (1304, 0.0056201755989495), (1305, 0.010456465183098276), (1306, 0.0), (1307, 0.0), (1308, 0.018334897911487524), (1309, 0.0), (1310, 0.08029860442034596), (1311, 0.010072621322204645), (1312, 0.0), (1313, 0.0), (1314, 0.0), (1315, 0.0), (1316, 0.012178209520246782), (1317, 0.009095455864835336), (1318, 0.0172968860765215), (1319, 0.12056043797185505), (1320, 0.007755879502982478), (1321, 0.024251241064365863), (1322, 0.01740245608876182), (1323, 0.021827130214550794), (1324, 0.006026025805355705), (1325, 0.0), (1326, 0.011406357598349813), (1327, 0.01062864841560213), (1328, 0.010443318414477015), (1329, 0.010445198382133489), (1330, 0.0), (1331, 0.0), (1332, 0.008058656403945276), (1333, 0.03506372750001872), (1334, 0.0442601009586285), (1335, 0.044473947168160846), (1336, 0.01036935642665387), (1337, 0.017670544703801458), (1338, 0.0), (1339, 0.00836130472976191), (1340, 0.010882236086353896), (1341, 0.007589122119235663), (1342, 0.008677239196020214), (1343, 0.028838231268958466), (1344, 0.015891678225425775), (1345, 0.016850047971683813), (1346, 0.0), (1347, 0.1124623802342314), (1348, 0.0), (1349, 0.014812531012835561), (1350, 0.0), (1351, 0.010252938315946541), (1352, 0.0), (1353, 0.0), (1354, 0.01716131837768812), (1355, 0.0), (1356, 0.010726835639535266), (1357, 0.008147633090773211), (1358, 0.0), (1359, 0.007403701331391317), (1360, 0.011474001952789768), (1361, 0.05758840091515303), (1362, 0.01762761447561173), (1363, 0.05531002396724351), (1364, 0.010880847403836116), (1365, 0.017642049445082755), (1366, 0.015309935738794855), (1367, 0.015810679411359035), (1368, 0.019859067974727092), (1369, 0.0), (1370, 0.014339135973534872), (1371, 0.0), (1372, 0.0), (1373, 0.0), (1374, 0.014796927696764951), (1375, 0.010376584629290506), (1376, 0.0), (1377, 0.008638108396787995), (1378, 0.0), (1379, 0.0), (1380, 0.007177491703644548), (1381, 0.010622470835748554), (1382, 0.04499812911111523), (1383, 0.0), (1384, 0.016132363985431178), (1385, 0.013952088624405733), (1386, 0.020074821799562645), (1387, 0.0), (1388, 0.03423625208723662), (1389, 0.01179649435731778), (1390, 0.007548795953283022), (1391, 0.010135210699629225), (1392, 0.0), (1393, 0.012538555611528727), (1394, 0.017678731729374886), (1395, 0.10771747480251409), (1396, 0.0), (1397, 0.0), (1398, 0.026048308009716952), (1399, 0.027636703915795067), (1400, 0.015117065661021788), (1401, 0.010747860437188596), (1402, 0.0), (1403, 0.0), (1404, 0.006383126144625334), (1405, 0.015878742239363305), (1406, 0.0), (1407, 0.0), (1408, 0.0), (1409, 0.010955844986239503), (1410, 0.0), (1411, 0.01923183219180926), (1412, 0.006598911221528795), (1413, 0.015248425187474525), (1414, 0.0), (1415, 0.0), (1416, 0.0), (1417, 0.0071128092167123055), (1418, 0.0), (1419, 0.007711107110824897), (1420, 0.010438434991501), (1421, 0.0), (1422, 0.0), (1423, 0.013442058423312933), (1424, 0.01628651139074322), (1425, 0.02586812932538149), (1426, 0.0), (1427, 0.0), (1428, 0.006494198731471813), (1429, 0.018870666035232114), (1430, 0.0), (1431, 0.02464804081284104), (1432, 0.007797576216196155), (1433, 0.0), (1434, 0.008073658175081749), (1435, 0.03520023094781892), (1436, 0.06619780832954118), (1437, 0.006975201497747056), (1438, 0.007541814367388604), (1439, 0.006635414677014682), (1440, 0.040434245053169), (1441, 0.012990230618306793), (1442, 0.0), (1443, 0.007451469155641631), (1444, 0.03985461315734054), (1445, 0.02559788078235633), (1446, 0.01835053038145625), (1447, 0.025718170575067645), (1448, 0.007855671218142336), (1449, 0.0), (1450, 0.07143058632436235), (1451, 0.03380029260922551), (1452, 0.03362633453713336), (1453, 0.00674126850259175), (1454, 0.0), (1455, 0.0), (1456, 0.005229348389897949), (1457, 0.007308961210118659), (1458, 0.0), (1459, 0.006671795936760549), (1460, 0.017198776519740024), (1461, 0.0), (1462, 0.0), (1463, 0.007036867036382188), (1464, 0.0), (1465, 0.017013832359633434), (1466, 0.015712006351231517), (1467, 0.026163442636451477), (1468, 0.011101132038512013), (1469, 0.044723754885281186), (1470, 0.00783943960924099), (1471, 0.0), (1472, 0.0), (1473, 0.0), (1474, 0.0), (1475, 0.0), (1476, 0.0), (1477, 0.0), (1478, 0.020764645142191156), (1479, 0.019818015036039544), (1480, 0.01744020965097654), (1481, 0.010230079638403347), (1482, 0.025437473253701794), (1483, 0.0), (1484, 0.005809710247330629), (1485, 0.05988753691566681), (1486, 0.01799904241648618), (1487, 0.0), (1488, 0.04326279138145308), (1489, 0.0), (1490, 0.019860614002943523), (1491, 0.007685285073937603), (1492, 0.0), (1493, 0.05794203188922635), (1494, 0.014853988191856552), (1495, 0.0), (1496, 0.015557063075521654), (1497, 0.0), (1498, 0.012906670479976963), (1499, 0.036519794615825336), (1500, 0.03726312787374446), (1501, 0.0), (1502, 0.0), (1503, 0.027213157058738974), (1504, 0.0), (1505, 0.023036529207073737), (1506, 0.049906861015584635), (1507, 0.0077641548223358866), (1508, 0.004261074142095569), (1509, 0.0), (1510, 0.008287981622500449), (1511, 0.0), (1512, 0.0), (1513, 0.007103814866484919), (1514, 0.007161421446022804), (1515, 0.008282113974169723), (1516, 0.0), (1517, 0.01960400662271094), (1518, 0.007117613925161339), (1519, 0.0), (1520, 0.017355368684800705), (1521, 0.0), (1522, 0.0), (1523, 0.010509084559824293), (1524, 0.018794496630258888), (1525, 0.018883632610030673), (1526, 0.009631923138398274), (1527, 0.0), (1528, 0.009021028400846735), (1529, 0.0), (1530, 0.020036792579211853), (1531, 0.019795505882559045), (1532, 0.03638494987008405), (1533, 0.0), (1534, 0.0), (1535, 0.0), (1536, 0.0), (1537, 0.0), (1538, 0.007546276629109218), (1539, 0.0), (1540, 0.0), (1541, 0.011068120009712835), (1542, 0.008320142466905146), (1543, 0.0), (1544, 0.017799522655176727), (1545, 0.009466874563889224), (1546, 0.0343091701377471), (1547, 0.0), (1548, 0.0), (1549, 0.0), (1550, 0.0), (1551, 0.0), (1552, 0.0), (1553, 0.01710685218283567), (1554, 0.017464136271082505), (1555, 0.0), (1556, 0.0), (1557, 0.007372167569740484), (1558, 0.0), (1559, 0.030870510130466166), (1560, 0.032559612286194806), (1561, 0.008594931353049264), (1562, 0.0), (1563, 0.0), (1564, 0.0), (1565, 0.01800579073779498), (1566, 0.0), (1567, 0.0), (1568, 0.06391864157202438), (1569, 0.0), (1570, 0.0), (1571, 0.0), (1572, 0.017743700174156888), (1573, 0.15619619330255316), (1574, 0.01113859217953719), (1575, 0.0), (1576, 0.017379913870724874), (1577, 0.0068234909157939205), (1578, 0.0), (1579, 0.02029862158209634), (1580, 0.0), (1581, 0.0), (1582, 0.02113902134161434), (1583, 0.018380457431063126), (1584, 0.0), (1585, 0.0), (1586, 0.033177178954677346), (1587, 0.014629677379532122), (1588, 0.0), (1589, 0.0), (1590, 0.01330954571149719), (1591, 0.015850869460798445), (1592, 0.0070372835874601206), (1593, 0.016625347812721205), (1594, 0.02833481293812021), (1595, 0.016215591084651336), (1596, 0.00736598455986194), (1597, 0.008383788805449063), (1598, 0.009225636270862371), (1599, 0.010667273755386439), (1600, 0.018182159944575747), (1601, 0.010532074526249017), (1602, 0.07971091729995601), (1603, 0.01700570470180456), (1604, 0.019245259258311696), (1605, 0.01626452088310902), (1606, 0.01640142473051082), (1607, 0.0), (1608, 0.023528823588263144), (1609, 0.0), (1610, 0.01909237908534551), (1611, 0.01720933194567223), (1612, 0.017645532730478777), (1613, 0.016440313369813553), (1614, 0.0), (1615, 0.0925473122880002), (1616, 0.007424675411075338), (1617, 0.008186236818891777), (1618, 0.017850992512324273), (1619, 0.015120677896415679), (1620, 0.03948096521180564), (1621, 0.0), (1622, 0.0), (1623, 0.01643631582964262), (1624, 0.0), (1625, 0.008194050226438264), (1626, 0.006559801408311179), (1627, 0.0), (1628, 0.024238251514706925), (1629, 0.0), (1630, 0.015522305135559696), (1631, 0.0), (1632, 0.032923398642544385), (1633, 0.022748274000006147), (1634, 0.0), (1635, 0.007205924025667897), (1636, 0.008802762978199168), (1637, 0.005212122515946853), (1638, 0.01632688977735086), (1639, 0.0), (1640, 0.00983461280469956), (1641, 0.0), (1642, 0.016249933677858815), (1643, 0.0), (1644, 0.0167712104477971), (1645, 0.007552689488186331), (1646, 0.03069060571148094), (1647, 0.021150833854732175), (1648, 0.016610009418393343), (1649, 0.0), (1650, 0.013819049081497933), (1651, 0.021118881695974024), (1652, 0.023135298860206537), (1653, 0.02302009909261426), (1654, 0.0), (1655, 0.0), (1656, 0.016262228864250373), (1657, 0.016748919876562), (1658, 0.011701426671018002), (1659, 0.02792903055448415), (1660, 0.016992763480865834), (1661, 0.024113851019641648), (1662, 0.0), (1663, 0.011867593686598002), (1664, 0.007117723904077192), (1665, 0.0), (1666, 0.0), (1667, 0.008665849779181585), (1668, 0.0), (1669, 0.01106437361875431), (1670, 0.0052060548251715655), (1671, 0.04643938915652355), (1672, 0.021999786328364593), (1673, 0.0), (1674, 0.0), (1675, 0.048974227635826), (1676, 0.010394132058295496), (1677, 0.0), (1678, 0.0), (1679, 0.0), (1680, 0.013248779718527682), (1681, 0.0), (1682, 0.017744352003378244), (1683, 0.0), (1684, 0.016956180581666005), (1685, 0.0), (1686, 0.007650880882227643), (1687, 0.0), (1688, 0.0), (1689, 0.0), (1690, 0.018248203116133614), (1691, 0.0), (1692, 0.0), (1693, 0.0), (1694, 0.0), (1695, 0.010191361108603789), (1696, 0.01754633120132348), (1697, 0.02052484972004647), (1698, 0.0), (1699, 0.007808225778722781), (1700, 0.014074106474096675), (1701, 0.057396312773537156), (1702, 0.0073036841367547815), (1703, 0.01764922902749242), (1704, 0.020692533802931953), (1705, 0.011253619013308652), (1706, 0.0), (1707, 0.017949651152671196), (1708, 0.0), (1709, 0.0), (1710, 0.0), (1711, 0.018294458499243594), (1712, 0.0), (1713, 0.059053996190992275), (1714, 0.0), (1715, 0.006150023032341547), (1716, 0.0), (1717, 0.0), (1718, 0.0), (1719, 0.010953226418116486), (1720, 0.0347619880713283), (1721, 0.015124053706378413), (1722, 0.0), (1723, 0.0069407188726642085), (1724, 0.011847609639594275), (1725, 0.02732555747050762), (1726, 0.0), (1727, 0.00867771350162006), (1728, 0.014306927882598304), (1729, 0.0), (1730, 0.0), (1731, 0.0), (1732, 0.0), (1733, 0.007288178668084527), (1734, 0.0), (1735, 0.022243153410249416), (1736, 0.017150797706986624), (1737, 0.025686316318370865), (1738, 0.0), (1739, 0.0), (1740, 0.039866154762289344), (1741, 0.006880934744095657), (1742, 0.07291058733908948), (1743, 0.03403366378927672), (1744, 0.032041327898926525), (1745, 0.017482699497108855), (1746, 0.03987050568161832), (1747, 0.01156132563557635), (1748, 0.010117353223943217), (1749, 0.016541794106430082), (1750, 0.02186188830440152), (1751, 0.013632179576698935), (1752, 0.0), (1753, 0.021845197892834928), (1754, 0.0), (1755, 0.016479428547423524), (1756, 0.005110202760802652), (1757, 0.00770417184999022), (1758, 0.01664076052428748), (1759, 0.0), (1760, 0.016468875331483813), (1761, 0.0), (1762, 0.0), (1763, 0.01726055166280131), (1764, 0.00894406568514785), (1765, 0.006703661925776917), (1766, 0.0149207554023622), (1767, 0.0), (1768, 0.0), (1769, 0.06141666942696632), (1770, 0.0), (1771, 0.00660333312555394), (1772, 0.0), (1773, 0.01314663074212264), (1774, 0.012605119632833455), (1775, 0.0), (1776, 0.01774964451036219), (1777, 0.09257754272999469), (1778, 0.0), (1779, 0.027501624226217127), (1780, 0.0), (1781, 0.0), (1782, 0.0), (1783, 0.03852630910345092), (1784, 0.0), (1785, 0.0), (1786, 0.0), (1787, 0.01430345183584054), (1788, 0.0), (1789, 0.0), (1790, 0.0076262438483565165), (1791, 0.03785524314749979), (1792, 0.11237348172961348), (1793, 0.016563738732928684), (1794, 0.0), (1795, 0.006399871917975787), (1796, 0.0), (1797, 0.01631578110134561), (1798, 0.0), (1799, 0.0), (1800, 0.015048346413170682), (1801, 0.0), (1802, 0.006000173889034313), (1803, 0.0), (1804, 0.0), (1805, 0.0), (1806, 0.03510236847079761), (1807, 0.019471925798665385), (1808, 0.03609452057997209), (1809, 0.0), (1810, 0.05329807060973262), (1811, 0.0), (1812, 0.0), (1813, 0.014644615204215745), (1814, 0.02032569197631104), (1815, 0.00750503144484826), (1816, 0.051133972263895454), (1817, 0.005934877896383419), (1818, 0.015318720727740258), (1819, 0.011138143469523454), (1820, 0.0), (1821, 0.027442800147986227), (1822, 0.0), (1823, 0.0), (1824, 0.0), (1825, 0.006795268369944572), (1826, 0.025671340359238893), (1827, 0.00602125812642236), (1828, 0.0), (1829, 0.0), (1830, 0.007621626479003097), (1831, 0.0), (1832, 0.0), (1833, 0.01371247190721996), (1834, 0.0), (1835, 0.017131334166281195), (1836, 0.008495188244562897), (1837, 0.0063635226311761885), (1838, 0.0), (1839, 0.04895648650621778), (1840, 0.012060120959442934), (1841, 0.008789626545825695), (1842, 0.0), (1843, 0.01473583275151417), (1844, 0.026309172516974705), (1845, 0.0), (1846, 0.01840005553318245), (1847, 0.034311403434196086), (1848, 0.006982726121762318), (1849, 0.0), (1850, 0.04373656816690019), (1851, 0.007566036192052226), (1852, 0.0), (1853, 0.019246981861816004), (1854, 0.02863748444415608), (1855, 0.07974146493980636), (1856, 0.0), (1857, 0.0), (1858, 0.017103637781151898), (1859, 0.0), (1860, 0.007204961490959312), (1861, 0.014739571574062795), (1862, 0.0), (1863, 0.008131263163081437), (1864, 0.010752299119381678), (1865, 0.01609154460758734), (1866, 0.0), (1867, 0.015296402479949633), (1868, 0.00778448509355842), (1869, 0.0), (1870, 0.0), (1871, 0.0), (1872, 0.0074525186406344665), (1873, 0.0), (1874, 0.010482561666152808), (1875, 0.0), (1876, 0.0), (1877, 0.005588854059768732), (1878, 0.0), (1879, 0.0), (1880, 0.007513860323081422), (1881, 0.0), (1882, 0.016611909028360926), (1883, 0.0), (1884, 0.019389195283672514), (1885, 0.0), (1886, 0.038579267814883356), (1887, 0.0), (1888, 0.013265514780000253), (1889, 0.0), (1890, 0.0), (1891, 0.0), (1892, 0.02237399746518953), (1893, 0.01748930232306159), (1894, 0.0682734183808452), (1895, 0.021286016974694264), (1896, 0.02863178480166595), (1897, 0.030923602076258293), (1898, 0.03194041510831518), (1899, 0.018357326911607054), (1900, 0.0), (1901, 0.0), (1902, 0.041899129021605), (1903, 0.0), (1904, 0.0), (1905, 0.0), (1906, 0.014753333342740305), (1907, 0.024363201132370404), (1908, 0.00689763083415863), (1909, 0.010856904889856318), (1910, 0.007730387759109288), (1911, 0.01614709796762958), (1912, 0.0), (1913, 0.0), (1914, 0.0), (1915, 0.032221801041789434), (1916, 0.0), (1917, 0.016339863798503038), (1918, 0.032110311092049836), (1919, 0.0), (1920, 0.027460306307684673), (1921, 0.0), (1922, 0.0), (1923, 0.015723034336617783), (1924, 0.0), (1925, 0.0), (1926, 0.01548212376353641), (1927, 0.0), (1928, 0.0323199114708293), (1929, 0.0), (1930, 0.007142054636007239), (1931, 0.018087722764075106), (1932, 0.008442673248334608), (1933, 0.008253022002561526), (1934, 0.0), (1935, 0.0), (1936, 0.006068551203896631), (1937, 0.0), (1938, 0.017088229561288203), (1939, 0.087995742768529), (1940, 0.015067284278406737), (1941, 0.0), (1942, 0.0), (1943, 0.0), (1944, 0.0), (1945, 0.004677798230525659), (1946, 0.0), (1947, 0.0), (1948, 0.03804074110108389), (1949, 0.0), (1950, 0.0), (1951, 0.0), (1952, 0.0), (1953, 0.044804278803831143), (1954, 0.008394562806118692), (1955, 0.00690191509615924), (1956, 0.00798358921077088), (1957, 0.028821007148158207), (1958, 0.017421962141742138), (1959, 0.0432607193625515), (1960, 0.02740226922307668), (1961, 0.03096577411640868), (1962, 0.021103718832261635), (1963, 0.0), (1964, 0.0), (1965, 0.0), (1966, 0.016610475718033722), (1967, 0.0), (1968, 0.0), (1969, 0.0), (1970, 0.015989077974597317), (1971, 0.0), (1972, 0.016080607007455283), (1973, 0.006842326372300103), (1974, 0.015420206116895437), (1975, 0.0), (1976, 0.0), (1977, 0.0), (1978, 0.017483757915197816), (1979, 0.0), (1980, 0.014736954313955917), (1981, 0.01552936349044128), (1982, 0.0), (1983, 0.06492253888324845), (1984, 0.02229194998342359), (1985, 0.018512862809478746), (1986, 0.10779949791974258), (1987, 0.0), (1988, 0.017273486498829215), (1989, 0.0), (1990, 0.019620556287988363), (1991, 0.008182353932999122), (1992, 0.0), (1993, 0.013907540164331508), (1994, 0.03343146940288171), (1995, 0.10983243255528102), (1996, 0.0), (1997, 0.01723808331161857), (1998, 0.06819990725632165), (1999, 0.0), (2000, 0.015146869772084764), (2001, 0.00952948406913703), (2002, 0.02690869455853535), (2003, 0.0), (2004, 0.0), (2005, 0.0), (2006, 0.019578852361700073), (2007, 0.04323825863908411), (2008, 0.0409497632590296), (2009, 0.009680465434387567), (2010, 0.0), (2011, 0.037746918102353616), (2012, 0.014727824434988166), (2013, 0.020244313949644408), (2014, 0.013415090815998242), (2015, 0.014565539958609859), (2016, 0.012842020013048181), (2017, 0.0), (2018, 0.020362857333342536), (2019, 0.0), (2020, 0.0), (2021, 0.07686389274092903), (2022, 0.0247750660040007), (2023, 0.006467764102323556), (2024, 0.0), (2025, 0.0), (2026, 0.005225718209116876), (2027, 0.03558800758233189), (2028, 0.0), (2029, 0.021613436105272374), (2030, 0.009741201604737647), (2031, 0.01115933773337965), (2032, 0.0), (2033, 0.0), (2034, 0.0), (2035, 0.0), (2036, 0.0), (2037, 0.0), (2038, 0.0), (2039, 0.0), (2040, 0.0), (2041, 0.016576451622740268), (2042, 0.0), (2043, 0.06020035633528519), (2044, 0.0), (2045, 0.0), (2046, 0.007729368784655552), (2047, 0.007237481267083606), (2048, 0.0), (2049, 0.0), (2050, 0.02238057057492754), (2051, 0.019048786481324034), (2052, 0.01721343856067617), (2053, 0.0), (2054, 0.022183763651624423), (2055, 0.0086610772727805), (2056, 0.0), (2057, 0.006314786632559469), (2058, 0.016460433767681127), (2059, 0.016467286969967587), (2060, 0.0), (2061, 0.011352371500633842), (2062, 0.014536443919285096), (2063, 0.0), (2064, 0.0), (2065, 0.0), (2066, 0.006459203716422077), (2067, 0.0), (2068, 0.013480564852638948), (2069, 0.006106891013025107), (2070, 0.0), (2071, 0.011391489274347102), (2072, 0.01721399223352877), (2073, 0.01637217712947872), (2074, 0.007282190124282533), (2075, 0.0245444614019075), (2076, 0.0), (2077, 0.0), (2078, 0.0), (2079, 0.0), (2080, 0.012025930665182065), (2081, 0.0), (2082, 0.05817723088184566), (2083, 0.0), (2084, 0.007911596585208229), (2085, 0.038545270639346874), (2086, 0.035122775604298564), (2087, 0.0), (2088, 0.0123650500656762), (2089, 0.031926758532573755), (2090, 0.0), (2091, 0.0), (2092, 0.0), (2093, 0.047732973488770425), (2094, 0.0), (2095, 0.015462588466555474), (2096, 0.08703624446139908), (2097, 0.0), (2098, 0.0), (2099, 0.01711840067966462), (2100, 0.025501565211784753), (2101, 0.0), (2102, 0.016820196953315558), (2103, 0.0), (2104, 0.03293054276445728), (2105, 0.018050884751302856), (2106, 0.0), (2107, 0.01517244674199026), (2108, 0.0), (2109, 0.0119564017546426), (2110, 0.009579147293236098), (2111, 0.006048839809227688), (2112, 0.011133695504301783), (2113, 0.0), (2114, 0.0), (2115, 0.0), (2116, 0.0), (2117, 0.00996562424453278), (2118, 0.0), (2119, 0.01726903503605308), (2120, 0.0), (2121, 0.0), (2122, 0.0075825174906698515), (2123, 0.018148664442192354), (2124, 0.0), (2125, 0.04282369734172492), (2126, 0.0), (2127, 0.0), (2128, 0.0), (2129, 0.007635263379593996), (2130, 0.010653894752430705), (2131, 0.013315573221155204), (2132, 0.01636480781871886), (2133, 0.0), (2134, 0.0396060004485043), (2135, 0.0), (2136, 0.02128748497154894), (2137, 0.0), (2138, 0.0), (2139, 0.0), (2140, 0.006410534634254732), (2141, 0.024658134337380778), (2142, 0.007695897924755322), (2143, 0.0), (2144, 0.009640294260737928), (2145, 0.0), (2146, 0.054777748160647316), (2147, 0.016948836430210813), (2148, 0.0), (2149, 0.00973340891146902), (2150, 0.0), (2151, 0.029472522831263726), (2152, 0.014383724942181136), (2153, 0.0), (2154, 0.007623239947397429), (2155, 0.007374153199364169), (2156, 0.007695884393432316), (2157, 0.022496751157307655), (2158, 0.015940154863289847), (2159, 0.0), (2160, 0.0), (2161, 0.005971795458086949), (2162, 0.011079576496925293), (2163, 0.007497615639402349), (2164, 0.0), (2165, 0.059824553855458776), (2166, 0.0), (2167, 0.017600703118389592), (2168, 0.0), (2169, 0.03581227657055558), (2170, 0.0), (2171, 0.017616953184729972), (2172, 0.0), (2173, 0.0), (2174, 0.0), (2175, 0.028597735342646903), (2176, 0.030764162355651988), (2177, 0.017091087443413797), (2178, 0.01595618895726786), (2179, 0.0), (2180, 0.0), (2181, 0.04949711542521888), (2182, 0.0), (2183, 0.035651003313415246), (2184, 0.005764655496919955), (2185, 0.021647589508457712), (2186, 0.015488921687158297), (2187, 0.01340217667616006), (2188, 0.028960496423228517), (2189, 0.014112003557223847), (2190, 0.0), (2191, 0.0152135331247076), (2192, 0.0), (2193, 0.005204029115323792), (2194, 0.046598525944737665), (2195, 0.007210979047535002), (2196, 0.007195022897868682), (2197, 0.01753893963959352), (2198, 0.041841813381142255), (2199, 0.0), (2200, 0.021763600226205434), (2201, 0.008668781884510276), (2202, 0.01014013662104159), (2203, 0.006822669657326848), (2204, 0.0), (2205, 0.007667376384158828), (2206, 0.0), (2207, 0.024784299077545854), (2208, 0.016002706994858472), (2209, 0.005562280736335954), (2210, 0.0), (2211, 0.0), (2212, 0.019161242928378036), (2213, 0.0), (2214, 0.0), (2215, 0.027487984652459635), (2216, 0.0), (2217, 0.0), (2218, 0.09521925581119592), (2219, 0.01680243057190485), (2220, 0.015877226756706157), (2221, 0.006699496105707131), (2222, 0.007676118592700496), (2223, 0.0), (2224, 0.0), (2225, 0.02879540647674323), (2226, 0.018272338607674687), (2227, 0.0), (2228, 0.016741276722525546), (2229, 0.16238117540630417), (2230, 0.0), (2231, 0.0), (2232, 0.0), (2233, 0.01783611380885867), (2234, 0.01743480643366423), (2235, 0.037822613545690185), (2236, 0.0), (2237, 0.04731269969698888), (2238, 0.010050162772179582), (2239, 0.0), (2240, 0.009814418567263086), (2241, 0.05536972219604908), (2242, 0.00447111999884786), (2243, 0.01751957270044437), (2244, 0.006927159148644337), (2245, 0.04794293641859295), (2246, 0.054364858398565315), (2247, 0.0), (2248, 0.017542993346314487), (2249, 0.04596237776077907), (2250, 0.008464358223280092), (2251, 0.01783813817110618), (2252, 0.0), (2253, 0.00702918950659517), (2254, 0.04274563150155896), (2255, 0.04368782471799095), (2256, 0.0), (2257, 0.0), (2258, 0.0), (2259, 0.0), (2260, 0.0), (2261, 0.0), (2262, 0.0), (2263, 0.0), (2264, 0.017040173845670394), (2265, 0.058999247426767557), (2266, 0.01768868581824822), (2267, 0.0), (2268, 0.008757500213995129), (2269, 0.0), (2270, 0.011229644446025675), (2271, 0.0), (2272, 0.016937255673863602), (2273, 0.0), (2274, 0.026851299552716597), (2275, 0.04817156435441155), (2276, 0.0), (2277, 0.016072616003535222), (2278, 0.0), (2279, 0.01901274551358473), (2280, 0.0), (2281, 0.010049843222020786), (2282, 0.0), (2283, 0.0), (2284, 0.0), (2285, 0.01631563305145206), (2286, 0.0), (2287, 0.0), (2288, 0.023143756714329396), (2289, 0.011547837887312479), (2290, 0.0), (2291, 0.006332624807607971), (2292, 0.0), (2293, 0.007691899606359547), (2294, 0.008553227879364526), (2295, 0.007885615922843927), (2296, 0.05329161373930118), (2297, 0.017500834310364092), (2298, 0.03352614842597356), (2299, 0.009324980722690878), (2300, 0.0), (2301, 0.0812831370117392), (2302, 0.0), (2303, 0.0), (2304, 0.0), (2305, 0.015343933755764675), (2306, 0.014696558295615758), (2307, 0.012651058739824124), (2308, 0.0), (2309, 0.07281652037317679), (2310, 0.0), (2311, 0.00792571883738623), (2312, 0.0), (2313, 0.0), (2314, 0.0), (2315, 0.013315523533342092), (2316, 0.0), (2317, 0.019850035548492698), (2318, 0.0), (2319, 0.0), (2320, 0.02604555150200426), (2321, 0.0), (2322, 0.0), (2323, 0.014860234403013452), (2324, 0.0), (2325, 0.0), (2326, 0.016741015526837447), (2327, 0.007493462068275473), (2328, 0.0), (2329, 0.017496082909007823), (2330, 0.018921500966921183), (2331, 0.0), (2332, 0.0), (2333, 0.0), (2334, 0.0), (2335, 0.0), (2336, 0.04443763591615689), (2337, 0.0), (2338, 0.014189592677232977), (2339, 0.01304504800203661), (2340, 0.02124503385237329), (2341, 0.0), (2342, 0.0), (2343, 0.0073234637547052), (2344, 0.0), (2345, 0.017955445928991356), (2346, 0.0068583059026584205), (2347, 0.0), (2348, 0.01401437938494561), (2349, 0.0070801264643885675), (2350, 0.0), (2351, 0.01553646025944324), (2352, 0.007494148297440739), (2353, 0.0), (2354, 0.018837253363875886), (2355, 0.034293672477530755), (2356, 0.010949867069801245), (2357, 0.006018002183453154), (2358, 0.0), (2359, 0.0), (2360, 0.04253839058563418), (2361, 0.0), (2362, 0.0), (2363, 0.0), (2364, 0.0), (2365, 0.0), (2366, 0.0), (2367, 0.05334754485596567), (2368, 0.0), (2369, 0.0), (2370, 0.0), (2371, 0.016881265290530516), (2372, 0.0076453139836333206), (2373, 0.0), (2374, 0.016263332386659776), (2375, 0.018668274164263456), (2376, 0.0), (2377, 0.0), (2378, 0.015416465257189937), (2379, 0.0), (2380, 0.007985893895218699), (2381, 0.0), (2382, 0.012796687996090692), (2383, 0.016417064919209304), (2384, 0.0), (2385, 0.0), (2386, 0.0065466483239514485), (2387, 0.0), (2388, 0.05980142998760609), (2389, 0.007302605220109336), (2390, 0.026986377764311877), (2391, 0.0), (2392, 0.019249877230219307), (2393, 0.016107951426872855), (2394, 0.0077628028918112855), (2395, 0.0), (2396, 0.018485973904292227), (2397, 0.015300923327349083), (2398, 0.02508043581490252), (2399, 0.1160881363677269), (2400, 0.008632328956472174), (2401, 0.016455363959456803), (2402, 0.013912999066713724), (2403, 0.06847917136997028), (2404, 0.0), (2405, 0.027043364177651144), (2406, 0.04589232295082765), (2407, 0.02703143586995123), (2408, 0.01789616130483081), (2409, 0.05449383604349353), (2410, 0.018110916523262428), (2411, 0.0), (2412, 0.018782149483612634), (2413, 0.017684651398291597), (2414, 0.0), (2415, 0.0), (2416, 0.0181684367453174), (2417, 0.016117275890937924), (2418, 0.0), (2419, 0.04379517543029393), (2420, 0.0), (2421, 0.0), (2422, 0.01651587321912402), (2423, 0.0), (2424, 0.0), (2425, 0.0), (2426, 0.0), (2427, 0.0), (2428, 0.0), (2429, 0.005657932902964926), (2430, 0.016577031262230035), (2431, 0.01613641572755759), (2432, 0.016640331869854936), (2433, 0.004773647687941649), (2434, 0.0), (2435, 0.06925381290416227), (2436, 0.0), (2437, 0.020202657066425465), (2438, 0.021154459259671105), (2439, 0.013183076531790669), (2440, 0.0), (2441, 0.0), (2442, 0.12955921997598943), (2443, 0.0), (2444, 0.028222115670534263), (2445, 0.010820839901924457), (2446, 0.0), (2447, 0.016829492312407), (2448, 0.0), (2449, 0.0), (2450, 0.04028956302856678), (2451, 0.0), (2452, 0.0), (2453, 0.0), (2454, 0.0), (2455, 0.0), (2456, 0.01845206438361479), (2457, 0.0), (2458, 0.0800839332590509), (2459, 0.022390184916191946), (2460, 0.0118250032279032), (2461, 0.014024812492352412), (2462, 0.0), (2463, 0.0), (2464, 0.01315831408587849), (2465, 0.013682412161516564), (2466, 0.0072969725014181445), (2467, 0.10574248969992514), (2468, 0.015117000942907959), (2469, 0.0), (2470, 0.006091030404511496), (2471, 0.020157514348473626), (2472, 0.011512534018221734), (2473, 0.0), (2474, 0.005838937513662613), (2475, 0.0), (2476, 0.03703167959339118), (2477, 0.0), (2478, 0.0), (2479, 0.0), (2480, 0.01140458952896133), (2481, 0.0), (2482, 0.0), (2483, 0.0), (2484, 0.0), (2485, 0.0), (2486, 0.007976178295811822), (2487, 0.01801781739998781), (2488, 0.0), (2489, 0.015458256543091976), (2490, 0.008147375690961363), (2491, 0.01634138655865217), (2492, 0.040990783532871174), (2493, 0.027850086518569548), (2494, 0.016926876143238827), (2495, 0.0176550206926838), (2496, 0.0), (2497, 0.013195540697671784), (2498, 0.0), (2499, 0.014269624566270685), (2500, 0.0), (2501, 0.0), (2502, 0.0), (2503, 0.0), (2504, 0.018473377111483943), (2505, 0.0), (2506, 0.0294985573054918), (2507, 0.0), (2508, 0.013646328556820507), (2509, 0.016713821573536607), (2510, 0.029806282371521893), (2511, 0.08130725866002457), (2512, 0.0), (2513, 0.0), (2514, 0.008014167716582133), (2515, 0.030670689110943786), (2516, 0.018028328741917385), (2517, 0.018600514393589576), (2518, 0.0), (2519, 0.01920506705691292), (2520, 0.0), (2521, 0.006463688980462287), (2522, 0.009568716041404995), (2523, 0.0), (2524, 0.0), (2525, 0.008826984005212923), (2526, 0.01721156947801054), (2527, 0.0), (2528, 0.0), (2529, 0.026274084958162077), (2530, 0.0), (2531, 0.0), (2532, 0.0), (2533, 0.025733257108993005), (2534, 0.016034877444968863), (2535, 0.01962071785355521), (2536, 0.0), (2537, 0.0), (2538, 0.008089455725698911), (2539, 0.08506156575079385), (2540, 0.018073138393403576), (2541, 0.05057425353021469), (2542, 0.03778415728848881), (2543, 0.03875659688414472), (2544, 0.0), (2545, 0.0), (2546, 0.0661684817546642), (2547, 0.029851573791474812), (2548, 0.0), (2549, 0.0), (2550, 0.0), (2551, 0.01577886493211232), (2552, 0.011491045450305298), (2553, 0.03099278522840098), (2554, 0.01051531232975774), (2555, 0.035145275829691236), (2556, 0.0), (2557, 0.0), (2558, 0.023242173921462085), (2559, 0.0), (2560, 0.0182234680373476), (2561, 0.0), (2562, 0.0), (2563, 0.0), (2564, 0.006607657525216566), (2565, 0.007140354350340299), (2566, 0.018257811771172295), (2567, 0.0), (2568, 0.0), (2569, 0.0), (2570, 0.01654285476776294), (2571, 0.03591361280730907), (2572, 0.018276316597758767), (2573, 0.006499089333919028), (2574, 0.0), (2575, 0.0), (2576, 0.0), (2577, 0.0), (2578, 0.007867034361582868), (2579, 0.05826919391922829), (2580, 0.014284229975907128), (2581, 0.014231747216780537), (2582, 0.014473635647114125), (2583, 0.0178988555079949), (2584, 0.0), (2585, 0.017860840215423897), (2586, 0.008594159854971282), (2587, 0.026474336087273016), (2588, 0.0), (2589, 0.0), (2590, 0.0), (2591, 0.018489865404022705), (2592, 0.023252373210509353), (2593, 0.0), (2594, 0.01764370135736137), (2595, 0.0), (2596, 0.1044224165072646), (2597, 0.022949701238611998), (2598, 0.0), (2599, 0.0), (2600, 0.0), (2601, 0.0), (2602, 0.006412872375142542), (2603, 0.038760167642513554), (2604, 0.0), (2605, 0.0), (2606, 0.03122020852324399), (2607, 0.015239131780965195), (2608, 0.015650494482691832), (2609, 0.007094846627744177), (2610, 0.01701275426749169), (2611, 0.03299741245959398), (2612, 0.0), (2613, 0.0), (2614, 0.0), (2615, 0.0), (2616, 0.015182400407809382), (2617, 0.036013864489091635), (2618, 0.018094361811186597), (2619, 0.01656737104827722), (2620, 0.0), (2621, 0.01850743086394111), (2622, 0.009892459739557664), (2623, 0.0), (2624, 0.0), (2625, 0.032960946115874336), (2626, 0.0), (2627, 0.0), (2628, 0.0), (2629, 0.0), (2630, 0.015791376456395136), (2631, 0.0), (2632, 0.0), (2633, 0.014275031163555158), (2634, 0.0), (2635, 0.010253062201473331), (2636, 0.01635210148084809), (2637, 0.0), (2638, 0.0), (2639, 0.019886840606002126), (2640, 0.0), (2641, 0.007029785015516086), (2642, 0.0), (2643, 0.0), (2644, 0.02137513471582522), (2645, 0.02686413042333459), (2646, 0.0072719604371168966), (2647, 0.015348655348162469), (2648, 0.024699778586196465), (2649, 0.01600208508423281), (2650, 0.023574985931524475), (2651, 0.0), (2652, 0.0), (2653, 0.010124224928834599), (2654, 0.014581849451177995), (2655, 0.007228233383455286), (2656, 0.0), (2657, 0.010118213323519129), (2658, 0.0), (2659, 0.0), (2660, 0.0), (2661, 0.015832805537832034), (2662, 0.014929871076621387), (2663, 0.011286720878773046), (2664, 0.0), (2665, 0.0), (2666, 0.013925322688804996), (2667, 0.0), (2668, 0.0), (2669, 0.017112865412269217), (2670, 0.0), (2671, 0.0), (2672, 0.0), (2673, 0.01629716515032751), (2674, 0.0), (2675, 0.01844550221890679), (2676, 0.0), (2677, 0.013846479069449222), (2678, 0.021910784061649993), (2679, 0.0), (2680, 0.009441139874669983), (2681, 0.005742958205518369), (2682, 0.01787364636486742), (2683, 0.007574151396022809), (2684, 0.0), (2685, 0.0), (2686, 0.015583067413056434), (2687, 0.0), (2688, 0.0), (2689, 0.015860945475449112), (2690, 0.02019566604564661), (2691, 0.0), (2692, 0.0), (2693, 0.0), (2694, 0.0), (2695, 0.0), (2696, 0.017015660621836723), (2697, 0.0), (2698, 0.0), (2699, 0.0), (2700, 0.0), (2701, 0.020936625607801282), (2702, 0.014855651172161073), (2703, 0.0), (2704, 0.006536183935961843), (2705, 0.0), (2706, 0.013106805283620699), (2707, 0.011813879400952229), (2708, 0.029479354996210197), (2709, 0.02210662169177818), (2710, 0.01557180429542191), (2711, 0.0), (2712, 0.042043723324981935), (2713, 0.018848476965039034), (2714, 0.019052017012365162), (2715, 0.0), (2716, 0.016353434974539435), (2717, 0.05164915638428801), (2718, 0.01899980552552808), (2719, 0.0), (2720, 0.0), (2721, 0.0), (2722, 0.01728656153819217), (2723, 0.0), (2724, 0.014365136337095474), (2725, 0.0), (2726, 0.01616052652349029), (2727, 0.0), (2728, 0.046688246443472206), (2729, 0.013923651714576619), (2730, 0.01385585379604756), (2731, 0.0), (2732, 0.0), (2733, 0.0), (2734, 0.016579410475799305), (2735, 0.0), (2736, 0.007141229097154059), (2737, 0.010986474727268089), (2738, 0.0), (2739, 0.0), (2740, 0.01653217651030463), (2741, 0.0), (2742, 0.012716854511581652), (2743, 0.0), (2744, 0.0), (2745, 0.0), (2746, 0.0), (2747, 0.006985742326725153), (2748, 0.032622885227021434), (2749, 0.0), (2750, 0.01430685948437388), (2751, 0.014828539331033456), (2752, 0.038863071633477714), (2753, 0.0), (2754, 0.0), (2755, 0.0), (2756, 0.0), (2757, 0.011405798950278944), (2758, 0.009460250664486034), (2759, 0.0), (2760, 0.018057196512403277), (2761, 0.0), (2762, 0.0), (2763, 0.036839480087659256), (2764, 0.0), (2765, 0.0), (2766, 0.0), (2767, 0.0), (2768, 0.0), (2769, 0.0), (2770, 0.0), (2771, 0.04444213405391899), (2772, 0.0), (2773, 0.0), (2774, 0.035780883408359714), (2775, 0.1494768351880041), (2776, 0.023336745587717273), (2777, 0.02254196200682957), (2778, 0.0), (2779, 0.0), (2780, 0.0), (2781, 0.01674777253088919), (2782, 0.010545054381531974), (2783, 0.015163179011310812), (2784, 0.005894730889210459), (2785, 0.006455489079255368), (2786, 0.0), (2787, 0.0), (2788, 0.0), (2789, 0.0), (2790, 0.007492728907111926), (2791, 0.0), (2792, 0.015528817933484334), (2793, 0.018820711425807185), (2794, 0.015592145798151723), (2795, 0.0), (2796, 0.0), (2797, 0.03407224470157492), (2798, 0.0), (2799, 0.0), (2800, 0.0), (2801, 0.0), (2802, 0.015507221319064814), (2803, 0.13478981389158134), (2804, 0.016053768166220946), (2805, 0.0), (2806, 0.006446066092910144), (2807, 0.01657957893662659), (2808, 0.007613334091903203), (2809, 0.020024377885945757), (2810, 0.0), (2811, 0.0), (2812, 0.007731379061203773), (2813, 0.018511910563377705), (2814, 0.0), (2815, 0.0688076964361213), (2816, 0.0), (2817, 0.015112739143288312), (2818, 0.0), (2819, 0.022144365567214292), (2820, 0.0), (2821, 0.0), (2822, 0.0), (2823, 0.01560938902404042), (2824, 0.0), (2825, 0.0), (2826, 0.0), (2827, 0.007313595018992979), (2828, 0.0), (2829, 0.0), (2830, 0.0), (2831, 0.0), (2832, 0.01682201659166924), (2833, 0.03507477981086168), (2834, 0.016382110430711805), (2835, 0.0), (2836, 0.0), (2837, 0.014735852311354054), (2838, 0.0), (2839, 0.0), (2840, 0.019136929561745328), (2841, 0.0), (2842, 0.0), (2843, 0.0), (2844, 0.014547267377328876), (2845, 0.015028575350644283), (2846, 0.01665799831380991), (2847, 0.0), (2848, 0.0), (2849, 0.0), (2850, 0.0), (2851, 0.0), (2852, 0.01657392652088377), (2853, 0.006076966470060835), (2854, 0.0), (2855, 0.0), (2856, 0.015330958693168499), (2857, 0.0), (2858, 0.0), (2859, 0.0), (2860, 0.020923020614254842), (2861, 0.0), (2862, 0.0), (2863, 0.00753442776206784), (2864, 0.0), (2865, 0.01577122245574536), (2866, 0.0), (2867, 0.008822932079774257), (2868, 0.0058080377648561995), (2869, 0.0), (2870, 0.0), (2871, 0.0), (2872, 0.0), (2873, 0.0), (2874, 0.0), (2875, 0.017406498179857476), (2876, 0.0), (2877, 0.01319695260393609), (2878, 0.019635504523116507), (2879, 0.0), (2880, 0.01743671652111545), (2881, 0.008113534302884248), (2882, 0.0), (2883, 0.016556797131877736), (2884, 0.014227377986883578), (2885, 0.020284397276178177), (2886, 0.010296933233104764), (2887, 0.01542055644127368), (2888, 0.008032286097580173), (2889, 0.0), (2890, 0.017960719491037405), (2891, 0.0), (2892, 0.0), (2893, 0.007798023575770853), (2894, 0.0), (2895, 0.0), (2896, 0.0), (2897, 0.016329826238839766), (2898, 0.01004978806434123), (2899, 0.008074402583503119), (2900, 0.0), (2901, 0.0), (2902, 0.0), (2903, 0.0), (2904, 0.017334812044806948), (2905, 0.0), (2906, 0.009698231925541131), (2907, 0.0), (2908, 0.0), (2909, 0.02139715985741552), (2910, 0.0683126015672834), (2911, 0.0), (2912, 0.019565122382125447), (2913, 0.010281676196761408), (2914, 0.0), (2915, 0.0), (2916, 0.010222225440469333), (2917, 0.019307409593361538), (2918, 0.0069467505523690045), (2919, 0.0), (2920, 0.0), (2921, 0.008293738796602168), (2922, 0.016007807363635548), (2923, 0.010599493416154786), (2924, 0.0), (2925, 0.008916303581727267), (2926, 0.0), (2927, 0.029392939742822078), (2928, 0.017276773887781552), (2929, 0.0), (2930, 0.01516653474916416), (2931, 0.007761577651519815), (2932, 0.0), (2933, 0.00963238228224987), (2934, 0.013515800295741256), (2935, 0.01611297881107543), (2936, 0.0), (2937, 0.0), (2938, 0.0), (2939, 0.0), (2940, 0.0), (2941, 0.0), (2942, 0.011707093470362298), (2943, 0.0), (2944, 0.0), (2945, 0.0), (2946, 0.0), (2947, 0.0), (2948, 0.0), (2949, 0.0), (2950, 0.0), (2951, 0.015252437820510525), (2952, 0.0), (2953, 0.0), (2954, 0.0), (2955, 0.020570190818217673), (2956, 0.0), (2957, 0.011721516957424181), (2958, 0.0), (2959, 0.006475727088504464), (2960, 0.0), (2961, 0.01563160391150301), (2962, 0.0), (2963, 0.0), (2964, 0.0), (2965, 0.014961108865428403), (2966, 0.0), (2967, 0.04592222670445993), (2968, 0.01678768548882103), (2969, 0.0), (2970, 0.0), (2971, 0.007769392206170236), (2972, 0.0078737519321042), (2973, 0.014429275410827025), (2974, 0.0), (2975, 0.014218392140691824), (2976, 0.0), (2977, 0.0), (2978, 0.007188654346525156), (2979, 0.010728019743490417), (2980, 0.039483283157514086), (2981, 0.0574444487252673), (2982, 0.00955041273456431), (2983, 0.0), (2984, 0.0), (2985, 0.017286356929470066), (2986, 0.022774248776905422), (2987, 0.0), (2988, 0.030412022790627154), (2989, 0.0), (2990, 0.0), (2991, 0.010349415414036296), (2992, 0.0), (2993, 0.015582360151804949), (2994, 0.02901428242000394), (2995, 0.048277597684613226), (2996, 0.022532435849772933), (2997, 0.025771146020146116), (2998, 0.015212230117147577), (2999, 0.0), (3000, 0.0), (3001, 0.005813353937553473), (3002, 0.0), (3003, 0.0), (3004, 0.017333533722698528), (3005, 0.0), (3006, 0.0), (3007, 0.006117849171406593), (3008, 0.005787039781291307), (3009, 0.0043930721872414095), (3010, 0.0), (3011, 0.0), (3012, 0.0), (3013, 0.009215007584182951), (3014, 0.0), (3015, 0.02808512458422738), (3016, 0.0), (3017, 0.0), (3018, 0.032027689444257205), (3019, 0.03510671157572702), (3020, 0.009818692767932926), (3021, 0.0076014293416059135), (3022, 0.0), (3023, 0.0), (3024, 0.0), (3025, 0.0), (3026, 0.011824704941048751), (3027, 0.015971561332368777), (3028, 0.0), (3029, 0.006704302689734359), (3030, 0.007569738814695193), (3031, 0.0), (3032, 0.023020147160709867), (3033, 0.02243809369447767), (3034, 0.0), (3035, 0.005629960522030683), (3036, 0.015024419205088176), (3037, 0.03281666340556503), (3038, 0.04069602178617415), (3039, 0.047351361223623344), (3040, 0.007754130492402446), (3041, 0.0), (3042, 0.010990527587956996), (3043, 0.01836666290321936), (3044, 0.0), (3045, 0.0), (3046, 0.0), (3047, 0.0), (3048, 0.0), (3049, 0.0), (3050, 0.0), (3051, 0.016712423989410353), (3052, 0.0), (3053, 0.0), (3054, 0.033783477193550515), (3055, 0.0), (3056, 0.016452510185716064), (3057, 0.01791790171021959), (3058, 0.0), (3059, 0.0), (3060, 0.0), (3061, 0.0), (3062, 0.021460926426970547), (3063, 0.0), (3064, 0.014196089237960292), (3065, 0.0), (3066, 0.0), (3067, 0.017415271982404924), (3068, 0.0), (3069, 0.0), (3070, 0.0331425824551795), (3071, 0.015838924879867742), (3072, 0.016518721278424846), (3073, 0.006930846053431921), (3074, 0.06113613753285171), (3075, 0.0347808274069896), (3076, 0.0), (3077, 0.006851877970190896), (3078, 0.01783690923718347), (3079, 0.04276660010435463), (3080, 0.0), (3081, 0.009946468321175617), (3082, 0.0), (3083, 0.009987246772046442), (3084, 0.0), (3085, 0.017050433284321067), (3086, 0.006821352625680822), (3087, 0.009334754860440284), (3088, 0.0), (3089, 0.007399514045965635), (3090, 0.0), (3091, 0.00963479720828061), (3092, 0.015836221093695493), (3093, 0.0), (3094, 0.0), (3095, 0.0), (3096, 0.0), (3097, 0.0), (3098, 0.022650873052532293), (3099, 0.006374457918392393), (3100, 0.0), (3101, 0.0), (3102, 0.0), (3103, 0.0), (3104, 0.0), (3105, 0.04327467762318465), (3106, 0.00664554260775888), (3107, 0.01599026787511042), (3108, 0.01766746951802501), (3109, 0.018031572468814414), (3110, 0.03728689340872453), (3111, 0.0), (3112, 0.0), (3113, 0.013690943227234855), (3114, 0.0), (3115, 0.0), (3116, 0.01862710638084104), (3117, 0.0), (3118, 0.0), (3119, 0.019080752762221806), (3120, 0.0), (3121, 0.01773737833008455), (3122, 0.0), (3123, 0.0), (3124, 0.009462652454770716), (3125, 0.0), (3126, 0.0), (3127, 0.03139514204656549), (3128, 0.008520615533921033), (3129, 0.01784671877678614), (3130, 0.02104484216150124), (3131, 0.003953368711396445), (3132, 0.01546977034793966), (3133, 0.0070206279324377145), (3134, 0.0), (3135, 0.021344498460663063), (3136, 0.005856203468114412), (3137, 0.0), (3138, 0.010551368088699001), (3139, 0.01649068726571301), (3140, 0.0), (3141, 0.0), (3142, 0.007571052678063328), (3143, 0.013514970848740204), (3144, 0.007394001453701739), (3145, 0.0), (3146, 0.0), (3147, 0.0), (3148, 0.005183894620663212), (3149, 0.014135684076437595), (3150, 0.0), (3151, 0.022578709182606682), (3152, 0.0), (3153, 0.023583571041433122), (3154, 0.02194602653773554), (3155, 0.0), (3156, 0.01717925652628737), (3157, 0.0), (3158, 0.0191580676093437), (3159, 0.017174459096607454), (3160, 0.0), (3161, 0.019275987137244363), (3162, 0.018057271957666085), (3163, 0.04492694833119126), (3164, 0.010729971042308235), (3165, 0.02019793380512841), (3166, 0.0199729973595645), (3167, 0.0), (3168, 0.0), (3169, 0.01369932307560688), (3170, 0.0), (3171, 0.0), (3172, 0.0), (3173, 0.1153325165955906), (3174, 0.0), (3175, 0.030286248370980075), (3176, 0.0), (3177, 0.03639911115437207), (3178, 0.017871040587992135), (3179, 0.0), (3180, 0.02700872770927163), (3181, 0.0), (3182, 0.0), (3183, 0.01795599281747621), (3184, 0.007413858641721955), (3185, 0.0), (3186, 0.0), (3187, 0.0), (3188, 0.0), (3189, 0.0), (3190, 0.009361821803039353), (3191, 0.0), (3192, 0.0), (3193, 0.0), (3194, 0.018797197683892333), (3195, 0.015860765383341514), (3196, 0.0), (3197, 0.010576508242471826), (3198, 0.031161851577028606), (3199, 0.0), (3200, 0.0), (3201, 0.04175770780284102), (3202, 0.019869482273002236), (3203, 0.009366439361835958), (3204, 0.0), (3205, 0.010264502866828923), (3206, 0.014044363291625398), (3207, 0.0), (3208, 0.025827502840257338), (3209, 0.007035468366763051), (3210, 0.0), (3211, 0.02110059714610408), (3212, 0.0), (3213, 0.0), (3214, 0.0), (3215, 0.0), (3216, 0.0), (3217, 0.0), (3218, 0.014804081044978684), (3219, 0.0), (3220, 0.0), (3221, 0.006489781900553507), (3222, 0.0376951986106305), (3223, 0.013843350422556466), (3224, 0.012924801027946969), (3225, 0.0), (3226, 0.015634287387274143), (3227, 0.0), (3228, 0.013572021556661637), (3229, 0.0), (3230, 0.01633662312539534), (3231, 0.00575252401887406), (3232, 0.0), (3233, 0.015777577651267746), (3234, 0.01068317368088615), (3235, 0.017541442011282573), (3236, 0.0), (3237, 0.0), (3238, 0.03606314058712552), (3239, 0.0), (3240, 0.0), (3241, 0.0), (3242, 0.0), (3243, 0.0), (3244, 0.0), (3245, 0.01446846914083759), (3246, 0.0), (3247, 0.0), (3248, 0.0), (3249, 0.014884840842758991), (3250, 0.0), (3251, 0.02387674048014301), (3252, 0.0), (3253, 0.0), (3254, 0.016175843566229784), (3255, 0.0), (3256, 0.013744295280627126), (3257, 0.0), (3258, 0.0), (3259, 0.006126665107343824), (3260, 0.018832433513312888), (3261, 0.016149051226658287), (3262, 0.01787526451120578), (3263, 0.009190910064445949), (3264, 0.0), (3265, 0.0), (3266, 0.03395745951929729), (3267, 0.0), (3268, 0.0), (3269, 0.0), (3270, 0.02057025209307181), (3271, 0.020911364755639754), (3272, 0.01999683077178855), (3273, 0.0), (3274, 0.005881296266985232), (3275, 0.0), (3276, 0.009304055087986717), (3277, 0.013599259775048972), (3278, 0.0), (3279, 0.016484257125613456), (3280, 0.0), (3281, 0.016007224516221136), (3282, 0.0), (3283, 0.017142009636055555), (3284, 0.007947304670902156), (3285, 0.03567512769103698), (3286, 0.03801581567269211), (3287, 0.01297282714966963), (3288, 0.01740577399752468), (3289, 0.0), (3290, 0.023328117556934782), (3291, 0.0), (3292, 0.01063077767899286), (3293, 0.02198947788331291), (3294, 0.0), (3295, 0.0), (3296, 0.009421677198764987), (3297, 0.07512496033226354), (3298, 0.01083534346406279), (3299, 0.024257590895568823), (3300, 0.0), (3301, 0.017417786168322326), (3302, 0.0), (3303, 0.014041442879210088), (3304, 0.024092512913780343), (3305, 0.0066324418509788015), (3306, 0.007198718758980877), (3307, 0.0), (3308, 0.0), (3309, 0.006646727148133917), (3310, 0.0), (3311, 0.0), (3312, 0.0), (3313, 0.01579311592734145), (3314, 0.0), (3315, 0.011422649607202033), (3316, 0.008930464644728006), (3317, 0.04112016516489493), (3318, 0.00662325181845741), (3319, 0.045708270344587826), (3320, 0.01662840542233559), (3321, 0.0), (3322, 0.0), (3323, 0.0), (3324, 0.0), (3325, 0.04120871711422397), (3326, 0.007271721261926274), (3327, 0.01261474569005785), (3328, 0.015436790868800534), (3329, 0.018504760111560374), (3330, 0.027218058508688508), (3331, 0.0101146231534693), (3332, 0.008198341056732884), (3333, 0.0), (3334, 0.016424167908497593), (3335, 0.006856242949168781), (3336, 0.019727527275240905), (3337, 0.03409117626811206), (3338, 0.03133783127495781), (3339, 0.009817462326381752), (3340, 0.0), (3341, 0.010440319513876441), (3342, 0.0), (3343, 0.04487517480829559), (3344, 0.010940363732128193), (3345, 0.016363934885858546), (3346, 0.015614334582959365), (3347, 0.009756333989637631), (3348, 0.015953708597644285), (3349, 0.05040175172575587), (3350, 0.005984032700803681), (3351, 0.02515706245392733), (3352, 0.017586875551007932), (3353, 0.0), (3354, 0.01593690769509148), (3355, 0.0), (3356, 0.0), (3357, 0.008221376934794702), (3358, 0.015936891672995272), (3359, 0.00911188111294506), (3360, 0.007942083445558478), (3361, 0.007156191894528804), (3362, 0.0), (3363, 0.0), (3364, 0.0), (3365, 0.009582543837750254), (3366, 0.02130721710238907), (3367, 0.0), (3368, 0.0), (3369, 0.0), (3370, 0.005975433713004054), (3371, 0.021031471198199193), (3372, 0.007002219296296597), (3373, 0.00836311603077136), (3374, 0.0), (3375, 0.0), (3376, 0.015830156815896085), (3377, 0.035546193979030964), (3378, 0.01896918837915317), (3379, 0.0), (3380, 0.005219916668761648), (3381, 0.03251088684304235), (3382, 0.02786151798191338), (3383, 0.0), (3384, 0.0), (3385, 0.008865225666336182), (3386, 0.0), (3387, 0.01999836042394598), (3388, 0.0), (3389, 0.0), (3390, 0.014708923690157864), (3391, 0.0), (3392, 0.0), (3393, 0.022593361905273918), (3394, 0.011773041438224573), (3395, 0.03413416912724738), (3396, 0.0), (3397, 0.0), (3398, 0.0), (3399, 0.020600743841255837), (3400, 0.0), (3401, 0.01685457307148831), (3402, 0.0), (3403, 0.0), (3404, 0.0), (3405, 0.0), (3406, 0.031324909727368865), (3407, 0.017628234840757942), (3408, 0.0), (3409, 0.0), (3410, 0.0), (3411, 0.0), (3412, 0.00727123982226066), (3413, 0.0), (3414, 0.01355680532359603), (3415, 0.0), (3416, 0.014974276971632075), (3417, 0.01873500367340374), (3418, 0.008828167591725201), (3419, 0.0), (3420, 0.0), (3421, 0.0), (3422, 0.0), (3423, 0.0), (3424, 0.006721527178608792), (3425, 0.0), (3426, 0.0), (3427, 0.011973886324082287), (3428, 0.0), (3429, 0.0), (3430, 0.03361669706258738), (3431, 0.012185905647233238), (3432, 0.04868058300564123), (3433, 0.01562805374817884), (3434, 0.03871696814962436), (3435, 0.0), (3436, 0.06325464736014143), (3437, 0.027788717271040316), (3438, 0.037854617497849054), (3439, 0.054497969297902106), (3440, 0.007876586618059143), (3441, 0.0), (3442, 0.014418078850238653), (3443, 0.0), (3444, 0.0), (3445, 0.008136222593172591), (3446, 0.0), (3447, 0.017775866618286017), (3448, 0.0), (3449, 0.0), (3450, 0.0), (3451, 0.0), (3452, 0.0), (3453, 0.0), (3454, 0.013219402195969673), (3455, 0.0), (3456, 0.0), (3457, 0.01871054581150222), (3458, 0.0), (3459, 0.0), (3460, 0.015934317615294624), (3461, 0.0), (3462, 0.033487822176970425), (3463, 0.007548545149871229), (3464, 0.0), (3465, 0.0), (3466, 0.0), (3467, 0.0), (3468, 0.01625391719454485), (3469, 0.0), (3470, 0.0), (3471, 0.0), (3472, 0.0), (3473, 0.0), (3474, 0.018794968445223926), (3475, 0.014849501766147667), (3476, 0.0), (3477, 0.021840564426468183), (3478, 0.010334910579241633), (3479, 0.027876577463513307), (3480, 0.0), (3481, 0.0), (3482, 0.0), (3483, 0.028533926876788268), (3484, 0.0), (3485, 0.0072906097857044425), (3486, 0.01693378684376334), (3487, 0.0), (3488, 0.019611233292255795), (3489, 0.0), (3490, 0.027404269913899038), (3491, 0.02012980880387037), (3492, 0.0), (3493, 0.03901273989946341), (3494, 0.007467699045874087), (3495, 0.010234743100194692), (3496, 0.0), (3497, 0.04063421337240001), (3498, 0.01553686957469664), (3499, 0.0), (3500, 0.02986638757467823), (3501, 0.0), (3502, 0.019249110807117862), (3503, 0.0), (3504, 0.0), (3505, 0.006196102748326832), (3506, 0.0), (3507, 0.015772624619231606), (3508, 0.0), (3509, 0.007393282999026386), (3510, 0.0), (3511, 0.014015365952268911), (3512, 0.0), (3513, 0.0107633961179182), (3514, 0.014085191545915744), (3515, 0.0), (3516, 0.02476243701766352), (3517, 0.01635352573841592), (3518, 0.056691143254419346), (3519, 0.0), (3520, 0.008138909769787952), (3521, 0.01813716927949137), (3522, 0.024167371906923647), (3523, 0.006846960530204594), (3524, 0.016139358378634658), (3525, 0.009170158870357645), (3526, 0.021158257676873224), (3527, 0.0), (3528, 0.0), (3529, 0.0), (3530, 0.0), (3531, 0.0), (3532, 0.0), (3533, 0.0), (3534, 0.014815787393480644), (3535, 0.029196279113471012), (3536, 0.023748648284027396), (3537, 0.017352483324863558), (3538, 0.0), (3539, 0.04773430849327415), (3540, 0.00938271465109125), (3541, 0.0), (3542, 0.015342537075174356), (3543, 0.0), (3544, 0.0), (3545, 0.019932284921229067), (3546, 0.018086303501815497), (3547, 0.0), (3548, 0.0), (3549, 0.004474550559860825), (3550, 0.0), (3551, 0.0), (3552, 0.0), (3553, 0.01745467075898126), (3554, 0.10015655881096219), (3555, 0.0), (3556, 0.017042850977571716), (3557, 0.0392403754534652), (3558, 0.01876238492188558), (3559, 0.01711744929931801), (3560, 0.0), (3561, 0.0), (3562, 0.0), (3563, 0.0), (3564, 0.0), (3565, 0.0), (3566, 0.0), (3567, 0.0), (3568, 0.0323721733969347), (3569, 0.0), (3570, 0.0), (3571, 0.0), (3572, 0.012430963680444555), (3573, 0.017483531936702993), (3574, 0.014682798579189969), (3575, 0.0), (3576, 0.0), (3577, 0.016447654428146094), (3578, 0.022042871628714596), (3579, 0.005787625580647296), (3580, 0.0), (3581, 0.0), (3582, 0.0), (3583, 0.039762602333015394), (3584, 0.02171215338617184), (3585, 0.0), (3586, 0.015897445690608223), (3587, 0.0), (3588, 0.0), (3589, 0.0), (3590, 0.0), (3591, 0.006179111288505342), (3592, 0.0), (3593, 0.0), (3594, 0.028024861341509014), (3595, 0.01612332455271347), (3596, 0.0), (3597, 0.0), (3598, 0.013285902664130643), (3599, 0.0), (3600, 0.0), (3601, 0.0), (3602, 0.0), (3603, 0.005750466855424484), (3604, 0.0046407005201121255), (3605, 0.017851348994070065), (3606, 0.00735884365415151), (3607, 0.006451874336836104), (3608, 0.0), (3609, 0.010223249903449656), (3610, 0.018020058182510644), (3611, 0.0), (3612, 0.0), (3613, 0.0), (3614, 0.020065643890883462), (3615, 0.0), (3616, 0.008219470072382426), (3617, 0.007373408709516358), (3618, 0.008472646937561447), (3619, 0.0), (3620, 0.0), (3621, 0.0), (3622, 0.0), (3623, 0.007907546636637109), (3624, 0.0161240969620201), (3625, 0.0), (3626, 0.0), (3627, 0.0), (3628, 0.013660285870481856), (3629, 0.016686928924687587), (3630, 0.0), (3631, 0.013137819325247707), (3632, 0.0), (3633, 0.017806674021504463), (3634, 0.0), (3635, 0.0), (3636, 0.017617097367495508), (3637, 0.0), (3638, 0.017841295650066473), (3639, 0.0), (3640, 0.010537841874897846), (3641, 0.019653748013085042), (3642, 0.025946293195832502), (3643, 0.0), (3644, 0.0), (3645, 0.007220751673758359), (3646, 0.01701431674263626), (3647, 0.0), (3648, 0.0), (3649, 0.0), (3650, 0.008706983312044916), (3651, 0.0), (3652, 0.0), (3653, 0.016607178566352493), (3654, 0.0), (3655, 0.01860570047329875), (3656, 0.0), (3657, 0.014530275834975888), (3658, 0.034295655268296685), (3659, 0.0), (3660, 0.0), (3661, 0.0), (3662, 0.0), (3663, 0.0), (3664, 0.06323697641799841), (3665, 0.0), (3666, 0.02022475589894613), (3667, 0.02415859234306797), (3668, 0.02299543805697979), (3669, 0.03439709905996013), (3670, 0.0), (3671, 0.017580198755077398), (3672, 0.007360791277473451), (3673, 0.009511680365923366), (3674, 0.013913751414567379), (3675, 0.0), (3676, 0.0), (3677, 0.016700591141486643), (3678, 0.015302352862317889), (3679, 0.019003434235704803), (3680, 0.0), (3681, 0.03571142122731173), (3682, 0.0), (3683, 0.03024928179604044), (3684, 0.014452612735439348), (3685, 0.0), (3686, 0.0), (3687, 0.0), (3688, 0.0), (3689, 0.02015181919636189), (3690, 0.01483821625622883), (3691, 0.0), (3692, 0.0), (3693, 0.0), (3694, 0.0), (3695, 0.0), (3696, 0.02245917507326185), (3697, 0.0), (3698, 0.01390345862635741), (3699, 0.0), (3700, 0.0), (3701, 0.01993458313134986), (3702, 0.0), (3703, 0.0), (3704, 0.019218428082910757), (3705, 0.01863490422351497), (3706, 0.0), (3707, 0.02054662809204576), (3708, 0.0), (3709, 0.0), (3710, 0.03007832286435761), (3711, 0.0483278404444374), (3712, 0.0), (3713, 0.0), (3714, 0.009361215859412788), (3715, 0.025028496473628214), (3716, 0.0), (3717, 0.016373524787259543), (3718, 0.0), (3719, 0.0), (3720, 0.0), (3721, 0.0), (3722, 0.006133046598136682), (3723, 0.018274650089069124), (3724, 0.007583525205859434), (3725, 0.007537668157622126), (3726, 0.014711636017433957), (3727, 0.011277102147326318), (3728, 0.01669441512597871), (3729, 0.016843583107112214), (3730, 0.020369479143111727), (3731, 0.008332196692144528), (3732, 0.0), (3733, 0.006025347486994541), (3734, 0.015193949997871877), (3735, 0.0), (3736, 0.010150430419494781), (3737, 0.0), (3738, 0.0), (3739, 0.021853068285619198), (3740, 0.007481039089628556), (3741, 0.0), (3742, 0.019158877536684854), (3743, 0.0164095197587791), (3744, 0.0117090144159144), (3745, 0.0), (3746, 0.01680791271720812), (3747, 0.0), (3748, 0.008754276719076609), (3749, 0.022527910168180863), (3750, 0.02884039965020308), (3751, 0.0), (3752, 0.0), (3753, 0.0), (3754, 0.010586556152546953), (3755, 0.0061818641692875115), (3756, 0.00751871526423574), (3757, 0.01824985306591239), (3758, 0.006817471110512024), (3759, 0.0), (3760, 0.017530954226222317), (3761, 0.0), (3762, 0.0), (3763, 0.01532607200073158), (3764, 0.005701635105404441), (3765, 0.0), (3766, 0.0), (3767, 0.01654807666566486), (3768, 0.0), (3769, 0.0), (3770, 0.0), (3771, 0.0), (3772, 0.016034415669251463), (3773, 0.0), (3774, 0.008961633395567103), (3775, 0.0), (3776, 0.009502013080216178), (3777, 0.04058046095545695), (3778, 0.01696979400580648), (3779, 0.0), (3780, 0.0), (3781, 0.0), (3782, 0.0), (3783, 0.0), (3784, 0.015277124889740278), (3785, 0.04112442075727636), (3786, 0.042407870259394395), (3787, 0.009677534754598094), (3788, 0.0), (3789, 0.016363486948451657), (3790, 0.0), (3791, 0.03130297327702635), (3792, 0.019420286198855042), (3793, 0.0), (3794, 0.0), (3795, 0.02462342615614099), (3796, 0.0), (3797, 0.0), (3798, 0.0), (3799, 0.05208624605722245), (3800, 0.0), (3801, 0.0), (3802, 0.0), (3803, 0.0), (3804, 0.034183317717356845), (3805, 0.0), (3806, 0.01555859182723535), (3807, 0.017814989010502557), (3808, 0.011091117288144235), (3809, 0.0), (3810, 0.012515023214959826), (3811, 0.018353977266252278), (3812, 0.0), (3813, 0.0), (3814, 0.0), (3815, 0.01840160558919881), (3816, 0.007915681685696946), (3817, 0.009110924856836249), (3818, 0.0), (3819, 0.04247260423564222), (3820, 0.0), (3821, 0.03414856624706679), (3822, 0.030547947623385314), (3823, 0.0), (3824, 0.0), (3825, 0.0), (3826, 0.007884002742315181), (3827, 0.016114936256571098), (3828, 0.007220719823663181), (3829, 0.0), (3830, 0.008221351567633007), (3831, 0.025950459803639515), (3832, 0.0), (3833, 0.026006136174527676), (3834, 0.0), (3835, 0.009413481316535247), (3836, 0.03865190152226183), (3837, 0.0), (3838, 0.013316139863409845), (3839, 0.014553667985650819), (3840, 0.0), (3841, 0.0), (3842, 0.007921716966001776), (3843, 0.0101199583346776), (3844, 0.0), (3845, 0.004104006906562692), (3846, 0.0), (3847, 0.0), (3848, 0.008162859220168362), (3849, 0.015355360463899364), (3850, 0.0), (3851, 0.0069260668947752025), (3852, 0.019659389249584113), (3853, 0.0), (3854, 0.04711057235233453), (3855, 0.01821874289917596), (3856, 0.007050224120039254), (3857, 0.025830634026952737), (3858, 0.016796218237873962), (3859, 0.0), (3860, 0.0), (3861, 0.007655850731487578), (3862, 0.03660331485208478), (3863, 0.012521904164349871), (3864, 0.0), (3865, 0.00945532854085934), (3866, 0.0075474290916758505), (3867, 0.0), (3868, 0.014952606463055506), (3869, 0.016494124141999578), (3870, 0.0), (3871, 0.0), (3872, 0.0), (3873, 0.006263839878343713), (3874, 0.0), (3875, 0.0), (3876, 0.0), (3877, 0.0), (3878, 0.022892074364295408), (3879, 0.017487567674552267), (3880, 0.013133251355060691), (3881, 0.009822299693638632), (3882, 0.02347439840725471), (3883, 0.016159493188965944), (3884, 0.01930870385700659), (3885, 0.016508315500392317), (3886, 0.012860455504532358), (3887, 0.017157330723333978), (3888, 0.0), (3889, 0.014876303073525766), (3890, 0.0), (3891, 0.015747441497209094), (3892, 0.0), (3893, 0.0), (3894, 0.018276965812346464), (3895, 0.015636495440983597), (3896, 0.015519431162711643), (3897, 0.0), (3898, 0.01580863717307669), (3899, 0.009457949148487962), (3900, 0.0), (3901, 0.01743907274537193), (3902, 0.0), (3903, 0.014618472563272547), (3904, 0.03747655427924607), (3905, 0.0), (3906, 0.0), (3907, 0.03561304310468984), (3908, 0.017365199710890435), (3909, 0.04806324520029723), (3910, 0.0), (3911, 0.0), (3912, 0.019171262230328306), (3913, 0.0), (3914, 0.0), (3915, 0.0), (3916, 0.0), (3917, 0.0), (3918, 0.0), (3919, 0.0), (3920, 0.029881469147515993), (3921, 0.0), (3922, 0.0), (3923, 0.0), (3924, 0.0), (3925, 0.0), (3926, 0.0), (3927, 0.019760686784508326), (3928, 0.0), (3929, 0.0), (3930, 0.0), (3931, 0.0), (3932, 0.0), (3933, 0.0), (3934, 0.0), (3935, 0.0), (3936, 0.01601388390734322), (3937, 0.0), (3938, 0.0), (3939, 0.0), (3940, 0.04654179503728976), (3941, 0.058417622854053414), (3942, 0.02302246729929123), (3943, 0.014620431021073806), (3944, 0.0), (3945, 0.02308663932761843), (3946, 0.0), (3947, 0.013651129768978906), (3948, 0.0), (3949, 0.01169277953048834), (3950, 0.0), (3951, 0.0), (3952, 0.009870568580604828), (3953, 0.0), (3954, 0.0), (3955, 0.0), (3956, 0.0), (3957, 0.016097625465865177), (3958, 0.0), (3959, 0.0), (3960, 0.02662803949380872), (3961, 0.018393488860018195), (3962, 0.008161726338324887), (3963, 0.015404588488566885), (3964, 0.0), (3965, 0.007220645478921933), (3966, 0.00561816793770594), (3967, 0.0), (3968, 0.0), (3969, 0.018581641709543212), (3970, 0.0), (3971, 0.0), (3972, 0.007445815555911281), (3973, 0.07600558203387248), (3974, 0.037932330253425656), (3975, 0.0), (3976, 0.050277318100594506), (3977, 0.0), (3978, 0.0), (3979, 0.013642175446353823), (3980, 0.0), (3981, 0.0), (3982, 0.022546260739862354), (3983, 0.0), (3984, 0.0), (3985, 0.0), (3986, 0.007723058246367476), (3987, 0.0), (3988, 0.04161073082743309), (3989, 0.0), (3990, 0.0), (3991, 0.0), (3992, 0.0), (3993, 0.006915789928095147), (3994, 0.0), (3995, 0.0), (3996, 0.045601659106628445), (3997, 0.0), (3998, 0.0), (3999, 0.0), (4000, 0.03797338073732009), (4001, 0.016092305699842335), (4002, 0.01598634385727604), (4003, 0.012977711095021084), (4004, 0.007289387549455928), (4005, 0.0), (4006, 0.0), (4007, 0.010317501532614395), (4008, 0.011421386213132208), (4009, 0.012181430276731287), (4010, 0.0), (4011, 0.0), (4012, 0.006952721840921533), (4013, 0.025907429232734577), (4014, 0.008097177482566734), (4015, 0.014598233187568165), (4016, 0.01048347015934014), (4017, 0.0), (4018, 0.0), (4019, 0.0), (4020, 0.028769955193320877), (4021, 0.0), (4022, 0.025117096404500203), (4023, 0.01561657775342996), (4024, 0.023308818851827402), (4025, 0.014763762137184059), (4026, 0.010093500311368091), (4027, 0.0), (4028, 0.0), (4029, 0.0), (4030, 0.01618990013829179), (4031, 0.0), (4032, 0.01525394424575196), (4033, 0.04573088290043206), (4034, 0.0), (4035, 0.0), (4036, 0.0), (4037, 0.0), (4038, 0.0), (4039, 0.0), (4040, 0.009041785466329211), (4041, 0.010799091463441376), (4042, 0.00795218444849365), (4043, 0.0), (4044, 0.0700318615344383), (4045, 0.03066431031045467), (4046, 0.0), (4047, 0.0), (4048, 0.0), (4049, 0.0), (4050, 0.009320751086625452), (4051, 0.0), (4052, 0.017307404298045108), (4053, 0.0), (4054, 0.0), (4055, 0.0), (4056, 0.0), (4057, 0.0), (4058, 0.0), (4059, 0.0), (4060, 0.015162437543685178), (4061, 0.007583804509899693), (4062, 0.0), (4063, 0.0), (4064, 0.0), (4065, 0.0052518835623728485), (4066, 0.00949135048214617), (4067, 0.0), (4068, 0.0), (4069, 0.01347317489647273), (4070, 0.01417278495450511), (4071, 0.01713248646703123), (4072, 0.007487211867854187), (4073, 0.0), (4074, 0.0), (4075, 0.0), (4076, 0.0177438579310069), (4077, 0.04491664172407416), (4078, 0.0056812050432201566), (4079, 0.01579760448668841), (4080, 0.0), (4081, 0.0), (4082, 0.053554381274013796), (4083, 0.014944129030225347), (4084, 0.0), (4085, 0.01432063091628322), (4086, 0.0), (4087, 0.04409251411657521), (4088, 0.011595270627182049), (4089, 0.0), (4090, 0.0), (4091, 0.0), (4092, 0.01671011246890193), (4093, 0.008272661878189595), (4094, 0.0), (4095, 0.015849858190501567), (4096, 0.012795366647954094), (4097, 0.0), (4098, 0.0), (4099, 0.02356484961232342), (4100, 0.0), (4101, 0.0), (4102, 0.0), (4103, 0.03411135735809888), (4104, 0.009328349901072019), (4105, 0.0), (4106, 0.01623866013496242), (4107, 0.0), (4108, 0.0), (4109, 0.059145216708245366), (4110, 0.0), (4111, 0.007863050061951565), (4112, 0.0), (4113, 0.06418815630800126), (4114, 0.00705308196556691), (4115, 0.019167173454252062), (4116, 0.0), (4117, 0.006881159693713104), (4118, 0.0), (4119, 0.017680083423262005), (4120, 0.018114318377517563), (4121, 0.0), (4122, 0.005249165117863915), (4123, 0.01619392147775844), (4124, 0.04062886513298702), (4125, 0.030894712272282264), (4126, 0.0), (4127, 0.0), (4128, 0.0157826488252226), (4129, 0.007762687687741968), (4130, 0.03214602912420157), (4131, 0.0), (4132, 0.01488191537184066), (4133, 0.010678725490755974), (4134, 0.04474709357439494), (4135, 0.007037935238714759), (4136, 0.0), (4137, 0.009161489331668562), (4138, 0.0), (4139, 0.017026429399390013), (4140, 0.0), (4141, 0.0), (4142, 0.0055033359117941955), (4143, 0.007681688316907017), (4144, 0.0), (4145, 0.0), (4146, 0.022035255977682088), (4147, 0.017751826772548957), (4148, 0.011857207245642518), (4149, 0.02278660687504663), (4150, 0.028232698919756008), (4151, 0.0), (4152, 0.020067246317756696), (4153, 0.0), (4154, 0.0), (4155, 0.019604466727053935), (4156, 0.0), (4157, 0.0), (4158, 0.019653998087821773), (4159, 0.0), (4160, 0.01887093509461177), (4161, 0.028955556684512357), (4162, 0.013525882854941924), (4163, 0.009170003543277716), (4164, 0.011383463173237086), (4165, 0.0), (4166, 0.0), (4167, 0.026188575479276943), (4168, 0.0), (4169, 0.0), (4170, 0.010833944200653341), (4171, 0.06544896354316528), (4172, 0.0), (4173, 0.0), (4174, 0.0073787614649692326), (4175, 0.014852363035714512), (4176, 0.004830066011574109), (4177, 0.0), (4178, 0.016453155410739884), (4179, 0.0), (4180, 0.031143388856061844), (4181, 0.0), (4182, 0.013040003058692944), (4183, 0.023993770668338795), (4184, 0.0), (4185, 0.0), (4186, 0.0), (4187, 0.008294108607512554), (4188, 0.0), (4189, 0.006079480845478362), (4190, 0.015093703606882948), (4191, 0.010263911985084664), (4192, 0.014067828316835986), (4193, 0.005511671638262393), (4194, 0.0), (4195, 0.0), (4196, 0.040129989412890234), (4197, 0.0), (4198, 0.0), (4199, 0.0), (4200, 0.013179734280769831), (4201, 0.0), (4202, 0.027632195068400103), (4203, 0.029920979831247408), (4204, 0.0), (4205, 0.016554626993108147), (4206, 0.01284124126666314), (4207, 0.0), (4208, 0.0), (4209, 0.0), (4210, 0.0), (4211, 0.014908683420037157), (4212, 0.0), (4213, 0.0), (4214, 0.0), (4215, 0.006806085545330438), (4216, 0.013651710988983271), (4217, 0.0), (4218, 0.0), (4219, 0.0), (4220, 0.07654637153478763), (4221, 0.0), (4222, 0.0), (4223, 0.028904631744392482), (4224, 0.094763380862535), (4225, 0.0), (4226, 0.0), (4227, 0.0), (4228, 0.017465741611345755), (4229, 0.010447304515470747), (4230, 0.007935494172079111), (4231, 0.0), (4232, 0.0), (4233, 0.025252364454164393), (4234, 0.0), (4235, 0.0), (4236, 0.01227307752627076), (4237, 0.017453075837416943), (4238, 0.0), (4239, 0.0), (4240, 0.013322077810758563), (4241, 0.0), (4242, 0.017862655058750187), (4243, 0.0), (4244, 0.011123142457396748), (4245, 0.0), (4246, 0.04971798881744525), (4247, 0.0), (4248, 0.007375594925905152), (4249, 0.03224345033405124), (4250, 0.015132095391622562), (4251, 0.0), (4252, 0.08831145565380666), (4253, 0.0), (4254, 0.0), (4255, 0.015641597730637072), (4256, 0.008795247580257397), (4257, 0.017062486913263196), (4258, 0.0076458127098562555), (4259, 0.007263910350925062), (4260, 0.0), (4261, 0.01009454371342156), (4262, 0.0), (4263, 0.030426015660902892), (4264, 0.016440686654553144), (4265, 0.0), (4266, 0.02646133548575632), (4267, 0.0), (4268, 0.011507639581200671), (4269, 0.0384440945502868), (4270, 0.004216197253863534), (4271, 0.0), (4272, 0.04507414405613961), (4273, 0.0), (4274, 0.03506312545577801), (4275, 0.0060304730307275695), (4276, 0.016817960385955292), (4277, 0.009099855542419688), (4278, 0.0), (4279, 0.0), (4280, 0.0), (4281, 0.0), (4282, 0.0), (4283, 0.0), (4284, 0.0), (4285, 0.0), (4286, 0.017056970469725742), (4287, 0.0), (4288, 0.0), (4289, 0.0), (4290, 0.016750703297860988), (4291, 0.08887415593016626), (4292, 0.03542947640658219), (4293, 0.011498953911270584), (4294, 0.0), (4295, 0.0), (4296, 0.0), (4297, 0.0), (4298, 0.031603690544245014), (4299, 0.0733909903602496), (4300, 0.0), (4301, 0.0), (4302, 0.011016416127434793), (4303, 0.0), (4304, 0.01717332466552909), (4305, 0.0), (4306, 0.010272538720739868), (4307, 0.03942302984154087), (4308, 0.0), (4309, 0.0), (4310, 0.0), (4311, 0.0), (4312, 0.0046337603457152115), (4313, 0.0), (4314, 0.0), (4315, 0.005960766949221577), (4316, 0.005924499826525698), (4317, 0.009018857707689265), (4318, 0.0), (4319, 0.0), (4320, 0.0), (4321, 0.0), (4322, 0.0), (4323, 0.0), (4324, 0.0), (4325, 0.0), (4326, 0.019109468419471413), (4327, 0.0071354258016731766), (4328, 0.0), (4329, 0.016699453082773083), (4330, 0.01616797147218398), (4331, 0.012775177869754743), (4332, 0.0), (4333, 0.0), (4334, 0.0), (4335, 0.0), (4336, 0.0), (4337, 0.0), (4338, 0.0), (4339, 0.020543057231255248), (4340, 0.015768961826166536), (4341, 0.0), (4342, 0.019260275696626087), (4343, 0.0), (4344, 0.005898635374157923), (4345, 0.049015778138174336), (4346, 0.015577656988538066), (4347, 0.016292403340166448), (4348, 0.04651407664792022), (4349, 0.006904945015894021), (4350, 0.010481459121584567), (4351, 0.00645624736611202), (4352, 0.01455238487695646), (4353, 0.0069181095670639335), (4354, 0.0), (4355, 0.0), (4356, 0.015412538402269861), (4357, 0.013242130024179302), (4358, 0.0), (4359, 0.03515797290005015), (4360, 0.015709707548308596), (4361, 0.020369272909257278), (4362, 0.0), (4363, 0.0), (4364, 0.012052194489868384), (4365, 0.0), (4366, 0.059791563700008085), (4367, 0.0), (4368, 0.0), (4369, 0.0), (4370, 0.0), (4371, 0.0), (4372, 0.015785757279005566), (4373, 0.034675703558553074), (4374, 0.0), (4375, 0.0), (4376, 0.01768023915190787), (4377, 0.014583588456002387), (4378, 0.008990488194279956), (4379, 0.0), (4380, 0.0), (4381, 0.008955106334355622), (4382, 0.038303206025802006), (4383, 0.01462126781474105), (4384, 0.0), (4385, 0.0), (4386, 0.01649537948373326), (4387, 0.02172565107361342), (4388, 0.017457151831277194), (4389, 0.0), (4390, 0.0), (4391, 0.01043472176335795), (4392, 0.021841022556445135), (4393, 0.015618811790120868), (4394, 0.012660394693575201), (4395, 0.02723965025091244), (4396, 0.0), (4397, 0.0), (4398, 0.00918268851459705), (4399, 0.020591841081465306), (4400, 0.0), (4401, 0.016670092444955188), (4402, 0.006025472476294205), (4403, 0.0), (4404, 0.0), (4405, 0.004785827088608749), (4406, 0.05032973474640692), (4407, 0.09416244569319103), (4408, 0.031111842363407537), (4409, 0.0), (4410, 0.0), (4411, 0.018979775627396542), (4412, 0.0), (4413, 0.018747314366687258), (4414, 0.01572553524163186), (4415, 0.0), (4416, 0.0), (4417, 0.0), (4418, 0.021172169436022355), (4419, 0.0), (4420, 0.0), (4421, 0.01753076993059499), (4422, 0.0), (4423, 0.0), (4424, 0.019205267758436957), (4425, 0.02030428283589522), (4426, 0.0), (4427, 0.0), (4428, 0.01309585868396064), (4429, 0.011280864513030824), (4430, 0.0), (4431, 0.0), (4432, 0.0), (4433, 0.017482435529725344), (4434, 0.0), (4435, 0.0), (4436, 0.010803432594839773), (4437, 0.0), (4438, 0.0144586831555003), (4439, 0.016572183473683), (4440, 0.0), (4441, 0.010504552668550708), (4442, 0.07014571380903316), (4443, 0.030014657846793552), (4444, 0.0), (4445, 0.01325750870318266), (4446, 0.0), (4447, 0.017967169092479012), (4448, 0.017008416673320693), (4449, 0.01964463058584775), (4450, 0.022493194174766137), (4451, 0.0), (4452, 0.0), (4453, 0.0), (4454, 0.0), (4455, 0.0), (4456, 0.014136592116773684), (4457, 0.0), (4458, 0.0), (4459, 0.0), (4460, 0.00841115995648583), (4461, 0.0), (4462, 0.0), (4463, 0.0482980135018435), (4464, 0.013851480399633569), (4465, 0.008055491328086703), (4466, 0.0), (4467, 0.02127944960472772), (4468, 0.0063239742580126134), (4469, 0.0), (4470, 0.030867277256038328), (4471, 0.014209636945377743), (4472, 0.01658089250329816), (4473, 0.016428841241076478), (4474, 0.0), (4475, 0.0), (4476, 0.010522384417466266), (4477, 0.010126811701974266), (4478, 0.0), (4479, 0.0), (4480, 0.03831160185090516), (4481, 0.0), (4482, 0.025272780533908596), (4483, 0.015550896788727758), (4484, 0.01826274202752704), (4485, 0.010882510495391132), (4486, 0.05855796036807272), (4487, 0.02058640417839591), (4488, 0.05548741025677488), (4489, 0.04277693456459483), (4490, 0.018711292469146882), (4491, 0.028171004883035068), (4492, 0.052446308843789355), (4493, 0.0), (4494, 0.0), (4495, 0.0), (4496, 0.017610261583509333), (4497, 0.0), (4498, 0.0), (4499, 0.009249589116796068), (4500, 0.0), (4501, 0.015786667337279993), (4502, 0.0), (4503, 0.007985113241938235), (4504, 0.0), (4505, 0.0), (4506, 0.044048456935048955), (4507, 0.032901415704253735), (4508, 0.024322309575533278), (4509, 0.01595051148792839), (4510, 0.0), (4511, 0.017778596938760355), (4512, 0.0), (4513, 0.01642137743897418), (4514, 0.0), (4515, 0.009519370699611564), (4516, 0.0), (4517, 0.0), (4518, 0.029082116943090777), (4519, 0.010311945124305085), (4520, 0.0), (4521, 0.09763787288212974), (4522, 0.0), (4523, 0.0), (4524, 0.008477948521595799), (4525, 0.0), (4526, 0.017443109039183884), (4527, 0.0), (4528, 0.016952961284566758), (4529, 0.0), (4530, 0.0), (4531, 0.0), (4532, 0.0), (4533, 0.04673272311087312), (4534, 0.014752817539538273), (4535, 0.005847962899930091), (4536, 0.010539906100348276), (4537, 0.0), (4538, 0.0), (4539, 0.01662312379879856), (4540, 0.0), (4541, 0.0), (4542, 0.014243346051443936), (4543, 0.0), (4544, 0.0), (4545, 0.014027653516628413), (4546, 0.007330711146346329), (4547, 0.09005621180927147), (4548, 0.0), (4549, 0.008897412725642862), (4550, 0.0), (4551, 0.0), (4552, 0.011522005373515203), (4553, 0.0), (4554, 0.008187146146951062), (4555, 0.0), (4556, 0.0), (4557, 0.007757756296399949), (4558, 0.031173048937759813), (4559, 0.06273246795817322), (4560, 0.021151163235318318), (4561, 0.0), (4562, 0.0), (4563, 0.005918496472459553), (4564, 0.0), (4565, 0.04411377302980521), (4566, 0.0), (4567, 0.0), (4568, 0.0), (4569, 0.010361892734219842), (4570, 0.0), (4571, 0.0), (4572, 0.0), (4573, 0.009422114446326568), (4574, 0.0), (4575, 0.0), (4576, 0.045452324763294555), (4577, 0.016504262536439288), (4578, 0.01710233086116321), (4579, 0.011601691134207023), (4580, 0.0), (4581, 0.0), (4582, 0.0), (4583, 0.009513041142173571), (4584, 0.0), (4585, 0.0), (4586, 0.0), (4587, 0.021281348731006355), (4588, 0.0), (4589, 0.0), (4590, 0.03245267233754729), (4591, 0.0), (4592, 0.0), (4593, 0.017307736783216073), (4594, 0.0), (4595, 0.0), (4596, 0.0), (4597, 0.020075406337168745), (4598, 0.0), (4599, 0.02573239753027934), (4600, 0.01244967835366817), (4601, 0.0), (4602, 0.0), (4603, 0.01952334846782178), (4604, 0.0), (4605, 0.009914941936843688), (4606, 0.014630093317166176), (4607, 0.0), (4608, 0.0), (4609, 0.0), (4610, 0.018517779949272267), (4611, 0.03643063641308942), (4612, 0.0), (4613, 0.03690797921743636), (4614, 0.0), (4615, 0.017947412949327366), (4616, 0.0), (4617, 0.0), (4618, 0.0), (4619, 0.0), (4620, 0.009253387026938002), (4621, 0.008455573559056425), (4622, 0.01616077376207667), (4623, 0.025783170934458637), (4624, 0.018321299633747446), (4625, 0.016993872541507474), (4626, 0.0), (4627, 0.01598417925247319), (4628, 0.0), (4629, 0.010875332097979754), (4630, 0.06757618323945652), (4631, 0.017920996782455317), (4632, 0.017994789949257742), (4633, 0.0), (4634, 0.0), (4635, 0.0), (4636, 0.017866167564406125), (4637, 0.0), (4638, 0.010609716583296246), (4639, 0.0), (4640, 0.0), (4641, 0.0), (4642, 0.018498415631182322), (4643, 0.016449472813327932), (4644, 0.03929176349829527), (4645, 0.0), (4646, 0.0), (4647, 0.04385373024249249), (4648, 0.014404452515334983), (4649, 0.01570776687710114), (4650, 0.016450517216293044), (4651, 0.01553829542259046), (4652, 0.01026390090154099), (4653, 0.0), (4654, 0.008398775061683707), (4655, 0.015304659319975471), (4656, 0.0), (4657, 0.0), (4658, 0.0), (4659, 0.017781392155416055), (4660, 0.015176405184284245), (4661, 0.0), (4662, 0.0), (4663, 0.0), (4664, 0.04142798304037874), (4665, 0.012282725150964843), (4666, 0.004916946695375509), (4667, 0.0), (4668, 0.0), (4669, 0.0172262206181053), (4670, 0.05388749467143344), (4671, 0.0), (4672, 0.0), (4673, 0.0), (4674, 0.0), (4675, 0.017496063247876607), (4676, 0.0), (4677, 0.0), (4678, 0.0629349349278678), (4679, 0.0), (4680, 0.05941507159277431), (4681, 0.017050909798271577), (4682, 0.0), (4683, 0.0), (4684, 0.0), (4685, 0.0), (4686, 0.0), (4687, 0.01496954081648305), (4688, 0.008634298481126946), (4689, 0.0), (4690, 0.0), (4691, 0.03054789086434848), (4692, 0.0), (4693, 0.0), (4694, 0.016757724881551868), (4695, 0.013684940071158062), (4696, 0.009473036628752578), (4697, 0.0), (4698, 0.0), (4699, 0.0), (4700, 0.017944920246578167), (4701, 0.016779634229410333), (4702, 0.018938225815147425), (4703, 0.0), (4704, 0.015239079021887106), (4705, 0.02236966570443353), (4706, 0.0), (4707, 0.0), (4708, 0.00951000191897904), (4709, 0.0), (4710, 0.0), (4711, 0.009211756553960317), (4712, 0.0), (4713, 0.0), (4714, 0.03270651478712441), (4715, 0.0), (4716, 0.0), (4717, 0.015145958465866137), (4718, 0.0301428897263634), (4719, 0.0), (4720, 0.014876450125843106), (4721, 0.0), (4722, 0.02746801308461979), (4723, 0.010401211531699), (4724, 0.0), (4725, 0.02709917808719458), (4726, 0.0), (4727, 0.005856647866908231), (4728, 0.0), (4729, 0.0), (4730, 0.0), (4731, 0.01853994986269311), (4732, 0.0), (4733, 0.0), (4734, 0.007592259244442304), (4735, 0.0), (4736, 0.0), (4737, 0.0), (4738, 0.016670021966483393), (4739, 0.0), (4740, 0.0), (4741, 0.033962363643521905), (4742, 0.0), (4743, 0.0), (4744, 0.0), (4745, 0.0), (4746, 0.014955038983554892), (4747, 0.0), (4748, 0.0), (4749, 0.0), (4750, 0.08878276441677749), (4751, 0.0), (4752, 0.0075050352496966915), (4753, 0.0), (4754, 0.0), (4755, 0.0), (4756, 0.011513003281469272), (4757, 0.022987469042943756), (4758, 0.012058337156175335), (4759, 0.0), (4760, 0.029956594487323285), (4761, 0.0), (4762, 0.0), (4763, 0.0), (4764, 0.0), (4765, 0.009502568215090258), (4766, 0.013693194542991532), (4767, 0.0), (4768, 0.0), (4769, 0.009169940146023502), (4770, 0.0), (4771, 0.01414495249429431), (4772, 0.016734856647111027), (4773, 0.01552659831780363), (4774, 0.01694234707891254), (4775, 0.0), (4776, 0.0), (4777, 0.0), (4778, 0.06211629300561927), (4779, 0.024298609271579938), (4780, 0.0), (4781, 0.010593905351645286), (4782, 0.0), (4783, 0.0), (4784, 0.01883915987347504), (4785, 0.0), (4786, 0.0), (4787, 0.014194913096379195), (4788, 0.0), (4789, 0.0), (4790, 0.0), (4791, 0.010922845611898553), (4792, 0.0), (4793, 0.0), (4794, 0.0), (4795, 0.0), (4796, 0.014652873270745825), (4797, 0.0), (4798, 0.042419227573511076), (4799, 0.0), (4800, 0.016535285804849927), (4801, 0.00960469532783672), (4802, 0.0)]\n"
          ]
        }
      ]
    },
    {
      "cell_type": "code",
      "source": [
        "len(Recommendation_Score)"
      ],
      "metadata": {
        "colab": {
          "base_uri": "https://localhost:8080/"
        },
        "id": "9EK-R2Jz937Y",
        "outputId": "6443fd5a-168e-497b-8c33-4512971176ab"
      },
      "execution_count": 124,
      "outputs": [
        {
          "output_type": "execute_result",
          "data": {
            "text/plain": [
              "4803"
            ]
          },
          "metadata": {},
          "execution_count": 124
        }
      ]
    },
    {
      "cell_type": "markdown",
      "source": [
        "### Get All Movies Sort Based on Recommendation Score wrt Favourite Movie"
      ],
      "metadata": {
        "id": "0yzPYzJH-B83"
      }
    },
    {
      "cell_type": "code",
      "source": [
        "Sorted_Similar_Movies =  sorted(Recommendation_Score, key =  lambda x:x[1], reverse =  True)\n",
        "\n",
        "print(Sorted_Similar_Movies)"
      ],
      "metadata": {
        "colab": {
          "base_uri": "https://localhost:8080/"
        },
        "id": "xF-EUaDQ-UBv",
        "outputId": "b26747c3-ec4b-4605-9a84-6e4892b223f1"
      },
      "execution_count": 125,
      "outputs": [
        {
          "output_type": "stream",
          "name": "stdout",
          "text": [
            "[(44, 1.0000000000000004), (99, 0.35772274595060055), (500, 0.26846163824258396), (204, 0.2612969626467779), (1083, 0.16582028649040384), (2229, 0.16238117540630417), (1573, 0.15619619330255316), (2775, 0.1494768351880041), (111, 0.14647582333836245), (914, 0.14463294492824308), (658, 0.14324714436471053), (574, 0.14134931597316588), (2803, 0.13478981389158134), (35, 0.1311826847769957), (94, 0.13100271602142272), (2442, 0.12955921997598943), (0, 0.12592130968392423), (628, 0.12526400187821923), (166, 0.12213017816601222), (486, 0.12111846384673412), (544, 0.12091368497210368), (807, 0.12071904184923003), (1319, 0.12056043797185505), (568, 0.1196540638843325), (2399, 0.1160881363677269), (3173, 0.1153325165955906), (402, 0.11507743823001321), (657, 0.1133331749174081), (1347, 0.1124623802342314), (1792, 0.11237348172961348), (223, 0.1120860515234665), (285, 0.11147751193621398), (1995, 0.10983243255528102), (437, 0.10939733775168443), (1986, 0.10779949791974258), (1395, 0.10771747480251409), (495, 0.10585365140638553), (2467, 0.10574248969992514), (2596, 0.1044224165072646), (184, 0.10355261965188176), (977, 0.10047253504020823), (3554, 0.10015655881096219), (4521, 0.09763787288212974), (715, 0.09634487865042274), (595, 0.09533888456912115), (2218, 0.09521925581119592), (4224, 0.094763380862535), (808, 0.09460139617766421), (4407, 0.09416244569319103), (304, 0.0936282704080532), (597, 0.09286704179039167), (1777, 0.09257754272999469), (1615, 0.0925473122880002), (244, 0.09215997885444918), (754, 0.09174696192412311), (4547, 0.09005621180927147), (4291, 0.08887415593016626), (4750, 0.08878276441677749), (4252, 0.08831145565380666), (1939, 0.087995742768529), (2096, 0.08703624446139908), (1160, 0.08654666935849252), (2539, 0.08506156575079385), (984, 0.08386693654845466), (405, 0.08287854602218545), (556, 0.08264305177542772), (2511, 0.08130725866002457), (2301, 0.0812831370117392), (931, 0.08059586063554273), (1310, 0.08029860442034596), (2458, 0.0800839332590509), (1855, 0.07974146493980636), (1602, 0.07971091729995601), (346, 0.07855946530471776), (2021, 0.07686389274092903), (4220, 0.07654637153478763), (3973, 0.07600558203387248), (3297, 0.07512496033226354), (483, 0.07502518307230117), (362, 0.0749600393389111), (255, 0.0742027782848715), (4299, 0.0733909903602496), (1084, 0.07324612734905721), (1742, 0.07291058733908948), (2309, 0.07281652037317679), (1450, 0.07143058632436235), (805, 0.07089595976407118), (4442, 0.07014571380903316), (4044, 0.0700318615344383), (769, 0.06959355465457004), (2435, 0.06925381290416227), (1154, 0.06896708045071608), (2815, 0.0688076964361213), (1107, 0.06864840529194993), (2403, 0.06847917136997028), (2910, 0.0683126015672834), (1894, 0.0682734183808452), (1998, 0.06819990725632165), (4630, 0.06757618323945652), (310, 0.06707066277915029), (579, 0.06673237570193881), (1436, 0.06619780832954118), (2546, 0.0661684817546642), (4171, 0.06544896354316528), (1983, 0.06492253888324845), (4113, 0.06418815630800126), (1172, 0.06413923475608826), (1568, 0.06391864157202438), (3436, 0.06325464736014143), (3664, 0.06323697641799841), (4678, 0.0629349349278678), (4559, 0.06273246795817322), (4778, 0.06211629300561927), (287, 0.06201118033079089), (1769, 0.06141666942696632), (3074, 0.06113613753285171), (37, 0.06111408888777746), (164, 0.06105974580507477), (2043, 0.06020035633528519), (1485, 0.05988753691566681), (2165, 0.059824553855458776), (2388, 0.05980142998760609), (4366, 0.059791563700008085), (516, 0.05958258623313161), (307, 0.059505956799694094), (4680, 0.05941507159277431), (107, 0.05935146054650051), (4109, 0.059145216708245366), (1713, 0.059053996190992275), (2265, 0.058999247426767557), (4486, 0.05855796036807272), (355, 0.058530221598707), (584, 0.05849531522506521), (3941, 0.058417622854053414), (2579, 0.05826919391922829), (2082, 0.05817723088184566), (1493, 0.05794203188922635), (1361, 0.05758840091515303), (217, 0.05757133791420986), (2981, 0.0574444487252673), (1701, 0.057396312773537156), (570, 0.05712126627917692), (3518, 0.056691143254419346), (4488, 0.05548741025677488), (2241, 0.05536972219604908), (1363, 0.05531002396724351), (919, 0.055272834042664504), (2146, 0.054777748160647316), (3439, 0.054497969297902106), (2409, 0.05449383604349353), (439, 0.05439638999191762), (2246, 0.054364858398565315), (4670, 0.05388749467143344), (270, 0.05381461147088733), (55, 0.05361925610865629), (4082, 0.053554381274013796), (2367, 0.05334754485596567), (1810, 0.05329807060973262), (2296, 0.05329161373930118), (4492, 0.052446308843789355), (501, 0.05222603749965608), (1302, 0.0521485912637929), (669, 0.05210210871558953), (3799, 0.05208624605722245), (226, 0.05187006785678617), (2717, 0.05164915638428801), (1177, 0.05148575865727856), (1816, 0.051133972263895454), (2541, 0.05057425353021469), (3349, 0.05040175172575587), (4406, 0.05032973474640692), (3976, 0.050277318100594506), (286, 0.0502664977123865), (591, 0.05013287041630367), (1075, 0.05007719565765618), (1506, 0.049906861015584635), (246, 0.049879829249960116), (880, 0.049777056559564395), (4246, 0.04971798881744525), (2181, 0.04949711542521888), (624, 0.04943354551172843), (1207, 0.049432895941141086), (218, 0.04916659327642605), (4345, 0.049015778138174336), (1675, 0.048974227635826), (1839, 0.04895648650621778), (1135, 0.04879157795347755), (3432, 0.04868058300564123), (3711, 0.0483278404444374), (4463, 0.0482980135018435), (2995, 0.048277597684613226), (2275, 0.04817156435441155), (455, 0.04810014147716061), (3909, 0.04806324520029723), (2245, 0.04794293641859295), (3539, 0.04773430849327415), (2093, 0.047732973488770425), (171, 0.047541485091134705), (3039, 0.047351361223623344), (2237, 0.04731269969698888), (1155, 0.0471377849398864), (3854, 0.04711057235233453), (4533, 0.04673272311087312), (2728, 0.046688246443472206), (916, 0.04663937794016354), (2194, 0.046598525944737665), (3940, 0.04654179503728976), (4348, 0.04651407664792022), (1671, 0.04643938915652355), (529, 0.046024736977515315), (818, 0.04598190331743801), (2249, 0.04596237776077907), (2967, 0.04592222670445993), (2406, 0.04589232295082765), (4033, 0.04573088290043206), (3319, 0.045708270344587826), (1199, 0.045674895809824013), (3996, 0.045601659106628445), (812, 0.0455062522334595), (389, 0.045457825269018634), (4576, 0.045452324763294555), (157, 0.045137239164022645), (960, 0.04508215719120486), (4272, 0.04507414405613961), (1382, 0.04499812911111523), (3163, 0.04492694833119126), (4077, 0.04491664172407416), (3343, 0.04487517480829559), (1953, 0.044804278803831143), (4134, 0.04474709357439494), (1469, 0.044723754885281186), (1335, 0.044473947168160846), (2771, 0.04444213405391899), (2336, 0.04443763591615689), (564, 0.04442140265590368), (758, 0.04433977019048016), (768, 0.04429720998267283), (1334, 0.0442601009586285), (512, 0.04411547063089716), (4565, 0.04411377302980521), (4087, 0.04409251411657521), (4506, 0.044048456935048955), (368, 0.043900697890121854), (643, 0.04386234804515926), (4647, 0.04385373024249249), (447, 0.04384224561826839), (2419, 0.04379517543029393), (1850, 0.04373656816690019), (148, 0.04371731513946102), (2255, 0.04368782471799095), (1111, 0.0435968454911317), (3105, 0.04327467762318465), (1488, 0.04326279138145308), (1959, 0.0432607193625515), (2007, 0.04323825863908411), (641, 0.042925002846085705), (10, 0.042824357740479796), (2125, 0.04282369734172492), (4489, 0.04277693456459483), (3079, 0.04276660010435463), (2254, 0.04274563150155896), (2360, 0.04253839058563418), (3819, 0.04247260423564222), (4798, 0.042419227573511076), (101, 0.04240986374926169), (3786, 0.042407870259394395), (2712, 0.042043723324981935), (141, 0.041955116684443454), (1902, 0.041899129021605), (2198, 0.041841813381142255), (3201, 0.04175770780284102), (133, 0.041741300756802165), (428, 0.041706302985514726), (3988, 0.04161073082743309), (4664, 0.04142798304037874), (1106, 0.04124023182625818), (3325, 0.04120871711422397), (3785, 0.04112442075727636), (3317, 0.04112016516489493), (2492, 0.040990783532871174), (2008, 0.0409497632590296), (3038, 0.04069602178617415), (1029, 0.04069148006477098), (3497, 0.04063421337240001), (4124, 0.04062886513298702), (3777, 0.04058046095545695), (1440, 0.040434245053169), (227, 0.040333003923931396), (2450, 0.04028956302856678), (4196, 0.040129989412890234), (1121, 0.040113923801957885), (518, 0.040099860615830867), (1746, 0.03987050568161832), (1740, 0.039866154762289344), (1444, 0.03985461315734054), (335, 0.03976334018172176), (3583, 0.039762602333015394), (45, 0.03976218196138542), (933, 0.03972369917159191), (312, 0.03965484075515617), (2134, 0.0396060004485043), (2980, 0.039483283157514086), (1620, 0.03948096521180564), (4307, 0.03942302984154087), (4644, 0.03929176349829527), (3557, 0.0392403754534652), (245, 0.039091012842289684), (3493, 0.03901273989946341), (1078, 0.038938059696775225), (549, 0.038921399251677084), (2752, 0.038863071633477714), (1245, 0.03884582442933713), (2603, 0.038760167642513554), (2543, 0.03875659688414472), (3434, 0.03871696814962436), (630, 0.038656620724451876), (3836, 0.03865190152226183), (1886, 0.038579267814883356), (5, 0.03857394968960329), (177, 0.03855988079869281), (30, 0.03855415842932386), (2085, 0.038545270639346874), (1783, 0.03852630910345092), (4269, 0.0384440945502868), (1002, 0.03839363098202022), (4480, 0.03831160185090516), (4382, 0.038303206025802006), (842, 0.038156181912022136), (930, 0.03814918621527437), (1179, 0.038087818816114595), (1948, 0.03804074110108389), (3286, 0.03801581567269211), (799, 0.037992102465370096), (4000, 0.03797338073732009), (3974, 0.037932330253425656), (1791, 0.03785524314749979), (3438, 0.037854617497849054), (2235, 0.037822613545690185), (2542, 0.03778415728848881), (2011, 0.037746918102353616), (3222, 0.0376951986106305), (493, 0.03764364264606958), (753, 0.03763302094423254), (3904, 0.03747655427924607), (180, 0.03737843201512756), (1007, 0.03732095133752232), (3110, 0.03728689340872453), (1500, 0.03726312787374446), (2476, 0.03703167959339118), (4613, 0.03690797921743636), (2763, 0.036839480087659256), (232, 0.03679813192820169), (46, 0.03671487374887187), (877, 0.036675634319963124), (577, 0.036617582653991884), (3862, 0.03660331485208478), (623, 0.036567676714060984), (1499, 0.036519794615825336), (4611, 0.03643063641308942), (3177, 0.03639911115437207), (1532, 0.03638494987008405), (1282, 0.03613385778044493), (1808, 0.03609452057997209), (3238, 0.03606314058712552), (709, 0.03604314760175141), (2617, 0.036013864489091635), (159, 0.03593717927141972), (2571, 0.03591361280730907), (201, 0.035825061163346744), (1291, 0.035816383597724745), (2169, 0.03581227657055558), (2774, 0.035780883408359714), (3681, 0.03571142122731173), (989, 0.03568606399964597), (3285, 0.03567512769103698), (2183, 0.035651003313415246), (1124, 0.03561909633503312), (3907, 0.03561304310468984), (2027, 0.03558800758233189), (3377, 0.035546193979030964), (698, 0.0355394681461861), (465, 0.035488724092788984), (4292, 0.03542947640658219), (1435, 0.03520023094781892), (4359, 0.03515797290005015), (2555, 0.035145275829691236), (2086, 0.035122775604298564), (3019, 0.03510671157572702), (1806, 0.03510236847079761), (2833, 0.03507477981086168), (1333, 0.03506372750001872), (4274, 0.03506312545577801), (295, 0.034839697536133876), (1299, 0.034832721673774686), (1019, 0.03482782501440874), (25, 0.03482163038221564), (3075, 0.0347808274069896), (1720, 0.0347619880713283), (4373, 0.034675703558553074), (781, 0.03465488013186453), (1275, 0.03443404715697108), (824, 0.03443048910382725), (3669, 0.03439709905996013), (1847, 0.034311403434196086), (1546, 0.0343091701377471), (3658, 0.034295655268296685), (2355, 0.034293672477530755), (380, 0.034288921500836504), (1388, 0.03423625208723662), (541, 0.03419952909334216), (3804, 0.034183317717356845), (3821, 0.03414856624706679), (3395, 0.03413416912724738), (4103, 0.03411135735809888), (3337, 0.03409117626811206), (2797, 0.03407224470157492), (1743, 0.03403366378927672), (971, 0.034004628987291424), (4741, 0.033962363643521905), (3266, 0.03395745951929729), (1451, 0.03380029260922551), (3054, 0.033783477193550515), (1452, 0.03362633453713336), (3430, 0.03361669706258738), (538, 0.033612856523711376), (347, 0.033579779462003204), (2298, 0.03352614842597356), (569, 0.03351849323150877), (3462, 0.033487822176970425), (1994, 0.03343146940288171), (460, 0.033211318146712444), (1586, 0.033177178954677346), (3070, 0.0331425824551795), (941, 0.033022829425723), (2611, 0.03299741245959398), (1065, 0.03299052859317073), (2625, 0.032960946115874336), (1185, 0.03295455371126504), (2104, 0.03293054276445728), (1632, 0.032923398642544385), (4507, 0.032901415704253735), (3037, 0.03281666340556503), (1225, 0.03276708635311204), (4714, 0.03270651478712441), (2748, 0.032622885227021434), (783, 0.03258201856330779), (390, 0.0325704110330277), (1560, 0.032559612286194806), (3381, 0.03251088684304235), (4590, 0.03245267233754729), (686, 0.03244654536422758), (3568, 0.0323721733969347), (1928, 0.0323199114708293), (1051, 0.032288234262364574), (4249, 0.03224345033405124), (1915, 0.032221801041789434), (4130, 0.03214602912420157), (1918, 0.032110311092049836), (1744, 0.032041327898926525), (3018, 0.032027689444257205), (182, 0.03198039794480362), (1898, 0.03194041510831518), (2089, 0.031926758532573755), (476, 0.03182638991848885), (414, 0.03169332912099425), (284, 0.03166756297771081), (4298, 0.031603690544245014), (593, 0.03158556273053374), (386, 0.03151075981918794), (448, 0.03140109765996908), (3127, 0.03139514204656549), (67, 0.031387438099442354), (3338, 0.03133783127495781), (3406, 0.031324909727368865), (324, 0.0313189406698583), (3791, 0.03130297327702635), (2606, 0.03122020852324399), (4558, 0.031173048937759813), (3198, 0.031161851577028606), (4180, 0.031143388856061844), (4408, 0.031111842363407537), (64, 0.031029790081134063), (732, 0.031005321851847022), (2553, 0.03099278522840098), (1961, 0.03096577411640868), (1897, 0.030923602076258293), (4125, 0.030894712272282264), (1559, 0.030870510130466166), (4470, 0.030867277256038328), (2176, 0.030764162355651988), (1646, 0.03069060571148094), (2515, 0.030670689110943786), (4045, 0.03066431031045467), (3822, 0.030547947623385314), (4691, 0.03054789086434848), (406, 0.030521268346773087), (4263, 0.030426015660902892), (2988, 0.030412022790627154), (611, 0.03040206525408716), (751, 0.030334122324376406), (3175, 0.030286248370980075), (3683, 0.03024928179604044), (733, 0.030227117327254756), (176, 0.030215028422151582), (4718, 0.0301428897263634), (3710, 0.03007832286435761), (4443, 0.030014657846793552), (4760, 0.029956594487323285), (1143, 0.029927097568184097), (4203, 0.029920979831247408), (3920, 0.029881469147515993), (3500, 0.02986638757467823), (2547, 0.029851573791474812), (2510, 0.029806282371521893), (613, 0.029679608029003386), (2506, 0.0294985573054918), (2708, 0.029479354996210197), (2151, 0.029472522831263726), (2927, 0.029392939742822078), (3535, 0.029196279113471012), (800, 0.02915773025400359), (318, 0.029108869387658536), (4518, 0.029082116943090777), (986, 0.029017726873818997), (2994, 0.02901428242000394), (2188, 0.028960496423228517), (4161, 0.028955556684512357), (365, 0.028943438328558), (4223, 0.028904631744392482), (3750, 0.02884039965020308), (1343, 0.028838231268958466), (1957, 0.028821007148158207), (2225, 0.02879540647674323), (4020, 0.028769955193320877), (400, 0.028750330617020935), (1066, 0.02874062912791082), (1854, 0.02863748444415608), (1896, 0.02863178480166595), (2175, 0.028597735342646903), (3483, 0.028533926876788268), (1594, 0.02833481293812021), (4150, 0.028232698919756008), (2444, 0.028222115670534263), (4491, 0.028171004883035068), (3015, 0.02808512458422738), (690, 0.02807849826170837), (3594, 0.028024861341509014), (1659, 0.02792903055448415), (3, 0.027888969706491767), (3479, 0.027876577463513307), (3382, 0.02786151798191338), (436, 0.027850502377318318), (2493, 0.027850086518569548), (271, 0.027835182506510903), (151, 0.027803146897952432), (3437, 0.027788717271040316), (56, 0.027771378866431586), (1020, 0.027727455490297703), (1399, 0.027636703915795067), (4202, 0.027632195068400103), (18, 0.02759061511446803), (198, 0.027575694756411313), (13, 0.027513212211908535), (358, 0.02750602893710228), (1779, 0.027501624226217127), (2215, 0.027487984652459635), (4722, 0.02746801308461979), (1920, 0.027460306307684673), (1821, 0.027442800147986227), (3490, 0.027404269913899038), (1960, 0.02740226922307668), (1000, 0.02735673589523198), (1725, 0.02732555747050762), (872, 0.027307240900890175), (1152, 0.02726833963812354), (963, 0.027254818719363662), (242, 0.027243701826313103), (4395, 0.02723965025091244), (3330, 0.027218058508688508), (1503, 0.027213157058738974), (4725, 0.02709917808719458), (38, 0.027069403635613137), (2405, 0.027043364177651144), (2407, 0.02703143586995123), (3180, 0.02700872770927163), (2390, 0.026986377764311877), (209, 0.02695430908777817), (225, 0.02691107235632064), (2002, 0.02690869455853535), (2645, 0.02686413042333459), (2274, 0.026851299552716597), (3960, 0.02662803949380872), (279, 0.026608859804324952), (1174, 0.02653963537061036), (20, 0.02650563974315607), (674, 0.026486007509065445), (2587, 0.026474336087273016), (1183, 0.02646354709654789), (4266, 0.02646133548575632), (74, 0.026427014688495284), (1076, 0.026356738248871463), (1844, 0.026309172516974705), (293, 0.026305166969385795), (392, 0.02630055898705877), (2529, 0.026274084958162077), (491, 0.026243699980951034), (4167, 0.026188575479276943), (1467, 0.026163442636451477), (28, 0.026158446937012456), (566, 0.02614309116422825), (207, 0.02610193737075328), (1398, 0.026048308009716952), (2320, 0.02604555150200426), (3833, 0.026006136174527676), (3831, 0.025950459803639515), (3642, 0.025946293195832502), (4013, 0.025907429232734577), (1425, 0.02586812932538149), (3857, 0.025830634026952737), (3208, 0.025827502840257338), (14, 0.025804574248189716), (4623, 0.025783170934458637), (85, 0.025772810271959067), (2997, 0.025771146020146116), (425, 0.02574730785806902), (859, 0.02574705796692509), (2533, 0.025733257108993005), (4599, 0.02573239753027934), (1447, 0.025718170575067645), (1737, 0.025686316318370865), (212, 0.025679673759554454), (1826, 0.025671340359238893), (72, 0.025640343988506377), (1089, 0.025621458257822673), (782, 0.02562056069959924), (122, 0.025615044782161766), (108, 0.025614444074416754), (1445, 0.02559788078235633), (1055, 0.02556184431971985), (702, 0.025538852021481095), (2100, 0.025501565211784753), (213, 0.025491613261541084), (604, 0.025448435337748612), (1114, 0.025448285978204532), (1482, 0.025437473253701794), (653, 0.025403185493382892), (82, 0.02538301613244519), (1118, 0.02537561516990414), (1264, 0.025366577949623874), (266, 0.025307396006077884), (381, 0.025282647686984423), (4482, 0.025272780533908596), (4233, 0.025252364454164393), (804, 0.02524680766665379), (160, 0.025231966835317716), (553, 0.02521605430910507), (664, 0.02517794382076093), (3351, 0.02515706245392733), (366, 0.0251429414598454), (4022, 0.025117096404500203), (1217, 0.025114219387952864), (237, 0.025110971440610655), (2398, 0.02508043581490252), (68, 0.02505871942411579), (3715, 0.025028496473628214), (773, 0.024950013664803074), (71, 0.02493760060211889), (127, 0.024859370292226596), (917, 0.02484137542843033), (2207, 0.024784299077545854), (2022, 0.0247750660040007), (3516, 0.02476243701766352), (326, 0.024728984780337186), (2648, 0.024699778586196465), (2141, 0.024658134337380778), (1431, 0.02464804081284104), (3795, 0.02462342615614099), (260, 0.02458173321904541), (911, 0.024562610709373517), (2075, 0.0245444614019075), (586, 0.02451764588279232), (29, 0.024513567986962935), (1158, 0.02443296283311023), (252, 0.024374977328793186), (1907, 0.024363201132370404), (976, 0.024325743255852596), (4508, 0.024322309575533278), (537, 0.024303353819283557), (4779, 0.024298609271579938), (1178, 0.024295731334898475), (76, 0.024290932577438546), (3299, 0.024257590895568823), (1321, 0.024251241064365863), (61, 0.024242116928755678), (1628, 0.024238251514706925), (394, 0.0242342047958669), (59, 0.02423086789779949), (741, 0.024207831619324164), (249, 0.024167630008732295), (3522, 0.024167371906923647), (3667, 0.02415859234306797), (932, 0.02413739768127327), (1661, 0.024113851019641648), (256, 0.02410445213355398), (1100, 0.024103269297567113), (3304, 0.024092512913780343), (1266, 0.024072230832102172), (767, 0.02405998520553628), (894, 0.024054306946708834), (4183, 0.023993770668338795), (150, 0.023959672615448464), (634, 0.02391904764814821), (196, 0.023906348448250438), (98, 0.02389527216196307), (3251, 0.02387674048014301), (629, 0.02382680269318111), (257, 0.023803369422102955), (79, 0.02376584754162441), (1139, 0.023755141970259134), (3536, 0.023748648284027396), (167, 0.023747961021415596), (342, 0.023712144542426133), (361, 0.023681798243404162), (9, 0.023674020447394167), (774, 0.023639995506745858), (607, 0.023636928136447664), (1146, 0.023619387269930098), (784, 0.023595399924187382), (3153, 0.023583571041433122), (2650, 0.023574985931524475), (4099, 0.02356484961232342), (53, 0.02356222895508333), (1608, 0.023528823588263144), (21, 0.023475321454759394), (3882, 0.02347439840725471), (2776, 0.023336745587717273), (3290, 0.023328117556934782), (216, 0.023318071358539614), (4024, 0.023308818851827402), (152, 0.023306914967203347), (138, 0.023304901161135788), (300, 0.023255692308760276), (2592, 0.023252373210509353), (1137, 0.023250248327655886), (2558, 0.023242173921462085), (2, 0.02320823420671475), (2288, 0.023143756714329396), (1652, 0.023135298860206537), (418, 0.02309841774233809), (3945, 0.02308663932761843), (115, 0.023080479577653176), (253, 0.023078077949300602), (1505, 0.023036529207073737), (750, 0.02303304396999857), (3942, 0.02302246729929123), (3032, 0.023020147160709867), (1653, 0.02302009909261426), (582, 0.023014090599780497), (3668, 0.02299543805697979), (4757, 0.022987469042943756), (836, 0.022950288618485328), (2597, 0.022949701238611998), (241, 0.022934865893934606), (296, 0.022897814681887577), (121, 0.022894440142007894), (3878, 0.022892074364295408), (353, 0.022861701118785452), (1110, 0.022860567486066168), (4149, 0.02278660687504663), (2986, 0.022774248776905422), (1633, 0.022748274000006147), (790, 0.02274803667415383), (1298, 0.022721493626558627), (3098, 0.022650873052532293), (893, 0.022645526936503207), (134, 0.022636401077724848), (3393, 0.022593361905273918), (224, 0.022587394685220193), (3151, 0.022578709182606682), (3982, 0.022546260739862354), (2777, 0.02254196200682957), (2996, 0.022532435849772933), (777, 0.02253232195153039), (3749, 0.022527910168180863), (2157, 0.022496751157307655), (4450, 0.022493194174766137), (36, 0.02248971575102333), (153, 0.022475191927381254), (3696, 0.02245917507326185), (91, 0.022446496927945484), (391, 0.022444629723939638), (3033, 0.02243809369447767), (2459, 0.022390184916191946), (2050, 0.02238057057492754), (1892, 0.02237399746518953), (4705, 0.02236966570443353), (571, 0.022329524351152222), (788, 0.022313282262184812), (1271, 0.022312812546538), (1984, 0.02229194998342359), (761, 0.02228749054507884), (1735, 0.022243153410249416), (231, 0.022230738174516467), (292, 0.02222136888015885), (828, 0.02218758420809354), (2054, 0.022183763651624423), (52, 0.022166647081789417), (2819, 0.022144365567214292), (2709, 0.02210662169177818), (1056, 0.02210521110795324), (3578, 0.022042871628714596), (4146, 0.022035255977682088), (1672, 0.021999786328364593), (3293, 0.02198947788331291), (494, 0.021984184213988664), (728, 0.021980062647847187), (510, 0.02195289395670608), (3154, 0.02194602653773554), (2678, 0.021910784061649993), (1750, 0.02186188830440152), (3739, 0.021853068285619198), (1753, 0.021845197892834928), (4392, 0.021841022556445135), (3477, 0.021840564426468183), (1070, 0.021834514374901245), (1323, 0.021827130214550794), (408, 0.021809907646357832), (19, 0.021796163039984082), (2200, 0.021763600226205434), (4387, 0.02172565107361342), (3584, 0.02171215338617184), (267, 0.021672922976029317), (937, 0.021663934156778385), (2185, 0.021647589508457712), (411, 0.021631530641689756), (2029, 0.021613436105272374), (290, 0.021557309081858364), (379, 0.021528224492904893), (51, 0.021487120684900905), (139, 0.021460978296363807), (3062, 0.021460926426970547), (1138, 0.021418911296301066), (1193, 0.021418386738906822), (654, 0.021411378588311384), (2909, 0.02139715985741552), (238, 0.021381212315549063), (2644, 0.02137513471582522), (3135, 0.021344498460663063), (444, 0.021333397064097263), (3366, 0.02130721710238907), (2136, 0.02128748497154894), (1895, 0.021286016974694264), (4587, 0.021281348731006355), (4467, 0.02127944960472772), (906, 0.021269408290833264), (2340, 0.02124503385237329), (288, 0.021232973125198847), (147, 0.021225246743603623), (1119, 0.02119980239530324), (4418, 0.021172169436022355), (3526, 0.021158257676873224), (2438, 0.021154459259671105), (4560, 0.021151163235318318), (1647, 0.021150833854732175), (1582, 0.02113902134161434), (1651, 0.021118881695974024), (1962, 0.021103718832261635), (3211, 0.02110059714610408), (1101, 0.021052547004225187), (3130, 0.02104484216150124), (864, 0.0210358289942215), (3371, 0.021031471198199193), (1049, 0.02102821399475977), (2701, 0.020936625607801282), (2860, 0.020923020614254842), (3271, 0.020911364755639754), (1131, 0.020907448795533377), (680, 0.020898187271717182), (282, 0.020879373510686423), (1213, 0.020819779241293763), (469, 0.020791121575858006), (1478, 0.020764645142191156), (1704, 0.020692533802931953), (384, 0.020686299003907182), (787, 0.02065605120514833), (3399, 0.020600743841255837), (4399, 0.020591841081465306), (4487, 0.02058640417839591), (3270, 0.02057025209307181), (2955, 0.020570190818217673), (3707, 0.02054662809204576), (4339, 0.020543057231255248), (105, 0.020525937619212772), (1697, 0.02052484972004647), (695, 0.020492631403578227), (3730, 0.020369479143111727), (4361, 0.020369272909257278), (2018, 0.020362857333342536), (1814, 0.02032569197631104), (694, 0.02032357722759668), (4425, 0.02030428283589522), (1579, 0.02029862158209634), (2885, 0.020284397276178177), (2013, 0.020244313949644408), (888, 0.020227520102857617), (3666, 0.02022475589894613), (2437, 0.020202657066425465), (3165, 0.02019793380512841), (2690, 0.02019566604564661), (2471, 0.020157514348473626), (3689, 0.02015181919636189), (3491, 0.02012980880387037), (4597, 0.020075406337168745), (1386, 0.020074821799562645), (4152, 0.020067246317756696), (3614, 0.020065643890883462), (1006, 0.020057824417449334), (1530, 0.020036792579211853), (2809, 0.020024377885945757), (3387, 0.01999836042394598), (3272, 0.01999683077178855), (3166, 0.0199729973595645), (939, 0.019969354080633682), (433, 0.019958206357774032), (3701, 0.01993458313134986), (3545, 0.019932284921229067), (2639, 0.019886840606002126), (188, 0.019871149556473153), (3202, 0.019869482273002236), (1490, 0.019860614002943523), (1368, 0.019859067974727092), (2317, 0.019850035548492698), (1479, 0.019818015036039544), (1531, 0.019795505882559045), (3927, 0.019760686784508326), (943, 0.01975607919478799), (323, 0.019730654434458372), (3336, 0.019727527275240905), (1200, 0.019689021756108396), (587, 0.019677063215785058), (3852, 0.019659389249584113), (4158, 0.019653998087821773), (3641, 0.019653748013085042), (4449, 0.01964463058584775), (2878, 0.019635504523116507), (189, 0.019629028791505316), (2535, 0.01962071785355521), (1990, 0.019620556287988363), (3488, 0.019611233292255795), (4155, 0.019604466727053935), (1517, 0.01960400662271094), (2006, 0.019578852361700073), (2912, 0.019565122382125447), (4603, 0.01952334846782178), (1149, 0.019520669692721208), (1807, 0.019471925798665385), (3792, 0.019420286198855042), (1884, 0.019389195283672514), (966, 0.019360147376892158), (908, 0.019331850265183716), (3884, 0.01930870385700659), (2917, 0.019307409593361538), (415, 0.01929385075318766), (1010, 0.01928964827057239), (3161, 0.019275987137244363), (1061, 0.019262311816554214), (4342, 0.019260275696626087), (2392, 0.019249877230219307), (3502, 0.019249110807117862), (1853, 0.019246981861816004), (1604, 0.019245259258311696), (822, 0.0192333270014306), (1411, 0.01923183219180926), (3704, 0.019218428082910757), (526, 0.019215800921283183), (4424, 0.019205267758436957), (2519, 0.01920506705691292), (3912, 0.019171262230328306), (4115, 0.019167173454252062), (2212, 0.019161242928378036), (3742, 0.019158877536684854), (3158, 0.0191580676093437), (333, 0.019157509216152724), (521, 0.019148805227040086), (565, 0.019141720238169773), (2840, 0.019136929561745328), (154, 0.019112225090610013), (4326, 0.019109468419471413), (1610, 0.01909237908534551), (3119, 0.019080752762221806), (277, 0.019052288157160757), (2714, 0.019052017012365162), (2051, 0.019048786481324034), (2279, 0.01901274551358473), (831, 0.01901071635883879), (3679, 0.019003434235704803), (2718, 0.01899980552552808), (4411, 0.018979775627396542), (3378, 0.01896918837915317), (738, 0.018943894340911024), (4702, 0.018938225815147425), (2330, 0.018921500966921183), (102, 0.018919638299599948), (330, 0.018918842357977982), (763, 0.018904426413560188), (576, 0.018886569394487195), (1525, 0.018883632610030673), (4160, 0.01887093509461177), (1429, 0.018870666035232114), (2713, 0.018848476965039034), (119, 0.018847584087670538), (4784, 0.01883915987347504), (2354, 0.018837253363875886), (3260, 0.018832433513312888), (65, 0.018829455191303104), (796, 0.01882553731399703), (2793, 0.018820711425807185), (687, 0.01879877928986955), (3194, 0.018797197683892333), (3474, 0.018794968445223926), (1524, 0.018794496630258888), (770, 0.018790337938929813), (2412, 0.018782149483612634), (3558, 0.01876238492188558), (4413, 0.018747314366687258), (234, 0.018745758914957347), (62, 0.018742134921243526), (3417, 0.01873500367340374), (942, 0.01873107141470127), (4490, 0.018711292469146882), (3457, 0.01871054581150222), (506, 0.018705068763835334), (73, 0.018673225737156678), (2375, 0.018668274164263456), (991, 0.018656571802791882), (423, 0.01865551162111759), (3705, 0.01863490422351497), (3116, 0.01862710638084104), (3655, 0.01860570047329875), (1132, 0.018601727630293243), (2517, 0.018600514393589576), (3969, 0.018581641709543212), (350, 0.018555000835533873), (671, 0.01854393429739267), (41, 0.01853998202604884), (4731, 0.01853994986269311), (1228, 0.01853462832395556), (887, 0.018527309488510845), (4610, 0.018517779949272267), (128, 0.018516818671501817), (1985, 0.018512862809478746), (2813, 0.018511910563377705), (2621, 0.01850743086394111), (3329, 0.018504760111560374), (4642, 0.018498415631182322), (96, 0.018495515781776307), (2591, 0.018489865404022705), (2396, 0.018485973904292227), (1195, 0.018477744015914586), (2504, 0.018473377111483943), (1150, 0.01846490184414913), (2456, 0.01845206438361479), (2675, 0.01844550221890679), (1130, 0.018434865340122817), (890, 0.018428903656533935), (183, 0.0184287179846953), (3815, 0.01840160558919881), (1846, 0.01840005553318245), (700, 0.01839966611352934), (3961, 0.018393488860018195), (31, 0.018389995389689676), (637, 0.018386892153083024), (1583, 0.018380457431063126), (3043, 0.01836666290321936), (16, 0.01835859067865607), (1899, 0.018357326911607054), (3811, 0.018353977266252278), (1446, 0.01835053038145625), (1168, 0.018347071011264843), (1034, 0.01834085953746245), (1308, 0.018334897911487524), (4624, 0.018321299633747446), (621, 0.01830143224031337), (1711, 0.018294458499243594), (3894, 0.018276965812346464), (424, 0.018276862017694472), (786, 0.018276357880163144), (2572, 0.018276316597758767), (3723, 0.018274650089069124), (2226, 0.018272338607674687), (898, 0.01827220706629889), (4484, 0.01826274202752704), (2566, 0.018257811771172295), (3757, 0.01824985306591239), (1690, 0.018248203116133614), (80, 0.01824752785491336), (530, 0.018234233121666537), (2560, 0.0182234680373476), (3855, 0.01821874289917596), (327, 0.018210077151615423), (949, 0.018196761811923572), (1600, 0.018182159944575747), (1064, 0.018174433801396814), (2416, 0.0181684367453174), (1232, 0.0181662510171316), (2123, 0.018148664442192354), (129, 0.018146574181161557), (609, 0.01814643419830074), (1300, 0.01814378657054881), (3521, 0.01813716927949137), (4120, 0.018114318377517563), (2410, 0.018110916523262428), (810, 0.0181025314846437), (181, 0.018098442454248773), (2618, 0.018094361811186597), (1190, 0.0180941493474107), (1931, 0.018087722764075106), (3546, 0.018086303501815497), (2540, 0.018073138393403576), (900, 0.01805911542642918), (202, 0.018059009629417748), (3162, 0.018057271957666085), (2760, 0.018057196512403277), (2105, 0.018050884751302856), (3109, 0.018031572468814414), (1173, 0.01802868218098957), (2516, 0.018028328741917385), (3610, 0.018020058182510644), (2487, 0.01801781739998781), (691, 0.018007859573835053), (1565, 0.01800579073779498), (1486, 0.01799904241648618), (4632, 0.017994789949257742), (1194, 0.017984939589680088), (1115, 0.01796883569695439), (4447, 0.017967169092479012), (2890, 0.017960719491037405), (3183, 0.01795599281747621), (2345, 0.017955445928991356), (1080, 0.017951379814122845), (1707, 0.017949651152671196), (4615, 0.017947412949327366), (4700, 0.017944920246578167), (778, 0.01793397878932488), (860, 0.017927322764484145), (4631, 0.017920996782455317), (170, 0.017919734078859266), (1219, 0.01791791579257964), (3057, 0.01791790171021959), (131, 0.017915395381483307), (26, 0.01790893858465176), (2583, 0.0178988555079949), (2408, 0.01789616130483081), (126, 0.017880689972576237), (3262, 0.01787526451120578), (2682, 0.01787364636486742), (3178, 0.017871040587992135), (4636, 0.017866167564406125), (11, 0.017865163627714564), (4242, 0.017862655058750187), (2585, 0.017860840215423897), (3605, 0.017851348994070065), (1618, 0.017850992512324273), (547, 0.017847367138999582), (3129, 0.01784671877678614), (3638, 0.017841295650066473), (2251, 0.01783813817110618), (3078, 0.01783690923718347), (2233, 0.01783611380885867), (649, 0.017832549039775596), (458, 0.017825004454202136), (3807, 0.017814989010502557), (675, 0.017809055645194687), (3633, 0.017806674021504463), (1544, 0.017799522655176727), (4659, 0.017781392155416055), (717, 0.017779997378031993), (4511, 0.017778596938760355), (3447, 0.017775866618286017), (492, 0.017769405327193084), (4147, 0.017751826772548957), (1776, 0.01774964451036219), (367, 0.017748177033241785), (1682, 0.017744352003378244), (4076, 0.0177438579310069), (1572, 0.017743700174156888), (744, 0.017742536873261782), (1283, 0.01774090699451677), (3121, 0.01773737833008455), (382, 0.017737350042350265), (688, 0.0177337382864558), (466, 0.017730114687131825), (1162, 0.017724206428295836), (504, 0.017715678320776036), (682, 0.017712260811514193), (1096, 0.01770710489256018), (206, 0.017705405800139455), (92, 0.017700727551029676), (2266, 0.01768868581824822), (1017, 0.017688518747026555), (2413, 0.017684651398291597), (4376, 0.01768023915190787), (4119, 0.017680083423262005), (1394, 0.017678731729374886), (1337, 0.017670544703801458), (3108, 0.01766746951802501), (997, 0.017665331219418552), (642, 0.01765704937020657), (2495, 0.0176550206926838), (1703, 0.01764922902749242), (1612, 0.017645532730478777), (2594, 0.01764370135736137), (1365, 0.017642049445082755), (137, 0.017641814159452818), (3407, 0.017628234840757942), (1362, 0.01762761447561173), (3636, 0.017617097367495508), (2171, 0.017616953184729972), (4496, 0.017610261583509333), (2167, 0.017600703118389592), (4, 0.017586917147977242), (3352, 0.017586875551007932), (3671, 0.017580198755077398), (798, 0.017557000027314598), (445, 0.01755168298584469), (693, 0.017548641794642682), (308, 0.017546555736911742), (1696, 0.01754633120132348), (928, 0.01754418180726924), (2248, 0.017542993346314487), (3235, 0.017541442011282573), (116, 0.017539178987866968), (2197, 0.01753893963959352), (3760, 0.017530954226222317), (4421, 0.01753076993059499), (106, 0.017527217303421862), (329, 0.01752551236017963), (899, 0.01752067125057858), (2243, 0.01751957270044437), (2297, 0.017500834310364092), (2329, 0.017496082909007823), (4675, 0.017496063247876607), (1277, 0.017495561229506826), (1893, 0.01748930232306159), (3879, 0.017487567674552267), (1978, 0.017483757915197816), (3573, 0.017483531936702993), (1745, 0.017482699497108855), (4433, 0.017482435529725344), (4228, 0.017465741611345755), (1554, 0.017464136271082505), (892, 0.017463670503129722), (4388, 0.017457151831277194), (3553, 0.01745467075898126), (4237, 0.017453075837416943), (4526, 0.017443109039183884), (1480, 0.01744020965097654), (3901, 0.01743907274537193), (2880, 0.01743671652111545), (2234, 0.01743480643366423), (113, 0.017431189078813504), (40, 0.017428523261883735), (884, 0.01742226772540579), (1958, 0.017421962141742138), (3301, 0.017417786168322326), (1242, 0.017417419796143252), (3067, 0.017415271982404924), (2875, 0.017406498179857476), (3288, 0.01740577399752468), (1322, 0.01740245608876182), (1184, 0.01739331309866387), (532, 0.017389882126575728), (1576, 0.017379913870724874), (1104, 0.017378745097643793), (588, 0.017371589023650064), (3908, 0.017365199710890435), (1520, 0.017355368684800705), (3537, 0.017352483324863558), (869, 0.017342408140594796), (2904, 0.017334812044806948), (3004, 0.017333533722698528), (1186, 0.017308295170002957), (4593, 0.017307736783216073), (4052, 0.017307404298045108), (835, 0.01730546915993613), (1318, 0.0172968860765215), (739, 0.01728998226761362), (2722, 0.01728656153819217), (2985, 0.017286356929470066), (2928, 0.017276773887781552), (1988, 0.017273486498829215), (2119, 0.01726903503605308), (104, 0.017263557611294507), (1763, 0.01726055166280131), (50, 0.017242810308047224), (88, 0.017240549898455602), (1997, 0.01723808331161857), (4669, 0.0172262206181053), (298, 0.01722309518264571), (2072, 0.01721399223352877), (2052, 0.01721343856067617), (2526, 0.01721156947801054), (1611, 0.01720933194567223), (1460, 0.017198776519740024), (43, 0.017181895704423526), (3156, 0.01717925652628737), (3159, 0.017174459096607454), (4304, 0.01717332466552909), (802, 0.01716927178099961), (1354, 0.01716131837768812), (3887, 0.017157330723333978), (407, 0.017154070395487307), (178, 0.01715309991738486), (1736, 0.017150797706986624), (254, 0.01715062903757389), (3283, 0.017142009636055555), (103, 0.01713511040252573), (4071, 0.01713248646703123), (1835, 0.017131334166281195), (2099, 0.01711840067966462), (3559, 0.01711744929931801), (921, 0.017114034249127812), (229, 0.01711347857992995), (712, 0.017113163558971054), (1208, 0.01711287004226119), (2669, 0.017112865412269217), (705, 0.017110750567428737), (1553, 0.01710685218283567), (1858, 0.017103637781151898), (819, 0.017103322417880963), (4578, 0.01710233086116321), (2177, 0.017091087443413797), (1938, 0.017088229561288203), (4257, 0.017062486913263196), (4286, 0.017056970469725742), (4681, 0.017050909798271577), (3085, 0.017050433284321067), (3556, 0.017042850977571716), (2264, 0.017040173845670394), (815, 0.01703418850710012), (4139, 0.017026429399390013), (2696, 0.017015660621836723), (3646, 0.01701431674263626), (1465, 0.017013832359633434), (2610, 0.01701275426749169), (4448, 0.017008416673320693), (1603, 0.01700570470180456), (4625, 0.016993872541507474), (1660, 0.016992763480865834), (163, 0.01698074698392127), (3778, 0.01696979400580648), (169, 0.016967544951619472), (205, 0.016963808052822715), (791, 0.016960706048043034), (1684, 0.016956180581666005), (4528, 0.016952961284566758), (2147, 0.016948836430210813), (4774, 0.01694234707891254), (2272, 0.016937255673863602), (3486, 0.01693378684376334), (2494, 0.016926876143238827), (747, 0.016915036407443917), (211, 0.016901438719281146), (142, 0.016899243778559062), (435, 0.016895281732043847), (546, 0.016887556221127913), (2371, 0.016881265290530516), (356, 0.01686843902876283), (946, 0.016860126023652576), (3401, 0.01685457307148831), (1345, 0.016850047971683813), (3729, 0.016843583107112214), (2447, 0.016829492312407), (2832, 0.01682201659166924), (2102, 0.016820196953315558), (4276, 0.016817960385955292), (490, 0.016817933335274933), (479, 0.01681579169207879), (3746, 0.01680791271720812), (2219, 0.01680243057190485), (533, 0.016797519774905206), (3858, 0.016796218237873962), (2968, 0.01678768548882103), (4701, 0.016779634229410333), (1644, 0.0167712104477971), (135, 0.01676716375297643), (4694, 0.016757724881551868), (48, 0.01675730407412094), (793, 0.01675602208429728), (4290, 0.016750703297860988), (1657, 0.016748919876562), (2781, 0.01674777253088919), (2228, 0.016741276722525546), (2326, 0.016741015526837447), (262, 0.01673977310535466), (776, 0.01673788344460663), (4772, 0.016734856647111027), (2509, 0.016713821573536607), (3051, 0.016712423989410353), (4092, 0.01671011246890193), (696, 0.01670654436703807), (3677, 0.016700591141486643), (4329, 0.016699453082773083), (3728, 0.01669441512597871), (1035, 0.0166895954767233), (3629, 0.016686928924687587), (4401, 0.016670092444955188), (4738, 0.016670021966483393), (2846, 0.01665799831380991), (795, 0.016644132847325976), (979, 0.016642709205811755), (1758, 0.01664076052428748), (2432, 0.016640331869854936), (3320, 0.01662840542233559), (1593, 0.016625347812721205), (4539, 0.01662312379879856), (1882, 0.016611909028360926), (1966, 0.016610475718033722), (1648, 0.016610009418393343), (1251, 0.016608208029158734), (3653, 0.016607178566352493), (871, 0.01659308193279708), (1235, 0.016585722060427743), (357, 0.01658446384189756), (4472, 0.01658089250329816), (2807, 0.01657957893662659), (2734, 0.016579410475799305), (2430, 0.016577031262230035), (2041, 0.016576451622740268), (2852, 0.01657392652088377), (4439, 0.016572183473683), (2619, 0.01656737104827722), (1793, 0.016563738732928684), (2883, 0.016556797131877736), (4205, 0.016554626993108147), (3767, 0.01654807666566486), (2570, 0.01654285476776294), (1749, 0.016541794106430082), (1008, 0.01653833838867173), (4800, 0.016535285804849927), (2740, 0.01653217651030463), (81, 0.016528869589369548), (3072, 0.016518721278424846), (2422, 0.01651587321912402), (3885, 0.016508315500392317), (4577, 0.016504262536439288), (4386, 0.01649537948373326), (3869, 0.016494124141999578), (3139, 0.01649068726571301), (3279, 0.016484257125613456), (1755, 0.016479428547423524), (1760, 0.016468875331483813), (2059, 0.016467286969967587), (2058, 0.016460433767681127), (136, 0.016458655353175356), (2401, 0.016455363959456803), (4178, 0.016453155410739884), (3056, 0.016452510185716064), (4650, 0.016450517216293044), (4643, 0.016449472813327932), (3577, 0.016447654428146094), (4264, 0.016440686654553144), (1613, 0.016440313369813553), (1623, 0.01643631582964262), (1257, 0.016429850360847806), (4473, 0.016428841241076478), (1122, 0.01642568147527525), (3334, 0.016424167908497593), (4513, 0.01642137743897418), (2383, 0.016417064919209304), (228, 0.01641183449933204), (3743, 0.0164095197587791), (1606, 0.01640142473051082), (558, 0.016401143504133228), (903, 0.016399136654183234), (1220, 0.016382266859865012), (12, 0.01638219121210844), (2834, 0.016382110430711805), (3717, 0.016373524787259543), (2073, 0.01637217712947872), (2132, 0.01636480781871886), (3345, 0.016363934885858546), (3789, 0.016363486948451657), (3517, 0.01635352573841592), (2716, 0.016353434974539435), (283, 0.01635230000068944), (2636, 0.01635210148084809), (2491, 0.01634138655865217), (1917, 0.016339863798503038), (3230, 0.01633662312539534), (2897, 0.016329826238839766), (1263, 0.0163282693109488), (1638, 0.01632688977735086), (39, 0.016326384741209392), (1038, 0.01632493020508887), (1086, 0.016323799296318775), (1797, 0.01631578110134561), (2285, 0.01631563305145206), (155, 0.016310350169109672), (947, 0.01630501767437407), (403, 0.01630361671270417), (2673, 0.01629716515032751), (4347, 0.016292403340166448), (1424, 0.01628651139074322), (1015, 0.016272314387105417), (1605, 0.01626452088310902), (337, 0.016264499721812015), (2374, 0.016263332386659776), (1656, 0.016262228864250373), (3468, 0.01625391719454485), (1642, 0.016249933677858815), (4106, 0.01623866013496242), (1290, 0.016216518647808865), (1595, 0.016215591084651336), (520, 0.016198434115905803), (4123, 0.01619392147775844), (4030, 0.01618990013829179), (3254, 0.016175843566229784), (4330, 0.01616797147218398), (668, 0.01616223917017392), (4622, 0.01616077376207667), (2726, 0.01616052652349029), (3883, 0.016159493188965944), (625, 0.016150046312350133), (3261, 0.016149051226658287), (1911, 0.01614709796762958), (3524, 0.016139358378634658), (2431, 0.01613641572755759), (1384, 0.016132363985431178), (3624, 0.0161240969620201), (3595, 0.01612332455271347), (2417, 0.016117275890937924), (3827, 0.016114936256571098), (2935, 0.01611297881107543), (2393, 0.016107951426872855), (994, 0.016101524130598215), (975, 0.016098671615994212), (3957, 0.016097625465865177), (4001, 0.016092305699842335), (1865, 0.01609154460758734), (1252, 0.016086659153134994), (1972, 0.016080607007455283), (552, 0.016079198308733667), (220, 0.01607877100280673), (2277, 0.016072616003535222), (2804, 0.016053768166220946), (759, 0.016052132766043475), (7, 0.016044503741036716), (2534, 0.016034877444968863), (3772, 0.016034415669251463), (605, 0.016022283757271993), (3936, 0.01601388390734322), (464, 0.01601272882480542), (2922, 0.016007807363635548), (3281, 0.016007224516221136), (2208, 0.016002706994858472), (2649, 0.01600208508423281), (374, 0.015998762089615884), (499, 0.015991338978257733), (3107, 0.01599026787511042), (1970, 0.015989077974597317), (666, 0.015986614324355018), (4002, 0.01598634385727604), (4627, 0.01598417925247319), (3027, 0.015971561332368777), (2178, 0.01595618895726786), (3348, 0.015953708597644285), (4509, 0.01595051148792839), (735, 0.01594898762850236), (2158, 0.015940154863289847), (3354, 0.01593690769509148), (3358, 0.015936891672995272), (3460, 0.015934317615294624), (3586, 0.015897445690608223), (317, 0.015892112079894376), (1344, 0.015891678225425775), (190, 0.015888250424899553), (496, 0.015883707262752057), (1405, 0.015878742239363305), (2220, 0.015877226756706157), (1280, 0.01586987205592714), (339, 0.015868890021809214), (578, 0.015865612251324247), (2689, 0.015860945475449112), (3195, 0.015860765383341514), (1591, 0.015850869460798445), (4095, 0.015849858190501567), (3071, 0.015838924879867742), (1276, 0.015837262180281867), (3092, 0.015836221093695493), (2661, 0.015832805537832034), (1161, 0.01583116980681507), (3376, 0.015830156815896085), (385, 0.015825324554594032), (554, 0.015822831880388803), (1367, 0.015810679411359035), (3898, 0.01580863717307669), (4079, 0.01579760448668841), (3313, 0.01579311592734145), (2630, 0.015791376456395136), (598, 0.015790886074546276), (4501, 0.015786667337279993), (4372, 0.015785757279005566), (4128, 0.0157826488252226), (2551, 0.01577886493211232), (3233, 0.015777577651267746), (3507, 0.015772624619231606), (2865, 0.01577122245574536), (4340, 0.015768961826166536), (550, 0.01576109525307368), (3891, 0.015747441497209094), (4414, 0.01572553524163186), (1923, 0.015723034336617783), (86, 0.015718266969911666), (1466, 0.015712006351231517), (4360, 0.015709707548308596), (4649, 0.01570776687710114), (862, 0.015700989450977757), (617, 0.01568779614702595), (100, 0.015684855520260565), (120, 0.01567267312790988), (2608, 0.015650494482691832), (313, 0.015647409994781453), (4255, 0.015641597730637072), (3895, 0.015636495440983597), (3226, 0.015634287387274143), (2961, 0.01563160391150301), (3433, 0.01562805374817884), (1198, 0.015624548283235291), (4393, 0.015618811790120868), (4023, 0.01561657775342996), (3346, 0.015614334582959365), (2823, 0.01560938902404042), (922, 0.015605942112669635), (679, 0.015601597048654334), (2794, 0.015592145798151723), (1048, 0.015586706144555837), (2686, 0.015583067413056434), (2993, 0.015582360151804949), (857, 0.015578786899891287), (4346, 0.015577656988538066), (2710, 0.01557180429542191), (891, 0.015566630993237672), (3806, 0.01555859182723535), (1496, 0.015557063075521654), (4483, 0.015550896788727758), (4651, 0.01553829542259046), (3498, 0.01553686957469664), (2351, 0.01553646025944324), (1981, 0.01552936349044128), (2792, 0.015528817933484334), (4773, 0.01552659831780363), (1630, 0.015522305135559696), (3896, 0.015519431162711643), (1098, 0.015517899628875266), (2802, 0.015507221319064814), (606, 0.01550212611064631), (2186, 0.015488921687158297), (1926, 0.01548212376353641), (3132, 0.01546977034793966), (2095, 0.015462588466555474), (2489, 0.015458256543091976), (551, 0.015442726190806678), (3328, 0.015436790868800534), (662, 0.015423218972907084), (2887, 0.01542055644127368), (1974, 0.015420206116895437), (2378, 0.015416465257189937), (4356, 0.015412538402269861), (3963, 0.015404588488566885), (233, 0.0153897781420878), (3849, 0.015355360463899364), (399, 0.015355168425849882), (2647, 0.015348655348162469), (2305, 0.015343933755764675), (3542, 0.015342537075174356), (69, 0.015341697067720317), (2856, 0.015330958693168499), (3763, 0.01532607200073158), (1818, 0.015318720727740258), (1366, 0.015309935738794855), (4655, 0.015304659319975471), (3678, 0.015302352862317889), (2397, 0.015300923327349083), (1867, 0.015296402479949633), (395, 0.015282026275518081), (3784, 0.015277124889740278), (4032, 0.01525394424575196), (2951, 0.015252437820510525), (1413, 0.015248425187474525), (2607, 0.015239131780965195), (4704, 0.015239079021887106), (1292, 0.015221755764896575), (983, 0.015217017585078995), (311, 0.015214038120450699), (2191, 0.0152135331247076), (2998, 0.015212230117147577), (3734, 0.015193949997871877), (2616, 0.015182400407809382), (4660, 0.015176405184284245), (2107, 0.01517244674199026), (2930, 0.01516653474916416), (2783, 0.015163179011310812), (4060, 0.015162437543685178), (2000, 0.015146869772084764), (4717, 0.015145958465866137), (4250, 0.015132095391622562), (1721, 0.015124053706378413), (1619, 0.015120677896415679), (904, 0.015118437897738833), (1400, 0.015117065661021788), (2468, 0.015117000942907959), (2817, 0.015112739143288312), (4190, 0.015093703606882948), (708, 0.015093609377496455), (867, 0.015090984910364685), (858, 0.015090110128185152), (1940, 0.015067284278406737), (1800, 0.015048346413170682), (1165, 0.015042398059466663), (2845, 0.015028575350644283), (3036, 0.015024419205088176), (3416, 0.014974276971632075), (4687, 0.01496954081648305), (2965, 0.014961108865428403), (865, 0.014960242384460231), (4746, 0.014955038983554892), (3868, 0.014952606463055506), (4083, 0.014944129030225347), (2662, 0.014929871076621387), (1766, 0.0149207554023622), (230, 0.014908997340329843), (4211, 0.014908683420037157), (3249, 0.014884840842758991), (4132, 0.01488191537184066), (1244, 0.01487755428646834), (4720, 0.014876450125843106), (3889, 0.014876303073525766), (1126, 0.014868188788032923), (2323, 0.014860234403013452), (2702, 0.014855651172161073), (1494, 0.014853988191856552), (4175, 0.014852363035714512), (3475, 0.014849501766147667), (631, 0.014848184501040088), (3690, 0.01483821625622883), (2751, 0.014828539331033456), (3534, 0.014815787393480644), (1349, 0.014812531012835561), (235, 0.014808182710170151), (3218, 0.014804081044978684), (1374, 0.014796927696764951), (4025, 0.014763762137184059), (1906, 0.014753333342740305), (4534, 0.014752817539538273), (1861, 0.014739571574062795), (1980, 0.014736954313955917), (2837, 0.014735852311354054), (1843, 0.01473583275151417), (2012, 0.014727824434988166), (719, 0.014722204050658574), (3726, 0.014711636017433957), (3390, 0.014708923690157864), (2306, 0.014696558295615758), (3574, 0.014682798579189969), (4796, 0.014652873270745825), (1813, 0.014644615204215745), (1120, 0.014637339190451074), (517, 0.0146336860823452), (4606, 0.014630093317166176), (723, 0.014629680719534487), (1587, 0.014629677379532122), (4383, 0.01462126781474105), (3943, 0.014620431021073806), (3903, 0.014618472563272547), (4015, 0.014598233187568165), (4377, 0.014583588456002387), (2654, 0.014581849451177995), (23, 0.014570460454958474), (459, 0.014567142447369251), (2015, 0.014565539958609859), (3839, 0.014553667985650819), (4352, 0.01455238487695646), (2844, 0.014547267377328876), (2062, 0.014536443919285096), (3657, 0.014530275834975888), (2582, 0.014473635647114125), (3245, 0.01446846914083759), (4438, 0.0144586831555003), (3684, 0.014452612735439348), (2973, 0.014429275410827025), (3442, 0.014418078850238653), (585, 0.014408003356338251), (4648, 0.014404452515334983), (1, 0.014383895145956178), (2152, 0.014383724942181136), (2724, 0.014365136337095474), (775, 0.014340742167032239), (1370, 0.014339135973534872), (4085, 0.01432063091628322), (1095, 0.014317546937195436), (22, 0.014309810676969556), (1728, 0.014306927882598304), (2750, 0.01430685948437388), (1787, 0.01430345183584054), (2580, 0.014284229975907128), (2633, 0.014275031163555158), (2499, 0.014269624566270685), (814, 0.014266807992158405), (896, 0.014243462573438328), (4542, 0.014243346051443936), (2581, 0.014231747216780537), (2884, 0.014227377986883578), (1016, 0.014219343697241009), (2975, 0.014218392140691824), (4471, 0.014209636945377743), (3064, 0.014196089237960292), (4787, 0.014194913096379195), (2338, 0.014189592677232977), (4070, 0.01417278495450511), (4771, 0.01414495249429431), (4456, 0.014136592116773684), (3149, 0.014135684076437595), (2189, 0.014112003557223847), (3514, 0.014085191545915744), (1700, 0.014074106474096675), (4192, 0.014067828316835986), (3206, 0.014044363291625398), (3303, 0.014041442879210088), (4545, 0.014027653516628413), (2461, 0.014024812492352412), (3511, 0.014015365952268911), (2348, 0.01401437938494561), (1286, 0.01401426501706483), (1247, 0.013989995596510974), (1385, 0.013952088624405733), (2666, 0.013925322688804996), (2729, 0.013923651714576619), (3674, 0.013913751414567379), (2402, 0.013912999066713724), (1993, 0.013907540164331508), (3698, 0.01390345862635741), (1153, 0.013892930257022935), (2730, 0.01385585379604756), (4464, 0.013851480399633569), (2677, 0.013846479069449222), (3223, 0.013843350422556466), (1650, 0.013819049081497933), (3256, 0.013744295280627126), (1259, 0.013717467830735628), (1833, 0.01371247190721996), (3169, 0.01369932307560688), (4766, 0.013693194542991532), (3113, 0.013690943227234855), (4695, 0.013684940071158062), (2465, 0.013682412161516564), (199, 0.013676875964359889), (3628, 0.013660285870481856), (4216, 0.013651710988983271), (3947, 0.013651129768978906), (2508, 0.013646328556820507), (3979, 0.013642175446353823), (1751, 0.013632179576698935), (3277, 0.013599259775048972), (3228, 0.013572021556661637), (3414, 0.01355680532359603), (485, 0.013547123152500635), (4162, 0.013525882854941924), (2934, 0.013515800295741256), (3143, 0.013514970848740204), (909, 0.013492439322328369), (2068, 0.013480564852638948), (4069, 0.01347317489647273), (1423, 0.013442058423312933), (2014, 0.013415090815998242), (2187, 0.01340217667616006), (4240, 0.013322077810758563), (3838, 0.013316139863409845), (2131, 0.013315573221155204), (2315, 0.013315523533342092), (17, 0.013312723126631303), (1590, 0.01330954571149719), (3598, 0.013285902664130643), (1170, 0.013278533308235793), (1888, 0.013265514780000253), (4445, 0.01325750870318266), (1680, 0.013248779718527682), (4357, 0.013242130024179302), (3454, 0.013219402195969673), (2877, 0.01319695260393609), (2497, 0.013195540697671784), (2439, 0.013183076531790669), (4200, 0.013179734280769831), (2464, 0.01315831408587849), (1773, 0.01314663074212264), (452, 0.013144694905196493), (3631, 0.013137819325247707), (3880, 0.013133251355060691), (2706, 0.013106805283620699), (4428, 0.01309585868396064), (2339, 0.01304504800203661), (4182, 0.013040003058692944), (1441, 0.012990230618306793), (4003, 0.012977711095021084), (3287, 0.01297282714966963), (633, 0.012941296550755233), (3224, 0.012924801027946969), (1087, 0.012909666300219799), (1498, 0.012906670479976963), (370, 0.012872195121476963), (3886, 0.012860455504532358), (2016, 0.012842020013048181), (4206, 0.01284124126666314), (2382, 0.012796687996090692), (4096, 0.012795366647954094), (4331, 0.012775177869754743), (673, 0.012763912543569268), (348, 0.012721934193192813), (2742, 0.012716854511581652), (280, 0.012666623497389553), (4394, 0.012660394693575201), (2307, 0.012651058739824124), (404, 0.012645120256622542), (331, 0.012634500543762818), (3327, 0.01261474569005785), (1774, 0.012605119632833455), (667, 0.012563092488914842), (1393, 0.012538555611528727), (940, 0.012533890338234252), (3863, 0.012521904164349871), (3810, 0.012515023214959826), (689, 0.01245411416801545), (4600, 0.01244967835366817), (883, 0.012447589312383791), (3572, 0.012430963680444555), (2088, 0.0123650500656762), (514, 0.012337022754025453), (359, 0.012301730889097544), (4665, 0.012282725150964843), (4236, 0.01227307752627076), (426, 0.012272746747311845), (954, 0.012216643116226014), (3431, 0.012185905647233238), (4009, 0.012181430276731287), (1316, 0.012178209520246782), (622, 0.012106834951649941), (1840, 0.012060120959442934), (4758, 0.012058337156175335), (4364, 0.012052194489868384), (2080, 0.012025930665182065), (3427, 0.011973886324082287), (2109, 0.0119564017546426), (1663, 0.011867593686598002), (4148, 0.011857207245642518), (1724, 0.011847609639594275), (2460, 0.0118250032279032), (3026, 0.011824704941048751), (2707, 0.011813879400952229), (1389, 0.01179649435731778), (3394, 0.011773041438224573), (523, 0.011733074167307336), (2957, 0.011721516957424181), (66, 0.011714830635555947), (3744, 0.0117090144159144), (2942, 0.011707093470362298), (1658, 0.011701426671018002), (3949, 0.01169277953048834), (885, 0.01160261118109111), (4579, 0.011601691134207023), (4088, 0.011595270627182049), (173, 0.01156409622798464), (1747, 0.01156132563557635), (524, 0.011560946618527215), (2289, 0.011547837887312479), (4552, 0.011522005373515203), (4756, 0.011513003281469272), (2472, 0.011512534018221734), (4268, 0.011507639581200671), (4293, 0.011498953911270584), (2552, 0.011491045450305298), (1004, 0.011484457646702594), (652, 0.01147996628062627), (1360, 0.011474001952789768), (720, 0.011462095774462378), (281, 0.011438170993142597), (3315, 0.011422649607202033), (4008, 0.011421386213132208), (1326, 0.011406357598349813), (2757, 0.011405798950278944), (2480, 0.01140458952896133), (849, 0.011403739809727049), (2071, 0.011391489274347102), (4164, 0.011383463173237086), (325, 0.01136259514549999), (2061, 0.011352371500633842), (95, 0.01135235942847853), (614, 0.011303577981173724), (200, 0.011298965236805198), (2663, 0.011286720878773046), (4429, 0.011280864513030824), (3727, 0.011277102147326318), (1705, 0.011253619013308652), (427, 0.011245055359927581), (2270, 0.011229644446025675), (388, 0.011223055653743857), (757, 0.011217384785728892), (1054, 0.011216059432131444), (419, 0.011212457762407693), (612, 0.01116442972658914), (619, 0.011163764432308227), (2031, 0.01115933773337965), (1574, 0.01113859217953719), (1819, 0.011138143469523454), (2112, 0.011133695504301783), (4244, 0.011123142457396748), (1468, 0.011101132038512013), (3808, 0.011091117288144235), (2162, 0.011079576496925293), (1541, 0.011068120009712835), (1669, 0.01106437361875431), (132, 0.011054324270548685), (473, 0.011042990717104455), (4302, 0.011016416127434793), (3042, 0.010990527587956996), (2737, 0.010986474727268089), (882, 0.010982729101586194), (351, 0.010961579761817223), (1409, 0.010955844986239503), (1719, 0.010953226418116486), (2356, 0.010949867069801245), (301, 0.010945276188678871), (3344, 0.010940363732128193), (4791, 0.010922845611898553), (398, 0.010896152843201893), (4485, 0.010882510495391132), (1340, 0.010882236086353896), (1364, 0.010880847403836116), (4629, 0.010875332097979754), (1909, 0.010856904889856318), (1090, 0.010846929877246843), (239, 0.0108447444965313), (970, 0.010835368064404577), (3298, 0.01083534346406279), (4170, 0.010833944200653341), (2445, 0.010820839901924457), (4436, 0.010803432594839773), (4041, 0.010799091463441376), (3513, 0.0107633961179182), (1864, 0.010752299119381678), (1401, 0.010747860437188596), (316, 0.010734825599133491), (672, 0.010731988633966743), (3164, 0.010729971042308235), (2979, 0.010728019743490417), (1356, 0.010726835639535266), (258, 0.010692317115692275), (3234, 0.01068317368088615), (4133, 0.010678725490755974), (1599, 0.010667273755386439), (2130, 0.010653894752430705), (3292, 0.01063077767899286), (1327, 0.01062864841560213), (1381, 0.010622470835748554), (247, 0.01061986996125709), (4638, 0.010609716583296246), (2923, 0.010599493416154786), (4781, 0.010593905351645286), (3754, 0.010586556152546953), (42, 0.010584271191117722), (3197, 0.010576508242471826), (3138, 0.010551368088699001), (2782, 0.010545054381531974), (4536, 0.010539906100348276), (3640, 0.010537841874897846), (1102, 0.010536269301717367), (1601, 0.010532074526249017), (4476, 0.010522384417466266), (2554, 0.01051531232975774), (632, 0.010510662873187495), (1523, 0.010509084559824293), (4441, 0.010504552668550708), (4016, 0.01048347015934014), (1874, 0.010482561666152808), (4350, 0.010481459121584567), (1305, 0.010456465183098276), (4229, 0.010447304515470747), (1329, 0.010445198382133489), (1328, 0.010443318414477015), (3341, 0.010440319513876441), (1420, 0.010438434991501), (4391, 0.01043472176335795), (4723, 0.010401211531699), (343, 0.01039801493427208), (1676, 0.010394132058295496), (60, 0.010383119680773267), (1375, 0.010376584629290506), (1336, 0.01036935642665387), (4569, 0.010361892734219842), (2991, 0.010349415414036296), (925, 0.010344361138079336), (3478, 0.010334910579241633), (4007, 0.010317501532614395), (4519, 0.010311945124305085), (2886, 0.010296933233104764), (2913, 0.010281676196761408), (734, 0.010273197602114474), (4306, 0.010272538720739868), (3205, 0.010264502866828923), (4191, 0.010263911985084664), (4652, 0.01026390090154099), (2635, 0.010253062201473331), (1351, 0.010252938315946541), (3495, 0.010234743100194692), (1481, 0.010230079638403347), (3609, 0.010223249903449656), (2916, 0.010222225440469333), (749, 0.010217276697733445), (1210, 0.01021298270692638), (1695, 0.010191361108603789), (722, 0.010188286982593157), (3736, 0.010150430419494781), (397, 0.010140891452576767), (2202, 0.01014013662104159), (1391, 0.010135210699629225), (4477, 0.010126811701974266), (2653, 0.010124224928834599), (3843, 0.0101199583346776), (2657, 0.010118213323519129), (1748, 0.010117353223943217), (3331, 0.0101146231534693), (57, 0.010112132955376092), (4261, 0.01009454371342156), (4026, 0.010093500311368091), (78, 0.010086758938927496), (1311, 0.010072621322204645), (2238, 0.010050162772179582), (2281, 0.010049843222020786), (2898, 0.01004978806434123), (114, 0.01003943047837929), (197, 0.010020437492851468), (482, 0.010007722686823307), (3083, 0.009987246772046442), (2117, 0.00996562424453278), (3081, 0.009946468321175617), (87, 0.009944713522121083), (4605, 0.009914941936843688), (2622, 0.009892459739557664), (3952, 0.009870568580604828), (646, 0.009846213224071665), (354, 0.00984482672709885), (1640, 0.00983461280469956), (3881, 0.009822299693638632), (3020, 0.009818692767932926), (3339, 0.009817462326381752), (2240, 0.009814418567263086), (638, 0.009804793808194564), (1189, 0.009795997823515128), (3347, 0.009756333989637631), (847, 0.009754294361667314), (2030, 0.009741201604737647), (2149, 0.00973340891146902), (684, 0.009727541444284827), (6, 0.009722474330112148), (701, 0.009719432716343387), (2906, 0.009698231925541131), (2009, 0.009680465434387567), (3787, 0.009677534754598094), (2144, 0.009640294260737928), (725, 0.009637725213302587), (3091, 0.00963479720828061), (2933, 0.00963238228224987), (1526, 0.009631923138398274), (4801, 0.00960469532783672), (32, 0.00960303474787701), (3365, 0.009582543837750254), (2110, 0.009579147293236098), (2522, 0.009568716041404995), (2982, 0.00955041273456431), (1062, 0.009544206084329415), (269, 0.00954223829065794), (8, 0.009538834031354772), (2001, 0.00952948406913703), (4515, 0.009519370699611564), (4583, 0.009513041142173571), (3673, 0.009511680365923366), (175, 0.00951151278066175), (4708, 0.00951000191897904), (4765, 0.009502568215090258), (3776, 0.009502013080216178), (130, 0.009500989777657187), (4066, 0.00949135048214617), (77, 0.009487180378669694), (118, 0.009479364461461085), (4696, 0.009473036628752578), (1545, 0.009466874563889224), (3124, 0.009462652454770716), (2758, 0.009460250664486034), (3899, 0.009457949148487962), (3865, 0.00945532854085934), (2680, 0.009441139874669983), (1224, 0.00943091989639392), (4573, 0.009422114446326568), (3296, 0.009421677198764987), (3835, 0.009413481316535247), (1099, 0.009406675431858894), (3540, 0.00938271465109125), (3203, 0.009366439361835958), (3190, 0.009361821803039353), (3714, 0.009361215859412788), (650, 0.009356004793900797), (660, 0.009353952119078513), (3087, 0.009334754860440284), (4104, 0.009328349901072019), (2299, 0.009324980722690878), (162, 0.009324890196758374), (4050, 0.009320751086625452), (3276, 0.009304055087986717), (655, 0.009288210157152725), (1260, 0.009270694242808023), (1231, 0.009258498188955085), (4620, 0.009253387026938002), (4499, 0.009249589116796068), (967, 0.009234663733757562), (1598, 0.009225636270862371), (117, 0.009223431857232803), (3013, 0.009215007584182951), (4711, 0.009211756553960317), (3263, 0.009190910064445949), (4398, 0.00918268851459705), (274, 0.009178844944148966), (3525, 0.009170158870357645), (4163, 0.009170003543277716), (4769, 0.009169940146023502), (4137, 0.009161489331668562), (1293, 0.00912633483290599), (3359, 0.00911188111294506), (3817, 0.009110924856836249), (4277, 0.009099855542419688), (1317, 0.009095455864835336), (1267, 0.00909177329821188), (54, 0.009061607820467475), (4040, 0.009041785466329211), (1253, 0.009040832902937498), (1528, 0.009021028400846735), (4317, 0.009018857707689265), (1012, 0.009006907448190576), (511, 0.009005877984060578), (730, 0.009005830606650365), (4378, 0.008990488194279956), (3774, 0.008961633395567103), (4381, 0.008955106334355622), (540, 0.008955070491329252), (1764, 0.00894406568514785), (3316, 0.008930464644728006), (2925, 0.008916303581727267), (4549, 0.008897412725642862), (3385, 0.008865225666336182), (1288, 0.008844684243568502), (3418, 0.008828167591725201), (2525, 0.008826984005212923), (2867, 0.008822932079774257), (1256, 0.008821497827685203), (1144, 0.00881351070509366), (1636, 0.008802762978199168), (328, 0.008797167552330693), (165, 0.008796273285124355), (4256, 0.008795247580257397), (1841, 0.008789626545825695), (1073, 0.008758839211338108), (2268, 0.008757500213995129), (3748, 0.008754276719076609), (863, 0.008732833528770335), (158, 0.008722745195421499), (3650, 0.008706983312044916), (1727, 0.00867771350162006), (1342, 0.008677239196020214), (2201, 0.008668781884510276), (1667, 0.008665849779181585), (2055, 0.0086610772727805), (124, 0.008640834125799138), (236, 0.008638310300303794), (1377, 0.008638108396787995), (4688, 0.008634298481126946), (2400, 0.008632328956472174), (1206, 0.008623519855601927), (1254, 0.008595275000916692), (1561, 0.008594931353049264), (2586, 0.008594159854971282), (985, 0.008575977830997271), (302, 0.008569392749628599), (729, 0.008563136562289214), (299, 0.008556826450541495), (2294, 0.008553227879364526), (601, 0.00854257547889404), (3128, 0.008520615533921033), (1836, 0.008495188244562897), (4524, 0.008477948521595799), (3618, 0.008472646937561447), (2250, 0.008464358223280092), (4621, 0.008455573559056425), (596, 0.008447031873578143), (1932, 0.008442673248334608), (24, 0.008429582506119028), (4460, 0.00841115995648583), (4654, 0.008398775061683707), (1954, 0.008394562806118692), (320, 0.008394438036606569), (1597, 0.008383788805449063), (1289, 0.00837721941611951), (3373, 0.00836311603077136), (1339, 0.00836130472976191), (615, 0.008346623591599267), (539, 0.008343276235005874), (248, 0.008339018131165247), (112, 0.008332404883875546), (3731, 0.008332196692144528), (685, 0.008324987666787978), (1542, 0.008320142466905146), (972, 0.00830619793708723), (4187, 0.008294108607512554), (2921, 0.008293738796602168), (1510, 0.008287981622500449), (838, 0.008285986828275893), (1515, 0.008282113974169723), (1284, 0.008274894065489964), (4093, 0.008272661878189595), (1933, 0.008253022002561526), (952, 0.008246532313176689), (3357, 0.008221376934794702), (3830, 0.008221351567633007), (3616, 0.008219470072382426), (535, 0.008206105426185622), (3332, 0.008198341056732884), (1249, 0.008198222983415295), (1625, 0.008194050226438264), (873, 0.00818996776139477), (4554, 0.008187146146951062), (1617, 0.008186236818891777), (1991, 0.008182353932999122), (1234, 0.00817498468976354), (89, 0.008167061040838284), (303, 0.008165173538566238), (3848, 0.008162859220168362), (3962, 0.008161726338324887), (692, 0.008158924366036654), (1357, 0.008147633090773211), (2490, 0.008147375690961363), (396, 0.008146147490638602), (3520, 0.008138909769787952), (3445, 0.008136222593172591), (1863, 0.008131263163081437), (467, 0.008122668994948342), (2881, 0.008113534302884248), (644, 0.008110504591228277), (823, 0.008103927181186287), (4014, 0.008097177482566734), (47, 0.008097120231843476), (480, 0.008096335010000406), (2538, 0.008089455725698911), (993, 0.008088802971732725), (945, 0.008087939805138267), (508, 0.008076371020650425), (600, 0.008074422667496596), (2899, 0.008074402583503119), (1434, 0.008073658175081749), (140, 0.008068352311862755), (33, 0.008067974110776683), (645, 0.008064663405363678), (243, 0.008064566030042637), (1239, 0.00806102878821043), (1332, 0.008058656403945276), (4465, 0.008055491328086703), (1278, 0.0080510572477426), (2888, 0.008032286097580173), (1303, 0.008021868470481768), (2514, 0.008014167716582133), (261, 0.007996293967825766), (2380, 0.007985893895218699), (4503, 0.007985113241938235), (1956, 0.00798358921077088), (2486, 0.007976178295811822), (973, 0.007973803499164003), (210, 0.007953196591429937), (322, 0.007953014798222155), (4042, 0.00795218444849365), (222, 0.00795085454091244), (3284, 0.007947304670902156), (870, 0.007946688405956946), (456, 0.007946211421291214), (3360, 0.007942083445558478), (4230, 0.007935494172079111), (2311, 0.00792571883738623), (453, 0.007925626772098156), (1230, 0.007923773900623435), (3842, 0.007921716966001776), (1133, 0.007920491831192792), (3816, 0.007915681685696946), (2084, 0.007911596585208229), (3623, 0.007907546636637109), (1093, 0.007899187091213285), (534, 0.007892222947600936), (432, 0.007888135132578576), (2295, 0.007885615922843927), (3826, 0.007884002742315181), (920, 0.007877786630712208), (3440, 0.007876586618059143), (2972, 0.0078737519321042), (2578, 0.007867034361582868), (844, 0.007865896998984679), (4111, 0.007863050061951565), (297, 0.007858823244526079), (573, 0.007858310662389026), (1448, 0.007855671218142336), (1470, 0.00783943960924099), (1279, 0.007830658380435014), (1027, 0.007820332857454575), (813, 0.0078103226975464405), (1699, 0.007808225778722781), (1175, 0.007804845017664082), (678, 0.00780259423275021), (2893, 0.007798023575770853), (1432, 0.007797576216196155), (683, 0.007792930962751241), (762, 0.007788897723436387), (1868, 0.00778448509355842), (240, 0.007775026583579801), (2971, 0.007769392206170236), (383, 0.007769193375223301), (1507, 0.0077641548223358866), (2394, 0.0077628028918112855), (4129, 0.007762687687741968), (2931, 0.007761577651519815), (507, 0.007757942595388362), (4557, 0.007757756296399949), (1320, 0.007755879502982478), (3040, 0.007754130492402446), (149, 0.00774108550451347), (2812, 0.007731379061203773), (1910, 0.007730387759109288), (2046, 0.007729368784655552), (589, 0.007726631775690719), (291, 0.007723867627530575), (3986, 0.007723058246367476), (1419, 0.007711107110824897), (1757, 0.00770417184999022), (2142, 0.007695897924755322), (2156, 0.007695884393432316), (376, 0.0076920666517355085), (2293, 0.007691899606359547), (1491, 0.007685285073937603), (1188, 0.007682680319671973), (4143, 0.007681688316907017), (412, 0.007676739045739102), (2222, 0.007676118592700496), (2205, 0.007667376384158828), (58, 0.007661206246871916), (740, 0.007660361653131329), (3861, 0.007655850731487578), (1686, 0.007650880882227643), (468, 0.0076465565717718864), (4258, 0.0076458127098562555), (2372, 0.0076453139836333206), (594, 0.007640848096353893), (2129, 0.007635263379593996), (1201, 0.007626974650055321), (1790, 0.0076262438483565165), (174, 0.007623314441723464), (2154, 0.007623239947397429), (1830, 0.007621626479003097), (1294, 0.0076199936502830004), (982, 0.007619958481006344), (951, 0.007619952161254813), (478, 0.007613968716206261), (2808, 0.007613334091903203), (560, 0.007608949484295931), (3021, 0.0076014293416059135), (4734, 0.007592259244442304), (1341, 0.007589122119235663), (4061, 0.007583804509899693), (3724, 0.007583525205859434), (834, 0.0075830131929658946), (2122, 0.0075825174906698515), (840, 0.007577436743202902), (2683, 0.007574151396022809), (3142, 0.007571052678063328), (3030, 0.007569738814695193), (1851, 0.007566036192052226), (590, 0.007562973361400464), (676, 0.007560796946155636), (718, 0.007560435323975561), (731, 0.00755754542753862), (1645, 0.007552689488186331), (1390, 0.007548795953283022), (3463, 0.007548545149871229), (3866, 0.0075474290916758505), (1538, 0.007546276629109218), (208, 0.0075438315963177235), (1438, 0.007541814367388604), (1191, 0.007537874931134571), (3725, 0.007537668157622126), (2863, 0.00753442776206784), (755, 0.007525898090953155), (3756, 0.00751871526423574), (1880, 0.007513860323081422), (4752, 0.0075050352496966915), (1815, 0.00750503144484826), (1142, 0.007504322337108611), (602, 0.0075012901773566084), (2163, 0.007497615639402349), (2352, 0.007494148297440739), (2327, 0.007493462068275473), (2790, 0.007492728907111926), (4072, 0.007487211867854187), (3740, 0.007481039089628556), (1043, 0.007473646057443841), (27, 0.007472306733307384), (3494, 0.007467699045874087), (446, 0.007467188859574429), (70, 0.007463018927281826), (263, 0.007457047522627279), (1872, 0.0074525186406344665), (1443, 0.007451469155641631), (3972, 0.007445815555911281), (956, 0.007433301443685149), (866, 0.007425272094740982), (1616, 0.007424675411075338), (275, 0.007415630685423987), (850, 0.007414219287473599), (3184, 0.007413858641721955), (724, 0.007406567047589665), (186, 0.007406367030063182), (1359, 0.007403701331391317), (3089, 0.007399514045965635), (1192, 0.007395859057276736), (3144, 0.007394001453701739), (3509, 0.007393282999026386), (345, 0.007391892143508612), (531, 0.007382303089578412), (4174, 0.0073787614649692326), (193, 0.007376619464442168), (4248, 0.007375594925905152), (2155, 0.007374153199364169), (3617, 0.007373408709516358), (1557, 0.007372167569740484), (125, 0.007367268336838584), (1596, 0.00736598455986194), (3672, 0.007360791277473451), (3606, 0.00735884365415151), (219, 0.00735386096690983), (856, 0.0073520329293556095), (640, 0.007345599385688626), (273, 0.007343212444188088), (665, 0.007337390565458662), (203, 0.007335479560596204), (992, 0.007334517977099759), (4546, 0.007330711146346329), (1273, 0.007325156922259299), (2343, 0.0073234637547052), (2827, 0.007313595018992979), (1457, 0.007308961210118659), (1702, 0.0073036841367547815), (2389, 0.007302605220109336), (387, 0.007299145488391911), (442, 0.007298971489247484), (2466, 0.0072969725014181445), (334, 0.007290612382906869), (3485, 0.0072906097857044425), (4004, 0.007289387549455928), (1733, 0.007288178668084527), (610, 0.007284159868203729), (2074, 0.007282190124282533), (2646, 0.0072719604371168966), (3326, 0.007271721261926274), (3412, 0.00727123982226066), (659, 0.0072684947788333315), (123, 0.0072666416611284305), (4259, 0.007263910350925062), (1272, 0.007259874311143925), (821, 0.007255409259557563), (2047, 0.007237481267083606), (481, 0.0072328958883529785), (2655, 0.007228233383455286), (3645, 0.007220751673758359), (3828, 0.007220719823663181), (3965, 0.007220645478921933), (75, 0.007219451794728626), (2195, 0.007210979047535002), (830, 0.007208452820162405), (1635, 0.007205924025667897), (1044, 0.0072055914279838314), (1860, 0.007204961490959312), (3306, 0.007198718758980877), (2196, 0.007195022897868682), (2978, 0.007188654346525156), (716, 0.007185495269526874), (1380, 0.007177491703644548), (1514, 0.007161421446022804), (3361, 0.007156191894528804), (833, 0.007148725249506141), (955, 0.007143849984215788), (1930, 0.007142054636007239), (83, 0.0071416378496325815), (2736, 0.007141229097154059), (2565, 0.007140354350340299), (4327, 0.0071354258016731766), (737, 0.007135000547206535), (215, 0.007124803179833374), (627, 0.00711968916002649), (1664, 0.007117723904077192), (1518, 0.007117613925161339), (472, 0.007115275852673598), (1417, 0.0071128092167123055), (1513, 0.007103814866484919), (1285, 0.007098266694067318), (2609, 0.007094846627744177), (1281, 0.007091596438707315), (2349, 0.0070801264643885675), (278, 0.007078429157495177), (988, 0.007064706652913546), (1041, 0.007056406643734168), (4114, 0.00705308196556691), (3856, 0.007050224120039254), (449, 0.007047178479646462), (4135, 0.007037935238714759), (1592, 0.0070372835874601206), (1463, 0.007036867036382188), (3209, 0.007035468366763051), (2641, 0.007029785015516086), (2253, 0.00702918950659517), (525, 0.007021149979886755), (3133, 0.0070206279324377145), (1103, 0.007018466905495202), (513, 0.007018402071627834), (503, 0.0070158515995373), (542, 0.007010744741812406), (3372, 0.007002219296296597), (745, 0.006998595888153443), (2747, 0.006985742326725153), (1848, 0.006982726121762318), (1437, 0.006975201497747056), (981, 0.006973807468740532), (168, 0.006961084774027763), (580, 0.006955612176623603), (4012, 0.006952721840921533), (2918, 0.0069467505523690045), (1723, 0.0069407188726642085), (618, 0.006937519732663895), (3073, 0.006930846053431921), (489, 0.006927246952324136), (2244, 0.006927159148644337), (3851, 0.0069260668947752025), (581, 0.006920746407437936), (4353, 0.0069181095670639335), (969, 0.006917565140557447), (3993, 0.006915789928095147), (4349, 0.006904945015894021), (1955, 0.00690191509615924), (711, 0.006899348501659906), (1908, 0.00689763083415863), (1079, 0.006885661433387285), (4117, 0.006881159693713104), (1741, 0.006880934744095657), (2346, 0.0068583059026584205), (3335, 0.006856242949168781), (3077, 0.006851877970190896), (1052, 0.006847146604919061), (3523, 0.006846960530204594), (1973, 0.006842326372300103), (1270, 0.006828540457732794), (1577, 0.0068234909157939205), (2203, 0.006822669657326848), (3086, 0.006821352625680822), (3758, 0.006817471110512024), (4215, 0.006806085545330438), (746, 0.00680397714219388), (1825, 0.006795268369944572), (93, 0.006747629012316981), (1453, 0.00674126850259175), (505, 0.00674080892284608), (854, 0.006724894975601029), (3424, 0.006721527178608792), (187, 0.0067080317037415136), (3029, 0.006704302689734359), (1765, 0.006703661925776917), (2221, 0.006699496105707131), (259, 0.006680591432387484), (457, 0.006680248442247698), (156, 0.006679560459070272), (677, 0.006678391304540575), (372, 0.0066782003794845805), (1269, 0.006674935134752532), (1459, 0.006671795936760549), (3309, 0.006646727148133917), (3106, 0.00664554260775888), (1003, 0.006639229934227704), (475, 0.006636544306470017), (1439, 0.006635414677014682), (3305, 0.0066324418509788015), (3318, 0.00662325181845741), (950, 0.006616807476989571), (487, 0.0066152140649752625), (2564, 0.006607657525216566), (1771, 0.00660333312555394), (1412, 0.006598911221528795), (1136, 0.006597160846116784), (319, 0.00657926966939986), (1626, 0.006559801408311179), (2386, 0.0065466483239514485), (1097, 0.006544950140151759), (2704, 0.006536183935961843), (332, 0.00650433667728561), (2573, 0.006499089333919028), (84, 0.006494541654327506), (1428, 0.006494198731471813), (736, 0.006490967518388873), (3221, 0.006489781900553507), (315, 0.0064871819284014936), (1058, 0.006477616849875708), (2959, 0.006475727088504464), (929, 0.006472726420681973), (2023, 0.006467764102323556), (959, 0.006466656967711025), (2521, 0.006463688980462287), (2066, 0.006459203716422077), (4351, 0.00645624736611202), (2785, 0.006455489079255368), (3607, 0.006451874336836104), (2806, 0.006446066092910144), (1082, 0.006417941572115691), (2602, 0.006412872375142542), (2140, 0.006410534634254732), (1795, 0.006399871917975787), (1404, 0.006383126144625334), (3099, 0.006374457918392393), (1837, 0.0063635226311761885), (2291, 0.006332624807607971), (4468, 0.0063239742580126134), (2057, 0.006314786632559469), (1109, 0.006308739367307244), (1001, 0.006302115022513505), (3873, 0.006263839878343713), (543, 0.006257352811179516), (1296, 0.006207092556552635), (3505, 0.006196102748326832), (371, 0.006194183490850047), (3755, 0.0061818641692875115), (3591, 0.006179111288505342), (1715, 0.006150023032341547), (794, 0.006134868579977484), (3722, 0.006133046598136682), (3259, 0.006126665107343824), (3007, 0.006117849171406593), (344, 0.006112373710915409), (2069, 0.006106891013025107), (2470, 0.006091030404511496), (1140, 0.00608723878704863), (4189, 0.006079480845478362), (2853, 0.006076966470060835), (1936, 0.006068551203896631), (2111, 0.006048839809227688), (1024, 0.006039296349819765), (4275, 0.0060304730307275695), (1324, 0.006026025805355705), (4402, 0.006025472476294205), (3733, 0.006025347486994541), (1827, 0.00602125812642236), (2357, 0.006018002183453154), (97, 0.006013673704835452), (1802, 0.006000173889034313), (3350, 0.005984032700803681), (3370, 0.005975433713004054), (2161, 0.005971795458086949), (4315, 0.005960766949221577), (1817, 0.005934877896383419), (4316, 0.005924499826525698), (4563, 0.005918496472459553), (4344, 0.005898635374157923), (2784, 0.005894730889210459), (3274, 0.005881296266985232), (340, 0.005865824935223915), (4727, 0.005856647866908231), (3136, 0.005856203468114412), (4535, 0.005847962899930091), (1077, 0.00583922660936051), (2474, 0.005838937513662613), (3001, 0.005813353937553473), (1484, 0.005809710247330629), (2868, 0.0058080377648561995), (3579, 0.005787625580647296), (3008, 0.005787039781291307), (2184, 0.005764655496919955), (3231, 0.00575252401887406), (3603, 0.005750466855424484), (2681, 0.005742958205518369), (3764, 0.005701635105404441), (4078, 0.0056812050432201566), (2429, 0.005657932902964926), (3035, 0.005629960522030683), (1304, 0.0056201755989495), (3966, 0.00561816793770594), (1877, 0.005588854059768732), (2209, 0.005562280736335954), (1018, 0.005542297974569732), (4193, 0.005511671638262393), (4142, 0.0055033359117941955), (1196, 0.005456429178741953), (1141, 0.00540912109442515), (369, 0.005372397296020384), (528, 0.005346580373724552), (4065, 0.0052518835623728485), (4122, 0.005249165117863915), (806, 0.005237619968017319), (1456, 0.005229348389897949), (2026, 0.005225718209116876), (3380, 0.005219916668761648), (1637, 0.005212122515946853), (1670, 0.0052060548251715655), (2193, 0.005204029115323792), (3148, 0.005183894620663212), (1756, 0.005110202760802652), (4666, 0.004916946695375509), (4176, 0.004830066011574109), (918, 0.004789172637675926), (4405, 0.004785827088608749), (2433, 0.004773647687941649), (1945, 0.004677798230525659), (3604, 0.0046407005201121255), (4312, 0.0046337603457152115), (1204, 0.004522357666010726), (839, 0.004499251879553014), (3549, 0.004474550559860825), (2242, 0.00447111999884786), (3009, 0.0043930721872414095), (1508, 0.004261074142095569), (4270, 0.004216197253863534), (3845, 0.004104006906562692), (3131, 0.003953368711396445), (15, 0.0), (34, 0.0), (49, 0.0), (63, 0.0), (90, 0.0), (109, 0.0), (110, 0.0), (143, 0.0), (144, 0.0), (145, 0.0), (146, 0.0), (161, 0.0), (172, 0.0), (179, 0.0), (185, 0.0), (191, 0.0), (192, 0.0), (194, 0.0), (195, 0.0), (214, 0.0), (221, 0.0), (250, 0.0), (251, 0.0), (264, 0.0), (265, 0.0), (268, 0.0), (272, 0.0), (276, 0.0), (289, 0.0), (294, 0.0), (305, 0.0), (306, 0.0), (309, 0.0), (314, 0.0), (321, 0.0), (336, 0.0), (338, 0.0), (341, 0.0), (349, 0.0), (352, 0.0), (360, 0.0), (363, 0.0), (364, 0.0), (373, 0.0), (375, 0.0), (377, 0.0), (378, 0.0), (393, 0.0), (401, 0.0), (409, 0.0), (410, 0.0), (413, 0.0), (416, 0.0), (417, 0.0), (420, 0.0), (421, 0.0), (422, 0.0), (429, 0.0), (430, 0.0), (431, 0.0), (434, 0.0), (438, 0.0), (440, 0.0), (441, 0.0), (443, 0.0), (450, 0.0), (451, 0.0), (454, 0.0), (461, 0.0), (462, 0.0), (463, 0.0), (470, 0.0), (471, 0.0), (474, 0.0), (477, 0.0), (484, 0.0), (488, 0.0), (497, 0.0), (498, 0.0), (502, 0.0), (509, 0.0), (515, 0.0), (519, 0.0), (522, 0.0), (527, 0.0), (536, 0.0), (545, 0.0), (548, 0.0), (555, 0.0), (557, 0.0), (559, 0.0), (561, 0.0), (562, 0.0), (563, 0.0), (567, 0.0), (572, 0.0), (575, 0.0), (583, 0.0), (592, 0.0), (599, 0.0), (603, 0.0), (608, 0.0), (616, 0.0), (620, 0.0), (626, 0.0), (635, 0.0), (636, 0.0), (639, 0.0), (647, 0.0), (648, 0.0), (651, 0.0), (656, 0.0), (661, 0.0), (663, 0.0), (670, 0.0), (681, 0.0), (697, 0.0), (699, 0.0), (703, 0.0), (704, 0.0), (706, 0.0), (707, 0.0), (710, 0.0), (713, 0.0), (714, 0.0), (721, 0.0), (726, 0.0), (727, 0.0), (742, 0.0), (743, 0.0), (748, 0.0), (752, 0.0), (756, 0.0), (760, 0.0), (764, 0.0), (765, 0.0), (766, 0.0), (771, 0.0), (772, 0.0), (779, 0.0), (780, 0.0), (785, 0.0), (789, 0.0), (792, 0.0), (797, 0.0), (801, 0.0), (803, 0.0), (809, 0.0), (811, 0.0), (816, 0.0), (817, 0.0), (820, 0.0), (825, 0.0), (826, 0.0), (827, 0.0), (829, 0.0), (832, 0.0), (837, 0.0), (841, 0.0), (843, 0.0), (845, 0.0), (846, 0.0), (848, 0.0), (851, 0.0), (852, 0.0), (853, 0.0), (855, 0.0), (861, 0.0), (868, 0.0), (874, 0.0), (875, 0.0), (876, 0.0), (878, 0.0), (879, 0.0), (881, 0.0), (886, 0.0), (889, 0.0), (895, 0.0), (897, 0.0), (901, 0.0), (902, 0.0), (905, 0.0), (907, 0.0), (910, 0.0), (912, 0.0), (913, 0.0), (915, 0.0), (923, 0.0), (924, 0.0), (926, 0.0), (927, 0.0), (934, 0.0), (935, 0.0), (936, 0.0), (938, 0.0), (944, 0.0), (948, 0.0), (953, 0.0), (957, 0.0), (958, 0.0), (961, 0.0), (962, 0.0), (964, 0.0), (965, 0.0), (968, 0.0), (974, 0.0), (978, 0.0), (980, 0.0), (987, 0.0), (990, 0.0), (995, 0.0), (996, 0.0), (998, 0.0), (999, 0.0), (1005, 0.0), (1009, 0.0), (1011, 0.0), (1013, 0.0), (1014, 0.0), (1021, 0.0), (1022, 0.0), (1023, 0.0), (1025, 0.0), (1026, 0.0), (1028, 0.0), (1030, 0.0), (1031, 0.0), (1032, 0.0), (1033, 0.0), (1036, 0.0), (1037, 0.0), (1039, 0.0), (1040, 0.0), (1042, 0.0), (1045, 0.0), (1046, 0.0), (1047, 0.0), (1050, 0.0), (1053, 0.0), (1057, 0.0), (1059, 0.0), (1060, 0.0), (1063, 0.0), (1067, 0.0), (1068, 0.0), (1069, 0.0), (1071, 0.0), (1072, 0.0), (1074, 0.0), (1081, 0.0), (1085, 0.0), (1088, 0.0), (1091, 0.0), (1092, 0.0), (1094, 0.0), (1105, 0.0), (1108, 0.0), (1112, 0.0), (1113, 0.0), (1116, 0.0), (1117, 0.0), (1123, 0.0), (1125, 0.0), (1127, 0.0), (1128, 0.0), (1129, 0.0), (1134, 0.0), (1145, 0.0), (1147, 0.0), (1148, 0.0), (1151, 0.0), (1156, 0.0), (1157, 0.0), (1159, 0.0), (1163, 0.0), (1164, 0.0), (1166, 0.0), (1167, 0.0), (1169, 0.0), (1171, 0.0), (1176, 0.0), (1180, 0.0), (1181, 0.0), (1182, 0.0), (1187, 0.0), (1197, 0.0), (1202, 0.0), (1203, 0.0), (1205, 0.0), (1209, 0.0), (1211, 0.0), (1212, 0.0), (1214, 0.0), (1215, 0.0), (1216, 0.0), (1218, 0.0), (1221, 0.0), (1222, 0.0), (1223, 0.0), (1226, 0.0), (1227, 0.0), (1229, 0.0), (1233, 0.0), (1236, 0.0), (1237, 0.0), (1238, 0.0), (1240, 0.0), (1241, 0.0), (1243, 0.0), (1246, 0.0), (1248, 0.0), (1250, 0.0), (1255, 0.0), (1258, 0.0), (1261, 0.0), (1262, 0.0), (1265, 0.0), (1268, 0.0), (1274, 0.0), (1287, 0.0), (1295, 0.0), (1297, 0.0), (1301, 0.0), (1306, 0.0), (1307, 0.0), (1309, 0.0), (1312, 0.0), (1313, 0.0), (1314, 0.0), (1315, 0.0), (1325, 0.0), (1330, 0.0), (1331, 0.0), (1338, 0.0), (1346, 0.0), (1348, 0.0), (1350, 0.0), (1352, 0.0), (1353, 0.0), (1355, 0.0), (1358, 0.0), (1369, 0.0), (1371, 0.0), (1372, 0.0), (1373, 0.0), (1376, 0.0), (1378, 0.0), (1379, 0.0), (1383, 0.0), (1387, 0.0), (1392, 0.0), (1396, 0.0), (1397, 0.0), (1402, 0.0), (1403, 0.0), (1406, 0.0), (1407, 0.0), (1408, 0.0), (1410, 0.0), (1414, 0.0), (1415, 0.0), (1416, 0.0), (1418, 0.0), (1421, 0.0), (1422, 0.0), (1426, 0.0), (1427, 0.0), (1430, 0.0), (1433, 0.0), (1442, 0.0), (1449, 0.0), (1454, 0.0), (1455, 0.0), (1458, 0.0), (1461, 0.0), (1462, 0.0), (1464, 0.0), (1471, 0.0), (1472, 0.0), (1473, 0.0), (1474, 0.0), (1475, 0.0), (1476, 0.0), (1477, 0.0), (1483, 0.0), (1487, 0.0), (1489, 0.0), (1492, 0.0), (1495, 0.0), (1497, 0.0), (1501, 0.0), (1502, 0.0), (1504, 0.0), (1509, 0.0), (1511, 0.0), (1512, 0.0), (1516, 0.0), (1519, 0.0), (1521, 0.0), (1522, 0.0), (1527, 0.0), (1529, 0.0), (1533, 0.0), (1534, 0.0), (1535, 0.0), (1536, 0.0), (1537, 0.0), (1539, 0.0), (1540, 0.0), (1543, 0.0), (1547, 0.0), (1548, 0.0), (1549, 0.0), (1550, 0.0), (1551, 0.0), (1552, 0.0), (1555, 0.0), (1556, 0.0), (1558, 0.0), (1562, 0.0), (1563, 0.0), (1564, 0.0), (1566, 0.0), (1567, 0.0), (1569, 0.0), (1570, 0.0), (1571, 0.0), (1575, 0.0), (1578, 0.0), (1580, 0.0), (1581, 0.0), (1584, 0.0), (1585, 0.0), (1588, 0.0), (1589, 0.0), (1607, 0.0), (1609, 0.0), (1614, 0.0), (1621, 0.0), (1622, 0.0), (1624, 0.0), (1627, 0.0), (1629, 0.0), (1631, 0.0), (1634, 0.0), (1639, 0.0), (1641, 0.0), (1643, 0.0), (1649, 0.0), (1654, 0.0), (1655, 0.0), (1662, 0.0), (1665, 0.0), (1666, 0.0), (1668, 0.0), (1673, 0.0), (1674, 0.0), (1677, 0.0), (1678, 0.0), (1679, 0.0), (1681, 0.0), (1683, 0.0), (1685, 0.0), (1687, 0.0), (1688, 0.0), (1689, 0.0), (1691, 0.0), (1692, 0.0), (1693, 0.0), (1694, 0.0), (1698, 0.0), (1706, 0.0), (1708, 0.0), (1709, 0.0), (1710, 0.0), (1712, 0.0), (1714, 0.0), (1716, 0.0), (1717, 0.0), (1718, 0.0), (1722, 0.0), (1726, 0.0), (1729, 0.0), (1730, 0.0), (1731, 0.0), (1732, 0.0), (1734, 0.0), (1738, 0.0), (1739, 0.0), (1752, 0.0), (1754, 0.0), (1759, 0.0), (1761, 0.0), (1762, 0.0), (1767, 0.0), (1768, 0.0), (1770, 0.0), (1772, 0.0), (1775, 0.0), (1778, 0.0), (1780, 0.0), (1781, 0.0), (1782, 0.0), (1784, 0.0), (1785, 0.0), (1786, 0.0), (1788, 0.0), (1789, 0.0), (1794, 0.0), (1796, 0.0), (1798, 0.0), (1799, 0.0), (1801, 0.0), (1803, 0.0), (1804, 0.0), (1805, 0.0), (1809, 0.0), (1811, 0.0), (1812, 0.0), (1820, 0.0), (1822, 0.0), (1823, 0.0), (1824, 0.0), (1828, 0.0), (1829, 0.0), (1831, 0.0), (1832, 0.0), (1834, 0.0), (1838, 0.0), (1842, 0.0), (1845, 0.0), (1849, 0.0), (1852, 0.0), (1856, 0.0), (1857, 0.0), (1859, 0.0), (1862, 0.0), (1866, 0.0), (1869, 0.0), (1870, 0.0), (1871, 0.0), (1873, 0.0), (1875, 0.0), (1876, 0.0), (1878, 0.0), (1879, 0.0), (1881, 0.0), (1883, 0.0), (1885, 0.0), (1887, 0.0), (1889, 0.0), (1890, 0.0), (1891, 0.0), (1900, 0.0), (1901, 0.0), (1903, 0.0), (1904, 0.0), (1905, 0.0), (1912, 0.0), (1913, 0.0), (1914, 0.0), (1916, 0.0), (1919, 0.0), (1921, 0.0), (1922, 0.0), (1924, 0.0), (1925, 0.0), (1927, 0.0), (1929, 0.0), (1934, 0.0), (1935, 0.0), (1937, 0.0), (1941, 0.0), (1942, 0.0), (1943, 0.0), (1944, 0.0), (1946, 0.0), (1947, 0.0), (1949, 0.0), (1950, 0.0), (1951, 0.0), (1952, 0.0), (1963, 0.0), (1964, 0.0), (1965, 0.0), (1967, 0.0), (1968, 0.0), (1969, 0.0), (1971, 0.0), (1975, 0.0), (1976, 0.0), (1977, 0.0), (1979, 0.0), (1982, 0.0), (1987, 0.0), (1989, 0.0), (1992, 0.0), (1996, 0.0), (1999, 0.0), (2003, 0.0), (2004, 0.0), (2005, 0.0), (2010, 0.0), (2017, 0.0), (2019, 0.0), (2020, 0.0), (2024, 0.0), (2025, 0.0), (2028, 0.0), (2032, 0.0), (2033, 0.0), (2034, 0.0), (2035, 0.0), (2036, 0.0), (2037, 0.0), (2038, 0.0), (2039, 0.0), (2040, 0.0), (2042, 0.0), (2044, 0.0), (2045, 0.0), (2048, 0.0), (2049, 0.0), (2053, 0.0), (2056, 0.0), (2060, 0.0), (2063, 0.0), (2064, 0.0), (2065, 0.0), (2067, 0.0), (2070, 0.0), (2076, 0.0), (2077, 0.0), (2078, 0.0), (2079, 0.0), (2081, 0.0), (2083, 0.0), (2087, 0.0), (2090, 0.0), (2091, 0.0), (2092, 0.0), (2094, 0.0), (2097, 0.0), (2098, 0.0), (2101, 0.0), (2103, 0.0), (2106, 0.0), (2108, 0.0), (2113, 0.0), (2114, 0.0), (2115, 0.0), (2116, 0.0), (2118, 0.0), (2120, 0.0), (2121, 0.0), (2124, 0.0), (2126, 0.0), (2127, 0.0), (2128, 0.0), (2133, 0.0), (2135, 0.0), (2137, 0.0), (2138, 0.0), (2139, 0.0), (2143, 0.0), (2145, 0.0), (2148, 0.0), (2150, 0.0), (2153, 0.0), (2159, 0.0), (2160, 0.0), (2164, 0.0), (2166, 0.0), (2168, 0.0), (2170, 0.0), (2172, 0.0), (2173, 0.0), (2174, 0.0), (2179, 0.0), (2180, 0.0), (2182, 0.0), (2190, 0.0), (2192, 0.0), (2199, 0.0), (2204, 0.0), (2206, 0.0), (2210, 0.0), (2211, 0.0), (2213, 0.0), (2214, 0.0), (2216, 0.0), (2217, 0.0), (2223, 0.0), (2224, 0.0), (2227, 0.0), (2230, 0.0), (2231, 0.0), (2232, 0.0), (2236, 0.0), (2239, 0.0), (2247, 0.0), (2252, 0.0), (2256, 0.0), (2257, 0.0), (2258, 0.0), (2259, 0.0), (2260, 0.0), (2261, 0.0), (2262, 0.0), (2263, 0.0), (2267, 0.0), (2269, 0.0), (2271, 0.0), (2273, 0.0), (2276, 0.0), (2278, 0.0), (2280, 0.0), (2282, 0.0), (2283, 0.0), (2284, 0.0), (2286, 0.0), (2287, 0.0), (2290, 0.0), (2292, 0.0), (2300, 0.0), (2302, 0.0), (2303, 0.0), (2304, 0.0), (2308, 0.0), (2310, 0.0), (2312, 0.0), (2313, 0.0), (2314, 0.0), (2316, 0.0), (2318, 0.0), (2319, 0.0), (2321, 0.0), (2322, 0.0), (2324, 0.0), (2325, 0.0), (2328, 0.0), (2331, 0.0), (2332, 0.0), (2333, 0.0), (2334, 0.0), (2335, 0.0), (2337, 0.0), (2341, 0.0), (2342, 0.0), (2344, 0.0), (2347, 0.0), (2350, 0.0), (2353, 0.0), (2358, 0.0), (2359, 0.0), (2361, 0.0), (2362, 0.0), (2363, 0.0), (2364, 0.0), (2365, 0.0), (2366, 0.0), (2368, 0.0), (2369, 0.0), (2370, 0.0), (2373, 0.0), (2376, 0.0), (2377, 0.0), (2379, 0.0), (2381, 0.0), (2384, 0.0), (2385, 0.0), (2387, 0.0), (2391, 0.0), (2395, 0.0), (2404, 0.0), (2411, 0.0), (2414, 0.0), (2415, 0.0), (2418, 0.0), (2420, 0.0), (2421, 0.0), (2423, 0.0), (2424, 0.0), (2425, 0.0), (2426, 0.0), (2427, 0.0), (2428, 0.0), (2434, 0.0), (2436, 0.0), (2440, 0.0), (2441, 0.0), (2443, 0.0), (2446, 0.0), (2448, 0.0), (2449, 0.0), (2451, 0.0), (2452, 0.0), (2453, 0.0), (2454, 0.0), (2455, 0.0), (2457, 0.0), (2462, 0.0), (2463, 0.0), (2469, 0.0), (2473, 0.0), (2475, 0.0), (2477, 0.0), (2478, 0.0), (2479, 0.0), (2481, 0.0), (2482, 0.0), (2483, 0.0), (2484, 0.0), (2485, 0.0), (2488, 0.0), (2496, 0.0), (2498, 0.0), (2500, 0.0), (2501, 0.0), (2502, 0.0), (2503, 0.0), (2505, 0.0), (2507, 0.0), (2512, 0.0), (2513, 0.0), (2518, 0.0), (2520, 0.0), (2523, 0.0), (2524, 0.0), (2527, 0.0), (2528, 0.0), (2530, 0.0), (2531, 0.0), (2532, 0.0), (2536, 0.0), (2537, 0.0), (2544, 0.0), (2545, 0.0), (2548, 0.0), (2549, 0.0), (2550, 0.0), (2556, 0.0), (2557, 0.0), (2559, 0.0), (2561, 0.0), (2562, 0.0), (2563, 0.0), (2567, 0.0), (2568, 0.0), (2569, 0.0), (2574, 0.0), (2575, 0.0), (2576, 0.0), (2577, 0.0), (2584, 0.0), (2588, 0.0), (2589, 0.0), (2590, 0.0), (2593, 0.0), (2595, 0.0), (2598, 0.0), (2599, 0.0), (2600, 0.0), (2601, 0.0), (2604, 0.0), (2605, 0.0), (2612, 0.0), (2613, 0.0), (2614, 0.0), (2615, 0.0), (2620, 0.0), (2623, 0.0), (2624, 0.0), (2626, 0.0), (2627, 0.0), (2628, 0.0), (2629, 0.0), (2631, 0.0), (2632, 0.0), (2634, 0.0), (2637, 0.0), (2638, 0.0), (2640, 0.0), (2642, 0.0), (2643, 0.0), (2651, 0.0), (2652, 0.0), (2656, 0.0), (2658, 0.0), (2659, 0.0), (2660, 0.0), (2664, 0.0), (2665, 0.0), (2667, 0.0), (2668, 0.0), (2670, 0.0), (2671, 0.0), (2672, 0.0), (2674, 0.0), (2676, 0.0), (2679, 0.0), (2684, 0.0), (2685, 0.0), (2687, 0.0), (2688, 0.0), (2691, 0.0), (2692, 0.0), (2693, 0.0), (2694, 0.0), (2695, 0.0), (2697, 0.0), (2698, 0.0), (2699, 0.0), (2700, 0.0), (2703, 0.0), (2705, 0.0), (2711, 0.0), (2715, 0.0), (2719, 0.0), (2720, 0.0), (2721, 0.0), (2723, 0.0), (2725, 0.0), (2727, 0.0), (2731, 0.0), (2732, 0.0), (2733, 0.0), (2735, 0.0), (2738, 0.0), (2739, 0.0), (2741, 0.0), (2743, 0.0), (2744, 0.0), (2745, 0.0), (2746, 0.0), (2749, 0.0), (2753, 0.0), (2754, 0.0), (2755, 0.0), (2756, 0.0), (2759, 0.0), (2761, 0.0), (2762, 0.0), (2764, 0.0), (2765, 0.0), (2766, 0.0), (2767, 0.0), (2768, 0.0), (2769, 0.0), (2770, 0.0), (2772, 0.0), (2773, 0.0), (2778, 0.0), (2779, 0.0), (2780, 0.0), (2786, 0.0), (2787, 0.0), (2788, 0.0), (2789, 0.0), (2791, 0.0), (2795, 0.0), (2796, 0.0), (2798, 0.0), (2799, 0.0), (2800, 0.0), (2801, 0.0), (2805, 0.0), (2810, 0.0), (2811, 0.0), (2814, 0.0), (2816, 0.0), (2818, 0.0), (2820, 0.0), (2821, 0.0), (2822, 0.0), (2824, 0.0), (2825, 0.0), (2826, 0.0), (2828, 0.0), (2829, 0.0), (2830, 0.0), (2831, 0.0), (2835, 0.0), (2836, 0.0), (2838, 0.0), (2839, 0.0), (2841, 0.0), (2842, 0.0), (2843, 0.0), (2847, 0.0), (2848, 0.0), (2849, 0.0), (2850, 0.0), (2851, 0.0), (2854, 0.0), (2855, 0.0), (2857, 0.0), (2858, 0.0), (2859, 0.0), (2861, 0.0), (2862, 0.0), (2864, 0.0), (2866, 0.0), (2869, 0.0), (2870, 0.0), (2871, 0.0), (2872, 0.0), (2873, 0.0), (2874, 0.0), (2876, 0.0), (2879, 0.0), (2882, 0.0), (2889, 0.0), (2891, 0.0), (2892, 0.0), (2894, 0.0), (2895, 0.0), (2896, 0.0), (2900, 0.0), (2901, 0.0), (2902, 0.0), (2903, 0.0), (2905, 0.0), (2907, 0.0), (2908, 0.0), (2911, 0.0), (2914, 0.0), (2915, 0.0), (2919, 0.0), (2920, 0.0), (2924, 0.0), (2926, 0.0), (2929, 0.0), (2932, 0.0), (2936, 0.0), (2937, 0.0), (2938, 0.0), (2939, 0.0), (2940, 0.0), (2941, 0.0), (2943, 0.0), (2944, 0.0), (2945, 0.0), (2946, 0.0), (2947, 0.0), (2948, 0.0), (2949, 0.0), (2950, 0.0), (2952, 0.0), (2953, 0.0), (2954, 0.0), (2956, 0.0), (2958, 0.0), (2960, 0.0), (2962, 0.0), (2963, 0.0), (2964, 0.0), (2966, 0.0), (2969, 0.0), (2970, 0.0), (2974, 0.0), (2976, 0.0), (2977, 0.0), (2983, 0.0), (2984, 0.0), (2987, 0.0), (2989, 0.0), (2990, 0.0), (2992, 0.0), (2999, 0.0), (3000, 0.0), (3002, 0.0), (3003, 0.0), (3005, 0.0), (3006, 0.0), (3010, 0.0), (3011, 0.0), (3012, 0.0), (3014, 0.0), (3016, 0.0), (3017, 0.0), (3022, 0.0), (3023, 0.0), (3024, 0.0), (3025, 0.0), (3028, 0.0), (3031, 0.0), (3034, 0.0), (3041, 0.0), (3044, 0.0), (3045, 0.0), (3046, 0.0), (3047, 0.0), (3048, 0.0), (3049, 0.0), (3050, 0.0), (3052, 0.0), (3053, 0.0), (3055, 0.0), (3058, 0.0), (3059, 0.0), (3060, 0.0), (3061, 0.0), (3063, 0.0), (3065, 0.0), (3066, 0.0), (3068, 0.0), (3069, 0.0), (3076, 0.0), (3080, 0.0), (3082, 0.0), (3084, 0.0), (3088, 0.0), (3090, 0.0), (3093, 0.0), (3094, 0.0), (3095, 0.0), (3096, 0.0), (3097, 0.0), (3100, 0.0), (3101, 0.0), (3102, 0.0), (3103, 0.0), (3104, 0.0), (3111, 0.0), (3112, 0.0), (3114, 0.0), (3115, 0.0), (3117, 0.0), (3118, 0.0), (3120, 0.0), (3122, 0.0), (3123, 0.0), (3125, 0.0), (3126, 0.0), (3134, 0.0), (3137, 0.0), (3140, 0.0), (3141, 0.0), (3145, 0.0), (3146, 0.0), (3147, 0.0), (3150, 0.0), (3152, 0.0), (3155, 0.0), (3157, 0.0), (3160, 0.0), (3167, 0.0), (3168, 0.0), (3170, 0.0), (3171, 0.0), (3172, 0.0), (3174, 0.0), (3176, 0.0), (3179, 0.0), (3181, 0.0), (3182, 0.0), (3185, 0.0), (3186, 0.0), (3187, 0.0), (3188, 0.0), (3189, 0.0), (3191, 0.0), (3192, 0.0), (3193, 0.0), (3196, 0.0), (3199, 0.0), (3200, 0.0), (3204, 0.0), (3207, 0.0), (3210, 0.0), (3212, 0.0), (3213, 0.0), (3214, 0.0), (3215, 0.0), (3216, 0.0), (3217, 0.0), (3219, 0.0), (3220, 0.0), (3225, 0.0), (3227, 0.0), (3229, 0.0), (3232, 0.0), (3236, 0.0), (3237, 0.0), (3239, 0.0), (3240, 0.0), (3241, 0.0), (3242, 0.0), (3243, 0.0), (3244, 0.0), (3246, 0.0), (3247, 0.0), (3248, 0.0), (3250, 0.0), (3252, 0.0), (3253, 0.0), (3255, 0.0), (3257, 0.0), (3258, 0.0), (3264, 0.0), (3265, 0.0), (3267, 0.0), (3268, 0.0), (3269, 0.0), (3273, 0.0), (3275, 0.0), (3278, 0.0), (3280, 0.0), (3282, 0.0), (3289, 0.0), (3291, 0.0), (3294, 0.0), (3295, 0.0), (3300, 0.0), (3302, 0.0), (3307, 0.0), (3308, 0.0), (3310, 0.0), (3311, 0.0), (3312, 0.0), (3314, 0.0), (3321, 0.0), (3322, 0.0), (3323, 0.0), (3324, 0.0), (3333, 0.0), (3340, 0.0), (3342, 0.0), (3353, 0.0), (3355, 0.0), (3356, 0.0), (3362, 0.0), (3363, 0.0), (3364, 0.0), (3367, 0.0), (3368, 0.0), (3369, 0.0), (3374, 0.0), (3375, 0.0), (3379, 0.0), (3383, 0.0), (3384, 0.0), (3386, 0.0), (3388, 0.0), (3389, 0.0), (3391, 0.0), (3392, 0.0), (3396, 0.0), (3397, 0.0), (3398, 0.0), (3400, 0.0), (3402, 0.0), (3403, 0.0), (3404, 0.0), (3405, 0.0), (3408, 0.0), (3409, 0.0), (3410, 0.0), (3411, 0.0), (3413, 0.0), (3415, 0.0), (3419, 0.0), (3420, 0.0), (3421, 0.0), (3422, 0.0), (3423, 0.0), (3425, 0.0), (3426, 0.0), (3428, 0.0), (3429, 0.0), (3435, 0.0), (3441, 0.0), (3443, 0.0), (3444, 0.0), (3446, 0.0), (3448, 0.0), (3449, 0.0), (3450, 0.0), (3451, 0.0), (3452, 0.0), (3453, 0.0), (3455, 0.0), (3456, 0.0), (3458, 0.0), (3459, 0.0), (3461, 0.0), (3464, 0.0), (3465, 0.0), (3466, 0.0), (3467, 0.0), (3469, 0.0), (3470, 0.0), (3471, 0.0), (3472, 0.0), (3473, 0.0), (3476, 0.0), (3480, 0.0), (3481, 0.0), (3482, 0.0), (3484, 0.0), (3487, 0.0), (3489, 0.0), (3492, 0.0), (3496, 0.0), (3499, 0.0), (3501, 0.0), (3503, 0.0), (3504, 0.0), (3506, 0.0), (3508, 0.0), (3510, 0.0), (3512, 0.0), (3515, 0.0), (3519, 0.0), (3527, 0.0), (3528, 0.0), (3529, 0.0), (3530, 0.0), (3531, 0.0), (3532, 0.0), (3533, 0.0), (3538, 0.0), (3541, 0.0), (3543, 0.0), (3544, 0.0), (3547, 0.0), (3548, 0.0), (3550, 0.0), (3551, 0.0), (3552, 0.0), (3555, 0.0), (3560, 0.0), (3561, 0.0), (3562, 0.0), (3563, 0.0), (3564, 0.0), (3565, 0.0), (3566, 0.0), (3567, 0.0), (3569, 0.0), (3570, 0.0), (3571, 0.0), (3575, 0.0), (3576, 0.0), (3580, 0.0), (3581, 0.0), (3582, 0.0), (3585, 0.0), (3587, 0.0), (3588, 0.0), (3589, 0.0), (3590, 0.0), (3592, 0.0), (3593, 0.0), (3596, 0.0), (3597, 0.0), (3599, 0.0), (3600, 0.0), (3601, 0.0), (3602, 0.0), (3608, 0.0), (3611, 0.0), (3612, 0.0), (3613, 0.0), (3615, 0.0), (3619, 0.0), (3620, 0.0), (3621, 0.0), (3622, 0.0), (3625, 0.0), (3626, 0.0), (3627, 0.0), (3630, 0.0), (3632, 0.0), (3634, 0.0), (3635, 0.0), (3637, 0.0), (3639, 0.0), (3643, 0.0), (3644, 0.0), (3647, 0.0), (3648, 0.0), (3649, 0.0), (3651, 0.0), (3652, 0.0), (3654, 0.0), (3656, 0.0), (3659, 0.0), (3660, 0.0), (3661, 0.0), (3662, 0.0), (3663, 0.0), (3665, 0.0), (3670, 0.0), (3675, 0.0), (3676, 0.0), (3680, 0.0), (3682, 0.0), (3685, 0.0), (3686, 0.0), (3687, 0.0), (3688, 0.0), (3691, 0.0), (3692, 0.0), (3693, 0.0), (3694, 0.0), (3695, 0.0), (3697, 0.0), (3699, 0.0), (3700, 0.0), (3702, 0.0), (3703, 0.0), (3706, 0.0), (3708, 0.0), (3709, 0.0), (3712, 0.0), (3713, 0.0), (3716, 0.0), (3718, 0.0), (3719, 0.0), (3720, 0.0), (3721, 0.0), (3732, 0.0), (3735, 0.0), (3737, 0.0), (3738, 0.0), (3741, 0.0), (3745, 0.0), (3747, 0.0), (3751, 0.0), (3752, 0.0), (3753, 0.0), (3759, 0.0), (3761, 0.0), (3762, 0.0), (3765, 0.0), (3766, 0.0), (3768, 0.0), (3769, 0.0), (3770, 0.0), (3771, 0.0), (3773, 0.0), (3775, 0.0), (3779, 0.0), (3780, 0.0), (3781, 0.0), (3782, 0.0), (3783, 0.0), (3788, 0.0), (3790, 0.0), (3793, 0.0), (3794, 0.0), (3796, 0.0), (3797, 0.0), (3798, 0.0), (3800, 0.0), (3801, 0.0), (3802, 0.0), (3803, 0.0), (3805, 0.0), (3809, 0.0), (3812, 0.0), (3813, 0.0), (3814, 0.0), (3818, 0.0), (3820, 0.0), (3823, 0.0), (3824, 0.0), (3825, 0.0), (3829, 0.0), (3832, 0.0), (3834, 0.0), (3837, 0.0), (3840, 0.0), (3841, 0.0), (3844, 0.0), (3846, 0.0), (3847, 0.0), (3850, 0.0), (3853, 0.0), (3859, 0.0), (3860, 0.0), (3864, 0.0), (3867, 0.0), (3870, 0.0), (3871, 0.0), (3872, 0.0), (3874, 0.0), (3875, 0.0), (3876, 0.0), (3877, 0.0), (3888, 0.0), (3890, 0.0), (3892, 0.0), (3893, 0.0), (3897, 0.0), (3900, 0.0), (3902, 0.0), (3905, 0.0), (3906, 0.0), (3910, 0.0), (3911, 0.0), (3913, 0.0), (3914, 0.0), (3915, 0.0), (3916, 0.0), (3917, 0.0), (3918, 0.0), (3919, 0.0), (3921, 0.0), (3922, 0.0), (3923, 0.0), (3924, 0.0), (3925, 0.0), (3926, 0.0), (3928, 0.0), (3929, 0.0), (3930, 0.0), (3931, 0.0), (3932, 0.0), (3933, 0.0), (3934, 0.0), (3935, 0.0), (3937, 0.0), (3938, 0.0), (3939, 0.0), (3944, 0.0), (3946, 0.0), (3948, 0.0), (3950, 0.0), (3951, 0.0), (3953, 0.0), (3954, 0.0), (3955, 0.0), (3956, 0.0), (3958, 0.0), (3959, 0.0), (3964, 0.0), (3967, 0.0), (3968, 0.0), (3970, 0.0), (3971, 0.0), (3975, 0.0), (3977, 0.0), (3978, 0.0), (3980, 0.0), (3981, 0.0), (3983, 0.0), (3984, 0.0), (3985, 0.0), (3987, 0.0), (3989, 0.0), (3990, 0.0), (3991, 0.0), (3992, 0.0), (3994, 0.0), (3995, 0.0), (3997, 0.0), (3998, 0.0), (3999, 0.0), (4005, 0.0), (4006, 0.0), (4010, 0.0), (4011, 0.0), (4017, 0.0), (4018, 0.0), (4019, 0.0), (4021, 0.0), (4027, 0.0), (4028, 0.0), (4029, 0.0), (4031, 0.0), (4034, 0.0), (4035, 0.0), (4036, 0.0), (4037, 0.0), (4038, 0.0), (4039, 0.0), (4043, 0.0), (4046, 0.0), (4047, 0.0), (4048, 0.0), (4049, 0.0), (4051, 0.0), (4053, 0.0), (4054, 0.0), (4055, 0.0), (4056, 0.0), (4057, 0.0), (4058, 0.0), (4059, 0.0), (4062, 0.0), (4063, 0.0), (4064, 0.0), (4067, 0.0), (4068, 0.0), (4073, 0.0), (4074, 0.0), (4075, 0.0), (4080, 0.0), (4081, 0.0), (4084, 0.0), (4086, 0.0), (4089, 0.0), (4090, 0.0), (4091, 0.0), (4094, 0.0), (4097, 0.0), (4098, 0.0), (4100, 0.0), (4101, 0.0), (4102, 0.0), (4105, 0.0), (4107, 0.0), (4108, 0.0), (4110, 0.0), (4112, 0.0), (4116, 0.0), (4118, 0.0), (4121, 0.0), (4126, 0.0), (4127, 0.0), (4131, 0.0), (4136, 0.0), (4138, 0.0), (4140, 0.0), (4141, 0.0), (4144, 0.0), (4145, 0.0), (4151, 0.0), (4153, 0.0), (4154, 0.0), (4156, 0.0), (4157, 0.0), (4159, 0.0), (4165, 0.0), (4166, 0.0), (4168, 0.0), (4169, 0.0), (4172, 0.0), (4173, 0.0), (4177, 0.0), (4179, 0.0), (4181, 0.0), (4184, 0.0), (4185, 0.0), (4186, 0.0), (4188, 0.0), (4194, 0.0), (4195, 0.0), (4197, 0.0), (4198, 0.0), (4199, 0.0), (4201, 0.0), (4204, 0.0), (4207, 0.0), (4208, 0.0), (4209, 0.0), (4210, 0.0), (4212, 0.0), (4213, 0.0), (4214, 0.0), (4217, 0.0), (4218, 0.0), (4219, 0.0), (4221, 0.0), (4222, 0.0), (4225, 0.0), (4226, 0.0), (4227, 0.0), (4231, 0.0), (4232, 0.0), (4234, 0.0), (4235, 0.0), (4238, 0.0), (4239, 0.0), (4241, 0.0), (4243, 0.0), (4245, 0.0), (4247, 0.0), (4251, 0.0), (4253, 0.0), (4254, 0.0), (4260, 0.0), (4262, 0.0), (4265, 0.0), (4267, 0.0), (4271, 0.0), (4273, 0.0), (4278, 0.0), (4279, 0.0), (4280, 0.0), (4281, 0.0), (4282, 0.0), (4283, 0.0), (4284, 0.0), (4285, 0.0), (4287, 0.0), (4288, 0.0), (4289, 0.0), (4294, 0.0), (4295, 0.0), (4296, 0.0), (4297, 0.0), (4300, 0.0), (4301, 0.0), (4303, 0.0), (4305, 0.0), (4308, 0.0), (4309, 0.0), (4310, 0.0), (4311, 0.0), (4313, 0.0), (4314, 0.0), (4318, 0.0), (4319, 0.0), (4320, 0.0), (4321, 0.0), (4322, 0.0), (4323, 0.0), (4324, 0.0), (4325, 0.0), (4328, 0.0), (4332, 0.0), (4333, 0.0), (4334, 0.0), (4335, 0.0), (4336, 0.0), (4337, 0.0), (4338, 0.0), (4341, 0.0), (4343, 0.0), (4354, 0.0), (4355, 0.0), (4358, 0.0), (4362, 0.0), (4363, 0.0), (4365, 0.0), (4367, 0.0), (4368, 0.0), (4369, 0.0), (4370, 0.0), (4371, 0.0), (4374, 0.0), (4375, 0.0), (4379, 0.0), (4380, 0.0), (4384, 0.0), (4385, 0.0), (4389, 0.0), (4390, 0.0), (4396, 0.0), (4397, 0.0), (4400, 0.0), (4403, 0.0), (4404, 0.0), (4409, 0.0), (4410, 0.0), (4412, 0.0), (4415, 0.0), (4416, 0.0), (4417, 0.0), (4419, 0.0), (4420, 0.0), (4422, 0.0), (4423, 0.0), (4426, 0.0), (4427, 0.0), (4430, 0.0), (4431, 0.0), (4432, 0.0), (4434, 0.0), (4435, 0.0), (4437, 0.0), (4440, 0.0), (4444, 0.0), (4446, 0.0), (4451, 0.0), (4452, 0.0), (4453, 0.0), (4454, 0.0), (4455, 0.0), (4457, 0.0), (4458, 0.0), (4459, 0.0), (4461, 0.0), (4462, 0.0), (4466, 0.0), (4469, 0.0), (4474, 0.0), (4475, 0.0), (4478, 0.0), (4479, 0.0), (4481, 0.0), (4493, 0.0), (4494, 0.0), (4495, 0.0), (4497, 0.0), (4498, 0.0), (4500, 0.0), (4502, 0.0), (4504, 0.0), (4505, 0.0), (4510, 0.0), (4512, 0.0), (4514, 0.0), (4516, 0.0), (4517, 0.0), (4520, 0.0), (4522, 0.0), (4523, 0.0), (4525, 0.0), (4527, 0.0), (4529, 0.0), (4530, 0.0), (4531, 0.0), (4532, 0.0), (4537, 0.0), (4538, 0.0), (4540, 0.0), (4541, 0.0), (4543, 0.0), (4544, 0.0), (4548, 0.0), (4550, 0.0), (4551, 0.0), (4553, 0.0), (4555, 0.0), (4556, 0.0), (4561, 0.0), (4562, 0.0), (4564, 0.0), (4566, 0.0), (4567, 0.0), (4568, 0.0), (4570, 0.0), (4571, 0.0), (4572, 0.0), (4574, 0.0), (4575, 0.0), (4580, 0.0), (4581, 0.0), (4582, 0.0), (4584, 0.0), (4585, 0.0), (4586, 0.0), (4588, 0.0), (4589, 0.0), (4591, 0.0), (4592, 0.0), (4594, 0.0), (4595, 0.0), (4596, 0.0), (4598, 0.0), (4601, 0.0), (4602, 0.0), (4604, 0.0), (4607, 0.0), (4608, 0.0), (4609, 0.0), (4612, 0.0), (4614, 0.0), (4616, 0.0), (4617, 0.0), (4618, 0.0), (4619, 0.0), (4626, 0.0), (4628, 0.0), (4633, 0.0), (4634, 0.0), (4635, 0.0), (4637, 0.0), (4639, 0.0), (4640, 0.0), (4641, 0.0), (4645, 0.0), (4646, 0.0), (4653, 0.0), (4656, 0.0), (4657, 0.0), (4658, 0.0), (4661, 0.0), (4662, 0.0), (4663, 0.0), (4667, 0.0), (4668, 0.0), (4671, 0.0), (4672, 0.0), (4673, 0.0), (4674, 0.0), (4676, 0.0), (4677, 0.0), (4679, 0.0), (4682, 0.0), (4683, 0.0), (4684, 0.0), (4685, 0.0), (4686, 0.0), (4689, 0.0), (4690, 0.0), (4692, 0.0), (4693, 0.0), (4697, 0.0), (4698, 0.0), (4699, 0.0), (4703, 0.0), (4706, 0.0), (4707, 0.0), (4709, 0.0), (4710, 0.0), (4712, 0.0), (4713, 0.0), (4715, 0.0), (4716, 0.0), (4719, 0.0), (4721, 0.0), (4724, 0.0), (4726, 0.0), (4728, 0.0), (4729, 0.0), (4730, 0.0), (4732, 0.0), (4733, 0.0), (4735, 0.0), (4736, 0.0), (4737, 0.0), (4739, 0.0), (4740, 0.0), (4742, 0.0), (4743, 0.0), (4744, 0.0), (4745, 0.0), (4747, 0.0), (4748, 0.0), (4749, 0.0), (4751, 0.0), (4753, 0.0), (4754, 0.0), (4755, 0.0), (4759, 0.0), (4761, 0.0), (4762, 0.0), (4763, 0.0), (4764, 0.0), (4767, 0.0), (4768, 0.0), (4770, 0.0), (4775, 0.0), (4776, 0.0), (4777, 0.0), (4780, 0.0), (4782, 0.0), (4783, 0.0), (4785, 0.0), (4786, 0.0), (4788, 0.0), (4789, 0.0), (4790, 0.0), (4792, 0.0), (4793, 0.0), (4794, 0.0), (4795, 0.0), (4797, 0.0), (4799, 0.0), (4802, 0.0)]\n"
          ]
        }
      ]
    },
    {
      "cell_type": "code",
      "source": [
        "print('Top 30 Movies Suggested for You :\\n')\n",
        "\n",
        "i=1\n",
        "\n",
        "for movie in Sorted_Similar_Movies:\n",
        "  index = movie[0]\n",
        "  title_from_index = df[df.index == index]['original_title'].values[0]\n",
        "  if (i<31):\n",
        "    print(i, '.'  ,title_from_index)\n",
        "    i+=1"
      ],
      "metadata": {
        "colab": {
          "base_uri": "https://localhost:8080/"
        },
        "id": "-VZubkKpBfyS",
        "outputId": "18f941ff-1f41-46fd-d99e-8bdab3fd72ee"
      },
      "execution_count": 126,
      "outputs": [
        {
          "output_type": "stream",
          "name": "stdout",
          "text": [
            "Top 30 Movies Suggested for You :\n",
            "\n",
            "1 . Furious 7\n",
            "2 . The Fast and the Furious\n",
            "3 . 2 Fast 2 Furious\n",
            "4 . Fast Five\n",
            "5 . Babylon A.D.\n",
            "6 . Machete Kills\n",
            "7 . Four Brothers\n",
            "8 . Find Me Guilty\n",
            "9 . Transformers\n",
            "10 . Central Intelligence\n",
            "11 . Death Race\n",
            "12 . S.W.A.T.\n",
            "13 . Machete\n",
            "14 . Transformers: Revenge of the Fallen\n",
            "15 . Guardians of the Galaxy\n",
            "16 . Southland Tales\n",
            "17 . Avatar\n",
            "18 . Saving Private Ryan\n",
            "19 . G.I. Joe: Retaliation\n",
            "20 . The Last Witch Hunter\n",
            "21 . Flight of the Phoenix\n",
            "22 . The Pacifier\n",
            "23 . Riddick\n",
            "24 . xXx\n",
            "25 . Black Nativity\n",
            "26 . Boiler Room\n",
            "27 . The Rundown\n",
            "28 . Resident Evil: Retribution\n",
            "29 . A Man Apart\n",
            "30 . Pain & Gain\n"
          ]
        }
      ]
    },
    {
      "cell_type": "code",
      "source": [
        "Movie_Name =  input(\"Enter your favourite movie name: \")\n",
        "\n",
        "list_of_all_titles =  df['original_title'].tolist()\n",
        "\n",
        "Find_Close_Match = difflib.get_close_matches(Movie_Name, list_of_all_titles)\n",
        "\n",
        "Close_Match = Find_Close_Match[0]\n",
        "\n",
        "Index_of_Movie = df[df.original_title == Close_Match]['index'].values[0]\n",
        "\n",
        "Recommendation_Score = list(enumerate (Similarity_Score[Index_of_Movie]))\n",
        "\n",
        "sorted_similar_movies =  sorted(Recommendation_Score, key = lambda x:x[1], reverse = True)\n",
        "\n",
        "print('Top 10 Movies Suggested for You :\\n')\n",
        "\n",
        "i=1\n",
        "\n",
        "for movie in Sorted_Similar_Movies:\n",
        "  index = movie[0]\n",
        "  title_from_index = df[df.index== index]['original_title'].values\n",
        "  if (i<11):\n",
        "    print(i, '.'  ,title_from_index)\n",
        "    i+=1"
      ],
      "metadata": {
        "colab": {
          "base_uri": "https://localhost:8080/"
        },
        "id": "VOo1Bl5QDCsV",
        "outputId": "9faeda8b-a98a-4cd1-ecd0-4db4e8eba074"
      },
      "execution_count": 127,
      "outputs": [
        {
          "output_type": "stream",
          "name": "stdout",
          "text": [
            "Enter your favourite movie name: Furious 7\n",
            "Top 10 Movies Suggested for You :\n",
            "\n",
            "1 . ['Furious 7']\n",
            "2 . ['The Fast and the Furious']\n",
            "3 . ['2 Fast 2 Furious']\n",
            "4 . ['Fast Five']\n",
            "5 . ['Babylon A.D.']\n",
            "6 . ['Machete Kills']\n",
            "7 . ['Four Brothers']\n",
            "8 . ['Find Me Guilty']\n",
            "9 . ['Transformers']\n",
            "10 . ['Central Intelligence']\n"
          ]
        }
      ]
    }
  ]
}